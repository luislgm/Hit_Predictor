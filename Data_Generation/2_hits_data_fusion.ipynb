{
 "cells": [
  {
   "cell_type": "code",
   "execution_count": 1,
   "metadata": {},
   "outputs": [],
   "source": [
    "import pandas as pd\n",
    "import numpy as np"
   ]
  },
  {
   "cell_type": "markdown",
   "metadata": {},
   "source": [
    "## Dataframe 2000"
   ]
  },
  {
   "cell_type": "code",
   "execution_count": 2,
   "metadata": {},
   "outputs": [],
   "source": [
    "df_00 = pd.read_csv (\"Data/top_100_Billboard_2000.csv\")"
   ]
  },
  {
   "cell_type": "code",
   "execution_count": 68,
   "metadata": {},
   "outputs": [
    {
     "data": {
      "text/plain": [
       "'2000-12-30'"
      ]
     },
     "execution_count": 68,
     "metadata": {},
     "output_type": "execute_result"
    }
   ],
   "source": [
    "df_00.iloc[-1]['date_chart']"
   ]
  },
  {
   "cell_type": "markdown",
   "metadata": {},
   "source": [
    "## Dataframe 2001"
   ]
  },
  {
   "cell_type": "code",
   "execution_count": 8,
   "metadata": {},
   "outputs": [],
   "source": [
    "df_01 = pd.read_csv (\"Data/top_100_Billboard_2001.csv\")"
   ]
  },
  {
   "cell_type": "code",
   "execution_count": 71,
   "metadata": {},
   "outputs": [
    {
     "data": {
      "text/plain": [
       "'2001-01-06'"
      ]
     },
     "execution_count": 71,
     "metadata": {},
     "output_type": "execute_result"
    }
   ],
   "source": [
    "df_01.iloc[0]['date_chart']"
   ]
  },
  {
   "cell_type": "code",
   "execution_count": 74,
   "metadata": {},
   "outputs": [],
   "source": [
    "frames = [df_00, df_01]"
   ]
  },
  {
   "cell_type": "code",
   "execution_count": 76,
   "metadata": {},
   "outputs": [],
   "source": [
    "df_hits = pd.concat(frames)"
   ]
  },
  {
   "cell_type": "code",
   "execution_count": 78,
   "metadata": {},
   "outputs": [
    {
     "data": {
      "text/plain": [
       "'2002-01-05'"
      ]
     },
     "execution_count": 78,
     "metadata": {},
     "output_type": "execute_result"
    }
   ],
   "source": [
    "df_hits.iloc[-1]['date_chart']"
   ]
  },
  {
   "cell_type": "markdown",
   "metadata": {},
   "source": [
    "## Dataframe 2002"
   ]
  },
  {
   "cell_type": "code",
   "execution_count": 70,
   "metadata": {},
   "outputs": [],
   "source": [
    "df_02 = pd.read_csv (\"Data/top_100_Billboard_2002.csv\")"
   ]
  },
  {
   "cell_type": "code",
   "execution_count": 73,
   "metadata": {},
   "outputs": [
    {
     "data": {
      "text/plain": [
       "'2002-01-05'"
      ]
     },
     "execution_count": 73,
     "metadata": {},
     "output_type": "execute_result"
    }
   ],
   "source": [
    "df_02.iloc[0]['date_chart']"
   ]
  },
  {
   "cell_type": "code",
   "execution_count": 81,
   "metadata": {},
   "outputs": [
    {
     "data": {
      "text/html": [
       "<div>\n",
       "<style scoped>\n",
       "    .dataframe tbody tr th:only-of-type {\n",
       "        vertical-align: middle;\n",
       "    }\n",
       "\n",
       "    .dataframe tbody tr th {\n",
       "        vertical-align: top;\n",
       "    }\n",
       "\n",
       "    .dataframe thead th {\n",
       "        text-align: right;\n",
       "    }\n",
       "</style>\n",
       "<table border=\"1\" class=\"dataframe\">\n",
       "  <thead>\n",
       "    <tr style=\"text-align: right;\">\n",
       "      <th></th>\n",
       "      <th>artist</th>\n",
       "      <th>title</th>\n",
       "      <th>id</th>\n",
       "      <th>date_chart</th>\n",
       "      <th>release_date</th>\n",
       "      <th>rank</th>\n",
       "      <th>weeks</th>\n",
       "      <th>isNew</th>\n",
       "      <th>peakPos</th>\n",
       "      <th>lastPos</th>\n",
       "      <th>...</th>\n",
       "      <th>instrumentalness</th>\n",
       "      <th>liveness</th>\n",
       "      <th>valence</th>\n",
       "      <th>tempo</th>\n",
       "      <th>time_signature</th>\n",
       "      <th>popularity_artist</th>\n",
       "      <th>popularity_song</th>\n",
       "      <th>genres</th>\n",
       "      <th>label</th>\n",
       "      <th>song_lyrics</th>\n",
       "    </tr>\n",
       "  </thead>\n",
       "  <tbody>\n",
       "    <tr>\n",
       "      <th>98</th>\n",
       "      <td>Nickelback</td>\n",
       "      <td>How You Remind Me</td>\n",
       "      <td>0gmbgwZ8iqyMPmXefof8Yf</td>\n",
       "      <td>2002-01-12</td>\n",
       "      <td>2001-09-11</td>\n",
       "      <td>1</td>\n",
       "      <td>19</td>\n",
       "      <td>False</td>\n",
       "      <td>1</td>\n",
       "      <td>1</td>\n",
       "      <td>...</td>\n",
       "      <td>0.000000</td>\n",
       "      <td>0.0990</td>\n",
       "      <td>0.543</td>\n",
       "      <td>172.094</td>\n",
       "      <td>4</td>\n",
       "      <td>79</td>\n",
       "      <td>78</td>\n",
       "      <td>['alternative metal', 'canadian rock', 'nu met...</td>\n",
       "      <td>Roadrunner Records</td>\n",
       "      <td>Never made it as a wise man\\nI couldn't cut it...</td>\n",
       "    </tr>\n",
       "    <tr>\n",
       "      <th>99</th>\n",
       "      <td>Usher</td>\n",
       "      <td>U Got It Bad</td>\n",
       "      <td>7J41dYQolQJEtj3UmKLu5r</td>\n",
       "      <td>2002-01-12</td>\n",
       "      <td>2001-08-07</td>\n",
       "      <td>2</td>\n",
       "      <td>17</td>\n",
       "      <td>False</td>\n",
       "      <td>1</td>\n",
       "      <td>2</td>\n",
       "      <td>...</td>\n",
       "      <td>0.000002</td>\n",
       "      <td>0.0733</td>\n",
       "      <td>0.649</td>\n",
       "      <td>124.037</td>\n",
       "      <td>4</td>\n",
       "      <td>83</td>\n",
       "      <td>70</td>\n",
       "      <td>['atl hip hop', 'dance pop', 'pop', 'r&amp;b', 'so...</td>\n",
       "      <td>Arista</td>\n",
       "      <td>Ooh-oh\\nNo, no, no, no\\nNo, no, no, no, no, no...</td>\n",
       "    </tr>\n",
       "    <tr>\n",
       "      <th>100</th>\n",
       "      <td>Mary J. Blige</td>\n",
       "      <td>Family Affair</td>\n",
       "      <td>3aw9iWUQ3VrPQltgwvN9Xu</td>\n",
       "      <td>2002-01-12</td>\n",
       "      <td>2001-01-01</td>\n",
       "      <td>3</td>\n",
       "      <td>25</td>\n",
       "      <td>False</td>\n",
       "      <td>1</td>\n",
       "      <td>3</td>\n",
       "      <td>...</td>\n",
       "      <td>0.000041</td>\n",
       "      <td>0.0863</td>\n",
       "      <td>0.969</td>\n",
       "      <td>92.887</td>\n",
       "      <td>4</td>\n",
       "      <td>75</td>\n",
       "      <td>71</td>\n",
       "      <td>['dance pop', 'hip pop', 'neo soul', 'pop', 'p...</td>\n",
       "      <td>Uptown</td>\n",
       "      <td>Let's get it crunk upon\\nHave fun upon up in t...</td>\n",
       "    </tr>\n",
       "    <tr>\n",
       "      <th>101</th>\n",
       "      <td>P!nk</td>\n",
       "      <td>Get The Party Started</td>\n",
       "      <td>02jcEwywffn3Tsb48fXmlW</td>\n",
       "      <td>2002-01-12</td>\n",
       "      <td>2001</td>\n",
       "      <td>4</td>\n",
       "      <td>12</td>\n",
       "      <td>False</td>\n",
       "      <td>4</td>\n",
       "      <td>4</td>\n",
       "      <td>...</td>\n",
       "      <td>0.000000</td>\n",
       "      <td>0.1730</td>\n",
       "      <td>0.961</td>\n",
       "      <td>128.931</td>\n",
       "      <td>4</td>\n",
       "      <td>83</td>\n",
       "      <td>67</td>\n",
       "      <td>['dance pop', 'pop', 'post-teen pop']</td>\n",
       "      <td>Arista</td>\n",
       "      <td>I'm comin' up, so you better get this party st...</td>\n",
       "    </tr>\n",
       "    <tr>\n",
       "      <th>102</th>\n",
       "      <td>Enrique Iglesias</td>\n",
       "      <td>Hero</td>\n",
       "      <td>24Gxm7Eh7tO83E26LG0CsY</td>\n",
       "      <td>2002-01-12</td>\n",
       "      <td>2001-01-01</td>\n",
       "      <td>5</td>\n",
       "      <td>16</td>\n",
       "      <td>False</td>\n",
       "      <td>3</td>\n",
       "      <td>8</td>\n",
       "      <td>...</td>\n",
       "      <td>0.000010</td>\n",
       "      <td>0.1070</td>\n",
       "      <td>0.146</td>\n",
       "      <td>151.959</td>\n",
       "      <td>4</td>\n",
       "      <td>82</td>\n",
       "      <td>62</td>\n",
       "      <td>['dance pop', 'latin', 'latin pop', 'mexican p...</td>\n",
       "      <td>Interscope</td>\n",
       "      <td>Let me be your hero\\n\\nWould you dance, if I a...</td>\n",
       "    </tr>\n",
       "  </tbody>\n",
       "</table>\n",
       "<p>5 rows × 27 columns</p>\n",
       "</div>"
      ],
      "text/plain": [
       "               artist                  title                      id  \\\n",
       "98         Nickelback      How You Remind Me  0gmbgwZ8iqyMPmXefof8Yf   \n",
       "99              Usher           U Got It Bad  7J41dYQolQJEtj3UmKLu5r   \n",
       "100     Mary J. Blige          Family Affair  3aw9iWUQ3VrPQltgwvN9Xu   \n",
       "101              P!nk  Get The Party Started  02jcEwywffn3Tsb48fXmlW   \n",
       "102  Enrique Iglesias                   Hero  24Gxm7Eh7tO83E26LG0CsY   \n",
       "\n",
       "     date_chart release_date  rank  weeks  isNew  peakPos  lastPos  ...  \\\n",
       "98   2002-01-12   2001-09-11     1     19  False        1        1  ...   \n",
       "99   2002-01-12   2001-08-07     2     17  False        1        2  ...   \n",
       "100  2002-01-12   2001-01-01     3     25  False        1        3  ...   \n",
       "101  2002-01-12         2001     4     12  False        4        4  ...   \n",
       "102  2002-01-12   2001-01-01     5     16  False        3        8  ...   \n",
       "\n",
       "     instrumentalness  liveness  valence    tempo  time_signature  \\\n",
       "98           0.000000    0.0990    0.543  172.094               4   \n",
       "99           0.000002    0.0733    0.649  124.037               4   \n",
       "100          0.000041    0.0863    0.969   92.887               4   \n",
       "101          0.000000    0.1730    0.961  128.931               4   \n",
       "102          0.000010    0.1070    0.146  151.959               4   \n",
       "\n",
       "     popularity_artist  popularity_song  \\\n",
       "98                  79               78   \n",
       "99                  83               70   \n",
       "100                 75               71   \n",
       "101                 83               67   \n",
       "102                 82               62   \n",
       "\n",
       "                                                genres               label  \\\n",
       "98   ['alternative metal', 'canadian rock', 'nu met...  Roadrunner Records   \n",
       "99   ['atl hip hop', 'dance pop', 'pop', 'r&b', 'so...              Arista   \n",
       "100  ['dance pop', 'hip pop', 'neo soul', 'pop', 'p...              Uptown   \n",
       "101              ['dance pop', 'pop', 'post-teen pop']              Arista   \n",
       "102  ['dance pop', 'latin', 'latin pop', 'mexican p...          Interscope   \n",
       "\n",
       "                                           song_lyrics  \n",
       "98   Never made it as a wise man\\nI couldn't cut it...  \n",
       "99   Ooh-oh\\nNo, no, no, no\\nNo, no, no, no, no, no...  \n",
       "100  Let's get it crunk upon\\nHave fun upon up in t...  \n",
       "101  I'm comin' up, so you better get this party st...  \n",
       "102  Let me be your hero\\n\\nWould you dance, if I a...  \n",
       "\n",
       "[5 rows x 27 columns]"
      ]
     },
     "execution_count": 81,
     "metadata": {},
     "output_type": "execute_result"
    }
   ],
   "source": [
    "df_02.loc[df_02[\"date_chart\"] > df_02.iloc[0]['date_chart']].head()"
   ]
  },
  {
   "cell_type": "code",
   "execution_count": 82,
   "metadata": {},
   "outputs": [],
   "source": [
    "frames = [df_hits, df_02.loc[df_02[\"date_chart\"] > df_02.iloc[0]['date_chart']]]"
   ]
  },
  {
   "cell_type": "code",
   "execution_count": 83,
   "metadata": {},
   "outputs": [],
   "source": [
    "df_hits = pd.concat(frames)"
   ]
  },
  {
   "cell_type": "code",
   "execution_count": 89,
   "metadata": {},
   "outputs": [
    {
     "data": {
      "text/plain": [
       "'2003-01-04'"
      ]
     },
     "execution_count": 89,
     "metadata": {},
     "output_type": "execute_result"
    }
   ],
   "source": [
    "df_hits.iloc[-1]['date_chart']"
   ]
  },
  {
   "cell_type": "markdown",
   "metadata": {},
   "source": [
    "## Dataframe 2003"
   ]
  },
  {
   "cell_type": "code",
   "execution_count": 88,
   "metadata": {},
   "outputs": [],
   "source": [
    "df_03 = pd.read_csv (\"Data/top_100_Billboard_2003.csv\")"
   ]
  },
  {
   "cell_type": "code",
   "execution_count": 90,
   "metadata": {},
   "outputs": [
    {
     "data": {
      "text/plain": [
       "'2003-01-04'"
      ]
     },
     "execution_count": 90,
     "metadata": {},
     "output_type": "execute_result"
    }
   ],
   "source": [
    "df_03.iloc[0]['date_chart']"
   ]
  },
  {
   "cell_type": "code",
   "execution_count": null,
   "metadata": {},
   "outputs": [],
   "source": []
  }
 ],
 "metadata": {
  "kernelspec": {
   "display_name": "tfm",
   "language": "python",
   "name": "tfm"
  },
  "language_info": {
   "codemirror_mode": {
    "name": "ipython",
    "version": 3
   },
   "file_extension": ".py",
   "mimetype": "text/x-python",
   "name": "python",
   "nbconvert_exporter": "python",
   "pygments_lexer": "ipython3",
   "version": "3.7.7"
  }
 },
 "nbformat": 4,
 "nbformat_minor": 4
}
