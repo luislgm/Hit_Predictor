{
 "cells": [
  {
   "cell_type": "markdown",
   "metadata": {},
   "source": [
    "#  Data Fusion All\n",
    "\n",
    "En este notebook se procederá a la fusión del dataset limpiado en el notebook 1_clean_dataset (*hits*) con el generado en el 3 (canciones aleatorias), que es el que usaremos para entrenar nuestros modelos, para conformar un dataset de entrenamiento de para los modelos.\n",
    "\n",
    "Para ello se concatenaran ambos dataframe y se eliminaran todas las duplicidades.\n",
    "1. En caso de que el dataframe de *hits* tenga duplicidades, se ordenará por semanas en lista, y se eliminaran las duplicidades que menos tiempo tienen.\n",
    "2. En caso de que dataframe de canciones aleatorias tenga duplicidades, nos quedaremos con la primera encontrada.\n",
    "3. En caso de que haya una duplicidad de un hit con una canción aleatoria, se descartará la aleatoria.\n",
    "4. Para la concatenación, y generar un dataset balanceado, se hará una selección del mismo tamaño que los *hits*, para así obtener un 50/50 de *hits* y no *hits*.\n",
    "5. Añadiremos el *target* al dataset, que será 1 cuando es un *hit* y 0 cuando no.\n",
    "6. Por último mezclamos todo el dataset para generar mayor aleatoriedad, y no tener los *hits* por un lado y las demás por otro.\n",
    "\n",
    "Después, y tras los estudios realizados en el notebook 1_hit_analysis dentro del directorio Hit_Data_Analysis. Se puede apreciar un importante cambio en cuanto a géneros musicales en los *hits* se refiere, a partir del año 1993, se puede apreciar como la música urbana empieza a coger fuerza y ciertas características también varían. Por ello se ha decidido entrenar los modelos con un dataset que contenga *hits* y no hits desde esa fecha, ya que a partir de esa fecha es cuando se aprecian que los hits están más acordes a los de la actualidad, y por tanto cabe pensar que entrenando sobre este dataset podremos obtener una mayor capacidad de predicción de *hits* en la actualidad."
   ]
  },
  {
   "cell_type": "code",
   "execution_count": 2,
   "metadata": {},
   "outputs": [],
   "source": [
    "import pandas as pd\n",
    "import numpy as np"
   ]
  },
  {
   "cell_type": "code",
   "execution_count": 2,
   "metadata": {},
   "outputs": [],
   "source": [
    "df_random = pd.read_csv(\"../Data/random_songs_uniq_1958_2020.csv\")"
   ]
  },
  {
   "cell_type": "code",
   "execution_count": 3,
   "metadata": {},
   "outputs": [
    {
     "data": {
      "text/plain": [
       "(69067, 23)"
      ]
     },
     "execution_count": 3,
     "metadata": {},
     "output_type": "execute_result"
    }
   ],
   "source": [
    "df_random.shape"
   ]
  },
  {
   "cell_type": "code",
   "execution_count": 4,
   "metadata": {},
   "outputs": [
    {
     "data": {
      "text/html": [
       "<div>\n",
       "<style scoped>\n",
       "    .dataframe tbody tr th:only-of-type {\n",
       "        vertical-align: middle;\n",
       "    }\n",
       "\n",
       "    .dataframe tbody tr th {\n",
       "        vertical-align: top;\n",
       "    }\n",
       "\n",
       "    .dataframe thead th {\n",
       "        text-align: right;\n",
       "    }\n",
       "</style>\n",
       "<table border=\"1\" class=\"dataframe\">\n",
       "  <thead>\n",
       "    <tr style=\"text-align: right;\">\n",
       "      <th></th>\n",
       "      <th>artist</th>\n",
       "      <th>title</th>\n",
       "      <th>id</th>\n",
       "      <th>release_date</th>\n",
       "      <th>collaboration</th>\n",
       "      <th>danceability</th>\n",
       "      <th>energy</th>\n",
       "      <th>key</th>\n",
       "      <th>loudness</th>\n",
       "      <th>mode</th>\n",
       "      <th>...</th>\n",
       "      <th>liveness</th>\n",
       "      <th>valence</th>\n",
       "      <th>tempo</th>\n",
       "      <th>time_signature</th>\n",
       "      <th>duration_ms</th>\n",
       "      <th>popularity_artist</th>\n",
       "      <th>popularity_song</th>\n",
       "      <th>genres</th>\n",
       "      <th>album</th>\n",
       "      <th>label</th>\n",
       "    </tr>\n",
       "  </thead>\n",
       "  <tbody>\n",
       "    <tr>\n",
       "      <th>0</th>\n",
       "      <td>Airbourne</td>\n",
       "      <td>It Ain't Over Till It's Over</td>\n",
       "      <td>68SzcK5s3H4RXEyyJtdFAO</td>\n",
       "      <td>2010</td>\n",
       "      <td>False</td>\n",
       "      <td>0.484</td>\n",
       "      <td>0.999</td>\n",
       "      <td>9</td>\n",
       "      <td>-2.336</td>\n",
       "      <td>1</td>\n",
       "      <td>...</td>\n",
       "      <td>0.1590</td>\n",
       "      <td>0.0323</td>\n",
       "      <td>111.019</td>\n",
       "      <td>4</td>\n",
       "      <td>197706</td>\n",
       "      <td>59</td>\n",
       "      <td>33</td>\n",
       "      <td>['glam metal', 'hard rock', 'metal', 'rock', '...</td>\n",
       "      <td>No Guts. No Glory</td>\n",
       "      <td>Roadrunner Records</td>\n",
       "    </tr>\n",
       "    <tr>\n",
       "      <th>1</th>\n",
       "      <td>Slow Meadow</td>\n",
       "      <td>Hurricane</td>\n",
       "      <td>55V1T1cUIWJYJPI77asAat</td>\n",
       "      <td>2017-11-17</td>\n",
       "      <td>False</td>\n",
       "      <td>0.117</td>\n",
       "      <td>0.264</td>\n",
       "      <td>2</td>\n",
       "      <td>-13.967</td>\n",
       "      <td>1</td>\n",
       "      <td>...</td>\n",
       "      <td>0.0762</td>\n",
       "      <td>0.0696</td>\n",
       "      <td>79.146</td>\n",
       "      <td>4</td>\n",
       "      <td>331008</td>\n",
       "      <td>54</td>\n",
       "      <td>0</td>\n",
       "      <td>['calming instrumental', 'chamber pop', 'compo...</td>\n",
       "      <td>Costero</td>\n",
       "      <td>Hammock Music</td>\n",
       "    </tr>\n",
       "    <tr>\n",
       "      <th>2</th>\n",
       "      <td>Green Day</td>\n",
       "      <td>¿Viva La Gloria? (Little Girl)</td>\n",
       "      <td>2mnk1GHN0XmznKiucY4ZW4</td>\n",
       "      <td>2009-05-15</td>\n",
       "      <td>False</td>\n",
       "      <td>0.519</td>\n",
       "      <td>0.845</td>\n",
       "      <td>5</td>\n",
       "      <td>-4.415</td>\n",
       "      <td>0</td>\n",
       "      <td>...</td>\n",
       "      <td>0.0922</td>\n",
       "      <td>0.5320</td>\n",
       "      <td>94.955</td>\n",
       "      <td>4</td>\n",
       "      <td>227680</td>\n",
       "      <td>82</td>\n",
       "      <td>55</td>\n",
       "      <td>['permanent wave', 'pop punk', 'punk']</td>\n",
       "      <td>21st Century Breakdown</td>\n",
       "      <td>Reprise</td>\n",
       "    </tr>\n",
       "    <tr>\n",
       "      <th>3</th>\n",
       "      <td>Bart Wolffe</td>\n",
       "      <td>Three Questions by Leo Tolstoy</td>\n",
       "      <td>2gjKSPZulrHzqHQXmKksq9</td>\n",
       "      <td>2014-02-24</td>\n",
       "      <td>False</td>\n",
       "      <td>0.666</td>\n",
       "      <td>0.254</td>\n",
       "      <td>1</td>\n",
       "      <td>-15.736</td>\n",
       "      <td>1</td>\n",
       "      <td>...</td>\n",
       "      <td>0.1160</td>\n",
       "      <td>0.5090</td>\n",
       "      <td>75.985</td>\n",
       "      <td>4</td>\n",
       "      <td>654342</td>\n",
       "      <td>3</td>\n",
       "      <td>4</td>\n",
       "      <td>[]</td>\n",
       "      <td>10 Minute Short Stories</td>\n",
       "      <td>Saland Publishing</td>\n",
       "    </tr>\n",
       "    <tr>\n",
       "      <th>4</th>\n",
       "      <td>Satin Jackets</td>\n",
       "      <td>Little Airplanes</td>\n",
       "      <td>5lzq0LoVd0y5YPLlc64FMz</td>\n",
       "      <td>2020-05-29</td>\n",
       "      <td>False</td>\n",
       "      <td>0.546</td>\n",
       "      <td>0.655</td>\n",
       "      <td>0</td>\n",
       "      <td>-7.540</td>\n",
       "      <td>1</td>\n",
       "      <td>...</td>\n",
       "      <td>0.1090</td>\n",
       "      <td>0.2090</td>\n",
       "      <td>117.001</td>\n",
       "      <td>4</td>\n",
       "      <td>330614</td>\n",
       "      <td>61</td>\n",
       "      <td>48</td>\n",
       "      <td>['alternative dance', 'deep house', 'indie sou...</td>\n",
       "      <td>Little Airplanes</td>\n",
       "      <td>Eskimo Recordings</td>\n",
       "    </tr>\n",
       "  </tbody>\n",
       "</table>\n",
       "<p>5 rows × 23 columns</p>\n",
       "</div>"
      ],
      "text/plain": [
       "          artist                           title                      id  \\\n",
       "0      Airbourne    It Ain't Over Till It's Over  68SzcK5s3H4RXEyyJtdFAO   \n",
       "1    Slow Meadow                       Hurricane  55V1T1cUIWJYJPI77asAat   \n",
       "2      Green Day  ¿Viva La Gloria? (Little Girl)  2mnk1GHN0XmznKiucY4ZW4   \n",
       "3    Bart Wolffe  Three Questions by Leo Tolstoy  2gjKSPZulrHzqHQXmKksq9   \n",
       "4  Satin Jackets                Little Airplanes  5lzq0LoVd0y5YPLlc64FMz   \n",
       "\n",
       "  release_date  collaboration  danceability  energy  key  loudness  mode  ...  \\\n",
       "0         2010          False         0.484   0.999    9    -2.336     1  ...   \n",
       "1   2017-11-17          False         0.117   0.264    2   -13.967     1  ...   \n",
       "2   2009-05-15          False         0.519   0.845    5    -4.415     0  ...   \n",
       "3   2014-02-24          False         0.666   0.254    1   -15.736     1  ...   \n",
       "4   2020-05-29          False         0.546   0.655    0    -7.540     1  ...   \n",
       "\n",
       "   liveness  valence    tempo  time_signature  duration_ms  popularity_artist  \\\n",
       "0    0.1590   0.0323  111.019               4       197706                 59   \n",
       "1    0.0762   0.0696   79.146               4       331008                 54   \n",
       "2    0.0922   0.5320   94.955               4       227680                 82   \n",
       "3    0.1160   0.5090   75.985               4       654342                  3   \n",
       "4    0.1090   0.2090  117.001               4       330614                 61   \n",
       "\n",
       "   popularity_song                                             genres  \\\n",
       "0               33  ['glam metal', 'hard rock', 'metal', 'rock', '...   \n",
       "1                0  ['calming instrumental', 'chamber pop', 'compo...   \n",
       "2               55             ['permanent wave', 'pop punk', 'punk']   \n",
       "3                4                                                 []   \n",
       "4               48  ['alternative dance', 'deep house', 'indie sou...   \n",
       "\n",
       "                     album               label  \n",
       "0        No Guts. No Glory  Roadrunner Records  \n",
       "1                  Costero       Hammock Music  \n",
       "2   21st Century Breakdown             Reprise  \n",
       "3  10 Minute Short Stories   Saland Publishing  \n",
       "4         Little Airplanes   Eskimo Recordings  \n",
       "\n",
       "[5 rows x 23 columns]"
      ]
     },
     "execution_count": 4,
     "metadata": {},
     "output_type": "execute_result"
    }
   ],
   "source": [
    "df_random.head()"
   ]
  },
  {
   "cell_type": "code",
   "execution_count": 11,
   "metadata": {},
   "outputs": [],
   "source": [
    "df_hits = pd.read_csv (\"../Data/top_100_Billboard_1958_2020_to_train.csv\",dtype={'song_lyrics':'string'})"
   ]
  },
  {
   "cell_type": "markdown",
   "metadata": {},
   "source": [
    "Se ordena por mayor número de semanas en *hot-100* y se eliminan duplicados quedándonos con el primero"
   ]
  },
  {
   "cell_type": "code",
   "execution_count": 12,
   "metadata": {},
   "outputs": [],
   "source": [
    "df_hits_uniq = df_hits.sort_values(\"weeks\", ascending=False).drop_duplicates(subset = [\"id\"])\n",
    "# las busquedas en Spotipy, a traves de artista y titulo, pueden encontrar la misma cancion con Ids diferentes,\n",
    "# ya que la canción puede encontrarse en un album y como single y por tanto los ids no coincidiran aunque es\n",
    "# la misma canción por ello nos aseguramos eliminando los duplicados que tengan mismo artista y titulo de la\n",
    "# canción, para solventar esta casuistica.\n",
    "df_hits_uniq = df_hits_uniq.drop_duplicates(subset = [\"artist\",\"title\"], keep=\"first\")"
   ]
  },
  {
   "cell_type": "code",
   "execution_count": 13,
   "metadata": {},
   "outputs": [
    {
     "data": {
      "text/plain": [
       "25507"
      ]
     },
     "execution_count": 13,
     "metadata": {},
     "output_type": "execute_result"
    }
   ],
   "source": [
    "len(df_hits_uniq)"
   ]
  },
  {
   "cell_type": "markdown",
   "metadata": {},
   "source": [
    "Se realiza la concatenación, balanceado del dataset y se añade el *target*"
   ]
  },
  {
   "cell_type": "code",
   "execution_count": 14,
   "metadata": {},
   "outputs": [],
   "source": [
    "df_concact = pd.concat([df_hits_uniq, df_random])\n",
    "df_concact = df_concact.drop_duplicates(subset = \"id\", keep=\"first\")\n",
    "# las busquedas en Spotipy, a traves de artista y titulo, pueden encontrar la misma cancion con Ids diferentes,\n",
    "# ya que la canción puede encontrarse en un album y como single y por tanto los ids no coincidiran aunque es\n",
    "# la misma canción por ello nos aseguramos eliminando los duplicados que tengan mismo artista y titulo de la\n",
    "# canción, para solventar esta casuistica.\n",
    "df_concact = df_concact.drop_duplicates(subset = [\"artist\",\"title\"], keep=\"first\")"
   ]
  },
  {
   "cell_type": "code",
   "execution_count": 17,
   "metadata": {},
   "outputs": [],
   "source": [
    "df_filter = df_concact.iloc[:2 * len(df_hits_uniq)]"
   ]
  },
  {
   "cell_type": "code",
   "execution_count": 18,
   "metadata": {},
   "outputs": [],
   "source": [
    "df_target = df_filter.assign(target = np.where(pd.isnull(df_filter['rank']), 0, 1))"
   ]
  },
  {
   "cell_type": "code",
   "execution_count": 19,
   "metadata": {},
   "outputs": [
    {
     "data": {
      "text/plain": [
       "(51014, 32)"
      ]
     },
     "execution_count": 19,
     "metadata": {},
     "output_type": "execute_result"
    }
   ],
   "source": [
    "df_target.shape"
   ]
  },
  {
   "cell_type": "markdown",
   "metadata": {},
   "source": [
    "Se mezcla todo el dataset, para dar aleatoriedad."
   ]
  },
  {
   "cell_type": "code",
   "execution_count": 21,
   "metadata": {},
   "outputs": [],
   "source": [
    "df_shuffle = df_target.sample(frac=1, random_state=34).reset_index(drop=True)"
   ]
  },
  {
   "cell_type": "code",
   "execution_count": null,
   "metadata": {},
   "outputs": [],
   "source": [
    "pd.options.display.max_columns = None"
   ]
  },
  {
   "cell_type": "code",
   "execution_count": 22,
   "metadata": {},
   "outputs": [
    {
     "data": {
      "text/html": [
       "<div>\n",
       "<style scoped>\n",
       "    .dataframe tbody tr th:only-of-type {\n",
       "        vertical-align: middle;\n",
       "    }\n",
       "\n",
       "    .dataframe tbody tr th {\n",
       "        vertical-align: top;\n",
       "    }\n",
       "\n",
       "    .dataframe thead th {\n",
       "        text-align: right;\n",
       "    }\n",
       "</style>\n",
       "<table border=\"1\" class=\"dataframe\">\n",
       "  <thead>\n",
       "    <tr style=\"text-align: right;\">\n",
       "      <th></th>\n",
       "      <th>artist</th>\n",
       "      <th>title</th>\n",
       "      <th>id</th>\n",
       "      <th>year_chart</th>\n",
       "      <th>date_chart</th>\n",
       "      <th>release_date</th>\n",
       "      <th>collaboration</th>\n",
       "      <th>rank</th>\n",
       "      <th>weeks</th>\n",
       "      <th>isNew</th>\n",
       "      <th>peakPos</th>\n",
       "      <th>lastPos</th>\n",
       "      <th>danceability</th>\n",
       "      <th>energy</th>\n",
       "      <th>key</th>\n",
       "      <th>loudness</th>\n",
       "      <th>mode</th>\n",
       "      <th>speechiness</th>\n",
       "      <th>acousticness</th>\n",
       "      <th>instrumentalness</th>\n",
       "      <th>liveness</th>\n",
       "      <th>valence</th>\n",
       "      <th>tempo</th>\n",
       "      <th>time_signature</th>\n",
       "      <th>duration_ms</th>\n",
       "      <th>popularity_artist</th>\n",
       "      <th>popularity_song</th>\n",
       "      <th>genres</th>\n",
       "      <th>album</th>\n",
       "      <th>label</th>\n",
       "      <th>song_lyrics</th>\n",
       "      <th>target</th>\n",
       "    </tr>\n",
       "  </thead>\n",
       "  <tbody>\n",
       "    <tr>\n",
       "      <th>0</th>\n",
       "      <td>Nat King Cole</td>\n",
       "      <td>Time And The River</td>\n",
       "      <td>7vu51HpremcwWKhBhVccDB</td>\n",
       "      <td>1960.0</td>\n",
       "      <td>1960-03-21</td>\n",
       "      <td>1965-08-01</td>\n",
       "      <td>False</td>\n",
       "      <td>99.0</td>\n",
       "      <td>8.0</td>\n",
       "      <td>False</td>\n",
       "      <td>30.0</td>\n",
       "      <td>85.0</td>\n",
       "      <td>0.415</td>\n",
       "      <td>0.249</td>\n",
       "      <td>10</td>\n",
       "      <td>-13.619</td>\n",
       "      <td>1</td>\n",
       "      <td>0.0295</td>\n",
       "      <td>0.893</td>\n",
       "      <td>0.000008</td>\n",
       "      <td>0.1190</td>\n",
       "      <td>0.3520</td>\n",
       "      <td>83.912</td>\n",
       "      <td>4</td>\n",
       "      <td>139573</td>\n",
       "      <td>68</td>\n",
       "      <td>13</td>\n",
       "      <td>['adult standards', 'lounge', 'soul', 'vocal j...</td>\n",
       "      <td>Looking Back</td>\n",
       "      <td>CAPITOL CATALOG MKT (C92)</td>\n",
       "      <td>&lt;NA&gt;</td>\n",
       "      <td>1</td>\n",
       "    </tr>\n",
       "    <tr>\n",
       "      <th>1</th>\n",
       "      <td>Keyshia Cole</td>\n",
       "      <td>Last Night</td>\n",
       "      <td>3Cn1FSSTXeQ7hCfrbizrD0</td>\n",
       "      <td>2007.0</td>\n",
       "      <td>2007-06-30</td>\n",
       "      <td>2007-01-01</td>\n",
       "      <td>True</td>\n",
       "      <td>39.0</td>\n",
       "      <td>22.0</td>\n",
       "      <td>False</td>\n",
       "      <td>10.0</td>\n",
       "      <td>31.0</td>\n",
       "      <td>0.916</td>\n",
       "      <td>0.849</td>\n",
       "      <td>3</td>\n",
       "      <td>-5.034</td>\n",
       "      <td>0</td>\n",
       "      <td>0.0639</td>\n",
       "      <td>0.166</td>\n",
       "      <td>0.000193</td>\n",
       "      <td>0.0859</td>\n",
       "      <td>0.9740</td>\n",
       "      <td>121.002</td>\n",
       "      <td>4</td>\n",
       "      <td>255773</td>\n",
       "      <td>71</td>\n",
       "      <td>57</td>\n",
       "      <td>['dance pop', 'deep pop r&amp;b', 'hip pop', 'neo ...</td>\n",
       "      <td>Just Like You</td>\n",
       "      <td>Geffen</td>\n",
       "      <td>Last night, I couldn't even get an answer\\nI t...</td>\n",
       "      <td>1</td>\n",
       "    </tr>\n",
       "    <tr>\n",
       "      <th>2</th>\n",
       "      <td>Jónsi</td>\n",
       "      <td>Around Us</td>\n",
       "      <td>1VYXp8Y1GUyY04wWhlAfeE</td>\n",
       "      <td>NaN</td>\n",
       "      <td>NaN</td>\n",
       "      <td>2010-11-29</td>\n",
       "      <td>False</td>\n",
       "      <td>NaN</td>\n",
       "      <td>NaN</td>\n",
       "      <td>NaN</td>\n",
       "      <td>NaN</td>\n",
       "      <td>NaN</td>\n",
       "      <td>0.324</td>\n",
       "      <td>0.641</td>\n",
       "      <td>3</td>\n",
       "      <td>-9.136</td>\n",
       "      <td>1</td>\n",
       "      <td>0.0411</td>\n",
       "      <td>0.105</td>\n",
       "      <td>0.009490</td>\n",
       "      <td>0.2290</td>\n",
       "      <td>0.0666</td>\n",
       "      <td>139.938</td>\n",
       "      <td>4</td>\n",
       "      <td>315120</td>\n",
       "      <td>55</td>\n",
       "      <td>13</td>\n",
       "      <td>['compositional ambient', 'icelandic pop', 'po...</td>\n",
       "      <td>Around Us</td>\n",
       "      <td>Parlophone UK</td>\n",
       "      <td>NaN</td>\n",
       "      <td>0</td>\n",
       "    </tr>\n",
       "    <tr>\n",
       "      <th>3</th>\n",
       "      <td>Cassowary</td>\n",
       "      <td>She Funked Me</td>\n",
       "      <td>5x6KuClP6lLCvgjXUbLKGb</td>\n",
       "      <td>NaN</td>\n",
       "      <td>NaN</td>\n",
       "      <td>2019-11-19</td>\n",
       "      <td>False</td>\n",
       "      <td>NaN</td>\n",
       "      <td>NaN</td>\n",
       "      <td>NaN</td>\n",
       "      <td>NaN</td>\n",
       "      <td>NaN</td>\n",
       "      <td>0.741</td>\n",
       "      <td>0.646</td>\n",
       "      <td>2</td>\n",
       "      <td>-6.897</td>\n",
       "      <td>0</td>\n",
       "      <td>0.0314</td>\n",
       "      <td>0.234</td>\n",
       "      <td>0.793000</td>\n",
       "      <td>0.0926</td>\n",
       "      <td>0.6160</td>\n",
       "      <td>118.018</td>\n",
       "      <td>4</td>\n",
       "      <td>221426</td>\n",
       "      <td>31</td>\n",
       "      <td>5</td>\n",
       "      <td>[]</td>\n",
       "      <td>She Funked Me</td>\n",
       "      <td>Fat Possum</td>\n",
       "      <td>NaN</td>\n",
       "      <td>0</td>\n",
       "    </tr>\n",
       "    <tr>\n",
       "      <th>4</th>\n",
       "      <td>Ludwig van Beethoven</td>\n",
       "      <td>Beethoven: Symphony No. 2 in D Major, Op. 36: ...</td>\n",
       "      <td>6WKXJwgtSdkDj3fRga7VWy</td>\n",
       "      <td>NaN</td>\n",
       "      <td>NaN</td>\n",
       "      <td>2003</td>\n",
       "      <td>True</td>\n",
       "      <td>NaN</td>\n",
       "      <td>NaN</td>\n",
       "      <td>NaN</td>\n",
       "      <td>NaN</td>\n",
       "      <td>NaN</td>\n",
       "      <td>0.326</td>\n",
       "      <td>0.187</td>\n",
       "      <td>2</td>\n",
       "      <td>-19.562</td>\n",
       "      <td>1</td>\n",
       "      <td>0.0459</td>\n",
       "      <td>0.918</td>\n",
       "      <td>0.651000</td>\n",
       "      <td>0.2660</td>\n",
       "      <td>0.3090</td>\n",
       "      <td>78.314</td>\n",
       "      <td>4</td>\n",
       "      <td>373280</td>\n",
       "      <td>74</td>\n",
       "      <td>34</td>\n",
       "      <td>['classical', 'classical era', 'early romantic...</td>\n",
       "      <td>Beethoven : Symphonies 1-9</td>\n",
       "      <td>Warner Classics</td>\n",
       "      <td>NaN</td>\n",
       "      <td>0</td>\n",
       "    </tr>\n",
       "  </tbody>\n",
       "</table>\n",
       "</div>"
      ],
      "text/plain": [
       "                 artist                                              title  \\\n",
       "0         Nat King Cole                                 Time And The River   \n",
       "1          Keyshia Cole                                         Last Night   \n",
       "2                 Jónsi                                          Around Us   \n",
       "3             Cassowary                                      She Funked Me   \n",
       "4  Ludwig van Beethoven  Beethoven: Symphony No. 2 in D Major, Op. 36: ...   \n",
       "\n",
       "                       id  year_chart  date_chart release_date  collaboration  \\\n",
       "0  7vu51HpremcwWKhBhVccDB      1960.0  1960-03-21   1965-08-01          False   \n",
       "1  3Cn1FSSTXeQ7hCfrbizrD0      2007.0  2007-06-30   2007-01-01           True   \n",
       "2  1VYXp8Y1GUyY04wWhlAfeE         NaN         NaN   2010-11-29          False   \n",
       "3  5x6KuClP6lLCvgjXUbLKGb         NaN         NaN   2019-11-19          False   \n",
       "4  6WKXJwgtSdkDj3fRga7VWy         NaN         NaN         2003           True   \n",
       "\n",
       "   rank  weeks  isNew  peakPos  lastPos  danceability  energy  key  loudness  \\\n",
       "0  99.0    8.0  False     30.0     85.0         0.415   0.249   10   -13.619   \n",
       "1  39.0   22.0  False     10.0     31.0         0.916   0.849    3    -5.034   \n",
       "2   NaN    NaN    NaN      NaN      NaN         0.324   0.641    3    -9.136   \n",
       "3   NaN    NaN    NaN      NaN      NaN         0.741   0.646    2    -6.897   \n",
       "4   NaN    NaN    NaN      NaN      NaN         0.326   0.187    2   -19.562   \n",
       "\n",
       "   mode  speechiness  acousticness  instrumentalness  liveness  valence  \\\n",
       "0     1       0.0295         0.893          0.000008    0.1190   0.3520   \n",
       "1     0       0.0639         0.166          0.000193    0.0859   0.9740   \n",
       "2     1       0.0411         0.105          0.009490    0.2290   0.0666   \n",
       "3     0       0.0314         0.234          0.793000    0.0926   0.6160   \n",
       "4     1       0.0459         0.918          0.651000    0.2660   0.3090   \n",
       "\n",
       "     tempo  time_signature  duration_ms  popularity_artist  popularity_song  \\\n",
       "0   83.912               4       139573                 68               13   \n",
       "1  121.002               4       255773                 71               57   \n",
       "2  139.938               4       315120                 55               13   \n",
       "3  118.018               4       221426                 31                5   \n",
       "4   78.314               4       373280                 74               34   \n",
       "\n",
       "                                              genres  \\\n",
       "0  ['adult standards', 'lounge', 'soul', 'vocal j...   \n",
       "1  ['dance pop', 'deep pop r&b', 'hip pop', 'neo ...   \n",
       "2  ['compositional ambient', 'icelandic pop', 'po...   \n",
       "3                                                 []   \n",
       "4  ['classical', 'classical era', 'early romantic...   \n",
       "\n",
       "                        album                      label  \\\n",
       "0                Looking Back  CAPITOL CATALOG MKT (C92)   \n",
       "1               Just Like You                     Geffen   \n",
       "2                   Around Us              Parlophone UK   \n",
       "3               She Funked Me                 Fat Possum   \n",
       "4  Beethoven : Symphonies 1-9            Warner Classics   \n",
       "\n",
       "                                         song_lyrics  target  \n",
       "0                                               <NA>       1  \n",
       "1  Last night, I couldn't even get an answer\\nI t...       1  \n",
       "2                                                NaN       0  \n",
       "3                                                NaN       0  \n",
       "4                                                NaN       0  "
      ]
     },
     "execution_count": 22,
     "metadata": {},
     "output_type": "execute_result"
    }
   ],
   "source": [
    "df_shuffle.head()"
   ]
  },
  {
   "cell_type": "code",
   "execution_count": 23,
   "metadata": {},
   "outputs": [],
   "source": [
    "df_shuffle.to_csv(\"../Data/fusion_songs_1958_2020_to_train.csv\", index = False, header=True)"
   ]
  },
  {
   "cell_type": "markdown",
   "metadata": {},
   "source": [
    "# Dataset desde 1993-2020"
   ]
  },
  {
   "cell_type": "markdown",
   "metadata": {},
   "source": [
    "A continuación se generará el dataset fusión, con canciones posteriores a 1993, el proceso es muy similar al anterior, con la diferencia de filtrar los datos previamente, para las canciones aleatorias, para los hits ya los hemos seleccionado en el cuaderno 1_clean_dataset."
   ]
  },
  {
   "cell_type": "code",
   "execution_count": 5,
   "metadata": {},
   "outputs": [],
   "source": [
    "df_hits_93_20 = pd.read_csv(\"../Data/top_100_Billboard_1993_2020_to_train.csv\")"
   ]
  },
  {
   "cell_type": "code",
   "execution_count": 6,
   "metadata": {},
   "outputs": [],
   "source": [
    "df_random_93_20 = df_random[df_random[\"release_date\"]>=\"1993\"]"
   ]
  },
  {
   "cell_type": "code",
   "execution_count": 7,
   "metadata": {},
   "outputs": [],
   "source": [
    "df_random_93_20 = df_random_93_20.sample(frac=1, random_state=33).reset_index(drop=True)"
   ]
  },
  {
   "cell_type": "code",
   "execution_count": 8,
   "metadata": {},
   "outputs": [],
   "source": [
    "df_concact_93_20 = pd.concat([df_hits_93_20, df_random_93_20])\n",
    "df_concact_93_20 = df_concact_93_20.drop_duplicates(subset = \"id\", keep=\"first\")\n",
    "# las busquedas en Spotipy, a traves de artista y titulo, pueden encontrar la misma cancion con Ids diferentes,\n",
    "# ya que la canción puede encontrarse en un album y como single y por tanto los ids no coincidiran aunque es\n",
    "# la misma canción, por ello nos aseguramos eliminando los duplicados que tengan mismo artista y titulo de la\n",
    "# canción, para solventar esta casuistica.\n",
    "df_concact_93_20 = df_concact_93_20.drop_duplicates(subset = [\"artist\",\"title\"], keep=\"first\")"
   ]
  },
  {
   "cell_type": "code",
   "execution_count": 9,
   "metadata": {},
   "outputs": [],
   "source": [
    "df_filter_93_20 = df_concact_93_20.iloc[:2 * len(df_hits_93_20)]"
   ]
  },
  {
   "cell_type": "code",
   "execution_count": 10,
   "metadata": {},
   "outputs": [],
   "source": [
    "df_target_93_20 = df_filter_93_20.assign(target = np.where(pd.isnull(df_filter_93_20['rank']), 0, 1))"
   ]
  },
  {
   "cell_type": "code",
   "execution_count": 11,
   "metadata": {},
   "outputs": [
    {
     "data": {
      "text/plain": [
       "(20462, 32)"
      ]
     },
     "execution_count": 11,
     "metadata": {},
     "output_type": "execute_result"
    }
   ],
   "source": [
    "df_target_93_20.shape"
   ]
  },
  {
   "cell_type": "code",
   "execution_count": 12,
   "metadata": {},
   "outputs": [],
   "source": [
    "df_shuffle_93_20 = df_target_93_20.sample(frac=1, random_state=34).reset_index(drop=True)"
   ]
  },
  {
   "cell_type": "code",
   "execution_count": 13,
   "metadata": {},
   "outputs": [],
   "source": [
    "df_shuffle_93_20.to_csv(\"../Data/fusion_songs_1993_2020_to_train.csv\", index = False, header=True)"
   ]
  }
 ],
 "metadata": {
  "kernelspec": {
   "display_name": "tfm",
   "language": "python",
   "name": "tfm"
  },
  "language_info": {
   "codemirror_mode": {
    "name": "ipython",
    "version": 3
   },
   "file_extension": ".py",
   "mimetype": "text/x-python",
   "name": "python",
   "nbconvert_exporter": "python",
   "pygments_lexer": "ipython3",
   "version": "3.7.7"
  }
 },
 "nbformat": 4,
 "nbformat_minor": 4
}
