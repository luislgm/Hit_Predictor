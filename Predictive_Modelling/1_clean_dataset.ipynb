{
 "cells": [
  {
   "cell_type": "markdown",
   "metadata": {},
   "source": [
    "## Clean Dataset\n",
    "\n",
    "A partir del análisis de los *hits* realizados en el cuaderno 1_hit_analysis, para resolver este problema de aprendizaje supervisado, utilizaremos modelos basados en *boosting* que son muy influenciables por *outliers* en el dataset. Es por ello que se van a eliminar estos *outliers* en los *hits* para tratar de hacer una prediccion de *hits* mas generalizable. Para los no *hits* no se realiza ninguna limpieza, puesto que para estas canciones es interesante que las características se muevan en todo el rango posible, para que el modelo sea capaz de diferenciar bien cuando es *hit* y cuando no."
   ]
  },
  {
   "cell_type": "code",
   "execution_count": 1,
   "metadata": {},
   "outputs": [],
   "source": [
    "import numpy as np\n",
    "import pandas as pd"
   ]
  },
  {
   "cell_type": "code",
   "execution_count": 57,
   "metadata": {},
   "outputs": [],
   "source": [
    "df_hits = pd.read_csv (\"../Data/top_100_Billboard_1958_2020.csv\",dtype={'song_lyrics':'string'})"
   ]
  },
  {
   "cell_type": "code",
   "execution_count": 58,
   "metadata": {},
   "outputs": [],
   "source": [
    "df_hits = df_hits.sort_values(\"weeks\", ascending=False).drop_duplicates(subset = [\"id\"])\n",
    "# las busquedas en Spotipy, a traves de artista y titulo, pueden encontrar la misma cancion con Ids diferentes,\n",
    "# ya que la canción puede encontrarse en un album y como single y por tanto los ids no coincidiran aunque es la\n",
    "# misma canción, por ello nos aseguramos eliminando los duplicados que tengan mismo artista y titulo de la canción,\n",
    "# para solventar esta casuistica.\n",
    "df_hits = df_hits.drop_duplicates(subset = [\"artist\",\"title\"], keep=\"first\")"
   ]
  },
  {
   "cell_type": "code",
   "execution_count": 59,
   "metadata": {},
   "outputs": [
    {
     "data": {
      "text/plain": [
       "25570"
      ]
     },
     "execution_count": 59,
     "metadata": {},
     "output_type": "execute_result"
    }
   ],
   "source": [
    "len(df_hits)"
   ]
  },
  {
   "cell_type": "code",
   "execution_count": 60,
   "metadata": {},
   "outputs": [],
   "source": [
    "df_hits = df_hits.reset_index(drop=True)"
   ]
  },
  {
   "cell_type": "markdown",
   "metadata": {},
   "source": [
    "Tras eliminar los duplicados, eliminamos los *outliers* de las siguientes características. Estos valores han sido escogidos tras analizar los *boxplots* a lo largo del tiempo para cada una de las características (Se encuentra en el cuaderno 1_hit_analysis)."
   ]
  },
  {
   "cell_type": "code",
   "execution_count": 61,
   "metadata": {},
   "outputs": [],
   "source": [
    "df_hits = df_hits.drop(df_hits[df_hits['danceability']<0.1].index)\n",
    "df_hits = df_hits.drop(df_hits[df_hits['loudness']<-25].index)\n",
    "df_hits = df_hits.drop(df_hits[df_hits['loudness']>0].index)\n",
    "df_hits = df_hits.drop(df_hits[df_hits['speechiness']>0.6].index)\n",
    "df_hits = df_hits.drop(df_hits[df_hits['tempo']<50].index)\n",
    "df_hits = df_hits.drop(df_hits[df_hits['tempo']>210].index)"
   ]
  },
  {
   "cell_type": "markdown",
   "metadata": {},
   "source": [
    "Observamos el valor vinal de *hits* que tenemos, hemos reducido un total de 63 canciones que perjudicarían en el aprendizaje del modelo, y lo haría menos generalizable."
   ]
  },
  {
   "cell_type": "code",
   "execution_count": 62,
   "metadata": {},
   "outputs": [
    {
     "data": {
      "text/plain": [
       "25507"
      ]
     },
     "execution_count": 62,
     "metadata": {},
     "output_type": "execute_result"
    }
   ],
   "source": [
    "len (df_hits)"
   ]
  },
  {
   "cell_type": "code",
   "execution_count": 63,
   "metadata": {},
   "outputs": [],
   "source": [
    "df_hits.to_csv(\"../Data/top_100_Billboard_1958_2020_to_train.csv\", index = False, header=True)"
   ]
  },
  {
   "cell_type": "markdown",
   "metadata": {},
   "source": [
    "# Hits 1993 - 2020\n",
    "Tras analizar cada una de las características, y los géneros musicales, se aprecia un importante cambio a partir de este año, donde la música urbana empieza a coger más peso, y se aprecian cambios en las características de estos *hits*, es por ello que se tratará de entrenar los modelos con datos a partir de esta fecha, y así poder analizar cuáles predecirían mejor en la actualidad.\n",
    "\n",
    "Para ello también se realizará una limpieza de *outliers* como en el caso anterior."
   ]
  },
  {
   "cell_type": "code",
   "execution_count": 3,
   "metadata": {},
   "outputs": [],
   "source": [
    "df_hits = pd.read_csv (\"../Data/top_100_Billboard_1958_2020.csv\",dtype={'song_lyrics':'string'})"
   ]
  },
  {
   "cell_type": "code",
   "execution_count": 5,
   "metadata": {},
   "outputs": [],
   "source": [
    "df_hits_filter = df_hits[df_hits['year_chart']>=1993]"
   ]
  },
  {
   "cell_type": "code",
   "execution_count": 6,
   "metadata": {},
   "outputs": [],
   "source": [
    "df_hits_filter = df_hits_filter.sort_values(\"weeks\", ascending=False).drop_duplicates(subset = [\"id\"])\n",
    "# las busquedas en Spotipy, a traves de artista y titulo, pueden encontrar la misma cancion con Ids diferentes,\n",
    "# ya que la canción puede encontrarse en un album y como single y por tanto los ids no coincidiran aunque es la misma canción\n",
    "# por ello nos aseguramos eliminando los duplicados que tengan mismo artista y titulo de la canción, para solventar esta\n",
    "# casuistica.\n",
    "df_hits_filter = df_hits_filter.drop_duplicates(subset = [\"artist\",\"title\"], keep=\"first\")"
   ]
  },
  {
   "cell_type": "code",
   "execution_count": 7,
   "metadata": {},
   "outputs": [
    {
     "data": {
      "text/plain": [
       "10331"
      ]
     },
     "execution_count": 7,
     "metadata": {},
     "output_type": "execute_result"
    }
   ],
   "source": [
    "len(df_hits_filter)"
   ]
  },
  {
   "cell_type": "code",
   "execution_count": 8,
   "metadata": {},
   "outputs": [],
   "source": [
    "df_hits_filter = df_hits_filter.reset_index(drop=True)"
   ]
  },
  {
   "cell_type": "code",
   "execution_count": 51,
   "metadata": {},
   "outputs": [],
   "source": [
    "df_hits_filter = df_hits_filter.drop(df_hits_filter[df_hits_filter['energy']<0.1].index)\n",
    "df_hits_filter = df_hits_filter.drop(df_hits_filter[df_hits_filter['loudness']<-15].index)\n",
    "df_hits_filter = df_hits_filter.drop(df_hits_filter[df_hits_filter['speechiness']>0.6].index)\n",
    "df_hits_filter = df_hits_filter.drop(df_hits_filter[df_hits_filter['tempo']<50].index)\n",
    "df_hits_filter = df_hits_filter.drop(df_hits_filter[df_hits_filter['tempo']>210].index)"
   ]
  },
  {
   "cell_type": "code",
   "execution_count": 53,
   "metadata": {},
   "outputs": [],
   "source": [
    "df_hits_filter.to_csv(\"../Data/top_100_Billboard_1993_2020_to_train.csv\", index = False, header=True)"
   ]
  }
 ],
 "metadata": {
  "kernelspec": {
   "display_name": "test",
   "language": "python",
   "name": "test"
  },
  "language_info": {
   "codemirror_mode": {
    "name": "ipython",
    "version": 3
   },
   "file_extension": ".py",
   "mimetype": "text/x-python",
   "name": "python",
   "nbconvert_exporter": "python",
   "pygments_lexer": "ipython3",
   "version": "3.7.7"
  }
 },
 "nbformat": 4,
 "nbformat_minor": 4
}
