{
 "cells": [
  {
   "cell_type": "code",
   "execution_count": 2,
   "metadata": {},
   "outputs": [],
   "source": [
    "import numpy as np\n",
    "import pandas as pd"
   ]
  },
  {
   "cell_type": "code",
   "execution_count": 57,
   "metadata": {},
   "outputs": [],
   "source": [
    "df_hits = pd.read_csv (\"../Data/top_100_Billboard_1958_2020.csv\",dtype={'song_lyrics':'string'})"
   ]
  },
  {
   "cell_type": "code",
   "execution_count": 58,
   "metadata": {},
   "outputs": [],
   "source": [
    "df_hits = df_hits.sort_values(\"weeks\", ascending=False).drop_duplicates(subset = [\"id\"])\n",
    "# las busquedas en Spotipy, a traves de artista y titulo, pueden encontrar la misma cancion con Ids diferentes,\n",
    "# ya que la canción puede encontrarse en un album y como single y por tanto los ids no coincidiran aunque es la misma canción\n",
    "# por ello nos aseguramos eliminando los duplicados que tengan mismo artista y titulo de la canción, para solventar esta\n",
    "# casuistica.\n",
    "df_hits = df_hits.drop_duplicates(subset = [\"artist\",\"title\"], keep=\"first\")"
   ]
  },
  {
   "cell_type": "code",
   "execution_count": 59,
   "metadata": {},
   "outputs": [
    {
     "data": {
      "text/plain": [
       "25570"
      ]
     },
     "execution_count": 59,
     "metadata": {},
     "output_type": "execute_result"
    }
   ],
   "source": [
    "len(df_hits)"
   ]
  },
  {
   "cell_type": "code",
   "execution_count": 60,
   "metadata": {},
   "outputs": [],
   "source": [
    "df_hits = df_hits.reset_index(drop=True)"
   ]
  },
  {
   "cell_type": "code",
   "execution_count": 61,
   "metadata": {},
   "outputs": [],
   "source": [
    "df_hits = df_hits.drop(df_hits[df_hits['danceability']<0.1].index)\n",
    "df_hits = df_hits.drop(df_hits[df_hits['loudness']<-25].index)\n",
    "df_hits = df_hits.drop(df_hits[df_hits['loudness']>0].index)\n",
    "df_hits = df_hits.drop(df_hits[df_hits['speechiness']>0.6].index)\n",
    "df_hits = df_hits.drop(df_hits[df_hits['tempo']<50].index)\n",
    "df_hits = df_hits.drop(df_hits[df_hits['tempo']>210].index)"
   ]
  },
  {
   "cell_type": "code",
   "execution_count": 62,
   "metadata": {},
   "outputs": [
    {
     "data": {
      "text/plain": [
       "25507"
      ]
     },
     "execution_count": 62,
     "metadata": {},
     "output_type": "execute_result"
    }
   ],
   "source": [
    "len (df_hits)"
   ]
  },
  {
   "cell_type": "code",
   "execution_count": 63,
   "metadata": {},
   "outputs": [],
   "source": [
    "df_hits.to_csv(\"../Data/top_100_Billboard_1958_2020_to_train.csv\", index = False, header=True)"
   ]
  },
  {
   "cell_type": "markdown",
   "metadata": {},
   "source": [
    "# 1993"
   ]
  },
  {
   "cell_type": "code",
   "execution_count": 3,
   "metadata": {},
   "outputs": [],
   "source": [
    "df_hits = pd.read_csv (\"../Data/top_100_Billboard_1958_2020.csv\",dtype={'song_lyrics':'string'})"
   ]
  },
  {
   "cell_type": "code",
   "execution_count": 5,
   "metadata": {},
   "outputs": [],
   "source": [
    "df_hits_filter = df_hits[df_hits['year_chart']>=1993]"
   ]
  },
  {
   "cell_type": "code",
   "execution_count": 6,
   "metadata": {},
   "outputs": [],
   "source": [
    "df_hits_filter = df_hits_filter.sort_values(\"weeks\", ascending=False).drop_duplicates(subset = [\"id\"])\n",
    "# las busquedas en Spotipy, a traves de artista y titulo, pueden encontrar la misma cancion con Ids diferentes,\n",
    "# ya que la canción puede encontrarse en un album y como single y por tanto los ids no coincidiran aunque es la misma canción\n",
    "# por ello nos aseguramos eliminando los duplicados que tengan mismo artista y titulo de la canción, para solventar esta\n",
    "# casuistica.\n",
    "df_hits_filter = df_hits_filter.drop_duplicates(subset = [\"artist\",\"title\"], keep=\"first\")"
   ]
  },
  {
   "cell_type": "code",
   "execution_count": 7,
   "metadata": {},
   "outputs": [
    {
     "data": {
      "text/plain": [
       "10331"
      ]
     },
     "execution_count": 7,
     "metadata": {},
     "output_type": "execute_result"
    }
   ],
   "source": [
    "len(df_hits_filter)"
   ]
  },
  {
   "cell_type": "code",
   "execution_count": 8,
   "metadata": {},
   "outputs": [],
   "source": [
    "df_hits_filter = df_hits_filter.reset_index(drop=True)"
   ]
  },
  {
   "cell_type": "code",
   "execution_count": 51,
   "metadata": {},
   "outputs": [],
   "source": [
    "df_hits_filter = df_hits_filter.drop(df_hits_filter[df_hits_filter['energy']<0.1].index)\n",
    "df_hits_filter = df_hits_filter.drop(df_hits_filter[df_hits_filter['loudness']<-15].index)\n",
    "df_hits_filter = df_hits_filter.drop(df_hits_filter[df_hits_filter['speechiness']>0.6].index)\n",
    "df_hits_filter = df_hits_filter.drop(df_hits_filter[df_hits_filter['tempo']<50].index)\n",
    "df_hits_filter = df_hits_filter.drop(df_hits_filter[df_hits_filter['tempo']>210].index)"
   ]
  },
  {
   "cell_type": "code",
   "execution_count": 53,
   "metadata": {},
   "outputs": [],
   "source": [
    "df_hits_filter.to_csv(\"../Data/top_100_Billboard_1993_2020_to_train.csv\", index = False, header=True)"
   ]
  }
 ],
 "metadata": {
  "kernelspec": {
   "display_name": "tfm",
   "language": "python",
   "name": "tfm"
  },
  "language_info": {
   "codemirror_mode": {
    "name": "ipython",
    "version": 3
   },
   "file_extension": ".py",
   "mimetype": "text/x-python",
   "name": "python",
   "nbconvert_exporter": "python",
   "pygments_lexer": "ipython3",
   "version": "3.7.7"
  }
 },
 "nbformat": 4,
 "nbformat_minor": 4
}
