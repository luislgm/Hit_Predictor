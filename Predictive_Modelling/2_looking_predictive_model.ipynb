{
 "cells": [
  {
   "cell_type": "markdown",
   "metadata": {},
   "source": [
    "# Looking Predictive Model\n",
    "\n",
    "En este cuaderno se tratara de buscar el mejor modelo de aprendizaje supervisado para tratar de predecir el porcentaje de que una canción sea hit, acorde a las caracteristicas que hemos obtenido."
   ]
  },
  {
   "cell_type": "code",
   "execution_count": 15,
   "metadata": {},
   "outputs": [],
   "source": [
    "import numpy as np\n",
    "import pandas as pd\n",
    "pd.options.display.max_columns = None\n",
    "import sklearn.metrics as metrics\n",
    "from sklearn.model_selection import train_test_split\n",
    "from sklearn.model_selection import cross_val_score\n",
    "from sklearn.model_selection import RandomizedSearchCV\n",
    "from sklearn.model_selection import GridSearchCV\n",
    "from sklearn.model_selection import validation_curve\n",
    "import matplotlib.pyplot as plt\n",
    "import joblib\n",
    "plt.rcParams['figure.figsize'] = 8, 6"
   ]
  },
  {
   "cell_type": "markdown",
   "metadata": {},
   "source": [
    "- Definimos función que usaremos para extraer las características necesarias de una canción para hacer una predicción de probabilidad de ser un *hit* dado un título y artistas."
   ]
  },
  {
   "cell_type": "code",
   "execution_count": 16,
   "metadata": {},
   "outputs": [],
   "source": [
    "import spotipy\n",
    "import spotipy.util as util\n",
    "from spotipy.oauth2 import SpotifyClientCredentials\n",
    "\n",
    "# sp_cid: Sustituir por spotify client id (str)\n",
    "# sp_secret: Sustituir por spotify secret id (str)\n",
    "client_credentials_manager = SpotifyClientCredentials(client_id='sp_cid', client_secret='sp_secret') \n",
    "sp = spotipy.Spotify(client_credentials_manager=client_credentials_manager, requests_timeout=50)\n",
    "\n",
    "def find_song():\n",
    "    print(\"Artista: \", end=\"\")\n",
    "    artist = input()\n",
    "    print(\"Titulo: \", end=\"\")\n",
    "    title = input()\n",
    "    Searched = str (title + \" \" + artist)\n",
    "    track = sp.search(Searched)\n",
    "    try:\n",
    "        id_track = track[\"tracks\"][\"items\"][0][\"uri\"]\n",
    "        track = sp.track(id_track)\n",
    "        track_feat = sp.audio_features(id_track)\n",
    "        song = [[track_feat[0][\"danceability\"], track_feat[0][\"energy\"], track_feat[0][\"key\"],\n",
    "        track_feat[0][\"loudness\"], track_feat[0][\"mode\"], track_feat[0][\"speechiness\"],\n",
    "        track_feat[0][\"acousticness\"], track_feat[0][\"instrumentalness\"], track_feat[0][\"liveness\"],\n",
    "        track_feat[0][\"valence\"], track_feat[0][\"tempo\"],track_feat[0][\"time_signature\"],\n",
    "                track[\"duration_ms\"]]]\n",
    "        \n",
    "        print (\"Canción elegida:\",track[\"name\"], \"de\", track[\"artists\"][0][\"name\"] )\n",
    "        return song\n",
    "    except:\n",
    "        print (\"ERROR: Titulo no encontrado\")"
   ]
  },
  {
   "cell_type": "markdown",
   "metadata": {},
   "source": [
    "- Se lee dataframe y se realiza *split* para los entrenamientos y test."
   ]
  },
  {
   "cell_type": "code",
   "execution_count": 17,
   "metadata": {},
   "outputs": [],
   "source": [
    "df_songs = pd.read_csv(\"../Data/fusion_songs_1958_2020_to_train.csv\")"
   ]
  },
  {
   "cell_type": "code",
   "execution_count": 18,
   "metadata": {},
   "outputs": [
    {
     "data": {
      "text/html": [
       "<div>\n",
       "<style scoped>\n",
       "    .dataframe tbody tr th:only-of-type {\n",
       "        vertical-align: middle;\n",
       "    }\n",
       "\n",
       "    .dataframe tbody tr th {\n",
       "        vertical-align: top;\n",
       "    }\n",
       "\n",
       "    .dataframe thead th {\n",
       "        text-align: right;\n",
       "    }\n",
       "</style>\n",
       "<table border=\"1\" class=\"dataframe\">\n",
       "  <thead>\n",
       "    <tr style=\"text-align: right;\">\n",
       "      <th></th>\n",
       "      <th>artist</th>\n",
       "      <th>title</th>\n",
       "      <th>id</th>\n",
       "      <th>year_chart</th>\n",
       "      <th>date_chart</th>\n",
       "      <th>release_date</th>\n",
       "      <th>collaboration</th>\n",
       "      <th>rank</th>\n",
       "      <th>weeks</th>\n",
       "      <th>isNew</th>\n",
       "      <th>peakPos</th>\n",
       "      <th>lastPos</th>\n",
       "      <th>danceability</th>\n",
       "      <th>energy</th>\n",
       "      <th>key</th>\n",
       "      <th>loudness</th>\n",
       "      <th>mode</th>\n",
       "      <th>speechiness</th>\n",
       "      <th>acousticness</th>\n",
       "      <th>instrumentalness</th>\n",
       "      <th>liveness</th>\n",
       "      <th>valence</th>\n",
       "      <th>tempo</th>\n",
       "      <th>time_signature</th>\n",
       "      <th>duration_ms</th>\n",
       "      <th>popularity_artist</th>\n",
       "      <th>popularity_song</th>\n",
       "      <th>genres</th>\n",
       "      <th>album</th>\n",
       "      <th>label</th>\n",
       "      <th>song_lyrics</th>\n",
       "      <th>target</th>\n",
       "    </tr>\n",
       "  </thead>\n",
       "  <tbody>\n",
       "    <tr>\n",
       "      <th>0</th>\n",
       "      <td>Nat King Cole</td>\n",
       "      <td>Time And The River</td>\n",
       "      <td>7vu51HpremcwWKhBhVccDB</td>\n",
       "      <td>1960.0</td>\n",
       "      <td>1960-03-21</td>\n",
       "      <td>1965-08-01</td>\n",
       "      <td>False</td>\n",
       "      <td>99.0</td>\n",
       "      <td>8.0</td>\n",
       "      <td>False</td>\n",
       "      <td>30.0</td>\n",
       "      <td>85.0</td>\n",
       "      <td>0.415</td>\n",
       "      <td>0.249</td>\n",
       "      <td>10</td>\n",
       "      <td>-13.619</td>\n",
       "      <td>1</td>\n",
       "      <td>0.0295</td>\n",
       "      <td>0.893</td>\n",
       "      <td>0.000008</td>\n",
       "      <td>0.1190</td>\n",
       "      <td>0.3520</td>\n",
       "      <td>83.912</td>\n",
       "      <td>4</td>\n",
       "      <td>139573</td>\n",
       "      <td>68</td>\n",
       "      <td>13</td>\n",
       "      <td>['adult standards', 'lounge', 'soul', 'vocal j...</td>\n",
       "      <td>Looking Back</td>\n",
       "      <td>CAPITOL CATALOG MKT (C92)</td>\n",
       "      <td>NaN</td>\n",
       "      <td>1</td>\n",
       "    </tr>\n",
       "    <tr>\n",
       "      <th>1</th>\n",
       "      <td>Keyshia Cole</td>\n",
       "      <td>Last Night</td>\n",
       "      <td>3Cn1FSSTXeQ7hCfrbizrD0</td>\n",
       "      <td>2007.0</td>\n",
       "      <td>2007-06-30</td>\n",
       "      <td>2007-01-01</td>\n",
       "      <td>True</td>\n",
       "      <td>39.0</td>\n",
       "      <td>22.0</td>\n",
       "      <td>False</td>\n",
       "      <td>10.0</td>\n",
       "      <td>31.0</td>\n",
       "      <td>0.916</td>\n",
       "      <td>0.849</td>\n",
       "      <td>3</td>\n",
       "      <td>-5.034</td>\n",
       "      <td>0</td>\n",
       "      <td>0.0639</td>\n",
       "      <td>0.166</td>\n",
       "      <td>0.000193</td>\n",
       "      <td>0.0859</td>\n",
       "      <td>0.9740</td>\n",
       "      <td>121.002</td>\n",
       "      <td>4</td>\n",
       "      <td>255773</td>\n",
       "      <td>71</td>\n",
       "      <td>57</td>\n",
       "      <td>['dance pop', 'deep pop r&amp;b', 'hip pop', 'neo ...</td>\n",
       "      <td>Just Like You</td>\n",
       "      <td>Geffen</td>\n",
       "      <td>Last night, I couldn't even get an answer\\nI t...</td>\n",
       "      <td>1</td>\n",
       "    </tr>\n",
       "    <tr>\n",
       "      <th>2</th>\n",
       "      <td>Jónsi</td>\n",
       "      <td>Around Us</td>\n",
       "      <td>1VYXp8Y1GUyY04wWhlAfeE</td>\n",
       "      <td>NaN</td>\n",
       "      <td>NaN</td>\n",
       "      <td>2010-11-29</td>\n",
       "      <td>False</td>\n",
       "      <td>NaN</td>\n",
       "      <td>NaN</td>\n",
       "      <td>NaN</td>\n",
       "      <td>NaN</td>\n",
       "      <td>NaN</td>\n",
       "      <td>0.324</td>\n",
       "      <td>0.641</td>\n",
       "      <td>3</td>\n",
       "      <td>-9.136</td>\n",
       "      <td>1</td>\n",
       "      <td>0.0411</td>\n",
       "      <td>0.105</td>\n",
       "      <td>0.009490</td>\n",
       "      <td>0.2290</td>\n",
       "      <td>0.0666</td>\n",
       "      <td>139.938</td>\n",
       "      <td>4</td>\n",
       "      <td>315120</td>\n",
       "      <td>55</td>\n",
       "      <td>13</td>\n",
       "      <td>['compositional ambient', 'icelandic pop', 'po...</td>\n",
       "      <td>Around Us</td>\n",
       "      <td>Parlophone UK</td>\n",
       "      <td>NaN</td>\n",
       "      <td>0</td>\n",
       "    </tr>\n",
       "    <tr>\n",
       "      <th>3</th>\n",
       "      <td>Cassowary</td>\n",
       "      <td>She Funked Me</td>\n",
       "      <td>5x6KuClP6lLCvgjXUbLKGb</td>\n",
       "      <td>NaN</td>\n",
       "      <td>NaN</td>\n",
       "      <td>2019-11-19</td>\n",
       "      <td>False</td>\n",
       "      <td>NaN</td>\n",
       "      <td>NaN</td>\n",
       "      <td>NaN</td>\n",
       "      <td>NaN</td>\n",
       "      <td>NaN</td>\n",
       "      <td>0.741</td>\n",
       "      <td>0.646</td>\n",
       "      <td>2</td>\n",
       "      <td>-6.897</td>\n",
       "      <td>0</td>\n",
       "      <td>0.0314</td>\n",
       "      <td>0.234</td>\n",
       "      <td>0.793000</td>\n",
       "      <td>0.0926</td>\n",
       "      <td>0.6160</td>\n",
       "      <td>118.018</td>\n",
       "      <td>4</td>\n",
       "      <td>221426</td>\n",
       "      <td>31</td>\n",
       "      <td>5</td>\n",
       "      <td>[]</td>\n",
       "      <td>She Funked Me</td>\n",
       "      <td>Fat Possum</td>\n",
       "      <td>NaN</td>\n",
       "      <td>0</td>\n",
       "    </tr>\n",
       "    <tr>\n",
       "      <th>4</th>\n",
       "      <td>Ludwig van Beethoven</td>\n",
       "      <td>Beethoven: Symphony No. 2 in D Major, Op. 36: ...</td>\n",
       "      <td>6WKXJwgtSdkDj3fRga7VWy</td>\n",
       "      <td>NaN</td>\n",
       "      <td>NaN</td>\n",
       "      <td>2003</td>\n",
       "      <td>True</td>\n",
       "      <td>NaN</td>\n",
       "      <td>NaN</td>\n",
       "      <td>NaN</td>\n",
       "      <td>NaN</td>\n",
       "      <td>NaN</td>\n",
       "      <td>0.326</td>\n",
       "      <td>0.187</td>\n",
       "      <td>2</td>\n",
       "      <td>-19.562</td>\n",
       "      <td>1</td>\n",
       "      <td>0.0459</td>\n",
       "      <td>0.918</td>\n",
       "      <td>0.651000</td>\n",
       "      <td>0.2660</td>\n",
       "      <td>0.3090</td>\n",
       "      <td>78.314</td>\n",
       "      <td>4</td>\n",
       "      <td>373280</td>\n",
       "      <td>74</td>\n",
       "      <td>34</td>\n",
       "      <td>['classical', 'classical era', 'early romantic...</td>\n",
       "      <td>Beethoven : Symphonies 1-9</td>\n",
       "      <td>Warner Classics</td>\n",
       "      <td>NaN</td>\n",
       "      <td>0</td>\n",
       "    </tr>\n",
       "  </tbody>\n",
       "</table>\n",
       "</div>"
      ],
      "text/plain": [
       "                 artist                                              title  \\\n",
       "0         Nat King Cole                                 Time And The River   \n",
       "1          Keyshia Cole                                         Last Night   \n",
       "2                 Jónsi                                          Around Us   \n",
       "3             Cassowary                                      She Funked Me   \n",
       "4  Ludwig van Beethoven  Beethoven: Symphony No. 2 in D Major, Op. 36: ...   \n",
       "\n",
       "                       id  year_chart  date_chart release_date  collaboration  \\\n",
       "0  7vu51HpremcwWKhBhVccDB      1960.0  1960-03-21   1965-08-01          False   \n",
       "1  3Cn1FSSTXeQ7hCfrbizrD0      2007.0  2007-06-30   2007-01-01           True   \n",
       "2  1VYXp8Y1GUyY04wWhlAfeE         NaN         NaN   2010-11-29          False   \n",
       "3  5x6KuClP6lLCvgjXUbLKGb         NaN         NaN   2019-11-19          False   \n",
       "4  6WKXJwgtSdkDj3fRga7VWy         NaN         NaN         2003           True   \n",
       "\n",
       "   rank  weeks  isNew  peakPos  lastPos  danceability  energy  key  loudness  \\\n",
       "0  99.0    8.0  False     30.0     85.0         0.415   0.249   10   -13.619   \n",
       "1  39.0   22.0  False     10.0     31.0         0.916   0.849    3    -5.034   \n",
       "2   NaN    NaN    NaN      NaN      NaN         0.324   0.641    3    -9.136   \n",
       "3   NaN    NaN    NaN      NaN      NaN         0.741   0.646    2    -6.897   \n",
       "4   NaN    NaN    NaN      NaN      NaN         0.326   0.187    2   -19.562   \n",
       "\n",
       "   mode  speechiness  acousticness  instrumentalness  liveness  valence  \\\n",
       "0     1       0.0295         0.893          0.000008    0.1190   0.3520   \n",
       "1     0       0.0639         0.166          0.000193    0.0859   0.9740   \n",
       "2     1       0.0411         0.105          0.009490    0.2290   0.0666   \n",
       "3     0       0.0314         0.234          0.793000    0.0926   0.6160   \n",
       "4     1       0.0459         0.918          0.651000    0.2660   0.3090   \n",
       "\n",
       "     tempo  time_signature  duration_ms  popularity_artist  popularity_song  \\\n",
       "0   83.912               4       139573                 68               13   \n",
       "1  121.002               4       255773                 71               57   \n",
       "2  139.938               4       315120                 55               13   \n",
       "3  118.018               4       221426                 31                5   \n",
       "4   78.314               4       373280                 74               34   \n",
       "\n",
       "                                              genres  \\\n",
       "0  ['adult standards', 'lounge', 'soul', 'vocal j...   \n",
       "1  ['dance pop', 'deep pop r&b', 'hip pop', 'neo ...   \n",
       "2  ['compositional ambient', 'icelandic pop', 'po...   \n",
       "3                                                 []   \n",
       "4  ['classical', 'classical era', 'early romantic...   \n",
       "\n",
       "                        album                      label  \\\n",
       "0                Looking Back  CAPITOL CATALOG MKT (C92)   \n",
       "1               Just Like You                     Geffen   \n",
       "2                   Around Us              Parlophone UK   \n",
       "3               She Funked Me                 Fat Possum   \n",
       "4  Beethoven : Symphonies 1-9            Warner Classics   \n",
       "\n",
       "                                         song_lyrics  target  \n",
       "0                                                NaN       1  \n",
       "1  Last night, I couldn't even get an answer\\nI t...       1  \n",
       "2                                                NaN       0  \n",
       "3                                                NaN       0  \n",
       "4                                                NaN       0  "
      ]
     },
     "execution_count": 18,
     "metadata": {},
     "output_type": "execute_result"
    }
   ],
   "source": [
    "df_songs.head()"
   ]
  },
  {
   "cell_type": "code",
   "execution_count": 19,
   "metadata": {},
   "outputs": [],
   "source": [
    "X = df_songs.loc[:,\"danceability\":\"duration_ms\"]\n",
    "y = df_songs.iloc[:,-1]\n",
    "X_train, X_test, y_train, y_test = train_test_split(X, y, random_state=0)"
   ]
  },
  {
   "cell_type": "markdown",
   "metadata": {},
   "source": [
    "Atendiendo a las características del dataset, y dado el tipo de problema tabular donde como se pudo observar en el cuaderno 1_hit_analysis.ipynb, tenemos hits que se mueven en un rango alto de valores para cada una de sus características, vemos con bastantes posibilidades de una buena predicción al uso de algoritmos *random forest*, a partir de este, iremos utilizando cada vez modelos más avanzados para ver si se consiguen unas mejores predicciones."
   ]
  },
  {
   "cell_type": "markdown",
   "metadata": {},
   "source": [
    "## Random Forest\n",
    "- Como se ha explicado, el primer modelo que usaremos de aprendizaje supervisado, es *random forest*"
   ]
  },
  {
   "cell_type": "code",
   "execution_count": 20,
   "metadata": {},
   "outputs": [],
   "source": [
    "from sklearn.ensemble import RandomForestClassifier"
   ]
  },
  {
   "cell_type": "markdown",
   "metadata": {},
   "source": [
    "- Probamos el modelo de *random forest* con la configuración por defecto dada por *sklearn*"
   ]
  },
  {
   "cell_type": "code",
   "execution_count": 21,
   "metadata": {},
   "outputs": [],
   "source": [
    "forest = RandomForestClassifier (random_state=42)"
   ]
  },
  {
   "cell_type": "code",
   "execution_count": 22,
   "metadata": {},
   "outputs": [
    {
     "name": "stdout",
     "output_type": "stream",
     "text": [
      "Wall time: 29.6 s\n"
     ]
    },
    {
     "data": {
      "text/plain": [
       "0.7461840041819132"
      ]
     },
     "execution_count": 22,
     "metadata": {},
     "output_type": "execute_result"
    }
   ],
   "source": [
    "%%time\n",
    "cross_val_score(forest,X_train,y_train,cv=5).mean()"
   ]
  },
  {
   "cell_type": "markdown",
   "metadata": {},
   "source": [
    "Vemos el *score* obtenido utilizando *cross validation* ya que sin usar esta tecnica, los modelos basados en arboles de decisión tenderan al sobrenetrenamiento y serán poco generalizables."
   ]
  },
  {
   "cell_type": "markdown",
   "metadata": {},
   "source": [
    "- La función anterior no almacena el entrenamiento generado, por ello entrenamos *random forest* con la configuración por defecto, pero ahora sobre todos los datos de entrenamiento. La idea en los siguientes pasos, será conseguir el mayor *score* posible usando *cross validation* y modificando los hiperparametros, una vez obtenido el mejor *score*, se entrenará el modelo con todo el dataset de entrenamiento."
   ]
  },
  {
   "cell_type": "code",
   "execution_count": 23,
   "metadata": {},
   "outputs": [
    {
     "data": {
      "text/plain": [
       "RandomForestClassifier(bootstrap=True, ccp_alpha=0.0, class_weight=None,\n",
       "                       criterion='gini', max_depth=None, max_features='auto',\n",
       "                       max_leaf_nodes=None, max_samples=None,\n",
       "                       min_impurity_decrease=0.0, min_impurity_split=None,\n",
       "                       min_samples_leaf=1, min_samples_split=2,\n",
       "                       min_weight_fraction_leaf=0.0, n_estimators=100,\n",
       "                       n_jobs=None, oob_score=False, random_state=42, verbose=0,\n",
       "                       warm_start=False)"
      ]
     },
     "execution_count": 23,
     "metadata": {},
     "output_type": "execute_result"
    }
   ],
   "source": [
    "forest.fit(X_train,y_train)"
   ]
  },
  {
   "cell_type": "code",
   "execution_count": 24,
   "metadata": {},
   "outputs": [
    {
     "name": "stdout",
     "output_type": "stream",
     "text": [
      "Precisión sobre datos de pruebas: 0.7459\n",
      "Precisión sobre datos de train: 0.9996\n"
     ]
    }
   ],
   "source": [
    "print(\"Precisión sobre datos de pruebas: {:.4f}\"\n",
    "      .format(forest.score(X_test, y_test)))\n",
    "print(\"Precisión sobre datos de train: {:.4f}\"\n",
    "      .format(forest.score(X_train, y_train)))"
   ]
  },
  {
   "cell_type": "markdown",
   "metadata": {},
   "source": [
    "Como se ha comentado, los modelos basados en árboles de decisión tenderán al sobreentrenamiento, por lo que la mejor manera es configurarlos utilizando las técnicas de *cross validation* y obtener el mayor *score* posible, que aunque los resultados obtenidos con todo el dataset de entrenamiento den más bajos, sean modelos más generalizables."
   ]
  },
  {
   "cell_type": "markdown",
   "metadata": {},
   "source": [
    "- El número de estimadores influencia bastante en la rapidez de entrenamiento del modelo, ya que indica el número de árboles usados en el modelo, pero este valor no debe de ser excesivamente alto para obtener un buen *score*. Para ello calcularemos el *score* para diferentes números de estimadores con un *cross val* de 5 que es el que toma por defecto la función, y analizaremos los resultados obtenidos."
   ]
  },
  {
   "cell_type": "code",
   "execution_count": 12,
   "metadata": {},
   "outputs": [],
   "source": [
    "param_range = [30,40,50,60,90,100,130,150,200,300]\n",
    "train_score, test_score= validation_curve(\n",
    "                                forest,\n",
    "                                X = X_train, y = y_train, \n",
    "                                param_name = 'n_estimators', \n",
    "                               param_range=param_range,\n",
    "                                scoring=\"accuracy\")"
   ]
  },
  {
   "cell_type": "code",
   "execution_count": 13,
   "metadata": {},
   "outputs": [
    {
     "name": "stdout",
     "output_type": "stream",
     "text": [
      "Numero de estimadores para un Cross_val 5 (test) y para todo dataset de entrenamiento (train)\n",
      "n_estimators 30 en test: 0.7350757971772085 en train: 0.9988630423418714\n",
      "n_estimators 40 en test: 0.7382645060115003 en train: 0.9992877679038161\n",
      "n_estimators 50 en test: 0.7411134343962363 en train: 0.9995230005227391\n",
      "n_estimators 60 en test: 0.7408782017773131 en train: 0.9995360690015682\n",
      "n_estimators 90 en test: 0.7460794563512807 en train: 0.9996079456351282\n",
      "n_estimators 100 en test: 0.7440146366962885 en train: 0.9996144798745427\n",
      "n_estimators 130 en test: 0.7479874542603241 en train: 0.9996144798745427\n",
      "n_estimators 150 en test: 0.7462885520125457 en train: 0.9996144798745427\n",
      "n_estimators 200 en test: 0.7467328802927339 en train: 0.9996144798745427\n",
      "n_estimators 300 en test: 0.7485363303711446 en train: 0.9996144798745427\n"
     ]
    }
   ],
   "source": [
    "print(\"Numero de estimadores para un Cross_val 5 (test) y para todo dataset de entrenamiento (train)\")\n",
    "print ('n_estimators 30 en test:',test_score[0].mean(),'en train:',train_score[0].mean())\n",
    "print ('n_estimators 40 en test:',test_score[1].mean(),'en train:',train_score[1].mean())\n",
    "print ('n_estimators 50 en test:',test_score[2].mean(),'en train:',train_score[2].mean())\n",
    "print ('n_estimators 60 en test:',test_score[3].mean(),'en train:',train_score[3].mean())\n",
    "print ('n_estimators 90 en test:',test_score[4].mean(),'en train:',train_score[4].mean())\n",
    "print ('n_estimators 100 en test:',test_score[5].mean(),'en train:',train_score[5].mean())\n",
    "print ('n_estimators 130 en test:',test_score[6].mean(),'en train:',train_score[6].mean())\n",
    "print ('n_estimators 150 en test:',test_score[7].mean(),'en train:',train_score[7].mean())\n",
    "print ('n_estimators 200 en test:',test_score[8].mean(),'en train:',train_score[8].mean())\n",
    "print ('n_estimators 300 en test:',test_score[9].mean(),'en train:',train_score[9].mean())"
   ]
  },
  {
   "cell_type": "markdown",
   "metadata": {},
   "source": [
    "Tomando el valor medio de cada resultado, ya que por cada prueba obtendremos 5 resultados que son las 5 partes en las que se divide el dataset, según lo indicado con un *cross val* de 5. Vemos que aumentando el numero de estimadores las mejoras en el modelo son casi imperceptibles, se mantienen casi constante con pequeñas oscilaciones, incluso bajando el *score* de los resultados en test en algunos casos. Por lo que para entrenamientos del modelo no suele ser necesario un uso muy alto del número de estimadores que lo único que harán es aumentar el tiempo de entrenamiento."
   ]
  },
  {
   "cell_type": "code",
   "execution_count": 14,
   "metadata": {},
   "outputs": [
    {
     "data": {
      "image/png": "[encoded data removed]",
      "text/plain": [
       "<Figure size 576x432 with 1 Axes>"
      ]
     },
     "metadata": {
      "needs_background": "light"
     },
     "output_type": "display_data"
    }
   ],
   "source": [
    "train_scores_mean = np.mean(train_score, axis=1)\n",
    "train_scores_std = np.std(train_score, axis=1)\n",
    "test_scores_mean = np.mean(test_score, axis=1)\n",
    "test_scores_std = np.std(test_score, axis=1)\n",
    "\n",
    "plt.title(\"Curva de validación con RandomForest\")\n",
    "plt.xlabel(r\"$\\gamma$\")\n",
    "plt.ylabel(\"Score\")\n",
    "plt.ylim(0.6, 1.1)\n",
    "lw = 2\n",
    "plt.semilogx(param_range, train_scores_mean, label=\"Training score\",\n",
    "             color=\"darkorange\", lw=lw)\n",
    "plt.fill_between(param_range, train_scores_mean - train_scores_std,\n",
    "                 train_scores_mean + train_scores_std, alpha=0.2,\n",
    "                 color=\"darkorange\", lw=lw)\n",
    "plt.semilogx(param_range, test_scores_mean, label=\"Cross-validation score\",\n",
    "             color=\"navy\", lw=lw)\n",
    "plt.fill_between(param_range, test_scores_mean - test_scores_std,\n",
    "                 test_scores_mean + test_scores_std, alpha=0.2,\n",
    "                 color=\"navy\", lw=lw)\n",
    "plt.legend(loc=\"best\")\n",
    "plt.show()"
   ]
  },
  {
   "cell_type": "markdown",
   "metadata": {},
   "source": [
    "Aqui observamos graficamente los resultados obtenidos anteriormente."
   ]
  },
  {
   "cell_type": "markdown",
   "metadata": {},
   "source": [
    "- A continuación, vamos a tratar de mejorar el *score* de nuestro modelo y para ello usaremos la función de RandomizedSearchCV que dado unos rangos en los parámetros que indicaremos a continuación, ira probando combinaciones aleatorias hasta un número de pruebas elegido por nosotros. También existe la técnica de Gridsearch que prueba todas las combinaciones, pero esto haría que el proceso durase varios días, o definir un rango de valores más pequeño, es complejo poder afinar en un rango pequeño que nos dé buenos resultados, por lo que usamos esta técnica para tratar de encontrar una buena combinación de hiperparametros. La siguiente prueba ha llevado un total de 478.4 min"
   ]
  },
  {
   "cell_type": "code",
   "execution_count": 15,
   "metadata": {},
   "outputs": [],
   "source": [
    "forest = RandomForestClassifier (random_state=42)"
   ]
  },
  {
   "cell_type": "code",
   "execution_count": 18,
   "metadata": {},
   "outputs": [
    {
     "name": "stdout",
     "output_type": "stream",
     "text": [
      "{'n_estimators': [30, 43, 56, 70, 83, 96, 110, 123, 136, 150], 'max_features': [1, 2, 3, 4, 5, 6, 7, 8, 9, 10, 11, 12, 13, 'auto'], 'max_depth': [10, 20, 30, 40, 50, 60, 70, 80, 90, 100, 110, None], 'min_samples_split': [2, 5, 10], 'min_samples_leaf': [1, 2, 3, 4, 5], 'max_leaf_nodes': [10, 15, 20, 25, 30, 35, 40, 45, 50, 55, 60, 65, 70, 75, 80, 85, 90, 95, 100, None]}\n"
     ]
    }
   ],
   "source": [
    "# Numero de arboles del bosque\n",
    "n_estimators = [int(x) for x in np.linspace(start = 30, stop = 150, num = 10)]\n",
    "# Numero de caracteristicas proporcionadas a cada arbol\n",
    "max_features = [1,2,3,4,5,6,7,8,9,10,11,12,13]\n",
    "max_features.append('auto')\n",
    "# Profundidad de arbol\n",
    "max_depth = [int(x) for x in np.linspace(10, 110, num = 11)]\n",
    "max_depth.append(None)\n",
    "# Minimo valor para separar en subnodos\n",
    "min_samples_split = [2, 5, 10]\n",
    "# Minimo numero de muestras necesarias en hoja despues de dividir\n",
    "min_samples_leaf = [1, 2,3, 4, 5]\n",
    "# Numero maximo de nodos finales\n",
    "max_leaf_nodes = [int(x) for x in np.linspace(10, 100, num = 19)]\n",
    "max_leaf_nodes.append(None)\n",
    "# Creacion de cuadrícula aleatoria\n",
    "param_grid = {'n_estimators': n_estimators,\n",
    "               'max_features': max_features,\n",
    "               'max_depth': max_depth,\n",
    "               'min_samples_split': min_samples_split,\n",
    "               'min_samples_leaf': min_samples_leaf,\n",
    "               \"max_leaf_nodes\": max_leaf_nodes}\n",
    "print(param_grid)"
   ]
  },
  {
   "cell_type": "markdown",
   "metadata": {},
   "source": [
    "Seleccionamos para la prueba un *cross val* de 5, definimos random_state, cantidad de mensajes que salga y uso de todas las CPUs disponibles."
   ]
  },
  {
   "cell_type": "code",
   "execution_count": 19,
   "metadata": {},
   "outputs": [],
   "source": [
    "forest_random = RandomizedSearchCV(estimator = forest, param_distributions = param_grid, n_iter = 3500, cv = 5, verbose=2, random_state=42, n_jobs = -1)"
   ]
  },
  {
   "cell_type": "code",
   "execution_count": 20,
   "metadata": {},
   "outputs": [
    {
     "name": "stdout",
     "output_type": "stream",
     "text": [
      "Fitting 5 folds for each of 3500 candidates, totalling 17500 fits\n"
     ]
    },
    {
     "name": "stderr",
     "output_type": "stream",
     "text": [
      "[Parallel(n_jobs=-1)]: Using backend LokyBackend with 8 concurrent workers.\n",
      "[Parallel(n_jobs=-1)]: Done  25 tasks      | elapsed:  1.4min\n",
      "[Parallel(n_jobs=-1)]: Done 146 tasks      | elapsed:  5.4min\n",
      "[Parallel(n_jobs=-1)]: Done 349 tasks      | elapsed: 10.4min\n",
      "[Parallel(n_jobs=-1)]: Done 632 tasks      | elapsed: 17.0min\n",
      "[Parallel(n_jobs=-1)]: Done 997 tasks      | elapsed: 27.9min\n",
      "[Parallel(n_jobs=-1)]: Done 1442 tasks      | elapsed: 41.9min\n",
      "[Parallel(n_jobs=-1)]: Done 1969 tasks      | elapsed: 56.5min\n",
      "[Parallel(n_jobs=-1)]: Done 2576 tasks      | elapsed: 72.3min\n",
      "[Parallel(n_jobs=-1)]: Done 3265 tasks      | elapsed: 91.4min\n",
      "[Parallel(n_jobs=-1)]: Done 4034 tasks      | elapsed: 112.8min\n",
      "[Parallel(n_jobs=-1)]: Done 4885 tasks      | elapsed: 135.6min\n",
      "[Parallel(n_jobs=-1)]: Done 5816 tasks      | elapsed: 159.6min\n",
      "[Parallel(n_jobs=-1)]: Done 6829 tasks      | elapsed: 185.4min\n",
      "[Parallel(n_jobs=-1)]: Done 7922 tasks      | elapsed: 214.2min\n",
      "[Parallel(n_jobs=-1)]: Done 9097 tasks      | elapsed: 245.8min\n",
      "[Parallel(n_jobs=-1)]: Done 10352 tasks      | elapsed: 280.6min\n",
      "[Parallel(n_jobs=-1)]: Done 11689 tasks      | elapsed: 319.7min\n",
      "[Parallel(n_jobs=-1)]: Done 13106 tasks      | elapsed: 357.0min\n",
      "[Parallel(n_jobs=-1)]: Done 14605 tasks      | elapsed: 398.4min\n",
      "[Parallel(n_jobs=-1)]: Done 16184 tasks      | elapsed: 443.8min\n",
      "[Parallel(n_jobs=-1)]: Done 17500 out of 17500 | elapsed: 478.4min finished\n"
     ]
    },
    {
     "data": {
      "text/plain": [
       "RandomizedSearchCV(cv=5, error_score=nan,\n",
       "                   estimator=RandomForestClassifier(bootstrap=True,\n",
       "                                                    ccp_alpha=0.0,\n",
       "                                                    class_weight=None,\n",
       "                                                    criterion='gini',\n",
       "                                                    max_depth=None,\n",
       "                                                    max_features='auto',\n",
       "                                                    max_leaf_nodes=None,\n",
       "                                                    max_samples=None,\n",
       "                                                    min_impurity_decrease=0.0,\n",
       "                                                    min_impurity_split=None,\n",
       "                                                    min_samples_leaf=1,\n",
       "                                                    min_samples_split=2,\n",
       "                                                    min_weight_fraction_leaf=0.0,\n",
       "                                                    n_estimators=100,\n",
       "                                                    n_jobs...\n",
       "                                                      None],\n",
       "                                        'max_features': [1, 2, 3, 4, 5, 6, 7, 8,\n",
       "                                                         9, 10, 11, 12, 13,\n",
       "                                                         'auto'],\n",
       "                                        'max_leaf_nodes': [10, 15, 20, 25, 30,\n",
       "                                                           35, 40, 45, 50, 55,\n",
       "                                                           60, 65, 70, 75, 80,\n",
       "                                                           85, 90, 95, 100,\n",
       "                                                           None],\n",
       "                                        'min_samples_leaf': [1, 2, 3, 4, 5],\n",
       "                                        'min_samples_split': [2, 5, 10],\n",
       "                                        'n_estimators': [30, 43, 56, 70, 83, 96,\n",
       "                                                         110, 123, 136, 150]},\n",
       "                   pre_dispatch='2*n_jobs', random_state=42, refit=True,\n",
       "                   return_train_score=False, scoring=None, verbose=2)"
      ]
     },
     "execution_count": 20,
     "metadata": {},
     "output_type": "execute_result"
    }
   ],
   "source": [
    "forest_random.fit(X_train, y_train)"
   ]
  },
  {
   "cell_type": "markdown",
   "metadata": {},
   "source": [
    "- A continuación se puede ver la mejor configuración encontrada para las iteraciones probadas y el *score* obtenido para esa configuración."
   ]
  },
  {
   "cell_type": "code",
   "execution_count": 21,
   "metadata": {},
   "outputs": [
    {
     "data": {
      "text/plain": [
       "{'n_estimators': 123,\n",
       " 'min_samples_split': 2,\n",
       " 'min_samples_leaf': 4,\n",
       " 'max_leaf_nodes': None,\n",
       " 'max_features': 4,\n",
       " 'max_depth': 20}"
      ]
     },
     "execution_count": 21,
     "metadata": {},
     "output_type": "execute_result"
    }
   ],
   "source": [
    "forest_random.best_params_"
   ]
  },
  {
   "cell_type": "code",
   "execution_count": 22,
   "metadata": {},
   "outputs": [
    {
     "data": {
      "text/plain": [
       "0.7483272347098797"
      ]
     },
     "execution_count": 22,
     "metadata": {},
     "output_type": "execute_result"
    }
   ],
   "source": [
    "forest_random.best_score_"
   ]
  },
  {
   "cell_type": "markdown",
   "metadata": {},
   "source": [
    "Respecto de la configuración por defecto donde se obtenía un *score* de 0.746 hemos conseguido una mejoría muy pequeña. Tomaremos esta nueva configuración la que mejor ha clasificado para nuestro dataset de entrenamiento."
   ]
  },
  {
   "cell_type": "markdown",
   "metadata": {},
   "source": [
    "- La siguiente gráfica es bastante interesante, ya que muestra la importancia de las características predictivas respecto de otras, es importante tener en cuenta esto, ya que las características que tengan poca importancia, lo son, pero respecto de las otras, lo que no quiere decir que si eliminamos estas de los entrenamientos se mantengan unos *scores* como los que hemos obtenido o que mejore la predicción del modelo."
   ]
  },
  {
   "cell_type": "code",
   "execution_count": 23,
   "metadata": {},
   "outputs": [],
   "source": [
    "best_forest = forest_random.best_estimator_"
   ]
  },
  {
   "cell_type": "code",
   "execution_count": 24,
   "metadata": {},
   "outputs": [
    {
     "data": {
      "image/png": "[encoded data removed]",
      "text/plain": [
       "<Figure size 576x432 with 1 Axes>"
      ]
     },
     "metadata": {
      "needs_background": "light"
     },
     "output_type": "display_data"
    }
   ],
   "source": [
    "plt.barh(df_songs.loc[:,\"danceability\":\"duration_ms\"].columns, best_forest.feature_importances_);"
   ]
  },
  {
   "cell_type": "markdown",
   "metadata": {},
   "source": [
    "- Con la mejor configuración obtenida, entrenamos el modelo con todo el dataset de entrenamiento y vemos resultados obtenidos, tanto con los datos de entrenamiento como con los de test."
   ]
  },
  {
   "cell_type": "code",
   "execution_count": 25,
   "metadata": {},
   "outputs": [
    {
     "data": {
      "text/plain": [
       "RandomForestClassifier(bootstrap=True, ccp_alpha=0.0, class_weight=None,\n",
       "                       criterion='gini', max_depth=20, max_features=4,\n",
       "                       max_leaf_nodes=None, max_samples=None,\n",
       "                       min_impurity_decrease=0.0, min_impurity_split=None,\n",
       "                       min_samples_leaf=4, min_samples_split=2,\n",
       "                       min_weight_fraction_leaf=0.0, n_estimators=123,\n",
       "                       n_jobs=None, oob_score=False, random_state=42, verbose=0,\n",
       "                       warm_start=False)"
      ]
     },
     "execution_count": 25,
     "metadata": {},
     "output_type": "execute_result"
    }
   ],
   "source": [
    "best_forest.fit(X_train,y_train)"
   ]
  },
  {
   "cell_type": "code",
   "execution_count": 26,
   "metadata": {},
   "outputs": [
    {
     "name": "stdout",
     "output_type": "stream",
     "text": [
      "Precisión sobre datos de pruebas: 0.7478\n",
      "Precisión sobre datos de train: 0.9225\n"
     ]
    }
   ],
   "source": [
    "print(\"Precisión sobre datos de pruebas: {:.4f}\"\n",
    "      .format(best_forest.score(X_test, y_test)))\n",
    "print(\"Precisión sobre datos de train: {:.4f}\"\n",
    "      .format(best_forest.score(X_train, y_train)))"
   ]
  },
  {
   "cell_type": "markdown",
   "metadata": {},
   "source": [
    "Podemos ver como el *score* con los datos de entrenamiento, ha decrecido con respecto al modelo inicial, pero en cambio hemos mejorado ligeramente el resultado sobre los resultados de test, en este caso 0.002 muy poco, pero hemos encontrado un modelo más generalizable capaz de predecir que veremos como se comporta en el cuaderno 4 con nuevos datos."
   ]
  },
  {
   "cell_type": "markdown",
   "metadata": {},
   "source": [
    "- En este punto almacenaremos nuestro modelo obtenido, para su posterior uso"
   ]
  },
  {
   "cell_type": "code",
   "execution_count": 27,
   "metadata": {},
   "outputs": [],
   "source": [
    "filename = '../Models/forest_model_random.pkl'"
   ]
  },
  {
   "cell_type": "code",
   "execution_count": 28,
   "metadata": {},
   "outputs": [
    {
     "data": {
      "text/plain": [
       "['../Models/forest_model_random.pkl']"
      ]
     },
     "execution_count": 28,
     "metadata": {},
     "output_type": "execute_result"
    }
   ],
   "source": [
    "joblib.dump(best_forest, filename)"
   ]
  },
  {
   "cell_type": "code",
   "execution_count": 29,
   "metadata": {},
   "outputs": [],
   "source": [
    "best_forest = joblib.load(filename) "
   ]
  },
  {
   "cell_type": "markdown",
   "metadata": {},
   "source": [
    "- Por último representamos la curva ROC para ver de manera visual lo bueno que es nuestro modelo obtenido"
   ]
  },
  {
   "cell_type": "code",
   "execution_count": 30,
   "metadata": {},
   "outputs": [
    {
     "data": {
      "image/png": "[encoded data removed]",
      "text/plain": [
       "<Figure size 576x432 with 1 Axes>"
      ]
     },
     "metadata": {
      "needs_background": "light"
     },
     "output_type": "display_data"
    }
   ],
   "source": [
    "probs = best_forest.predict_proba(X_test)\n",
    "preds = probs[:,1]\n",
    "fpr, tpr, threshold = metrics.roc_curve(y_test, preds)\n",
    "roc_auc = metrics.auc(fpr, tpr)\n",
    "\n",
    "plt.title('Receiver Operating Characteristic')\n",
    "plt.plot(fpr, tpr, 'b', label = 'AUC = %0.2f' % roc_auc)\n",
    "plt.legend(loc = 'lower right')\n",
    "plt.plot([0, 1], [0, 1],'r--')\n",
    "plt.xlim([0, 1])\n",
    "plt.ylim([0, 1])\n",
    "plt.ylabel('True Positive Rate')\n",
    "plt.xlabel('False Positive Rate')\n",
    "plt.show()"
   ]
  },
  {
   "cell_type": "markdown",
   "metadata": {},
   "source": [
    "Como se puede observar tenemos para este modelo un AUC=0.83, por lo que podemos hablar de un buen clasificador con buena discriminación."
   ]
  },
  {
   "cell_type": "markdown",
   "metadata": {},
   "source": [
    "- Utilizando la función definida al principio del cuaderno, podemos hacer predicciones sobre cualquier canción de interés."
   ]
  },
  {
   "cell_type": "code",
   "execution_count": 61,
   "metadata": {},
   "outputs": [
    {
     "name": "stdout",
     "output_type": "stream",
     "text": [
      "Artista: "
     ]
    },
    {
     "name": "stdin",
     "output_type": "stream",
     "text": [
      " billie\n"
     ]
    },
    {
     "name": "stdout",
     "output_type": "stream",
     "text": [
      "Titulo: "
     ]
    },
    {
     "name": "stdin",
     "output_type": "stream",
     "text": [
      " bad guy\n"
     ]
    },
    {
     "name": "stdout",
     "output_type": "stream",
     "text": [
      "Canción elegida: bad guy de Billie Eilish\n",
      "porcentaje de ser hit: 54.12948614168127\n"
     ]
    }
   ],
   "source": [
    "score = best_forest.predict_proba(find_song())\n",
    "print('porcentaje de ser hit:', score[0][1]*100)"
   ]
  },
  {
   "cell_type": "markdown",
   "metadata": {},
   "source": [
    "## AdaBoost\n",
    "-  El segundo modelo que vamos a utilizar es AdaBoost que utiliza las técnicas de *boosting*, un modelo más avanzado que el anterior. "
   ]
  },
  {
   "cell_type": "code",
   "execution_count": 25,
   "metadata": {},
   "outputs": [],
   "source": [
    "from sklearn.ensemble import AdaBoostClassifier"
   ]
  },
  {
   "cell_type": "code",
   "execution_count": 26,
   "metadata": {},
   "outputs": [],
   "source": [
    "ada_clf = AdaBoostClassifier(random_state=42)"
   ]
  },
  {
   "cell_type": "markdown",
   "metadata": {},
   "source": [
    "- El proceso llevado a cabo es similar al del modelo anterior, veremos como funciona el modelo con la configuración por defecto y trataremos de buscar una mejor configuración de hiperparametros que nos haga tener unos mejores resultados utilizando *cross validation* y un modelo más generalizable."
   ]
  },
  {
   "cell_type": "code",
   "execution_count": 27,
   "metadata": {},
   "outputs": [
    {
     "name": "stdout",
     "output_type": "stream",
     "text": [
      "Wall time: 7.09 s\n"
     ]
    },
    {
     "data": {
      "text/plain": [
       "0.7145582854155776"
      ]
     },
     "execution_count": 27,
     "metadata": {},
     "output_type": "execute_result"
    }
   ],
   "source": [
    "%%time\n",
    "cross_val_score(ada_clf,X_train,y_train,cv=5).mean()"
   ]
  },
  {
   "cell_type": "code",
   "execution_count": 28,
   "metadata": {},
   "outputs": [
    {
     "data": {
      "text/plain": [
       "AdaBoostClassifier(algorithm='SAMME.R', base_estimator=None, learning_rate=1.0,\n",
       "                   n_estimators=50, random_state=42)"
      ]
     },
     "execution_count": 28,
     "metadata": {},
     "output_type": "execute_result"
    }
   ],
   "source": [
    "ada_clf.fit(X_train,y_train)"
   ]
  },
  {
   "cell_type": "code",
   "execution_count": 29,
   "metadata": {},
   "outputs": [
    {
     "name": "stdout",
     "output_type": "stream",
     "text": [
      "Precisión sobre el juego de pruebas: 0.7137\n",
      "Precisión sobre el juego de train: 0.7204\n"
     ]
    }
   ],
   "source": [
    "print(\"Precisión sobre el juego de pruebas: {:.4f}\"\n",
    "      .format(ada_clf.score(X_test, y_test)))\n",
    "print(\"Precisión sobre el juego de train: {:.4f}\"\n",
    "      .format(ada_clf.score(X_train, y_train)))"
   ]
  },
  {
   "cell_type": "markdown",
   "metadata": {},
   "source": [
    "Como se puede observar, el modelo no es muy bueno con la configuración por defecto con respecto a *random forest*"
   ]
  },
  {
   "cell_type": "markdown",
   "metadata": {},
   "source": [
    "- Vamos a analizar como influye el número de estimadores al modelo"
   ]
  },
  {
   "cell_type": "code",
   "execution_count": 36,
   "metadata": {},
   "outputs": [],
   "source": [
    "param_range = [25,30,40,50,60,90,100,130]\n",
    "train_score, test_score= validation_curve(\n",
    "                                ada_clf,\n",
    "                                X = X_train, y = y_train, \n",
    "                                param_name = 'n_estimators', \n",
    "                               param_range=param_range,\n",
    "                                scoring=\"accuracy\")"
   ]
  },
  {
   "cell_type": "code",
   "execution_count": 37,
   "metadata": {},
   "outputs": [
    {
     "name": "stdout",
     "output_type": "stream",
     "text": [
      "Numero de estimadores para un Cross_val 5 (test) y para todo dataset de entrenamiento (train)\n",
      "n_estimators 25 en test: 0.7041557762676425 en train : 0.7100823314166231\n",
      "n_estimators 30 en test: 0.7046001045478307 en train: 0.712107945635128\n",
      "n_estimators 40 en test: 0.7107422895974909 en train: 0.7183677469942499\n",
      "n_estimators 50 en test: 0.7145582854155776 en train: 0.7216806063774176\n",
      "n_estimators 60 en test: 0.7166753789858861 en train: 0.7242093570308417\n",
      "n_estimators 90 en test: 0.7180345007841088 en train: 0.7269537375849451\n",
      "n_estimators 100 en test: 0.7186617877679039 en train: 0.7276071615263984\n",
      "n_estimators 130 en test: 0.7197334030318872 en train: 0.7299856246732881\n"
     ]
    }
   ],
   "source": [
    "print(\"Numero de estimadores para un Cross_val 5 (test) y para todo dataset de entrenamiento (train)\")\n",
    "print ('n_estimators 25 en test:',test_score[0].mean(),'en train :',train_score[0].mean())\n",
    "print ('n_estimators 30 en test:',test_score[1].mean(),'en train:',train_score[1].mean())\n",
    "print ('n_estimators 40 en test:',test_score[2].mean(),'en train:',train_score[2].mean())\n",
    "print ('n_estimators 50 en test:',test_score[3].mean(),'en train:',train_score[3].mean())\n",
    "print ('n_estimators 60 en test:',test_score[4].mean(),'en train:',train_score[4].mean())\n",
    "print ('n_estimators 90 en test:',test_score[5].mean(),'en train:',train_score[5].mean())\n",
    "print ('n_estimators 100 en test:',test_score[6].mean(),'en train:',train_score[6].mean())\n",
    "print ('n_estimators 130 en test:',test_score[7].mean(),'en train:',train_score[7].mean())"
   ]
  },
  {
   "cell_type": "markdown",
   "metadata": {},
   "source": [
    "- Definimos *Grid* de parámetros para buscar la mejor combinación "
   ]
  },
  {
   "cell_type": "code",
   "execution_count": 15,
   "metadata": {},
   "outputs": [
    {
     "name": "stdout",
     "output_type": "stream",
     "text": [
      "{'n_estimators': [30, 43, 56, 70, 83, 96, 110, 123, 136, 150], 'algorithm': ['SAMME', 'SAMME.R'], 'learning_rate': [0.05, 0.1, 0.15, 0.2, 0.25, 0.3, 0.35, 0.4, 0.45, 0.5, 0.55, 0.6, 0.65, 0.7, 0.75, 0.8, 0.85, 0.9, 0.95, 1.0], 'base_estimator__max_features': [1, 2, 3, 4, 5, 6, 7, 8, 9, 10, 11, 12, 13, 'auto'], 'base_estimator__max_depth': [10, 20, 30, 40, 50, 60, 70, 80, 90, 100, 110, None], 'base_estimator__min_samples_split': [2, 5, 10], 'base_estimator__min_samples_leaf': [1, 2, 3, 4, 5], 'base_estimator__max_leaf_nodes': [10, 15, 20, 25, 30, 35, 40, 45, 50, 55, 60, 65, 70, 75, 80, 85, 90, 95, 100, None]}\n"
     ]
    }
   ],
   "source": [
    "# Numero de arboles del bosque\n",
    "n_estimators = [int(x) for x in np.linspace(start = 30, stop = 150, num = 10)]\n",
    "# Numero de caracteristicas proporcionadas a cada arbol\n",
    "max_features = [1,2,3,4,5,6,7,8,9,10,11,12,13]\n",
    "max_features.append('auto')\n",
    "# Profundidad de arbol\n",
    "max_depth = [int(x) for x in np.linspace(10, 110, num = 11)]\n",
    "max_depth.append(None)\n",
    "# Minimo valor para separar en subnodos\n",
    "min_samples_split = [2, 5, 10]\n",
    "# Minimo numero de muestras necesarias en hoja despues de dividir\n",
    "min_samples_leaf = [1, 2,3, 4, 5]\n",
    "# Numero maximo de nodos finales\n",
    "max_leaf_nodes = [int(x) for x in np.linspace(10, 100, num = 19)]\n",
    "max_leaf_nodes.append(None)\n",
    "#Algoritmo de implementacion\n",
    "algorithm = ['SAMME', 'SAMME.R']\n",
    "learning_rate = [round(float(x),2) for x in np.linspace(0.05, 1., num = 20)]\n",
    "# Numero de muestras maximo que se le asigna a cada arbol\n",
    "# max_samples\n",
    "# Creacion de cuadrícula aleatoria\n",
    "param_grid = {'n_estimators': n_estimators,\n",
    "               'algorithm': algorithm,\n",
    "              'learning_rate':learning_rate,\n",
    "               'base_estimator__max_features': max_features,\n",
    "               'base_estimator__max_depth': max_depth,\n",
    "               'base_estimator__min_samples_split': min_samples_split,\n",
    "               'base_estimator__min_samples_leaf': min_samples_leaf,\n",
    "               \"base_estimator__max_leaf_nodes\": max_leaf_nodes}\n",
    "print(param_grid)"
   ]
  },
  {
   "cell_type": "markdown",
   "metadata": {},
   "source": [
    "- AdaBoost utiliza las técnicas de boosting por defecto sobre árboles de decisión, pero se podría aplicar boosting sobre cualquier estimador, como modelos lineales e incluso redes neuronales. Para este tipo de problemas tabulares lo mejor es usar árboles de decisión. Para hacer el *randomSearch*, ya que vamos a modificar tanto parámetros del modelo adaBoost como del árbol de decisión es necesario pasarle el modelo del estimador base que aunque por defecto sea árbol de decisión si no lo indicamos no podremos hacer un randomSearch sobre el árbol también."
   ]
  },
  {
   "cell_type": "code",
   "execution_count": 16,
   "metadata": {},
   "outputs": [],
   "source": [
    "from sklearn.tree import DecisionTreeClassifier"
   ]
  },
  {
   "cell_type": "code",
   "execution_count": 17,
   "metadata": {},
   "outputs": [],
   "source": [
    "base_estimator = DecisionTreeClassifier(random_state=42)\n",
    "ada_clf = AdaBoostClassifier(base_estimator=base_estimator, random_state=42)"
   ]
  },
  {
   "cell_type": "code",
   "execution_count": 18,
   "metadata": {},
   "outputs": [],
   "source": [
    "ada_random = RandomizedSearchCV(estimator = ada_clf, param_distributions = param_grid, n_iter = 3250, cv = 5, verbose=2, random_state=42, n_jobs = -1)"
   ]
  },
  {
   "cell_type": "code",
   "execution_count": 19,
   "metadata": {},
   "outputs": [
    {
     "name": "stdout",
     "output_type": "stream",
     "text": [
      "Fitting 5 folds for each of 3250 candidates, totalling 16250 fits\n"
     ]
    },
    {
     "name": "stderr",
     "output_type": "stream",
     "text": [
      "[Parallel(n_jobs=-1)]: Using backend LokyBackend with 8 concurrent workers.\n",
      "[Parallel(n_jobs=-1)]: Done  25 tasks      | elapsed:  1.5min\n",
      "[Parallel(n_jobs=-1)]: Done 146 tasks      | elapsed:  5.7min\n",
      "[Parallel(n_jobs=-1)]: Done 349 tasks      | elapsed: 13.4min\n",
      "[Parallel(n_jobs=-1)]: Done 632 tasks      | elapsed: 26.8min\n",
      "[Parallel(n_jobs=-1)]: Done 997 tasks      | elapsed: 40.7min\n",
      "[Parallel(n_jobs=-1)]: Done 1442 tasks      | elapsed: 59.6min\n",
      "[Parallel(n_jobs=-1)]: Done 1969 tasks      | elapsed: 81.0min\n",
      "[Parallel(n_jobs=-1)]: Done 2576 tasks      | elapsed: 104.9min\n",
      "[Parallel(n_jobs=-1)]: Done 3265 tasks      | elapsed: 139.2min\n",
      "[Parallel(n_jobs=-1)]: Done 4034 tasks      | elapsed: 171.4min\n",
      "[Parallel(n_jobs=-1)]: Done 4885 tasks      | elapsed: 208.6min\n",
      "[Parallel(n_jobs=-1)]: Done 5816 tasks      | elapsed: 252.1min\n",
      "[Parallel(n_jobs=-1)]: Done 6829 tasks      | elapsed: 297.1min\n",
      "[Parallel(n_jobs=-1)]: Done 7922 tasks      | elapsed: 350.6min\n",
      "[Parallel(n_jobs=-1)]: Done 9097 tasks      | elapsed: 403.1min\n",
      "[Parallel(n_jobs=-1)]: Done 10352 tasks      | elapsed: 458.0min\n",
      "[Parallel(n_jobs=-1)]: Done 11689 tasks      | elapsed: 514.5min\n",
      "[Parallel(n_jobs=-1)]: Done 13106 tasks      | elapsed: 572.8min\n",
      "[Parallel(n_jobs=-1)]: Done 14605 tasks      | elapsed: 644.0min\n",
      "[Parallel(n_jobs=-1)]: Done 16184 tasks      | elapsed: 712.4min\n",
      "[Parallel(n_jobs=-1)]: Done 16250 out of 16250 | elapsed: 715.7min finished\n"
     ]
    },
    {
     "data": {
      "text/plain": [
       "RandomizedSearchCV(cv=5, error_score=nan,\n",
       "                   estimator=AdaBoostClassifier(algorithm='SAMME.R',\n",
       "                                                base_estimator=DecisionTreeClassifier(ccp_alpha=0.0,\n",
       "                                                                                      class_weight=None,\n",
       "                                                                                      criterion='gini',\n",
       "                                                                                      max_depth=None,\n",
       "                                                                                      max_features=None,\n",
       "                                                                                      max_leaf_nodes=None,\n",
       "                                                                                      min_impurity_decrease=0.0,\n",
       "                                                                                      min_impurity_split=None,\n",
       "                                                                                      min_samples_leaf=1,\n",
       "                                                                                      min_samples_split=2,\n",
       "                                                                                      min_weight_fraction_leaf=0.0,\n",
       "                                                                                      pre...\n",
       "                                        'base_estimator__min_samples_leaf': [1,\n",
       "                                                                             2,\n",
       "                                                                             3,\n",
       "                                                                             4,\n",
       "                                                                             5],\n",
       "                                        'base_estimator__min_samples_split': [2,\n",
       "                                                                              5,\n",
       "                                                                              10],\n",
       "                                        'learning_rate': [0.05, 0.1, 0.15, 0.2,\n",
       "                                                          0.25, 0.3, 0.35, 0.4,\n",
       "                                                          0.45, 0.5, 0.55, 0.6,\n",
       "                                                          0.65, 0.7, 0.75, 0.8,\n",
       "                                                          0.85, 0.9, 0.95,\n",
       "                                                          1.0],\n",
       "                                        'n_estimators': [30, 43, 56, 70, 83, 96,\n",
       "                                                         110, 123, 136, 150]},\n",
       "                   pre_dispatch='2*n_jobs', random_state=42, refit=True,\n",
       "                   return_train_score=False, scoring=None, verbose=2)"
      ]
     },
     "execution_count": 19,
     "metadata": {},
     "output_type": "execute_result"
    }
   ],
   "source": [
    "ada_random.fit(X_train,y_train)"
   ]
  },
  {
   "cell_type": "markdown",
   "metadata": {},
   "source": [
    "- A continuación observamos la mejor configuración de hiperparametros encontrada, para un mayor *score* obtenido para un *cross val* de 5."
   ]
  },
  {
   "cell_type": "code",
   "execution_count": 20,
   "metadata": {},
   "outputs": [
    {
     "data": {
      "text/plain": [
       "{'n_estimators': 136,\n",
       " 'learning_rate': 0.2,\n",
       " 'base_estimator__min_samples_split': 10,\n",
       " 'base_estimator__min_samples_leaf': 1,\n",
       " 'base_estimator__max_leaf_nodes': 90,\n",
       " 'base_estimator__max_features': 3,\n",
       " 'base_estimator__max_depth': 110,\n",
       " 'algorithm': 'SAMME'}"
      ]
     },
     "execution_count": 20,
     "metadata": {},
     "output_type": "execute_result"
    }
   ],
   "source": [
    "ada_random.best_params_"
   ]
  },
  {
   "cell_type": "code",
   "execution_count": 21,
   "metadata": {},
   "outputs": [
    {
     "data": {
      "text/plain": [
       "0.7483795086251961"
      ]
     },
     "execution_count": 21,
     "metadata": {},
     "output_type": "execute_result"
    }
   ],
   "source": [
    "ada_random.best_score_"
   ]
  },
  {
   "cell_type": "markdown",
   "metadata": {},
   "source": [
    "Como se puede observar hemos mejorado el *score* un 0.034 con esta nueva configuración con respecto al modelo que usaba la configuración por defecto."
   ]
  },
  {
   "cell_type": "markdown",
   "metadata": {},
   "source": [
    "- A continuación se muestra como en el caso anterior de *random forest*, la importancia que le ha dado el modelo a cada una de las características respecto de las otras."
   ]
  },
  {
   "cell_type": "code",
   "execution_count": 22,
   "metadata": {},
   "outputs": [],
   "source": [
    "best_ada = ada_random.best_estimator_"
   ]
  },
  {
   "cell_type": "code",
   "execution_count": 23,
   "metadata": {},
   "outputs": [
    {
     "data": {
      "image/png": "[encoded data removed]",
      "text/plain": [
       "<Figure size 576x432 with 1 Axes>"
      ]
     },
     "metadata": {
      "needs_background": "light"
     },
     "output_type": "display_data"
    }
   ],
   "source": [
    "plt.barh(df_songs.loc[:,\"danceability\":\"duration_ms\"].columns, best_ada.feature_importances_);"
   ]
  },
  {
   "cell_type": "markdown",
   "metadata": {},
   "source": [
    "-  Para la configuración obtenida, entrenamos el modelo con todo el dataset de entrenamiento y vemos los resultados obtenidos."
   ]
  },
  {
   "cell_type": "code",
   "execution_count": 25,
   "metadata": {},
   "outputs": [
    {
     "data": {
      "text/plain": [
       "AdaBoostClassifier(algorithm='SAMME',\n",
       "                   base_estimator=DecisionTreeClassifier(ccp_alpha=0.0,\n",
       "                                                         class_weight=None,\n",
       "                                                         criterion='gini',\n",
       "                                                         max_depth=110,\n",
       "                                                         max_features=3,\n",
       "                                                         max_leaf_nodes=90,\n",
       "                                                         min_impurity_decrease=0.0,\n",
       "                                                         min_impurity_split=None,\n",
       "                                                         min_samples_leaf=1,\n",
       "                                                         min_samples_split=10,\n",
       "                                                         min_weight_fraction_leaf=0.0,\n",
       "                                                         presort='deprecated',\n",
       "                                                         random_state=42,\n",
       "                                                         splitter='best'),\n",
       "                   learning_rate=0.2, n_estimators=136, random_state=42)"
      ]
     },
     "execution_count": 25,
     "metadata": {},
     "output_type": "execute_result"
    }
   ],
   "source": [
    "best_ada.fit(X_train,y_train)"
   ]
  },
  {
   "cell_type": "code",
   "execution_count": 26,
   "metadata": {},
   "outputs": [
    {
     "name": "stdout",
     "output_type": "stream",
     "text": [
      "Precisión sobre el juego de pruebas: 0.7436\n",
      "Precisión sobre el juego de train: 0.7841\n"
     ]
    }
   ],
   "source": [
    "print(\"Precisión sobre el juego de pruebas: {:.4f}\"\n",
    "      .format(best_ada.score(X_test, y_test)))\n",
    "print(\"Precisión sobre el juego de train: {:.4f}\"\n",
    "      .format(best_ada.score(X_train, y_train)))"
   ]
  },
  {
   "cell_type": "markdown",
   "metadata": {},
   "source": [
    "Podemos ver como el *score* con los datos de entrenamiento, ha aumentado con respecto al modelo inicial, también hemos mejorado el resultado sobre los resultados de test, en este caso 0.03, mejorando por tanto los resultados de entrenamiento y de test."
   ]
  },
  {
   "cell_type": "markdown",
   "metadata": {},
   "source": [
    "- Guardamos nuestro modelo obtenido, para su posterior uso"
   ]
  },
  {
   "cell_type": "code",
   "execution_count": 2,
   "metadata": {},
   "outputs": [],
   "source": [
    "filename = '../Models/ada_boost_model_random.pkl'"
   ]
  },
  {
   "cell_type": "code",
   "execution_count": 28,
   "metadata": {},
   "outputs": [
    {
     "data": {
      "text/plain": [
       "['../Models/ada_boost_model_random.pkl']"
      ]
     },
     "execution_count": 28,
     "metadata": {},
     "output_type": "execute_result"
    }
   ],
   "source": [
    "joblib.dump(best_ada, filename)"
   ]
  },
  {
   "cell_type": "code",
   "execution_count": 3,
   "metadata": {},
   "outputs": [],
   "source": [
    "best_ada = joblib.load(filename) "
   ]
  },
  {
   "cell_type": "markdown",
   "metadata": {},
   "source": [
    "- Representamos la curva ROC para ver de manera visual lo bueno que es nuestro modelo obtenido"
   ]
  },
  {
   "cell_type": "code",
   "execution_count": 30,
   "metadata": {},
   "outputs": [
    {
     "data": {
      "image/png": "[encoded data removed]",
      "text/plain": [
       "<Figure size 576x432 with 1 Axes>"
      ]
     },
     "metadata": {
      "needs_background": "light"
     },
     "output_type": "display_data"
    }
   ],
   "source": [
    "probs = best_ada.predict_proba(X_test)\n",
    "preds = probs[:,1]\n",
    "fpr, tpr, threshold = metrics.roc_curve(y_test, preds)\n",
    "roc_auc = metrics.auc(fpr, tpr)\n",
    "\n",
    "plt.title('Receiver Operating Characteristic')\n",
    "plt.plot(fpr, tpr, 'b', label = 'AUC = %0.2f' % roc_auc)\n",
    "plt.legend(loc = 'lower right')\n",
    "plt.plot([0, 1], [0, 1],'r--')\n",
    "plt.xlim([0, 1])\n",
    "plt.ylim([0, 1])\n",
    "plt.ylabel('True Positive Rate')\n",
    "plt.xlabel('False Positive Rate')\n",
    "plt.show()"
   ]
  },
  {
   "cell_type": "markdown",
   "metadata": {},
   "source": [
    "Nos encontramos otra vez ante un buen modelo clasificador con un AUC=0.83"
   ]
  },
  {
   "cell_type": "markdown",
   "metadata": {},
   "source": [
    "- Utilizando la función definida al principio del cuaderno, podemos hacer predicciones sobre cualquier canción de interés."
   ]
  },
  {
   "cell_type": "code",
   "execution_count": 9,
   "metadata": {},
   "outputs": [
    {
     "name": "stdout",
     "output_type": "stream",
     "text": [
      "Artista: "
     ]
    },
    {
     "name": "stdin",
     "output_type": "stream",
     "text": [
      " billie eillish\n"
     ]
    },
    {
     "name": "stdout",
     "output_type": "stream",
     "text": [
      "Titulo: "
     ]
    },
    {
     "name": "stdin",
     "output_type": "stream",
     "text": [
      " bad guy\n"
     ]
    },
    {
     "name": "stdout",
     "output_type": "stream",
     "text": [
      "Canción elegida: bad guy de Billie Eilish\n",
      "porcentaje de ser hit: 51.011772084493714\n"
     ]
    }
   ],
   "source": [
    "score = best_ada.predict_proba(find_song())\n",
    "print('porcentaje de ser hit:', score[0][1]*100)"
   ]
  },
  {
   "cell_type": "markdown",
   "metadata": {},
   "source": [
    "## Gradient Boosting\n",
    "- La siguiente técnica que utilizaremos será GradientBoosting, y para ello lo haremos usando la implementación de LightGBM, está junto XGBoost son las dos más extendidas, pero optaremos por LightGBM debido a su alta rapidez en los entrenamientos, del orden de 10 veces más rápidos que XGBoost, lo que nos permitirá hacer una búsqueda de hiperparametros más amplia, y los resultados que se obtienen con ambas implementaciones son bastante similares."
   ]
  },
  {
   "cell_type": "code",
   "execution_count": 31,
   "metadata": {},
   "outputs": [],
   "source": [
    "import lightgbm as lgb"
   ]
  },
  {
   "cell_type": "code",
   "execution_count": 32,
   "metadata": {},
   "outputs": [],
   "source": [
    "lgb_clf =lgb.LGBMClassifier(random_state=42)"
   ]
  },
  {
   "cell_type": "code",
   "execution_count": 33,
   "metadata": {},
   "outputs": [
    {
     "name": "stdout",
     "output_type": "stream",
     "text": [
      "Wall time: 1.22 s\n"
     ]
    },
    {
     "data": {
      "text/plain": [
       "0.7474385781495034"
      ]
     },
     "execution_count": 33,
     "metadata": {},
     "output_type": "execute_result"
    }
   ],
   "source": [
    "%%time\n",
    "cross_val_score(lgb_clf, X_train,y_train, cv=5).mean()"
   ]
  },
  {
   "cell_type": "markdown",
   "metadata": {},
   "source": [
    "Como se puede apreciar LighGBM es extremadamente rapido en su entrenamiento"
   ]
  },
  {
   "cell_type": "code",
   "execution_count": 34,
   "metadata": {},
   "outputs": [
    {
     "data": {
      "text/plain": [
       "LGBMClassifier(boosting_type='gbdt', class_weight=None, colsample_bytree=1.0,\n",
       "               importance_type='split', learning_rate=0.1, max_depth=-1,\n",
       "               min_child_samples=20, min_child_weight=0.001, min_split_gain=0.0,\n",
       "               n_estimators=100, n_jobs=-1, num_leaves=31, objective=None,\n",
       "               random_state=42, reg_alpha=0.0, reg_lambda=0.0, silent=True,\n",
       "               subsample=1.0, subsample_for_bin=200000, subsample_freq=0)"
      ]
     },
     "execution_count": 34,
     "metadata": {},
     "output_type": "execute_result"
    }
   ],
   "source": [
    "lgb_clf.fit(X_train,y_train)"
   ]
  },
  {
   "cell_type": "code",
   "execution_count": 35,
   "metadata": {},
   "outputs": [
    {
     "name": "stdout",
     "output_type": "stream",
     "text": [
      "Precisión sobre el juego de pruebas: 0.7488\n",
      "Precisión sobre el juego de train: 0.7862\n"
     ]
    }
   ],
   "source": [
    "print(\"Precisión sobre el juego de pruebas: {:.4f}\"\n",
    "      .format(lgb_clf.score(X_test, y_test)))\n",
    "print(\"Precisión sobre el juego de train: {:.4f}\"\n",
    "      .format(lgb_clf.score(X_train, y_train)))"
   ]
  },
  {
   "cell_type": "markdown",
   "metadata": {},
   "source": [
    "Como se puede observar, por defecto ya somos capaces de obtener un buen *score* si lo comparamos con los modelos previamente probados"
   ]
  },
  {
   "cell_type": "code",
   "execution_count": 83,
   "metadata": {},
   "outputs": [],
   "source": [
    "param_range = [60,90,100,150,200,250,300]\n",
    "train_score, test_score= validation_curve(\n",
    "                                lgb_clf,\n",
    "                                X = X_train, y = y_train, \n",
    "                                param_name = 'n_estimators', \n",
    "                               param_range=param_range,\n",
    "                                scoring=\"accuracy\")"
   ]
  },
  {
   "cell_type": "code",
   "execution_count": 84,
   "metadata": {},
   "outputs": [
    {
     "name": "stdout",
     "output_type": "stream",
     "text": [
      "Numero de estimadores para un Cross_val 5 (test) y para todo dataset de entrenamiento (train)\n",
      "n_estimators 60 en test: 0.7453998954521693 en train : 0.7767838473601673\n",
      "n_estimators 90 en test: 0.7474908520648197 en train: 0.7888329848405645\n",
      "n_estimators 100 en test: 0.7479090433873496 en train: 0.7929103502352326\n",
      "n_estimators 150 en test: 0.7487454260324098 en train: 0.8095138525875587\n",
      "n_estimators 200 en test: 0.7488499738630423 en train: 0.8258690538421328\n",
      "n_estimators 250 en test: 0.7499477260846837 en train: 0.8415577626764245\n",
      "n_estimators 300 en test: 0.7488499738630423 en train: 0.8551032409827496\n"
     ]
    }
   ],
   "source": [
    "print(\"Numero de estimadores para un Cross_val 5 (test) y para todo dataset de entrenamiento (train)\")\n",
    "print ('n_estimators 60 en test:',test_score[0].mean(),'en train :',train_score[0].mean())\n",
    "print ('n_estimators 90 en test:',test_score[1].mean(),'en train:',train_score[1].mean())\n",
    "print ('n_estimators 100 en test:',test_score[2].mean(),'en train:',train_score[2].mean())\n",
    "print ('n_estimators 150 en test:',test_score[3].mean(),'en train:',train_score[3].mean())\n",
    "print ('n_estimators 200 en test:',test_score[4].mean(),'en train:',train_score[4].mean())\n",
    "print ('n_estimators 250 en test:',test_score[5].mean(),'en train:',train_score[5].mean())\n",
    "print ('n_estimators 300 en test:',test_score[6].mean(),'en train:',train_score[6].mean())"
   ]
  },
  {
   "cell_type": "markdown",
   "metadata": {},
   "source": [
    "- Definimos *grid* de parámetros sobre los que entrenar el modelo en busca del mejor resultado."
   ]
  },
  {
   "cell_type": "code",
   "execution_count": 125,
   "metadata": {},
   "outputs": [
    {
     "name": "stdout",
     "output_type": "stream",
     "text": [
      "{'boosting_type': ['gbdt', 'dart'], 'num_leaves': [30, 40, 50, 60, 70, 80, 90, 100, 110], 'max_depth': [10, 20, 30, 40, 50, 60, 70, 80, 90, 100, 110, None], 'learning_rate': [0.005, 0.1, 0.2, 0.3, 0.4, 0.5, 0.6, 0.7, 0.8, 0.9, 1.0], 'n_estimators': [30, 45, 60, 75, 90, 105, 120, 135, 150], 'subsample_for_bin': [20000, 40000, 60000, 80000, 100000, 120000, 140000, 160000, 180000, 200000, 220000, 240000, 260000, 280000], 'min_split_gain': [0.0, 0.2, 0.4, 0.6, 0.8], 'min_child_samples': [1, 5, 9, 14, 18, 22, 27, 31, 35, 40], 'reg_alpha': [0.0, 0.1, 0.2, 0.3, 0.4, 0.5, 0.6, 0.7, 0.8, 0.9, 1.0], 'reg_lambda': [0.0, 0.1, 0.2, 0.3, 0.4, 0.5, 0.6, 0.7, 0.8, 0.9, 1.0]}\n"
     ]
    }
   ],
   "source": [
    "boosting_type = ['gbdt','dart']\n",
    "#Numero de Hojas máximas por árboles\n",
    "num_leaves = [int(x) for x in np.linspace(30, 110, num = 9)]\n",
    "# Profundidad de arbol\n",
    "max_depth = [int(x) for x in np.linspace(10, 110, num = 11)]\n",
    "max_depth.append(None)\n",
    "#Learning rate\n",
    "learning_rate = [round (float(x), 2) for x in np.linspace(0.1, 1., num = 10)]\n",
    "learning_rate.append(0.005)\n",
    "learning_rate = sorted(learning_rate)\n",
    "# Numero de arboles del bosque\n",
    "n_estimators = [int(x) for x in np.linspace(start = 30, stop = 150, num = 9)]\n",
    "# Número de muestras para la construcción de contenedores\n",
    "subsample_for_bin =  list(range(20000, 300000, 20000))\n",
    "# Reducción mínima de pérdidas para realizar una nueva partición en un nodo del árbol.\n",
    "min_split_gain =  [0.0,0.2,0.4,0.6,0.8]\n",
    "#Número mínimo de datos necesarios en una hoja\n",
    "min_child_samples = [int(x) for x in np.linspace(1, 40, num = 10)]\n",
    "# reg_alpha\n",
    "reg_alpha = [round (float(x), 2) for x in np.linspace(0.0, 1., num = 11)]\n",
    "# reg_lambda\n",
    "reg_lambda = [round (float(x), 2)  for x in np.linspace(0.0, 1., num = 11)]\n",
    "# Creacion de cuadrícula aleatoria\n",
    "param_grid = {'boosting_type':boosting_type,\n",
    "              'num_leaves': num_leaves,\n",
    "              'max_depth': max_depth,\n",
    "              'learning_rate': learning_rate,\n",
    "              'n_estimators': n_estimators,\n",
    "              'subsample_for_bin': subsample_for_bin,\n",
    "              'min_split_gain': min_split_gain,\n",
    "              'min_child_samples':min_child_samples,\n",
    "              'reg_alpha':reg_alpha,\n",
    "              'reg_lambda':reg_lambda}\n",
    "print(param_grid)"
   ]
  },
  {
   "cell_type": "markdown",
   "metadata": {},
   "source": [
    "- Lanzamos búsqueda aleatoria."
   ]
  },
  {
   "cell_type": "code",
   "execution_count": 127,
   "metadata": {},
   "outputs": [],
   "source": [
    "lgb_clf = lgb.LGBMClassifier(random_state=42)"
   ]
  },
  {
   "cell_type": "code",
   "execution_count": 128,
   "metadata": {},
   "outputs": [],
   "source": [
    "light_gbm_random = RandomizedSearchCV(estimator = lgb_clf, param_distributions = param_grid, n_iter = 20000, cv = 5, verbose=2, random_state=42, n_jobs = -1)"
   ]
  },
  {
   "cell_type": "code",
   "execution_count": 129,
   "metadata": {},
   "outputs": [
    {
     "name": "stdout",
     "output_type": "stream",
     "text": [
      "Fitting 5 folds for each of 20000 candidates, totalling 100000 fits\n"
     ]
    },
    {
     "name": "stderr",
     "output_type": "stream",
     "text": [
      "[Parallel(n_jobs=-1)]: Using backend LokyBackend with 8 concurrent workers.\n",
      "[Parallel(n_jobs=-1)]: Done  25 tasks      | elapsed:   10.1s\n",
      "[Parallel(n_jobs=-1)]: Done 146 tasks      | elapsed:   41.8s\n",
      "[Parallel(n_jobs=-1)]: Done 349 tasks      | elapsed:  1.7min\n",
      "[Parallel(n_jobs=-1)]: Done 632 tasks      | elapsed:  3.1min\n",
      "[Parallel(n_jobs=-1)]: Done 997 tasks      | elapsed:  4.9min\n",
      "[Parallel(n_jobs=-1)]: Done 1442 tasks      | elapsed:  7.4min\n",
      "[Parallel(n_jobs=-1)]: Done 1969 tasks      | elapsed: 10.5min\n",
      "[Parallel(n_jobs=-1)]: Done 2576 tasks      | elapsed: 13.5min\n",
      "[Parallel(n_jobs=-1)]: Done 3265 tasks      | elapsed: 16.8min\n",
      "[Parallel(n_jobs=-1)]: Done 4034 tasks      | elapsed: 21.0min\n",
      "[Parallel(n_jobs=-1)]: Done 4885 tasks      | elapsed: 25.6min\n",
      "[Parallel(n_jobs=-1)]: Done 5816 tasks      | elapsed: 30.8min\n",
      "[Parallel(n_jobs=-1)]: Done 6829 tasks      | elapsed: 35.8min\n",
      "[Parallel(n_jobs=-1)]: Done 7922 tasks      | elapsed: 42.1min\n",
      "[Parallel(n_jobs=-1)]: Done 9097 tasks      | elapsed: 48.7min\n",
      "[Parallel(n_jobs=-1)]: Done 10352 tasks      | elapsed: 55.6min\n",
      "[Parallel(n_jobs=-1)]: Done 11689 tasks      | elapsed: 62.7min\n",
      "[Parallel(n_jobs=-1)]: Done 13106 tasks      | elapsed: 69.7min\n",
      "[Parallel(n_jobs=-1)]: Done 14605 tasks      | elapsed: 77.7min\n",
      "[Parallel(n_jobs=-1)]: Done 16184 tasks      | elapsed: 86.0min\n",
      "[Parallel(n_jobs=-1)]: Done 17845 tasks      | elapsed: 95.4min\n",
      "[Parallel(n_jobs=-1)]: Done 19586 tasks      | elapsed: 104.8min\n",
      "[Parallel(n_jobs=-1)]: Done 21409 tasks      | elapsed: 114.7min\n",
      "[Parallel(n_jobs=-1)]: Done 23312 tasks      | elapsed: 125.8min\n",
      "[Parallel(n_jobs=-1)]: Done 25297 tasks      | elapsed: 136.5min\n",
      "[Parallel(n_jobs=-1)]: Done 27362 tasks      | elapsed: 147.9min\n",
      "[Parallel(n_jobs=-1)]: Done 29509 tasks      | elapsed: 159.5min\n",
      "[Parallel(n_jobs=-1)]: Done 31736 tasks      | elapsed: 171.9min\n",
      "[Parallel(n_jobs=-1)]: Done 34045 tasks      | elapsed: 184.7min\n",
      "[Parallel(n_jobs=-1)]: Done 36434 tasks      | elapsed: 197.0min\n",
      "[Parallel(n_jobs=-1)]: Done 38905 tasks      | elapsed: 209.9min\n",
      "[Parallel(n_jobs=-1)]: Done 41456 tasks      | elapsed: 224.4min\n",
      "[Parallel(n_jobs=-1)]: Done 44089 tasks      | elapsed: 238.9min\n",
      "[Parallel(n_jobs=-1)]: Done 46802 tasks      | elapsed: 254.0min\n",
      "[Parallel(n_jobs=-1)]: Done 49597 tasks      | elapsed: 268.6min\n",
      "[Parallel(n_jobs=-1)]: Done 52472 tasks      | elapsed: 283.7min\n",
      "[Parallel(n_jobs=-1)]: Done 55429 tasks      | elapsed: 299.9min\n",
      "[Parallel(n_jobs=-1)]: Done 58466 tasks      | elapsed: 316.6min\n",
      "[Parallel(n_jobs=-1)]: Done 61585 tasks      | elapsed: 334.1min\n",
      "[Parallel(n_jobs=-1)]: Done 64784 tasks      | elapsed: 350.5min\n",
      "[Parallel(n_jobs=-1)]: Done 68065 tasks      | elapsed: 369.0min\n",
      "[Parallel(n_jobs=-1)]: Done 71426 tasks      | elapsed: 386.3min\n",
      "[Parallel(n_jobs=-1)]: Done 74869 tasks      | elapsed: 405.0min\n",
      "[Parallel(n_jobs=-1)]: Done 78392 tasks      | elapsed: 424.8min\n",
      "[Parallel(n_jobs=-1)]: Done 81997 tasks      | elapsed: 444.3min\n",
      "[Parallel(n_jobs=-1)]: Done 85682 tasks      | elapsed: 464.3min\n",
      "[Parallel(n_jobs=-1)]: Done 89449 tasks      | elapsed: 485.7min\n",
      "[Parallel(n_jobs=-1)]: Done 93296 tasks      | elapsed: 507.0min\n",
      "[Parallel(n_jobs=-1)]: Done 97225 tasks      | elapsed: 528.3min\n",
      "[Parallel(n_jobs=-1)]: Done 100000 out of 100000 | elapsed: 543.5min finished\n"
     ]
    },
    {
     "data": {
      "text/plain": [
       "RandomizedSearchCV(cv=5, error_score=nan,\n",
       "                   estimator=LGBMClassifier(boosting_type='gbdt',\n",
       "                                            class_weight=None,\n",
       "                                            colsample_bytree=1.0,\n",
       "                                            importance_type='split',\n",
       "                                            learning_rate=0.1, max_depth=-1,\n",
       "                                            min_child_samples=20,\n",
       "                                            min_child_weight=0.001,\n",
       "                                            min_split_gain=0.0,\n",
       "                                            n_estimators=100, n_jobs=-1,\n",
       "                                            num_leaves=31, objective=None,\n",
       "                                            random_state=42, reg_alpha=0.0,\n",
       "                                            reg_lambda=0.0, silent...\n",
       "                                        'num_leaves': [30, 40, 50, 60, 70, 80,\n",
       "                                                       90, 100, 110],\n",
       "                                        'reg_alpha': [0.0, 0.1, 0.2, 0.3, 0.4,\n",
       "                                                      0.5, 0.6, 0.7, 0.8, 0.9,\n",
       "                                                      1.0],\n",
       "                                        'reg_lambda': [0.0, 0.1, 0.2, 0.3, 0.4,\n",
       "                                                       0.5, 0.6, 0.7, 0.8, 0.9,\n",
       "                                                       1.0],\n",
       "                                        'subsample_for_bin': [20000, 40000,\n",
       "                                                              60000, 80000,\n",
       "                                                              100000, 120000,\n",
       "                                                              140000, 160000,\n",
       "                                                              180000, 200000,\n",
       "                                                              220000, 240000,\n",
       "                                                              260000, 280000]},\n",
       "                   pre_dispatch='2*n_jobs', random_state=42, refit=True,\n",
       "                   return_train_score=False, scoring=None, verbose=2)"
      ]
     },
     "execution_count": 129,
     "metadata": {},
     "output_type": "execute_result"
    }
   ],
   "source": [
    "light_gbm_random.fit(X_train, y_train)"
   ]
  },
  {
   "cell_type": "markdown",
   "metadata": {},
   "source": [
    "- Tras la búsqueda de hiperparametros, a continuación se muestra la mejor combinación encontrada, con el *score* obtenido."
   ]
  },
  {
   "cell_type": "code",
   "execution_count": 130,
   "metadata": {},
   "outputs": [
    {
     "data": {
      "text/plain": [
       "{'subsample_for_bin': 160000,\n",
       " 'reg_lambda': 0.0,\n",
       " 'reg_alpha': 0.9,\n",
       " 'num_leaves': 70,\n",
       " 'n_estimators': 150,\n",
       " 'min_split_gain': 0.4,\n",
       " 'min_child_samples': 31,\n",
       " 'max_depth': 110,\n",
       " 'learning_rate': 0.2,\n",
       " 'boosting_type': 'dart'}"
      ]
     },
     "execution_count": 130,
     "metadata": {},
     "output_type": "execute_result"
    }
   ],
   "source": [
    "light_gbm_random.best_params_"
   ]
  },
  {
   "cell_type": "code",
   "execution_count": 131,
   "metadata": {},
   "outputs": [
    {
     "data": {
      "text/plain": [
       "0.752822791427078"
      ]
     },
     "execution_count": 131,
     "metadata": {},
     "output_type": "execute_result"
    }
   ],
   "source": [
    "light_gbm_random.best_score_"
   ]
  },
  {
   "cell_type": "markdown",
   "metadata": {},
   "source": [
    "Podemos observar que respecto a la configuración por defecto hemos conseguido una mejora de 0.005."
   ]
  },
  {
   "cell_type": "markdown",
   "metadata": {},
   "source": [
    "- A continuación se muestra la importancia que le ha dado el modelo a cada una de las características respecto de las otras."
   ]
  },
  {
   "cell_type": "code",
   "execution_count": 132,
   "metadata": {},
   "outputs": [],
   "source": [
    "best_light_gbm = light_gbm_random.best_estimator_"
   ]
  },
  {
   "cell_type": "code",
   "execution_count": 13,
   "metadata": {},
   "outputs": [
    {
     "data": {
      "image/png": "[encoded data removed]",
      "text/plain": [
       "<Figure size 576x432 with 1 Axes>"
      ]
     },
     "metadata": {
      "needs_background": "light"
     },
     "output_type": "display_data"
    }
   ],
   "source": [
    "plt.barh(df_songs.loc[:,\"danceability\":\"duration_ms\"].columns, best_light_gbm.feature_importances_);"
   ]
  },
  {
   "cell_type": "markdown",
   "metadata": {},
   "source": [
    "-  Para la configuración obtenida, entrenamos el modelo con todo el dataset de entrenamiento y vemos los resultados obtenidos."
   ]
  },
  {
   "cell_type": "code",
   "execution_count": 14,
   "metadata": {},
   "outputs": [
    {
     "data": {
      "text/plain": [
       "LGBMClassifier(boosting_type='dart', class_weight=None, colsample_bytree=1.0,\n",
       "               importance_type='split', learning_rate=0.2, max_depth=110,\n",
       "               min_child_samples=31, min_child_weight=0.001, min_split_gain=0.4,\n",
       "               n_estimators=150, n_jobs=-1, num_leaves=70, objective=None,\n",
       "               random_state=42, reg_alpha=0.9, reg_lambda=0.0, silent=True,\n",
       "               subsample=1.0, subsample_for_bin=160000, subsample_freq=0)"
      ]
     },
     "execution_count": 14,
     "metadata": {},
     "output_type": "execute_result"
    }
   ],
   "source": [
    "best_light_gbm.fit(X_train,y_train)"
   ]
  },
  {
   "cell_type": "code",
   "execution_count": 15,
   "metadata": {},
   "outputs": [
    {
     "name": "stdout",
     "output_type": "stream",
     "text": [
      "Precisión sobre el juego de pruebas: 0.7518\n",
      "Precisión sobre el juego de train: 0.8248\n"
     ]
    }
   ],
   "source": [
    "print(\"Precisión sobre el juego de pruebas: {:.4f}\"\n",
    "      .format(best_light_gbm.score(X_test, y_test)))\n",
    "print(\"Precisión sobre el juego de train: {:.4f}\"\n",
    "      .format(best_light_gbm.score(X_train, y_train)))"
   ]
  },
  {
   "cell_type": "markdown",
   "metadata": {},
   "source": [
    "Hemos obtenido una mejora de 0.04 para los resultados de test y un aumento de 0.003 en los resultados de test. Hemos conseguido una mejor configuración que la de por defecto."
   ]
  },
  {
   "cell_type": "markdown",
   "metadata": {},
   "source": [
    "- Guardamos nuestro modelo obtenido, para su posterior uso"
   ]
  },
  {
   "cell_type": "code",
   "execution_count": 10,
   "metadata": {},
   "outputs": [],
   "source": [
    "filename = '../Models/light_gbm_model_random.pkl'"
   ]
  },
  {
   "cell_type": "code",
   "execution_count": 17,
   "metadata": {},
   "outputs": [
    {
     "data": {
      "text/plain": [
       "['../Models/light_gbm_model_random.pkl']"
      ]
     },
     "execution_count": 17,
     "metadata": {},
     "output_type": "execute_result"
    }
   ],
   "source": [
    "joblib.dump(best_light_gbm, filename)"
   ]
  },
  {
   "cell_type": "code",
   "execution_count": 11,
   "metadata": {},
   "outputs": [],
   "source": [
    "best_light_gbm = joblib.load(filename) "
   ]
  },
  {
   "cell_type": "markdown",
   "metadata": {},
   "source": [
    "- Representamos la curva ROC para ver de manera visual lo bueno que es nuestro modelo obtenido"
   ]
  },
  {
   "cell_type": "code",
   "execution_count": 18,
   "metadata": {},
   "outputs": [
    {
     "data": {
      "image/png": "[encoded data removed]",
      "text/plain": [
       "<Figure size 576x432 with 1 Axes>"
      ]
     },
     "metadata": {
      "needs_background": "light"
     },
     "output_type": "display_data"
    }
   ],
   "source": [
    "probs = best_light_gbm.predict_proba(X_test)\n",
    "preds = probs[:,1]\n",
    "fpr, tpr, threshold = metrics.roc_curve(y_test, preds)\n",
    "roc_auc = metrics.auc(fpr, tpr)\n",
    "\n",
    "plt.title('Receiver Operating Characteristic')\n",
    "plt.plot(fpr, tpr, 'b', label = 'AUC = %0.2f' % roc_auc)\n",
    "plt.legend(loc = 'lower right')\n",
    "plt.plot([0, 1], [0, 1],'r--')\n",
    "plt.xlim([0, 1])\n",
    "plt.ylim([0, 1])\n",
    "plt.ylabel('True Positive Rate')\n",
    "plt.xlabel('False Positive Rate')\n",
    "plt.show()"
   ]
  },
  {
   "cell_type": "markdown",
   "metadata": {},
   "source": [
    "Obtennos un AUC=0.83, seguimos obteniendo buenos resultados."
   ]
  },
  {
   "cell_type": "markdown",
   "metadata": {},
   "source": [
    "- Utilizando la función definida al principio del cuaderno, podemos hacer predicciones sobre cualquier canción de interés."
   ]
  },
  {
   "cell_type": "code",
   "execution_count": 57,
   "metadata": {},
   "outputs": [
    {
     "name": "stdout",
     "output_type": "stream",
     "text": [
      "Artista: "
     ]
    },
    {
     "name": "stdin",
     "output_type": "stream",
     "text": [
      " billie eilish\n"
     ]
    },
    {
     "name": "stdout",
     "output_type": "stream",
     "text": [
      "Titulo: "
     ]
    },
    {
     "name": "stdin",
     "output_type": "stream",
     "text": [
      " bad guy\n"
     ]
    },
    {
     "name": "stdout",
     "output_type": "stream",
     "text": [
      "Canción elegida: bad guy de Billie Eilish\n",
      "porcentaje de ser hit: 48.32208301166033\n"
     ]
    }
   ],
   "source": [
    "score = best_light_gbm.predict_proba(find_song())\n",
    "print('porcentaje de ser hit:', score[0][1]*100)"
   ]
  },
  {
   "cell_type": "markdown",
   "metadata": {},
   "source": [
    "## Conclusiones"
   ]
  },
  {
   "cell_type": "markdown",
   "metadata": {},
   "source": [
    "Tras ver los resultados obtenidos para estos tres modelos, podemo observar que el que mejor resultado obtiene en la clasificación para los datos de test es light gbm con un 0.7518 seguido de *random forest* con un 0.7478 y por último Ada Boost con un 0.7436. Hemos conseguido resultados muy parecidos. En el cuaderno 4_model_testing podremos a prueba estos modelos, con canciones actuales y analizaremos cuál es capaz de predecir mejor para canciones actuales."
   ]
  },
  {
   "cell_type": "markdown",
   "metadata": {},
   "source": [
    "# Año como feature"
   ]
  },
  {
   "cell_type": "markdown",
   "metadata": {},
   "source": [
    "En un principio no se pensó añadir el año como *feature*, ya que esto limitaría mucho la predicción en el futuro puesto que todas las nuevas predicciones que se hagan tomaran siempre la característica del año con 2020 como corte, entonces es una característica que impide que este tipo de modelos extrapolen en el tiempo, aunque podría dar buenos resultados en fechas actuales e incluso el próximo año, ya que la tendencia a corto plazo será similar a la vivida en el 2020, para ello vamos a entrenar nuestros modelos contando con esta característica y analizaremos los resultados."
   ]
  },
  {
   "cell_type": "markdown",
   "metadata": {},
   "source": [
    "- Primero definimos una función para poder hacer predicciones"
   ]
  },
  {
   "cell_type": "code",
   "execution_count": 36,
   "metadata": {},
   "outputs": [],
   "source": [
    "def find_song_year():\n",
    "    print(\"Artista: \", end=\"\")\n",
    "    artist = input()\n",
    "    print(\"Titulo: \", end=\"\")\n",
    "    title = input()\n",
    "    Searched = str (title + \" \" + artist)\n",
    "    track = sp.search(Searched)\n",
    "    try:\n",
    "        id_track = track[\"tracks\"][\"items\"][0][\"uri\"]\n",
    "        track = sp.track(id_track)\n",
    "        get_year = lambda date: parse(date, fuzzy=True).year\n",
    "        year_realease = get_year(track[\"album\"][\"release_date\"])\n",
    "        track_feat = sp.audio_features(id_track)\n",
    "        song = [[year_realease, track_feat[0][\"danceability\"], track_feat[0][\"energy\"],\n",
    "                 track_feat[0][\"key\"],track_feat[0][\"loudness\"], track_feat[0][\"mode\"],\n",
    "                 track_feat[0][\"speechiness\"],track_feat[0][\"acousticness\"],\n",
    "                 track_feat[0][\"instrumentalness\"], track_feat[0][\"liveness\"],track_feat[0][\"valence\"],\n",
    "                 track_feat[0][\"tempo\"],track_feat[0][\"time_signature\"],track[\"duration_ms\"]]]\n",
    "        \n",
    "        print (\"Canción elegida:\",track[\"name\"], \"de\", track[\"artists\"][0][\"name\"] )\n",
    "        return song\n",
    "    except:\n",
    "        print (\"ERROR: Titulo no encontrado\")"
   ]
  },
  {
   "cell_type": "markdown",
   "metadata": {},
   "source": [
    "- Obtenemos el año del dataset para añadirlo como feature, para los *hits* tomaremos el año en el que han sido *hit* y para los no *hits* tomaremos el año de lanzamiento de la canción."
   ]
  },
  {
   "cell_type": "code",
   "execution_count": 37,
   "metadata": {},
   "outputs": [],
   "source": [
    "from dateutil.parser import parse"
   ]
  },
  {
   "cell_type": "code",
   "execution_count": 38,
   "metadata": {},
   "outputs": [],
   "source": [
    "df_songs_year = pd.DataFrame.copy(df_songs)\n",
    "get_year = lambda date: parse(date, fuzzy=True).year\n",
    "df_songs_year.insert (12, \"year\", 0)\n",
    "for i, item in df_songs_year.iterrows():\n",
    "    if item['target']==0:\n",
    "        year = get_year(item['release_date'])\n",
    "    else:\n",
    "        year = item['year_chart']\n",
    "    df_songs_year.loc[i,'year'] = year"
   ]
  },
  {
   "cell_type": "markdown",
   "metadata": {},
   "source": [
    "- Realizamos *split* del dataset para entrenamiento y test."
   ]
  },
  {
   "cell_type": "code",
   "execution_count": 39,
   "metadata": {},
   "outputs": [],
   "source": [
    "X = df_songs_year.loc[:,\"year\":\"duration_ms\"]\n",
    "y = df_songs_year.iloc[:,-1]\n",
    "X_train, X_test, y_train, y_test = train_test_split(X, y, random_state=0)"
   ]
  },
  {
   "cell_type": "markdown",
   "metadata": {},
   "source": [
    "## Random Forest\n",
    "- Comenzaremos con el modelo de *random search*"
   ]
  },
  {
   "cell_type": "markdown",
   "metadata": {},
   "source": [
    "El proceso llevado a cabo será igual que en los casos anteriores."
   ]
  },
  {
   "cell_type": "code",
   "execution_count": 40,
   "metadata": {},
   "outputs": [],
   "source": [
    "forest = RandomForestClassifier (random_state=32)"
   ]
  },
  {
   "cell_type": "code",
   "execution_count": 41,
   "metadata": {},
   "outputs": [
    {
     "name": "stdout",
     "output_type": "stream",
     "text": [
      "Wall time: 27.9 s\n"
     ]
    },
    {
     "data": {
      "text/plain": [
       "0.8527966544694199"
      ]
     },
     "execution_count": 41,
     "metadata": {},
     "output_type": "execute_result"
    }
   ],
   "source": [
    "%%time\n",
    "cross_val_score(forest,X_train,y_train,cv=5).mean()"
   ]
  },
  {
   "cell_type": "markdown",
   "metadata": {},
   "source": [
    "Podemos observar una importante subida en el acierto en el modelo al incluir esta característica."
   ]
  },
  {
   "cell_type": "code",
   "execution_count": 42,
   "metadata": {},
   "outputs": [
    {
     "data": {
      "text/plain": [
       "RandomForestClassifier(bootstrap=True, ccp_alpha=0.0, class_weight=None,\n",
       "                       criterion='gini', max_depth=None, max_features='auto',\n",
       "                       max_leaf_nodes=None, max_samples=None,\n",
       "                       min_impurity_decrease=0.0, min_impurity_split=None,\n",
       "                       min_samples_leaf=1, min_samples_split=2,\n",
       "                       min_weight_fraction_leaf=0.0, n_estimators=100,\n",
       "                       n_jobs=None, oob_score=False, random_state=32, verbose=0,\n",
       "                       warm_start=False)"
      ]
     },
     "execution_count": 42,
     "metadata": {},
     "output_type": "execute_result"
    }
   ],
   "source": [
    "forest.fit(X_train,y_train)"
   ]
  },
  {
   "cell_type": "code",
   "execution_count": 43,
   "metadata": {},
   "outputs": [
    {
     "name": "stdout",
     "output_type": "stream",
     "text": [
      "Precisión sobre datos de pruebas: 0.8539\n",
      "Precisión sobre datos de train: 0.9999\n"
     ]
    }
   ],
   "source": [
    "print(\"Precisión sobre datos de pruebas: {:.4f}\"\n",
    "      .format(forest.score(X_test, y_test)))\n",
    "print(\"Precisión sobre datos de train: {:.4f}\"\n",
    "      .format(forest.score(X_train, y_train)))"
   ]
  },
  {
   "cell_type": "markdown",
   "metadata": {},
   "source": [
    "Podemos ver como obtenemos un *score* que supera al del mejor *random forest* obtenido previamente, por 0.11 con la configuración por defecto."
   ]
  },
  {
   "cell_type": "code",
   "execution_count": 19,
   "metadata": {},
   "outputs": [],
   "source": [
    "param_range = [30,40,50,60,90,100,130,150,200,300]\n",
    "train_score, test_score= validation_curve(\n",
    "                                forest,\n",
    "                                X = X_train, y = y_train, \n",
    "                                param_name = 'n_estimators', \n",
    "                               param_range=param_range,\n",
    "                                scoring=\"accuracy\")"
   ]
  },
  {
   "cell_type": "code",
   "execution_count": 20,
   "metadata": {},
   "outputs": [
    {
     "name": "stdout",
     "output_type": "stream",
     "text": [
      "Numero de estimadores para un Cross_val 5 (test) y para todo dataset de entrenamiento (train)\n",
      "n_estimators 30 en test: 0.8487715629900681 en train: 0.9987911657083115\n",
      "n_estimators 40 en test: 0.848980658651333 en train: 0.999470726607423\n",
      "n_estimators 50 en test: 0.8495556717198118 en train: 0.9996667537898588\n",
      "n_estimators 60 en test: 0.8507579717720859 en train: 0.9997582331416623\n",
      "n_estimators 90 en test: 0.8517773131207527 en train: 0.9998562467328803\n",
      "n_estimators 100 en test: 0.8524830109775221 en train: 0.9998693152117093\n",
      "n_estimators 130 en test: 0.8540512284370099 en train: 0.9998693152117093\n",
      "n_estimators 150 en test: 0.8517773131207527 en train: 0.999875849451124\n",
      "n_estimators 200 en test: 0.8529534762153685 en train: 0.999875849451124\n",
      "n_estimators 300 en test: 0.8522739153162572 en train: 0.999875849451124\n"
     ]
    }
   ],
   "source": [
    "print(\"Numero de estimadores para un Cross_val 5 (test) y para todo dataset de entrenamiento (train)\")\n",
    "print ('n_estimators 30 en test:',test_score[0].mean(),'en train:',train_score[0].mean())\n",
    "print ('n_estimators 40 en test:',test_score[1].mean(),'en train:',train_score[1].mean())\n",
    "print ('n_estimators 50 en test:',test_score[2].mean(),'en train:',train_score[2].mean())\n",
    "print ('n_estimators 60 en test:',test_score[3].mean(),'en train:',train_score[3].mean())\n",
    "print ('n_estimators 90 en test:',test_score[4].mean(),'en train:',train_score[4].mean())\n",
    "print ('n_estimators 100 en test:',test_score[5].mean(),'en train:',train_score[5].mean())\n",
    "print ('n_estimators 130 en test:',test_score[6].mean(),'en train:',train_score[6].mean())\n",
    "print ('n_estimators 150 en test:',test_score[7].mean(),'en train:',train_score[7].mean())\n",
    "print ('n_estimators 200 en test:',test_score[8].mean(),'en train:',train_score[8].mean())\n",
    "print ('n_estimators 300 en test:',test_score[9].mean(),'en train:',train_score[9].mean())"
   ]
  },
  {
   "cell_type": "markdown",
   "metadata": {},
   "source": [
    "Podemos observar que sucede lo mismo que cuando no incluíamos el tiempo como *feature*, por tanto tenderemos a no usar unos números de estimador muy altos."
   ]
  },
  {
   "cell_type": "markdown",
   "metadata": {},
   "source": [
    "- Definimos *grid* con rangos de parámetros."
   ]
  },
  {
   "cell_type": "code",
   "execution_count": 28,
   "metadata": {},
   "outputs": [
    {
     "name": "stdout",
     "output_type": "stream",
     "text": [
      "{'n_estimators': [30, 43, 56, 70, 83, 96, 110, 123, 136, 150], 'max_features': [1, 2, 3, 4, 5, 6, 7, 8, 9, 10, 11, 12, 13, 14, 'auto'], 'max_depth': [10, 20, 30, 40, 50, 60, 70, 80, 90, 100, 110, None], 'min_samples_split': [2, 5, 10], 'min_samples_leaf': [1, 2, 3, 4, 5], 'max_leaf_nodes': [10, 11, 12, 13, 14, 15, 16, 17, 18, 19, 20, 21, 22, 23, 24, 25, 26, 27, 28, 29, 30, 31, 32, 33, 34, 35, 36, 37, 38, 39, 40, 41, 42, 43, 44, 45, 46, 47, 48, 49, 50, 51, 52, 53, 54, 55, 56, 57, 58, 59, 60, 61, 62, 63, 64, 65, 66, 67, 68, 69, 70, 71, 72, 73, 74, 75, 76, 77, 78, 79, 80, 81, 82, 83, 84, 85, 86, 87, 88, 89, 90, 91, 92, 93, 94, 95, 96, 97, 98, 100, None]}\n"
     ]
    }
   ],
   "source": [
    "# Numero de arboles del bosque\n",
    "n_estimators = [int(x) for x in np.linspace(start = 30, stop = 150, num = 10)]\n",
    "# Numero de caracteristicas proporcionadas a cada arbol\n",
    "max_features = [1,2,3,4,5,6,7,8,9,10,11,12,13,14]\n",
    "max_features.append('auto')\n",
    "# Profundidad de arbol\n",
    "max_depth = [int(x) for x in np.linspace(10, 110, num = 11)]\n",
    "max_depth.append(None)\n",
    "# Minimo valor para separar en subnodos\n",
    "min_samples_split = [2, 5, 10]\n",
    "# Minimo numero de muestras necesarias en hoja despues de dividir\n",
    "min_samples_leaf = [1, 2,3, 4, 5]\n",
    "# Numero maximo de nodos finales\n",
    "max_leaf_nodes = [int(x) for x in np.linspace(10, 100, num = 90)]\n",
    "max_leaf_nodes.append(None)\n",
    "# Creacion de cuadrícula aleatoria\n",
    "param_grid = {'n_estimators': n_estimators,\n",
    "               'max_features': max_features,\n",
    "               'max_depth': max_depth,\n",
    "               'min_samples_split': min_samples_split,\n",
    "               'min_samples_leaf': min_samples_leaf,\n",
    "               \"max_leaf_nodes\": max_leaf_nodes}\n",
    "print(param_grid)"
   ]
  },
  {
   "cell_type": "markdown",
   "metadata": {},
   "source": [
    "- Realizamos búsqueda aleatoria"
   ]
  },
  {
   "cell_type": "code",
   "execution_count": 29,
   "metadata": {},
   "outputs": [],
   "source": [
    "forest = RandomForestClassifier (random_state=32)"
   ]
  },
  {
   "cell_type": "code",
   "execution_count": 30,
   "metadata": {},
   "outputs": [],
   "source": [
    "forest_random = RandomizedSearchCV(estimator = forest, param_distributions = param_grid, n_iter = 3500, cv = 5, verbose=2, random_state=42, n_jobs = -1)"
   ]
  },
  {
   "cell_type": "code",
   "execution_count": 31,
   "metadata": {},
   "outputs": [
    {
     "name": "stdout",
     "output_type": "stream",
     "text": [
      "Fitting 5 folds for each of 3500 candidates, totalling 17500 fits\n"
     ]
    },
    {
     "name": "stderr",
     "output_type": "stream",
     "text": [
      "[Parallel(n_jobs=-1)]: Using backend LokyBackend with 8 concurrent workers.\n",
      "[Parallel(n_jobs=-1)]: Done  25 tasks      | elapsed:   37.7s\n",
      "[Parallel(n_jobs=-1)]: Done 146 tasks      | elapsed:  4.1min\n",
      "[Parallel(n_jobs=-1)]: Done 349 tasks      | elapsed:  9.2min\n",
      "[Parallel(n_jobs=-1)]: Done 632 tasks      | elapsed: 16.7min\n",
      "[Parallel(n_jobs=-1)]: Done 997 tasks      | elapsed: 26.1min\n",
      "[Parallel(n_jobs=-1)]: Done 1442 tasks      | elapsed: 39.4min\n",
      "[Parallel(n_jobs=-1)]: Done 1969 tasks      | elapsed: 52.0min\n",
      "[Parallel(n_jobs=-1)]: Done 2576 tasks      | elapsed: 66.6min\n",
      "[Parallel(n_jobs=-1)]: Done 3265 tasks      | elapsed: 84.1min\n",
      "[Parallel(n_jobs=-1)]: Done 4034 tasks      | elapsed: 102.4min\n",
      "[Parallel(n_jobs=-1)]: Done 4885 tasks      | elapsed: 124.2min\n",
      "[Parallel(n_jobs=-1)]: Done 5816 tasks      | elapsed: 147.4min\n",
      "[Parallel(n_jobs=-1)]: Done 6829 tasks      | elapsed: 173.4min\n",
      "[Parallel(n_jobs=-1)]: Done 7922 tasks      | elapsed: 202.0min\n",
      "[Parallel(n_jobs=-1)]: Done 9097 tasks      | elapsed: 232.3min\n",
      "[Parallel(n_jobs=-1)]: Done 10352 tasks      | elapsed: 262.4min\n",
      "[Parallel(n_jobs=-1)]: Done 11689 tasks      | elapsed: 294.4min\n",
      "[Parallel(n_jobs=-1)]: Done 13106 tasks      | elapsed: 332.4min\n",
      "[Parallel(n_jobs=-1)]: Done 14605 tasks      | elapsed: 368.1min\n",
      "[Parallel(n_jobs=-1)]: Done 16184 tasks      | elapsed: 409.4min\n",
      "[Parallel(n_jobs=-1)]: Done 17500 out of 17500 | elapsed: 443.4min finished\n"
     ]
    },
    {
     "data": {
      "text/plain": [
       "RandomizedSearchCV(cv=5, error_score=nan,\n",
       "                   estimator=RandomForestClassifier(bootstrap=True,\n",
       "                                                    ccp_alpha=0.0,\n",
       "                                                    class_weight=None,\n",
       "                                                    criterion='gini',\n",
       "                                                    max_depth=None,\n",
       "                                                    max_features='auto',\n",
       "                                                    max_leaf_nodes=None,\n",
       "                                                    max_samples=None,\n",
       "                                                    min_impurity_decrease=0.0,\n",
       "                                                    min_impurity_split=None,\n",
       "                                                    min_samples_leaf=1,\n",
       "                                                    min_samples_split=2,\n",
       "                                                    min_weight_fraction_leaf=0.0,\n",
       "                                                    n_estimators=100,\n",
       "                                                    n_jobs...\n",
       "                                        'max_features': [1, 2, 3, 4, 5, 6, 7, 8,\n",
       "                                                         9, 10, 11, 12, 13, 14,\n",
       "                                                         'auto'],\n",
       "                                        'max_leaf_nodes': [10, 11, 12, 13, 14,\n",
       "                                                           15, 16, 17, 18, 19,\n",
       "                                                           20, 21, 22, 23, 24,\n",
       "                                                           25, 26, 27, 28, 29,\n",
       "                                                           30, 31, 32, 33, 34,\n",
       "                                                           35, 36, 37, 38, 39, ...],\n",
       "                                        'min_samples_leaf': [1, 2, 3, 4, 5],\n",
       "                                        'min_samples_split': [2, 5, 10],\n",
       "                                        'n_estimators': [30, 43, 56, 70, 83, 96,\n",
       "                                                         110, 123, 136, 150]},\n",
       "                   pre_dispatch='2*n_jobs', random_state=42, refit=True,\n",
       "                   return_train_score=False, scoring=None, verbose=2)"
      ]
     },
     "execution_count": 31,
     "metadata": {},
     "output_type": "execute_result"
    }
   ],
   "source": [
    "forest_random.fit(X_train,y_train)"
   ]
  },
  {
   "cell_type": "markdown",
   "metadata": {},
   "source": [
    "- Tras la búsqueda de hiperparametros, a continuación se muestra la mejor combinación encontrada, con el *score* obtenido."
   ]
  },
  {
   "cell_type": "code",
   "execution_count": 32,
   "metadata": {},
   "outputs": [
    {
     "data": {
      "text/plain": [
       "{'n_estimators': 43,\n",
       " 'min_samples_split': 2,\n",
       " 'min_samples_leaf': 5,\n",
       " 'max_leaf_nodes': None,\n",
       " 'max_features': 4,\n",
       " 'max_depth': 30}"
      ]
     },
     "execution_count": 32,
     "metadata": {},
     "output_type": "execute_result"
    }
   ],
   "source": [
    "forest_random.best_params_"
   ]
  },
  {
   "cell_type": "code",
   "execution_count": 33,
   "metadata": {},
   "outputs": [
    {
     "data": {
      "text/plain": [
       "0.8541296393099843"
      ]
     },
     "execution_count": 33,
     "metadata": {},
     "output_type": "execute_result"
    }
   ],
   "source": [
    "forest_random.best_score_"
   ]
  },
  {
   "cell_type": "markdown",
   "metadata": {},
   "source": [
    "Podemos observar que la mejora con respecto al modelo con valores por defecto, es muy leve."
   ]
  },
  {
   "cell_type": "markdown",
   "metadata": {},
   "source": [
    "- A continuación se muestra la importancia que le ha dado el modelo a cada una de las características respecto de las otras."
   ]
  },
  {
   "cell_type": "code",
   "execution_count": null,
   "metadata": {},
   "outputs": [],
   "source": [
    "best_forest = forest_random.best_estimator_"
   ]
  },
  {
   "cell_type": "code",
   "execution_count": 39,
   "metadata": {},
   "outputs": [
    {
     "data": {
      "image/png": "[encoded data removed]",
      "text/plain": [
       "<Figure size 576x432 with 1 Axes>"
      ]
     },
     "metadata": {
      "needs_background": "light"
     },
     "output_type": "display_data"
    }
   ],
   "source": [
    "plt.barh(df_songs_year.loc[:,\"year\":\"duration_ms\"].columns, best_forest.feature_importances_);"
   ]
  },
  {
   "cell_type": "markdown",
   "metadata": {},
   "source": [
    "Podemos observar la cantidad de peso que tiene el año con respecto a las demás, en el cuaderno 4_model_testing, veremos como se comporta para canciones actuales."
   ]
  },
  {
   "cell_type": "markdown",
   "metadata": {},
   "source": [
    "-  Para la configuración obtenida, entrenamos el modelo con todo el dataset de entrenamiento y vemos los resultados obtenidos."
   ]
  },
  {
   "cell_type": "code",
   "execution_count": 36,
   "metadata": {},
   "outputs": [
    {
     "data": {
      "text/plain": [
       "RandomForestClassifier(bootstrap=True, ccp_alpha=0.0, class_weight=None,\n",
       "                       criterion='gini', max_depth=30, max_features=4,\n",
       "                       max_leaf_nodes=None, max_samples=None,\n",
       "                       min_impurity_decrease=0.0, min_impurity_split=None,\n",
       "                       min_samples_leaf=5, min_samples_split=2,\n",
       "                       min_weight_fraction_leaf=0.0, n_estimators=43,\n",
       "                       n_jobs=None, oob_score=False, random_state=32, verbose=0,\n",
       "                       warm_start=False)"
      ]
     },
     "execution_count": 36,
     "metadata": {},
     "output_type": "execute_result"
    }
   ],
   "source": [
    "best_forest.fit(X_train,y_train)"
   ]
  },
  {
   "cell_type": "code",
   "execution_count": 33,
   "metadata": {},
   "outputs": [
    {
     "name": "stdout",
     "output_type": "stream",
     "text": [
      "Precisión sobre datos de pruebas: 0.8545\n",
      "Precisión sobre datos de train: 0.9348\n"
     ]
    }
   ],
   "source": [
    "print(\"Precisión sobre datos de pruebas: {:.4f}\"\n",
    "      .format(best_forest.score(X_test, y_test)))\n",
    "print(\"Precisión sobre datos de train: {:.4f}\"\n",
    "      .format(best_forest.score(X_train, y_train)))"
   ]
  },
  {
   "cell_type": "markdown",
   "metadata": {},
   "source": [
    "Podemos observar como para esta configuración tenemos unos resultados peores tanto en entrenamiento y prácticamente muy similares en test. Tomaremos este modelo, ya que al tener algo de mejor *score* con *cross validation* tendera a generalizar mejor."
   ]
  },
  {
   "cell_type": "markdown",
   "metadata": {},
   "source": [
    "- Guardamos nuestro modelo obtenido, para su posterior uso"
   ]
  },
  {
   "cell_type": "code",
   "execution_count": 35,
   "metadata": {},
   "outputs": [],
   "source": [
    "filename = '../Models/forest_model_random_year.pkl'"
   ]
  },
  {
   "cell_type": "code",
   "execution_count": 22,
   "metadata": {},
   "outputs": [
    {
     "data": {
      "text/plain": [
       "['../Models/forest_model_random_year.pkl']"
      ]
     },
     "execution_count": 22,
     "metadata": {},
     "output_type": "execute_result"
    }
   ],
   "source": [
    "joblib.dump(best_forest, filename)"
   ]
  },
  {
   "cell_type": "code",
   "execution_count": 36,
   "metadata": {},
   "outputs": [],
   "source": [
    "best_forest = joblib.load(filename) "
   ]
  },
  {
   "cell_type": "markdown",
   "metadata": {},
   "source": [
    "- Representamos la curva ROC para ver de manera visual lo bueno que es nuestro modelo obtenido"
   ]
  },
  {
   "cell_type": "code",
   "execution_count": 37,
   "metadata": {},
   "outputs": [
    {
     "data": {
      "image/png": "[encoded data removed]",
      "text/plain": [
       "<Figure size 576x432 with 1 Axes>"
      ]
     },
     "metadata": {
      "needs_background": "light"
     },
     "output_type": "display_data"
    }
   ],
   "source": [
    "probs = best_forest.predict_proba(X_test)\n",
    "preds = probs[:,1]\n",
    "fpr, tpr, threshold = metrics.roc_curve(y_test, preds)\n",
    "roc_auc = metrics.auc(fpr, tpr)\n",
    "\n",
    "plt.title('Receiver Operating Characteristic')\n",
    "plt.plot(fpr, tpr, 'b', label = 'AUC = %0.2f' % roc_auc)\n",
    "plt.legend(loc = 'lower right')\n",
    "plt.plot([0, 1], [0, 1],'r--')\n",
    "plt.xlim([0, 1])\n",
    "plt.ylim([0, 1])\n",
    "plt.ylabel('True Positive Rate')\n",
    "plt.xlabel('False Positive Rate')\n",
    "plt.show()"
   ]
  },
  {
   "cell_type": "markdown",
   "metadata": {},
   "source": [
    "Como ya se ha podido ver en los resultados de test, ahora gráficamente vemos que obtenemos una curva con un AUC=0.93, por lo que hablamos de un mejor clasificador."
   ]
  },
  {
   "cell_type": "markdown",
   "metadata": {},
   "source": [
    "- Utilizando la función definida al principio del cuaderno, podemos hacer predicciones sobre cualquier canción de interés."
   ]
  },
  {
   "cell_type": "code",
   "execution_count": 56,
   "metadata": {},
   "outputs": [
    {
     "name": "stdout",
     "output_type": "stream",
     "text": [
      "Artista: "
     ]
    },
    {
     "name": "stdin",
     "output_type": "stream",
     "text": [
      " billie eilish\n"
     ]
    },
    {
     "name": "stdout",
     "output_type": "stream",
     "text": [
      "Titulo: "
     ]
    },
    {
     "name": "stdin",
     "output_type": "stream",
     "text": [
      " bad guy\n"
     ]
    },
    {
     "name": "stdout",
     "output_type": "stream",
     "text": [
      "Canción elegida: bad guy de Billie Eilish\n",
      "porcentaje de ser hit: 33.78738509552464\n"
     ]
    }
   ],
   "source": [
    "score = best_forest.predict_proba(find_song_year())\n",
    "print('porcentaje de ser hit:', score[0][1]*100)"
   ]
  },
  {
   "cell_type": "markdown",
   "metadata": {},
   "source": [
    "## AdaBoost\n",
    "- Utilizaremos AdaBoost para entrenar el dataset"
   ]
  },
  {
   "cell_type": "code",
   "execution_count": 44,
   "metadata": {},
   "outputs": [],
   "source": [
    "ada_clf = AdaBoostClassifier(random_state=32)"
   ]
  },
  {
   "cell_type": "code",
   "execution_count": 45,
   "metadata": {},
   "outputs": [
    {
     "name": "stdout",
     "output_type": "stream",
     "text": [
      "Wall time: 7.38 s\n"
     ]
    },
    {
     "data": {
      "text/plain": [
       "0.8401986408782017"
      ]
     },
     "execution_count": 45,
     "metadata": {},
     "output_type": "execute_result"
    }
   ],
   "source": [
    "%%time\n",
    "cross_val_score(ada_clf,X_train,y_train,cv=5).mean()"
   ]
  },
  {
   "cell_type": "markdown",
   "metadata": {},
   "source": [
    "Como para *random forest* obtenemos mejores resultados que cuando no incluíamos el año como característica."
   ]
  },
  {
   "cell_type": "code",
   "execution_count": 46,
   "metadata": {},
   "outputs": [
    {
     "data": {
      "text/plain": [
       "AdaBoostClassifier(algorithm='SAMME.R', base_estimator=None, learning_rate=1.0,\n",
       "                   n_estimators=50, random_state=32)"
      ]
     },
     "execution_count": 46,
     "metadata": {},
     "output_type": "execute_result"
    }
   ],
   "source": [
    "ada_clf.fit(X_train,y_train)"
   ]
  },
  {
   "cell_type": "code",
   "execution_count": 47,
   "metadata": {},
   "outputs": [
    {
     "name": "stdout",
     "output_type": "stream",
     "text": [
      "Precisión sobre el juego de pruebas: 0.8360\n",
      "Precisión sobre el juego de train: 0.8438\n"
     ]
    }
   ],
   "source": [
    "print(\"Precisión sobre el juego de pruebas: {:.4f}\"\n",
    "      .format(ada_clf.score(X_test, y_test)))\n",
    "print(\"Precisión sobre el juego de train: {:.4f}\"\n",
    "      .format(ada_clf.score(X_train, y_train)))"
   ]
  },
  {
   "cell_type": "markdown",
   "metadata": {},
   "source": [
    "- Definimos el *grid* de entrenamiento y se lanza la búsqueda de la mejor combinación de hiperparametros."
   ]
  },
  {
   "cell_type": "code",
   "execution_count": 31,
   "metadata": {},
   "outputs": [
    {
     "name": "stdout",
     "output_type": "stream",
     "text": [
      "{'n_estimators': [30, 43, 56, 70, 83, 96, 110, 123, 136, 150], 'algorithm': ['SAMME', 'SAMME.R'], 'learning_rate': [0.05, 0.1, 0.15, 0.2, 0.25, 0.3, 0.35, 0.39999999999999997, 0.44999999999999996, 0.49999999999999994, 0.5499999999999999, 0.6, 0.65, 0.7, 0.75, 0.7999999999999999, 0.85, 0.9, 0.95, 1.0], 'base_estimator__max_features': [1, 2, 3, 4, 5, 6, 7, 8, 9, 10, 11, 12, 13, 'auto'], 'base_estimator__max_depth': [10, 20, 30, 40, 50, 60, 70, 80, 90, 100, 110, None], 'base_estimator__min_samples_split': [2, 5, 10], 'base_estimator__min_samples_leaf': [1, 2, 3, 4, 5], 'base_estimator__max_leaf_nodes': [10, 20, 30, 40, 50, 60, 70, 80, 90, 100, None]}\n"
     ]
    }
   ],
   "source": [
    "# Numero de arboles del bosque\n",
    "n_estimators = [int(x) for x in np.linspace(start = 30, stop = 150, num = 10)]\n",
    "# Numero de caracteristicas proporcionadas a cada arbol\n",
    "max_features = [1,2,3,4,5,6,7,8,9,10,11,12,13]\n",
    "max_features.append('auto')\n",
    "# Profundidad de arbol\n",
    "max_depth = [int(x) for x in np.linspace(10, 110, num = 11)]\n",
    "max_depth.append(None)\n",
    "# Minimo valor para separar en subnodos\n",
    "min_samples_split = [2, 5, 10]\n",
    "# Minimo numero de muestras necesarias en hoja despues de dividir\n",
    "min_samples_leaf = [1, 2,3, 4, 5]\n",
    "# Numero maximo de nodos finales\n",
    "max_leaf_nodes = [int(x) for x in np.linspace(10, 100, num = 10)]\n",
    "max_leaf_nodes.append(None)\n",
    "#Algoritmo de implementacion\n",
    "algorithm = ['SAMME', 'SAMME.R']\n",
    "learning_rate = [float(x) for x in np.linspace(0.05, 1., num = 20)]\n",
    "# Numero de muestras maximo que se le asigna a cada arbol\n",
    "# max_samples\n",
    "# Creacion de cuadrícula aleatoria\n",
    "param_grid = {'n_estimators': n_estimators,\n",
    "               'algorithm': algorithm,\n",
    "              'learning_rate':learning_rate,\n",
    "               'base_estimator__max_features': max_features,\n",
    "               'base_estimator__max_depth': max_depth,\n",
    "               'base_estimator__min_samples_split': min_samples_split,\n",
    "               'base_estimator__min_samples_leaf': min_samples_leaf,\n",
    "               \"base_estimator__max_leaf_nodes\": max_leaf_nodes}\n",
    "print(param_grid)"
   ]
  },
  {
   "cell_type": "code",
   "execution_count": 32,
   "metadata": {},
   "outputs": [],
   "source": [
    "from sklearn.tree import DecisionTreeClassifier"
   ]
  },
  {
   "cell_type": "code",
   "execution_count": 33,
   "metadata": {},
   "outputs": [],
   "source": [
    "base_estimator = DecisionTreeClassifier(random_state=32)\n",
    "ada_clf = AdaBoostClassifier(base_estimator=base_estimator, random_state=32)"
   ]
  },
  {
   "cell_type": "code",
   "execution_count": 34,
   "metadata": {},
   "outputs": [],
   "source": [
    "ada_random = RandomizedSearchCV(estimator = ada_clf, param_distributions = param_grid, n_iter = 3250, cv = 5, verbose=2, random_state=32, n_jobs = -1)"
   ]
  },
  {
   "cell_type": "code",
   "execution_count": 35,
   "metadata": {},
   "outputs": [
    {
     "name": "stdout",
     "output_type": "stream",
     "text": [
      "Fitting 5 folds for each of 3250 candidates, totalling 16250 fits\n"
     ]
    },
    {
     "name": "stderr",
     "output_type": "stream",
     "text": [
      "[Parallel(n_jobs=-1)]: Using backend LokyBackend with 8 concurrent workers.\n",
      "[Parallel(n_jobs=-1)]: Done  25 tasks      | elapsed:   33.8s\n",
      "[Parallel(n_jobs=-1)]: Done 146 tasks      | elapsed:  5.8min\n",
      "[Parallel(n_jobs=-1)]: Done 349 tasks      | elapsed: 13.9min\n",
      "[Parallel(n_jobs=-1)]: Done 632 tasks      | elapsed: 28.0min\n",
      "[Parallel(n_jobs=-1)]: Done 997 tasks      | elapsed: 44.9min\n",
      "[Parallel(n_jobs=-1)]: Done 1442 tasks      | elapsed: 63.4min\n",
      "[Parallel(n_jobs=-1)]: Done 1969 tasks      | elapsed: 85.6min\n",
      "[Parallel(n_jobs=-1)]: Done 2576 tasks      | elapsed: 106.8min\n",
      "[Parallel(n_jobs=-1)]: Done 3265 tasks      | elapsed: 135.1min\n",
      "[Parallel(n_jobs=-1)]: Done 4034 tasks      | elapsed: 170.7min\n",
      "[Parallel(n_jobs=-1)]: Done 4885 tasks      | elapsed: 208.6min\n",
      "[Parallel(n_jobs=-1)]: Done 5816 tasks      | elapsed: 249.1min\n",
      "[Parallel(n_jobs=-1)]: Done 6829 tasks      | elapsed: 292.1min\n",
      "[Parallel(n_jobs=-1)]: Done 7922 tasks      | elapsed: 348.0min\n",
      "[Parallel(n_jobs=-1)]: Done 9097 tasks      | elapsed: 399.5min\n",
      "[Parallel(n_jobs=-1)]: Done 10352 tasks      | elapsed: 459.5min\n",
      "[Parallel(n_jobs=-1)]: Done 11689 tasks      | elapsed: 515.1min\n",
      "[Parallel(n_jobs=-1)]: Done 13106 tasks      | elapsed: 578.5min\n",
      "[Parallel(n_jobs=-1)]: Done 14605 tasks      | elapsed: 647.8min\n",
      "[Parallel(n_jobs=-1)]: Done 16184 tasks      | elapsed: 720.9min\n",
      "[Parallel(n_jobs=-1)]: Done 16250 out of 16250 | elapsed: 723.7min finished\n"
     ]
    },
    {
     "data": {
      "text/plain": [
       "RandomizedSearchCV(cv=5, error_score=nan,\n",
       "                   estimator=AdaBoostClassifier(algorithm='SAMME.R',\n",
       "                                                base_estimator=DecisionTreeClassifier(ccp_alpha=0.0,\n",
       "                                                                                      class_weight=None,\n",
       "                                                                                      criterion='gini',\n",
       "                                                                                      max_depth=None,\n",
       "                                                                                      max_features=None,\n",
       "                                                                                      max_leaf_nodes=None,\n",
       "                                                                                      min_impurity_decrease=0.0,\n",
       "                                                                                      min_impurity_split=None,\n",
       "                                                                                      min_samples_leaf=1,\n",
       "                                                                                      min_samples_split=2,\n",
       "                                                                                      min_weight_fraction_leaf=0.0,\n",
       "                                                                                      pre...\n",
       "                                        'base_estimator__min_samples_split': [2,\n",
       "                                                                              5,\n",
       "                                                                              10],\n",
       "                                        'learning_rate': [0.05, 0.1, 0.15, 0.2,\n",
       "                                                          0.25, 0.3, 0.35,\n",
       "                                                          0.39999999999999997,\n",
       "                                                          0.44999999999999996,\n",
       "                                                          0.49999999999999994,\n",
       "                                                          0.5499999999999999,\n",
       "                                                          0.6, 0.65, 0.7, 0.75,\n",
       "                                                          0.7999999999999999,\n",
       "                                                          0.85, 0.9, 0.95,\n",
       "                                                          1.0],\n",
       "                                        'n_estimators': [30, 43, 56, 70, 83, 96,\n",
       "                                                         110, 123, 136, 150]},\n",
       "                   pre_dispatch='2*n_jobs', random_state=32, refit=True,\n",
       "                   return_train_score=False, scoring=None, verbose=2)"
      ]
     },
     "execution_count": 35,
     "metadata": {},
     "output_type": "execute_result"
    }
   ],
   "source": [
    "ada_random.fit(X_train,y_train)"
   ]
  },
  {
   "cell_type": "markdown",
   "metadata": {},
   "source": [
    "- Tras la búsqueda de hiperparametros, a continuación se muestra la mejor combinación encontrada, con el *score* obtenido."
   ]
  },
  {
   "cell_type": "code",
   "execution_count": 36,
   "metadata": {},
   "outputs": [
    {
     "data": {
      "text/plain": [
       "{'n_estimators': 70,\n",
       " 'learning_rate': 0.1,\n",
       " 'base_estimator__min_samples_split': 10,\n",
       " 'base_estimator__min_samples_leaf': 1,\n",
       " 'base_estimator__max_leaf_nodes': 90,\n",
       " 'base_estimator__max_features': 8,\n",
       " 'base_estimator__max_depth': 60,\n",
       " 'algorithm': 'SAMME'}"
      ]
     },
     "execution_count": 36,
     "metadata": {},
     "output_type": "execute_result"
    }
   ],
   "source": [
    "ada_random.best_params_"
   ]
  },
  {
   "cell_type": "code",
   "execution_count": 37,
   "metadata": {},
   "outputs": [
    {
     "data": {
      "text/plain": [
       "0.8554364871928908"
      ]
     },
     "execution_count": 37,
     "metadata": {},
     "output_type": "execute_result"
    }
   ],
   "source": [
    "ada_random.best_score_"
   ]
  },
  {
   "cell_type": "markdown",
   "metadata": {},
   "source": [
    "Podemos observar como hemos conseguido para esta configuración una mejoría del 0.015."
   ]
  },
  {
   "cell_type": "markdown",
   "metadata": {},
   "source": [
    "- A continuación se muestra la importancia que le ha dado el modelo a cada una de las características respecto de las otras."
   ]
  },
  {
   "cell_type": "code",
   "execution_count": 50,
   "metadata": {},
   "outputs": [],
   "source": [
    "best_ada = ada_random.best_estimator_"
   ]
  },
  {
   "cell_type": "code",
   "execution_count": 49,
   "metadata": {},
   "outputs": [
    {
     "data": {
      "image/png": "[encoded data removed]",
      "text/plain": [
       "<Figure size 576x432 with 1 Axes>"
      ]
     },
     "metadata": {
      "needs_background": "light"
     },
     "output_type": "display_data"
    }
   ],
   "source": [
    "plt.barh(df_songs_year.loc[:,\"year\":\"duration_ms\"].columns, best_ada.feature_importances_);"
   ]
  },
  {
   "cell_type": "markdown",
   "metadata": {},
   "source": [
    "Para Ada Boost se puede ver al igual que en  *random search* el peso que tiene el año respecto las demás características."
   ]
  },
  {
   "cell_type": "markdown",
   "metadata": {},
   "source": [
    "-  Para la configuración obtenida, entrenamos el modelo con todo el dataset de entrenamiento y vemos los resultados obtenidos."
   ]
  },
  {
   "cell_type": "code",
   "execution_count": 39,
   "metadata": {},
   "outputs": [
    {
     "data": {
      "text/plain": [
       "AdaBoostClassifier(algorithm='SAMME',\n",
       "                   base_estimator=DecisionTreeClassifier(ccp_alpha=0.0,\n",
       "                                                         class_weight=None,\n",
       "                                                         criterion='gini',\n",
       "                                                         max_depth=60,\n",
       "                                                         max_features=8,\n",
       "                                                         max_leaf_nodes=90,\n",
       "                                                         min_impurity_decrease=0.0,\n",
       "                                                         min_impurity_split=None,\n",
       "                                                         min_samples_leaf=1,\n",
       "                                                         min_samples_split=10,\n",
       "                                                         min_weight_fraction_leaf=0.0,\n",
       "                                                         presort='deprecated',\n",
       "                                                         random_state=32,\n",
       "                                                         splitter='best'),\n",
       "                   learning_rate=0.1, n_estimators=70, random_state=32)"
      ]
     },
     "execution_count": 39,
     "metadata": {},
     "output_type": "execute_result"
    }
   ],
   "source": [
    "best_ada.fit(X_train,y_train)"
   ]
  },
  {
   "cell_type": "code",
   "execution_count": 40,
   "metadata": {},
   "outputs": [
    {
     "name": "stdout",
     "output_type": "stream",
     "text": [
      "Precisión sobre datos de pruebas: 0.8584\n",
      "Precisión sobre datos de train: 0.8730\n"
     ]
    }
   ],
   "source": [
    "print(\"Precisión sobre datos de pruebas: {:.4f}\"\n",
    "      .format(best_ada.score(X_test, y_test)))\n",
    "print(\"Precisión sobre datos de train: {:.4f}\"\n",
    "      .format(best_ada.score(X_train, y_train)))"
   ]
  },
  {
   "cell_type": "markdown",
   "metadata": {},
   "source": [
    "Como se puede observar, respecto de la configuración por defecto se ha conseguido una mejoría de 0.02 en los resultados de test y un incremento en entrenamiento de 0.03. Por tanto hablamos de un modelo más generalizable gracias a la técnica de *cross validation*."
   ]
  },
  {
   "cell_type": "markdown",
   "metadata": {},
   "source": [
    "- Guardamos nuestro modelo obtenido, para su posterior uso"
   ]
  },
  {
   "cell_type": "code",
   "execution_count": 42,
   "metadata": {},
   "outputs": [],
   "source": [
    "filename = '../Models/ada_boost_model_random_year.pkl'"
   ]
  },
  {
   "cell_type": "code",
   "execution_count": 32,
   "metadata": {},
   "outputs": [
    {
     "data": {
      "text/plain": [
       "['../Models/ada_boost_model_random_year.pkl']"
      ]
     },
     "execution_count": 32,
     "metadata": {},
     "output_type": "execute_result"
    }
   ],
   "source": [
    "joblib.dump(best_ada, filename)"
   ]
  },
  {
   "cell_type": "code",
   "execution_count": 43,
   "metadata": {},
   "outputs": [],
   "source": [
    "best_ada = joblib.load(filename)"
   ]
  },
  {
   "cell_type": "markdown",
   "metadata": {},
   "source": [
    "- Representamos la curva ROC para ver de manera visual lo bueno que es nuestro modelo obtenido"
   ]
  },
  {
   "cell_type": "code",
   "execution_count": 44,
   "metadata": {},
   "outputs": [
    {
     "data": {
      "image/png": "[encoded data removed]",
      "text/plain": [
       "<Figure size 576x432 with 1 Axes>"
      ]
     },
     "metadata": {
      "needs_background": "light"
     },
     "output_type": "display_data"
    }
   ],
   "source": [
    "probs = best_ada.predict_proba(X_test)\n",
    "preds = probs[:,1]\n",
    "fpr, tpr, threshold = metrics.roc_curve(y_test, preds)\n",
    "roc_auc = metrics.auc(fpr, tpr)\n",
    "\n",
    "plt.title('Receiver Operating Characteristic')\n",
    "plt.plot(fpr, tpr, 'b', label = 'AUC = %0.2f' % roc_auc)\n",
    "plt.legend(loc = 'lower right')\n",
    "plt.plot([0, 1], [0, 1],'r--')\n",
    "plt.xlim([0, 1])\n",
    "plt.ylim([0, 1])\n",
    "plt.ylabel('True Positive Rate')\n",
    "plt.xlabel('False Positive Rate')\n",
    "plt.show()"
   ]
  },
  {
   "cell_type": "markdown",
   "metadata": {},
   "source": [
    "Seguimos obteniendo buenos resultados de AUC=0.93, como era de esperar."
   ]
  },
  {
   "cell_type": "markdown",
   "metadata": {},
   "source": [
    "- Utilizando la función definida al principio del cuaderno, podemos hacer predicciones sobre cualquier canción de interés."
   ]
  },
  {
   "cell_type": "code",
   "execution_count": 58,
   "metadata": {},
   "outputs": [
    {
     "name": "stdout",
     "output_type": "stream",
     "text": [
      "Artista: "
     ]
    },
    {
     "name": "stdin",
     "output_type": "stream",
     "text": [
      " billie eilish\n"
     ]
    },
    {
     "name": "stdout",
     "output_type": "stream",
     "text": [
      "Titulo: "
     ]
    },
    {
     "name": "stdin",
     "output_type": "stream",
     "text": [
      " bad guy\n"
     ]
    },
    {
     "name": "stdout",
     "output_type": "stream",
     "text": [
      "Canción elegida: bad guy de Billie Eilish\n",
      "porcentaje de ser hit: 40.3208430965237\n"
     ]
    }
   ],
   "source": [
    "score = best_ada.predict_proba(find_song_year())\n",
    "print('porcentaje de ser hit:', score[0][1]*100)"
   ]
  },
  {
   "cell_type": "markdown",
   "metadata": {},
   "source": [
    "## LightGBM\n",
    "- Realizamos los entrenamientos y análisis de resultados utilizando la implementación de *gradient boosting* de lightgbm"
   ]
  },
  {
   "cell_type": "code",
   "execution_count": 84,
   "metadata": {},
   "outputs": [],
   "source": [
    "import lightgbm as lgb"
   ]
  },
  {
   "cell_type": "code",
   "execution_count": 48,
   "metadata": {},
   "outputs": [],
   "source": [
    "lgb_clf =lgb.LGBMClassifier(random_state=32)"
   ]
  },
  {
   "cell_type": "code",
   "execution_count": 49,
   "metadata": {},
   "outputs": [
    {
     "name": "stdout",
     "output_type": "stream",
     "text": [
      "Wall time: 1.23 s\n"
     ]
    },
    {
     "data": {
      "text/plain": [
       "0.8544955567171982"
      ]
     },
     "execution_count": 49,
     "metadata": {},
     "output_type": "execute_result"
    }
   ],
   "source": [
    "%%time\n",
    "cross_val_score(lgb_clf,X_train,y_train,cv=5).mean()"
   ]
  },
  {
   "cell_type": "markdown",
   "metadata": {},
   "source": [
    "Al igual que para los 2 casos anteriores, obtenemos un *score* bastante alto en comparación de cuando no teníamos incluido el año como característica."
   ]
  },
  {
   "cell_type": "code",
   "execution_count": 53,
   "metadata": {},
   "outputs": [
    {
     "data": {
      "text/plain": [
       "LGBMClassifier(boosting_type='gbdt', class_weight=None, colsample_bytree=1.0,\n",
       "               importance_type='split', learning_rate=0.1, max_depth=-1,\n",
       "               min_child_samples=20, min_child_weight=0.001, min_split_gain=0.0,\n",
       "               n_estimators=100, n_jobs=-1, num_leaves=31, objective=None,\n",
       "               random_state=32, reg_alpha=0.0, reg_lambda=0.0, silent=True,\n",
       "               subsample=1.0, subsample_for_bin=200000, subsample_freq=0)"
      ]
     },
     "execution_count": 53,
     "metadata": {},
     "output_type": "execute_result"
    }
   ],
   "source": [
    "lgb_clf.fit(X_train,y_train)"
   ]
  },
  {
   "cell_type": "code",
   "execution_count": 54,
   "metadata": {},
   "outputs": [
    {
     "name": "stdout",
     "output_type": "stream",
     "text": [
      "Precisión sobre el juego de pruebas: 0.8586\n",
      "Precisión sobre el juego de train: 0.8789\n"
     ]
    }
   ],
   "source": [
    "print(\"Precisión sobre el juego de pruebas: {:.4f}\"\n",
    "      .format(lgb_clf.score(X_test, y_test)))\n",
    "print(\"Precisión sobre el juego de train: {:.4f}\"\n",
    "      .format(lgb_clf.score(X_train, y_train)))"
   ]
  },
  {
   "cell_type": "code",
   "execution_count": 55,
   "metadata": {},
   "outputs": [],
   "source": [
    "filename = '../Models/light_gbm_model_random_year_default.pkl'"
   ]
  },
  {
   "cell_type": "code",
   "execution_count": 56,
   "metadata": {},
   "outputs": [
    {
     "data": {
      "text/plain": [
       "['../Models/light_gbm_model_random_year_default.pkl']"
      ]
     },
     "execution_count": 56,
     "metadata": {},
     "output_type": "execute_result"
    }
   ],
   "source": [
    "joblib.dump(lgb_clf, filename)"
   ]
  },
  {
   "cell_type": "markdown",
   "metadata": {},
   "source": [
    "- Definimos el *grid* de entrenamiento y se lanza la búsqueda de la mejor combinación de hiperparametros."
   ]
  },
  {
   "cell_type": "code",
   "execution_count": 90,
   "metadata": {},
   "outputs": [
    {
     "name": "stdout",
     "output_type": "stream",
     "text": [
      "{'boosting_type': ['gbdt', 'dart'], 'num_leaves': [30, 40, 50, 60, 70, 80, 90, 100, 110], 'max_depth': [10, 20, 30, 40, 50, 60, 70, 80, 90, 100, 110, None], 'learning_rate': [0.005, 0.1, 0.2, 0.3, 0.4, 0.5, 0.6, 0.7, 0.8, 0.9, 1.0], 'n_estimators': [30, 45, 60, 75, 90, 105, 120, 135, 150], 'subsample_for_bin': [20000, 40000, 60000, 80000, 100000, 120000, 140000, 160000, 180000, 200000, 220000, 240000, 260000, 280000], 'min_split_gain': [0.0, 0.2, 0.4, 0.6, 0.8], 'min_child_samples': [1, 5, 9, 14, 18, 22, 27, 31, 35, 40], 'reg_alpha': [0.0, 0.1, 0.2, 0.3, 0.4, 0.5, 0.6, 0.7, 0.8, 0.9, 1.0], 'reg_lambda': [0.0, 0.1, 0.2, 0.3, 0.4, 0.5, 0.6, 0.7, 0.8, 0.9, 1.0]}\n"
     ]
    }
   ],
   "source": [
    "boosting_type = ['gbdt','dart']\n",
    "#Numero de Hojas máximas por árboles\n",
    "num_leaves = [int(x) for x in np.linspace(30, 110, num = 9)]\n",
    "# Profundidad de arbol\n",
    "max_depth = [int(x) for x in np.linspace(10, 110, num = 11)]\n",
    "max_depth.append(None)\n",
    "#Learning rate\n",
    "learning_rate = [round (float(x), 2) for x in np.linspace(0.1, 1., num = 10)]\n",
    "learning_rate.append(0.005)\n",
    "learning_rate = sorted(learning_rate)\n",
    "# Numero de arboles del bosque\n",
    "n_estimators = [int(x) for x in np.linspace(start = 30, stop = 150, num = 9)]\n",
    "# Número de muestras para la construcción de contenedores\n",
    "subsample_for_bin =  list(range(20000, 300000, 20000))\n",
    "# Reducción mínima de pérdidas para realizar una nueva partición en un nodo del árbol.\n",
    "min_split_gain =  [0.0,0.2,0.4,0.6,0.8]\n",
    "#Número mínimo de datos necesarios en una hoja\n",
    "min_child_samples = [int(x) for x in np.linspace(1, 40, num = 10)]\n",
    "# reg_alpha\n",
    "reg_alpha = [round (float(x), 2) for x in np.linspace(0.0, 1., num = 11)]\n",
    "# reg_lambda\n",
    "reg_lambda = [round (float(x), 2)  for x in np.linspace(0.0, 1., num = 11)]\n",
    "# Creacion de cuadrícula aleatoria\n",
    "param_grid = {'boosting_type':boosting_type,\n",
    "              'num_leaves': num_leaves,\n",
    "              'max_depth': max_depth,\n",
    "              'learning_rate': learning_rate,\n",
    "              'n_estimators': n_estimators,\n",
    "              'subsample_for_bin': subsample_for_bin,\n",
    "              'min_split_gain': min_split_gain,\n",
    "              'min_child_samples':min_child_samples,\n",
    "              'reg_alpha':reg_alpha,\n",
    "              'reg_lambda':reg_lambda}\n",
    "print(param_grid)"
   ]
  },
  {
   "cell_type": "code",
   "execution_count": 92,
   "metadata": {},
   "outputs": [],
   "source": [
    "lgb_clf = lgb.LGBMClassifier(random_state=32)"
   ]
  },
  {
   "cell_type": "code",
   "execution_count": 93,
   "metadata": {},
   "outputs": [],
   "source": [
    "light_gbm_random = RandomizedSearchCV(estimator = lgb_clf, param_distributions = param_grid, n_iter = 20000, cv = 5, verbose=2, random_state=32, n_jobs = -1)"
   ]
  },
  {
   "cell_type": "code",
   "execution_count": 94,
   "metadata": {},
   "outputs": [
    {
     "name": "stdout",
     "output_type": "stream",
     "text": [
      "Fitting 5 folds for each of 20000 candidates, totalling 100000 fits\n"
     ]
    },
    {
     "name": "stderr",
     "output_type": "stream",
     "text": [
      "[Parallel(n_jobs=-1)]: Using backend LokyBackend with 8 concurrent workers.\n",
      "[Parallel(n_jobs=-1)]: Done  25 tasks      | elapsed:   10.2s\n",
      "[Parallel(n_jobs=-1)]: Done 146 tasks      | elapsed:   55.6s\n",
      "[Parallel(n_jobs=-1)]: Done 349 tasks      | elapsed:  2.3min\n",
      "[Parallel(n_jobs=-1)]: Done 632 tasks      | elapsed:  4.2min\n",
      "[Parallel(n_jobs=-1)]: Done 997 tasks      | elapsed:  6.5min\n",
      "[Parallel(n_jobs=-1)]: Done 1442 tasks      | elapsed:  9.4min\n",
      "[Parallel(n_jobs=-1)]: Done 1969 tasks      | elapsed: 12.7min\n",
      "[Parallel(n_jobs=-1)]: Done 2576 tasks      | elapsed: 16.8min\n",
      "[Parallel(n_jobs=-1)]: Done 3265 tasks      | elapsed: 21.8min\n",
      "[Parallel(n_jobs=-1)]: Done 4034 tasks      | elapsed: 27.1min\n",
      "[Parallel(n_jobs=-1)]: Done 4885 tasks      | elapsed: 32.6min\n",
      "[Parallel(n_jobs=-1)]: Done 5816 tasks      | elapsed: 38.9min\n",
      "[Parallel(n_jobs=-1)]: Done 6829 tasks      | elapsed: 45.1min\n",
      "[Parallel(n_jobs=-1)]: Done 7922 tasks      | elapsed: 52.1min\n",
      "[Parallel(n_jobs=-1)]: Done 9097 tasks      | elapsed: 60.2min\n",
      "[Parallel(n_jobs=-1)]: Done 10352 tasks      | elapsed: 67.7min\n",
      "[Parallel(n_jobs=-1)]: Done 11689 tasks      | elapsed: 76.8min\n",
      "[Parallel(n_jobs=-1)]: Done 13106 tasks      | elapsed: 86.1min\n",
      "[Parallel(n_jobs=-1)]: Done 14605 tasks      | elapsed: 95.5min\n",
      "[Parallel(n_jobs=-1)]: Done 16184 tasks      | elapsed: 106.5min\n",
      "[Parallel(n_jobs=-1)]: Done 17845 tasks      | elapsed: 117.8min\n",
      "[Parallel(n_jobs=-1)]: Done 19586 tasks      | elapsed: 129.8min\n",
      "[Parallel(n_jobs=-1)]: Done 21409 tasks      | elapsed: 141.5min\n",
      "[Parallel(n_jobs=-1)]: Done 23312 tasks      | elapsed: 154.0min\n",
      "[Parallel(n_jobs=-1)]: Done 25297 tasks      | elapsed: 167.0min\n",
      "[Parallel(n_jobs=-1)]: Done 27362 tasks      | elapsed: 179.9min\n",
      "[Parallel(n_jobs=-1)]: Done 29509 tasks      | elapsed: 194.3min\n",
      "[Parallel(n_jobs=-1)]: Done 31736 tasks      | elapsed: 208.3min\n",
      "[Parallel(n_jobs=-1)]: Done 34045 tasks      | elapsed: 222.1min\n",
      "[Parallel(n_jobs=-1)]: Done 36434 tasks      | elapsed: 235.7min\n",
      "[Parallel(n_jobs=-1)]: Done 38905 tasks      | elapsed: 249.9min\n",
      "[Parallel(n_jobs=-1)]: Done 41456 tasks      | elapsed: 264.8min\n",
      "[Parallel(n_jobs=-1)]: Done 44089 tasks      | elapsed: 281.0min\n",
      "[Parallel(n_jobs=-1)]: Done 46802 tasks      | elapsed: 296.4min\n",
      "[Parallel(n_jobs=-1)]: Done 49597 tasks      | elapsed: 312.4min\n",
      "[Parallel(n_jobs=-1)]: Done 52472 tasks      | elapsed: 328.2min\n",
      "[Parallel(n_jobs=-1)]: Done 55429 tasks      | elapsed: 345.1min\n",
      "[Parallel(n_jobs=-1)]: Done 58466 tasks      | elapsed: 363.0min\n",
      "[Parallel(n_jobs=-1)]: Done 61585 tasks      | elapsed: 380.1min\n",
      "[Parallel(n_jobs=-1)]: Done 64784 tasks      | elapsed: 398.0min\n",
      "[Parallel(n_jobs=-1)]: Done 68065 tasks      | elapsed: 417.0min\n",
      "[Parallel(n_jobs=-1)]: Done 71426 tasks      | elapsed: 437.2min\n",
      "[Parallel(n_jobs=-1)]: Done 74869 tasks      | elapsed: 458.3min\n",
      "[Parallel(n_jobs=-1)]: Done 78392 tasks      | elapsed: 479.1min\n",
      "[Parallel(n_jobs=-1)]: Done 81997 tasks      | elapsed: 500.8min\n",
      "[Parallel(n_jobs=-1)]: Done 85682 tasks      | elapsed: 522.0min\n",
      "[Parallel(n_jobs=-1)]: Done 89449 tasks      | elapsed: 544.1min\n",
      "[Parallel(n_jobs=-1)]: Done 93296 tasks      | elapsed: 566.1min\n",
      "[Parallel(n_jobs=-1)]: Done 97225 tasks      | elapsed: 588.9min\n",
      "[Parallel(n_jobs=-1)]: Done 100000 out of 100000 | elapsed: 605.0min finished\n"
     ]
    },
    {
     "data": {
      "text/plain": [
       "RandomizedSearchCV(cv=5, error_score=nan,\n",
       "                   estimator=LGBMClassifier(boosting_type='gbdt',\n",
       "                                            class_weight=None,\n",
       "                                            colsample_bytree=1.0,\n",
       "                                            importance_type='split',\n",
       "                                            learning_rate=0.1, max_depth=-1,\n",
       "                                            min_child_samples=20,\n",
       "                                            min_child_weight=0.001,\n",
       "                                            min_split_gain=0.0,\n",
       "                                            n_estimators=100, n_jobs=-1,\n",
       "                                            num_leaves=31, objective=None,\n",
       "                                            random_state=32, reg_alpha=0.0,\n",
       "                                            reg_lambda=0.0, silent...\n",
       "                                        'num_leaves': [30, 40, 50, 60, 70, 80,\n",
       "                                                       90, 100, 110],\n",
       "                                        'reg_alpha': [0.0, 0.1, 0.2, 0.3, 0.4,\n",
       "                                                      0.5, 0.6, 0.7, 0.8, 0.9,\n",
       "                                                      1.0],\n",
       "                                        'reg_lambda': [0.0, 0.1, 0.2, 0.3, 0.4,\n",
       "                                                       0.5, 0.6, 0.7, 0.8, 0.9,\n",
       "                                                       1.0],\n",
       "                                        'subsample_for_bin': [20000, 40000,\n",
       "                                                              60000, 80000,\n",
       "                                                              100000, 120000,\n",
       "                                                              140000, 160000,\n",
       "                                                              180000, 200000,\n",
       "                                                              220000, 240000,\n",
       "                                                              260000, 280000]},\n",
       "                   pre_dispatch='2*n_jobs', random_state=32, refit=True,\n",
       "                   return_train_score=False, scoring=None, verbose=2)"
      ]
     },
     "execution_count": 94,
     "metadata": {},
     "output_type": "execute_result"
    }
   ],
   "source": [
    "light_gbm_random.fit(X_train,y_train)"
   ]
  },
  {
   "cell_type": "markdown",
   "metadata": {},
   "source": [
    "- Tras la búsqueda de hiperparametros, a continuación se muestra la mejor combinación encontrada, con el *score* obtenido."
   ]
  },
  {
   "cell_type": "code",
   "execution_count": 98,
   "metadata": {},
   "outputs": [
    {
     "data": {
      "text/plain": [
       "{'subsample_for_bin': 260000,\n",
       " 'reg_lambda': 0.8,\n",
       " 'reg_alpha': 0.7,\n",
       " 'num_leaves': 40,\n",
       " 'n_estimators': 105,\n",
       " 'min_split_gain': 0.0,\n",
       " 'min_child_samples': 31,\n",
       " 'max_depth': 10,\n",
       " 'learning_rate': 0.3,\n",
       " 'boosting_type': 'dart'}"
      ]
     },
     "execution_count": 98,
     "metadata": {},
     "output_type": "execute_result"
    }
   ],
   "source": [
    "light_gbm_random.best_params_"
   ]
  },
  {
   "cell_type": "code",
   "execution_count": 96,
   "metadata": {},
   "outputs": [
    {
     "data": {
      "text/plain": [
       "0.8578410872974386"
      ]
     },
     "execution_count": 96,
     "metadata": {},
     "output_type": "execute_result"
    }
   ],
   "source": [
    "light_gbm_random.best_score_"
   ]
  },
  {
   "cell_type": "markdown",
   "metadata": {},
   "source": [
    "Hemos conseguido una pequeña mejora respecto al modelo por defecto, una mejora de 0.002."
   ]
  },
  {
   "cell_type": "markdown",
   "metadata": {},
   "source": [
    "- A continuación se muestra la importancia que le ha dado el modelo a cada una de las características respecto de las otras."
   ]
  },
  {
   "cell_type": "code",
   "execution_count": 104,
   "metadata": {},
   "outputs": [],
   "source": [
    "best_lgb = light_gbm_random.best_estimator_"
   ]
  },
  {
   "cell_type": "code",
   "execution_count": 105,
   "metadata": {},
   "outputs": [
    {
     "data": {
      "image/png": "[encoded data removed]",
      "text/plain": [
       "<Figure size 576x432 with 1 Axes>"
      ]
     },
     "metadata": {
      "needs_background": "light"
     },
     "output_type": "display_data"
    }
   ],
   "source": [
    "plt.barh(df_songs_year.loc[:,\"year\":\"duration_ms\"].columns, best_lgb.feature_importances_);"
   ]
  },
  {
   "cell_type": "markdown",
   "metadata": {},
   "source": [
    "Para lightGBM podemos observar como la importancia del año respecto las demás características no es tan grande como en los 2 casos anteriores, aun así sigue siendo la característica más importante en nuestro modelo. "
   ]
  },
  {
   "cell_type": "markdown",
   "metadata": {},
   "source": [
    "-  Para la configuración obtenida, entrenamos el modelo con todo el dataset de entrenamiento y vemos los resultados obtenidos."
   ]
  },
  {
   "cell_type": "code",
   "execution_count": 106,
   "metadata": {},
   "outputs": [
    {
     "data": {
      "text/plain": [
       "LGBMClassifier(boosting_type='dart', class_weight=None, colsample_bytree=1.0,\n",
       "               importance_type='split', learning_rate=0.3, max_depth=10,\n",
       "               min_child_samples=31, min_child_weight=0.001, min_split_gain=0.0,\n",
       "               n_estimators=105, n_jobs=-1, num_leaves=40, objective=None,\n",
       "               random_state=32, reg_alpha=0.7, reg_lambda=0.8, silent=True,\n",
       "               subsample=1.0, subsample_for_bin=260000, subsample_freq=0)"
      ]
     },
     "execution_count": 106,
     "metadata": {},
     "output_type": "execute_result"
    }
   ],
   "source": [
    "best_lgb.fit(X_train,y_train)"
   ]
  },
  {
   "cell_type": "code",
   "execution_count": 107,
   "metadata": {},
   "outputs": [
    {
     "name": "stdout",
     "output_type": "stream",
     "text": [
      "Precisión sobre el juego de pruebas: 0.8579\n",
      "Precisión sobre el juego de train: 0.8841\n"
     ]
    }
   ],
   "source": [
    "print(\"Precisión sobre el juego de pruebas: {:.4f}\"\n",
    "      .format(best_lgb.score(X_test, y_test)))\n",
    "print(\"Precisión sobre el juego de train: {:.4f}\"\n",
    "      .format(best_lgb.score(X_train, y_train)))"
   ]
  },
  {
   "cell_type": "markdown",
   "metadata": {},
   "source": [
    "Podemos observar que para la nueva configuración se ha mejorado en *score* con los datos de entrenamiento, y algo peor se obtiene en los resultados para datos de test. Por tanto podríamos tomar ambos modelos, almacenaremos ambos y veremos con cuál nos quedamos según los resultados obtenidos en el cuaderno 4."
   ]
  },
  {
   "cell_type": "markdown",
   "metadata": {},
   "source": [
    "- Guardamos nuestro modelo obtenido, para su posterior uso"
   ]
  },
  {
   "cell_type": "code",
   "execution_count": 49,
   "metadata": {},
   "outputs": [],
   "source": [
    "filename = '../Models/light_gbm_model_random_year.pkl'"
   ]
  },
  {
   "cell_type": "code",
   "execution_count": 40,
   "metadata": {},
   "outputs": [
    {
     "data": {
      "text/plain": [
       "['../Models/light_gbm_model_random_year.pkl']"
      ]
     },
     "execution_count": 40,
     "metadata": {},
     "output_type": "execute_result"
    }
   ],
   "source": [
    "joblib.dump(best_lgb, filename)"
   ]
  },
  {
   "cell_type": "code",
   "execution_count": 50,
   "metadata": {},
   "outputs": [],
   "source": [
    "best_lgb = joblib.load(filename)"
   ]
  },
  {
   "cell_type": "markdown",
   "metadata": {},
   "source": [
    "- Representamos la curva ROC para ver de manera visual lo bueno que es nuestro modelo obtenido"
   ]
  },
  {
   "cell_type": "code",
   "execution_count": 51,
   "metadata": {},
   "outputs": [
    {
     "data": {
      "image/png": "[encoded data removed]",
      "text/plain": [
       "<Figure size 576x432 with 1 Axes>"
      ]
     },
     "metadata": {
      "needs_background": "light"
     },
     "output_type": "display_data"
    }
   ],
   "source": [
    "probs = best_lgb.predict_proba(X_test)\n",
    "preds = probs[:,1]\n",
    "fpr, tpr, threshold = metrics.roc_curve(y_test, preds)\n",
    "roc_auc = metrics.auc(fpr, tpr)\n",
    "\n",
    "plt.title('Receiver Operating Characteristic')\n",
    "plt.plot(fpr, tpr, 'b', label = 'AUC = %0.2f' % roc_auc)\n",
    "plt.legend(loc = 'lower right')\n",
    "plt.plot([0, 1], [0, 1],'r--')\n",
    "plt.xlim([0, 1])\n",
    "plt.ylim([0, 1])\n",
    "plt.ylabel('True Positive Rate')\n",
    "plt.xlabel('False Positive Rate')\n",
    "plt.show()"
   ]
  },
  {
   "cell_type": "markdown",
   "metadata": {},
   "source": [
    "Seguimos obteniendo buenos resultados de AUC=0.93."
   ]
  },
  {
   "cell_type": "markdown",
   "metadata": {},
   "source": [
    "- Utilizando la función definida al principio del cuaderno, podemos hacer predicciones sobre cualquier canción de interés."
   ]
  },
  {
   "cell_type": "code",
   "execution_count": 61,
   "metadata": {},
   "outputs": [
    {
     "name": "stdout",
     "output_type": "stream",
     "text": [
      "Artista: "
     ]
    },
    {
     "name": "stdin",
     "output_type": "stream",
     "text": [
      " billie eilish\n"
     ]
    },
    {
     "name": "stdout",
     "output_type": "stream",
     "text": [
      "Titulo: "
     ]
    },
    {
     "name": "stdin",
     "output_type": "stream",
     "text": [
      " bad guy\n"
     ]
    },
    {
     "name": "stdout",
     "output_type": "stream",
     "text": [
      "Canción elegida: bad guy de Billie Eilish\n",
      "porcentaje de ser hit: 24.24334175021682\n"
     ]
    }
   ],
   "source": [
    "score = best_lgb.predict_proba(find_song_year())\n",
    "print('porcentaje de ser hit:', score[0][1]*100)"
   ]
  },
  {
   "cell_type": "markdown",
   "metadata": {},
   "source": [
    "## Conclusiones"
   ]
  },
  {
   "cell_type": "markdown",
   "metadata": {},
   "source": [
    "Tras ver los resultados obtenidos para estos tres modelos, podemos observar que el que mejor resultado obtiene en la clasificación para los datos de test es lightgbm con un 0.8586 seguido de Ada Boost con un 0.8584 y por último *random forest* con un 0.8545. Hemos conseguido resultados para este caso muy parecidos, y superiores en casi 10% con respecto a los modelos que no usaban el año como feature. Pero como hemos comentado esto es una limitación muy importante si se quieren  hacer predicciones en fechas posteriores a 2020, siempre se tomaría esta fecha como corte, ya que no son modelos extrapolables en el tiempo, pero estos modelos si serian capaces de predecir mejor con canciones pasadas para ver si cumplen con la paramétrica de ser *hit*. En el cuaderno 4_model_testing podremos a prueba estos modelos, con canciones actuales y analizaremos cuál es capaz de predecir mejor para canciones actuales."
   ]
  }
 ],
 "metadata": {
  "kernelspec": {
   "display_name": "test",
   "language": "python",
   "name": "test"
  },
  "language_info": {
   "codemirror_mode": {
    "name": "ipython",
    "version": 3
   },
   "file_extension": ".py",
   "mimetype": "text/x-python",
   "name": "python",
   "nbconvert_exporter": "python",
   "pygments_lexer": "ipython3",
   "version": "3.7.7"
  }
 },
 "nbformat": 4,
 "nbformat_minor": 4
}
