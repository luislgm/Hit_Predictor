{
 "cells": [
  {
   "cell_type": "markdown",
   "metadata": {},
   "source": [
    "# Looking Predictive Model\n",
    "\n",
    "En este cuaderno se tratara de buscar el mejor modelo de aprendizaje supervisado para tratar de predecir el porcentaje de que una canción sea hit o no, acorde a las caracteristicas que hemos obtenido."
   ]
  },
  {
   "cell_type": "code",
   "execution_count": 1,
   "metadata": {},
   "outputs": [],
   "source": [
    "import numpy as np\n",
    "import pandas as pd\n",
    "pd.options.display.max_columns = None\n",
    "import sklearn.metrics as metrics\n",
    "from sklearn.model_selection import train_test_split\n",
    "from sklearn.model_selection import cross_val_score\n",
    "from sklearn.model_selection import RandomizedSearchCV\n",
    "from sklearn.model_selection import GridSearchCV\n",
    "from sklearn.model_selection import validation_curve\n",
    "import matplotlib.pyplot as plt\n",
    "import joblib\n",
    "plt.rcParams['figure.figsize'] = 8, 6"
   ]
  },
  {
   "cell_type": "markdown",
   "metadata": {},
   "source": [
    "- Definimos función que usaremos para extraer las caracteristicas necesarias de una canción para hacer una predicción de probabilidad de ser un *hit* una vez entrenado el modelo."
   ]
  },
  {
   "cell_type": "code",
   "execution_count": 2,
   "metadata": {},
   "outputs": [],
   "source": [
    "import spotipy\n",
    "import spotipy.util as util\n",
    "from spotipy.oauth2 import SpotifyClientCredentials\n",
    "\n",
    "client_credentials_manager = SpotifyClientCredentials(client_id='01ec25b32db847e3aeb622ebe1a894c8', client_secret='cd8d3b7666164ea5943688215d9226c2') \n",
    "sp = spotipy.Spotify(client_credentials_manager=client_credentials_manager, requests_timeout=50)\n",
    "\n",
    "def find_song():\n",
    "    print(\"Artista: \", end=\"\")\n",
    "    artist = input()\n",
    "    print(\"Titulo: \", end=\"\")\n",
    "    title = input()\n",
    "    Searched = str (title + \" \" + artist)\n",
    "    track = sp.search(Searched)\n",
    "    try:\n",
    "        id_track = track[\"tracks\"][\"items\"][0][\"uri\"]\n",
    "        track = sp.track(id_track)\n",
    "        track_feat = sp.audio_features(id_track)\n",
    "        song = [[track_feat[0][\"danceability\"], track_feat[0][\"energy\"], track_feat[0][\"key\"],\n",
    "        track_feat[0][\"loudness\"], track_feat[0][\"mode\"], track_feat[0][\"speechiness\"],\n",
    "        track_feat[0][\"acousticness\"], track_feat[0][\"instrumentalness\"], track_feat[0][\"liveness\"],\n",
    "        track_feat[0][\"valence\"], track_feat[0][\"tempo\"],track_feat[0][\"time_signature\"],\n",
    "                track[\"duration_ms\"]]]\n",
    "        \n",
    "        print (\"Canción elegida:\",track[\"name\"], \"de\", track[\"artists\"][0][\"name\"] )\n",
    "        return song\n",
    "    except:\n",
    "        print (\"ERROR: Titulo no encontrado\")"
   ]
  },
  {
   "cell_type": "markdown",
   "metadata": {},
   "source": [
    "- Se lee dataframe y se realiza *split* para los entrenamientos y test."
   ]
  },
  {
   "cell_type": "code",
   "execution_count": 3,
   "metadata": {},
   "outputs": [],
   "source": [
    "df_songs = pd.read_csv(\"../Data/fusion_songs_1993_2020_to_train.csv\")"
   ]
  },
  {
   "cell_type": "code",
   "execution_count": 4,
   "metadata": {},
   "outputs": [
    {
     "data": {
      "text/html": [
       "<div>\n",
       "<style scoped>\n",
       "    .dataframe tbody tr th:only-of-type {\n",
       "        vertical-align: middle;\n",
       "    }\n",
       "\n",
       "    .dataframe tbody tr th {\n",
       "        vertical-align: top;\n",
       "    }\n",
       "\n",
       "    .dataframe thead th {\n",
       "        text-align: right;\n",
       "    }\n",
       "</style>\n",
       "<table border=\"1\" class=\"dataframe\">\n",
       "  <thead>\n",
       "    <tr style=\"text-align: right;\">\n",
       "      <th></th>\n",
       "      <th>artist</th>\n",
       "      <th>title</th>\n",
       "      <th>id</th>\n",
       "      <th>year_chart</th>\n",
       "      <th>date_chart</th>\n",
       "      <th>release_date</th>\n",
       "      <th>collaboration</th>\n",
       "      <th>rank</th>\n",
       "      <th>weeks</th>\n",
       "      <th>isNew</th>\n",
       "      <th>peakPos</th>\n",
       "      <th>lastPos</th>\n",
       "      <th>danceability</th>\n",
       "      <th>energy</th>\n",
       "      <th>key</th>\n",
       "      <th>loudness</th>\n",
       "      <th>mode</th>\n",
       "      <th>speechiness</th>\n",
       "      <th>acousticness</th>\n",
       "      <th>instrumentalness</th>\n",
       "      <th>liveness</th>\n",
       "      <th>valence</th>\n",
       "      <th>tempo</th>\n",
       "      <th>time_signature</th>\n",
       "      <th>duration_ms</th>\n",
       "      <th>popularity_artist</th>\n",
       "      <th>popularity_song</th>\n",
       "      <th>genres</th>\n",
       "      <th>album</th>\n",
       "      <th>label</th>\n",
       "      <th>song_lyrics</th>\n",
       "      <th>target</th>\n",
       "    </tr>\n",
       "  </thead>\n",
       "  <tbody>\n",
       "    <tr>\n",
       "      <th>0</th>\n",
       "      <td>PARTYNEXTDOOR</td>\n",
       "      <td>Come and See Me (feat. Drake)</td>\n",
       "      <td>1wZqJM5FGDEl3FjHDxDyQd</td>\n",
       "      <td>2016.0</td>\n",
       "      <td>2016-12-31</td>\n",
       "      <td>2016-08-12</td>\n",
       "      <td>True</td>\n",
       "      <td>63.0</td>\n",
       "      <td>24.0</td>\n",
       "      <td>False</td>\n",
       "      <td>55.0</td>\n",
       "      <td>56.0</td>\n",
       "      <td>0.717</td>\n",
       "      <td>0.347</td>\n",
       "      <td>11</td>\n",
       "      <td>-10.265</td>\n",
       "      <td>0</td>\n",
       "      <td>0.0636</td>\n",
       "      <td>0.0511</td>\n",
       "      <td>0.000002</td>\n",
       "      <td>0.087</td>\n",
       "      <td>0.0589</td>\n",
       "      <td>84.987</td>\n",
       "      <td>4</td>\n",
       "      <td>235477</td>\n",
       "      <td>83</td>\n",
       "      <td>73</td>\n",
       "      <td>['pop', 'pop rap', 'rap', 'toronto rap', 'trap...</td>\n",
       "      <td>PARTYNEXTDOOR 3 (P3)</td>\n",
       "      <td>OVO Sound/Warner Records</td>\n",
       "      <td>Usually hear the phone late night like now\\nSh...</td>\n",
       "      <td>1</td>\n",
       "    </tr>\n",
       "    <tr>\n",
       "      <th>1</th>\n",
       "      <td>Macy Todd</td>\n",
       "      <td>I've Got a Feelin'</td>\n",
       "      <td>2xnIFEOXHXlzIyJN0itwBX</td>\n",
       "      <td>NaN</td>\n",
       "      <td>NaN</td>\n",
       "      <td>2016-07-15</td>\n",
       "      <td>False</td>\n",
       "      <td>NaN</td>\n",
       "      <td>NaN</td>\n",
       "      <td>NaN</td>\n",
       "      <td>NaN</td>\n",
       "      <td>NaN</td>\n",
       "      <td>0.475</td>\n",
       "      <td>0.546</td>\n",
       "      <td>10</td>\n",
       "      <td>-7.140</td>\n",
       "      <td>0</td>\n",
       "      <td>0.0399</td>\n",
       "      <td>0.3570</td>\n",
       "      <td>0.000056</td>\n",
       "      <td>0.330</td>\n",
       "      <td>0.4930</td>\n",
       "      <td>183.895</td>\n",
       "      <td>3</td>\n",
       "      <td>220533</td>\n",
       "      <td>27</td>\n",
       "      <td>0</td>\n",
       "      <td>[]</td>\n",
       "      <td>I've Got a Feelin'</td>\n",
       "      <td>Macy Todd Music</td>\n",
       "      <td>NaN</td>\n",
       "      <td>0</td>\n",
       "    </tr>\n",
       "    <tr>\n",
       "      <th>2</th>\n",
       "      <td>The Japanese House</td>\n",
       "      <td>You Seemed so Happy</td>\n",
       "      <td>0NuIfPuBhUAt4aA4HP0rUu</td>\n",
       "      <td>NaN</td>\n",
       "      <td>NaN</td>\n",
       "      <td>2019-03-01</td>\n",
       "      <td>False</td>\n",
       "      <td>NaN</td>\n",
       "      <td>NaN</td>\n",
       "      <td>NaN</td>\n",
       "      <td>NaN</td>\n",
       "      <td>NaN</td>\n",
       "      <td>0.519</td>\n",
       "      <td>0.888</td>\n",
       "      <td>11</td>\n",
       "      <td>-6.232</td>\n",
       "      <td>1</td>\n",
       "      <td>0.1170</td>\n",
       "      <td>0.0406</td>\n",
       "      <td>0.000000</td>\n",
       "      <td>0.227</td>\n",
       "      <td>0.4160</td>\n",
       "      <td>149.938</td>\n",
       "      <td>4</td>\n",
       "      <td>162485</td>\n",
       "      <td>63</td>\n",
       "      <td>52</td>\n",
       "      <td>['art pop', 'electropop', 'indie pop', 'indie ...</td>\n",
       "      <td>Good At Falling</td>\n",
       "      <td>Dirty Hit/The Japanese House PS</td>\n",
       "      <td>NaN</td>\n",
       "      <td>0</td>\n",
       "    </tr>\n",
       "    <tr>\n",
       "      <th>3</th>\n",
       "      <td>Krzysztof Komeda</td>\n",
       "      <td>Rosemary's Baby Main Theme Vocal</td>\n",
       "      <td>28D0Hfi6x9zAeGr1sDYBkb</td>\n",
       "      <td>NaN</td>\n",
       "      <td>NaN</td>\n",
       "      <td>2008-07-21</td>\n",
       "      <td>False</td>\n",
       "      <td>NaN</td>\n",
       "      <td>NaN</td>\n",
       "      <td>NaN</td>\n",
       "      <td>NaN</td>\n",
       "      <td>NaN</td>\n",
       "      <td>0.265</td>\n",
       "      <td>0.255</td>\n",
       "      <td>3</td>\n",
       "      <td>-11.284</td>\n",
       "      <td>1</td>\n",
       "      <td>0.0358</td>\n",
       "      <td>0.8410</td>\n",
       "      <td>0.138000</td>\n",
       "      <td>0.247</td>\n",
       "      <td>0.1100</td>\n",
       "      <td>116.572</td>\n",
       "      <td>3</td>\n",
       "      <td>152866</td>\n",
       "      <td>32</td>\n",
       "      <td>33</td>\n",
       "      <td>['polish jazz']</td>\n",
       "      <td>Rosemary's Baby</td>\n",
       "      <td>Harkit Records</td>\n",
       "      <td>NaN</td>\n",
       "      <td>0</td>\n",
       "    </tr>\n",
       "    <tr>\n",
       "      <th>4</th>\n",
       "      <td>Flyte</td>\n",
       "      <td>White Roses</td>\n",
       "      <td>5xxHfQuaXGEBHtsGbSXwI7</td>\n",
       "      <td>NaN</td>\n",
       "      <td>NaN</td>\n",
       "      <td>2019-07-05</td>\n",
       "      <td>True</td>\n",
       "      <td>NaN</td>\n",
       "      <td>NaN</td>\n",
       "      <td>NaN</td>\n",
       "      <td>NaN</td>\n",
       "      <td>NaN</td>\n",
       "      <td>0.530</td>\n",
       "      <td>0.633</td>\n",
       "      <td>10</td>\n",
       "      <td>-7.078</td>\n",
       "      <td>1</td>\n",
       "      <td>0.0283</td>\n",
       "      <td>0.3910</td>\n",
       "      <td>0.015200</td>\n",
       "      <td>0.142</td>\n",
       "      <td>0.6050</td>\n",
       "      <td>140.186</td>\n",
       "      <td>4</td>\n",
       "      <td>206445</td>\n",
       "      <td>46</td>\n",
       "      <td>53</td>\n",
       "      <td>['english indie rock']</td>\n",
       "      <td>White Roses</td>\n",
       "      <td>Universal-Island Records Ltd.</td>\n",
       "      <td>NaN</td>\n",
       "      <td>0</td>\n",
       "    </tr>\n",
       "  </tbody>\n",
       "</table>\n",
       "</div>"
      ],
      "text/plain": [
       "               artist                             title  \\\n",
       "0       PARTYNEXTDOOR     Come and See Me (feat. Drake)   \n",
       "1           Macy Todd                I've Got a Feelin'   \n",
       "2  The Japanese House               You Seemed so Happy   \n",
       "3    Krzysztof Komeda  Rosemary's Baby Main Theme Vocal   \n",
       "4               Flyte                       White Roses   \n",
       "\n",
       "                       id  year_chart  date_chart release_date  collaboration  \\\n",
       "0  1wZqJM5FGDEl3FjHDxDyQd      2016.0  2016-12-31   2016-08-12           True   \n",
       "1  2xnIFEOXHXlzIyJN0itwBX         NaN         NaN   2016-07-15          False   \n",
       "2  0NuIfPuBhUAt4aA4HP0rUu         NaN         NaN   2019-03-01          False   \n",
       "3  28D0Hfi6x9zAeGr1sDYBkb         NaN         NaN   2008-07-21          False   \n",
       "4  5xxHfQuaXGEBHtsGbSXwI7         NaN         NaN   2019-07-05           True   \n",
       "\n",
       "   rank  weeks  isNew  peakPos  lastPos  danceability  energy  key  loudness  \\\n",
       "0  63.0   24.0  False     55.0     56.0         0.717   0.347   11   -10.265   \n",
       "1   NaN    NaN    NaN      NaN      NaN         0.475   0.546   10    -7.140   \n",
       "2   NaN    NaN    NaN      NaN      NaN         0.519   0.888   11    -6.232   \n",
       "3   NaN    NaN    NaN      NaN      NaN         0.265   0.255    3   -11.284   \n",
       "4   NaN    NaN    NaN      NaN      NaN         0.530   0.633   10    -7.078   \n",
       "\n",
       "   mode  speechiness  acousticness  instrumentalness  liveness  valence  \\\n",
       "0     0       0.0636        0.0511          0.000002     0.087   0.0589   \n",
       "1     0       0.0399        0.3570          0.000056     0.330   0.4930   \n",
       "2     1       0.1170        0.0406          0.000000     0.227   0.4160   \n",
       "3     1       0.0358        0.8410          0.138000     0.247   0.1100   \n",
       "4     1       0.0283        0.3910          0.015200     0.142   0.6050   \n",
       "\n",
       "     tempo  time_signature  duration_ms  popularity_artist  popularity_song  \\\n",
       "0   84.987               4       235477                 83               73   \n",
       "1  183.895               3       220533                 27                0   \n",
       "2  149.938               4       162485                 63               52   \n",
       "3  116.572               3       152866                 32               33   \n",
       "4  140.186               4       206445                 46               53   \n",
       "\n",
       "                                              genres                 album  \\\n",
       "0  ['pop', 'pop rap', 'rap', 'toronto rap', 'trap...  PARTYNEXTDOOR 3 (P3)   \n",
       "1                                                 []    I've Got a Feelin'   \n",
       "2  ['art pop', 'electropop', 'indie pop', 'indie ...       Good At Falling   \n",
       "3                                    ['polish jazz']       Rosemary's Baby   \n",
       "4                             ['english indie rock']           White Roses   \n",
       "\n",
       "                             label  \\\n",
       "0         OVO Sound/Warner Records   \n",
       "1                  Macy Todd Music   \n",
       "2  Dirty Hit/The Japanese House PS   \n",
       "3                   Harkit Records   \n",
       "4    Universal-Island Records Ltd.   \n",
       "\n",
       "                                         song_lyrics  target  \n",
       "0  Usually hear the phone late night like now\\nSh...       1  \n",
       "1                                                NaN       0  \n",
       "2                                                NaN       0  \n",
       "3                                                NaN       0  \n",
       "4                                                NaN       0  "
      ]
     },
     "execution_count": 4,
     "metadata": {},
     "output_type": "execute_result"
    }
   ],
   "source": [
    "df_songs.head()"
   ]
  },
  {
   "cell_type": "code",
   "execution_count": 5,
   "metadata": {},
   "outputs": [],
   "source": [
    "X = df_songs.loc[:,\"danceability\":\"duration_ms\"]\n",
    "y = df_songs.iloc[:,-1]\n",
    "X_train, X_test, y_train, y_test = train_test_split(X, y, random_state=0)"
   ]
  },
  {
   "cell_type": "markdown",
   "metadata": {},
   "source": [
    "Atendiendo a las caracteristicas del dataset, y dado el tipo de problema, vemos con bastante posibilidades de una buena predicción al uso de algoritmos random forest, a partir de este iremos utilizando cada vez modelos mas avanzados para analizar si se consiguen unas mejores predicciones."
   ]
  },
  {
   "cell_type": "markdown",
   "metadata": {},
   "source": [
    "## Random Forest"
   ]
  },
  {
   "cell_type": "markdown",
   "metadata": {},
   "source": [
    "- Como se ha explicado, el primer modelo que usaremos de aprendizaje automatico, será *random forest*"
   ]
  },
  {
   "cell_type": "code",
   "execution_count": 6,
   "metadata": {},
   "outputs": [],
   "source": [
    "from sklearn.ensemble import RandomForestClassifier"
   ]
  },
  {
   "cell_type": "markdown",
   "metadata": {},
   "source": [
    "- Probamos el modelo de *random forest* con la configuración por defecto dada por *sklearn*"
   ]
  },
  {
   "cell_type": "code",
   "execution_count": 7,
   "metadata": {},
   "outputs": [],
   "source": [
    "forest = RandomForestClassifier ()"
   ]
  },
  {
   "cell_type": "code",
   "execution_count": 8,
   "metadata": {},
   "outputs": [
    {
     "name": "stdout",
     "output_type": "stream",
     "text": [
      "Wall time: 12.3 s\n"
     ]
    },
    {
     "data": {
      "text/plain": [
       "0.7599378464693165"
      ]
     },
     "execution_count": 8,
     "metadata": {},
     "output_type": "execute_result"
    }
   ],
   "source": [
    "%%time\n",
    "cross_val_score(forest,X_train,y_train,cv=5).mean()"
   ]
  },
  {
   "cell_type": "markdown",
   "metadata": {},
   "source": [
    "Vemos el *score* obtenido utilizando *cross validation* ya que sin usar esta tecnica, los modelos basados en arboles de decisión tenderan al sobrenetrenamiento y serán poco generalizables."
   ]
  },
  {
   "cell_type": "markdown",
   "metadata": {},
   "source": [
    "La función anterior no almacena el entrenamiento generado, por ello entrenamos el arbol, pero ahora usando todo el dataset para ver los resultados obtenidos con todo el dataset."
   ]
  },
  {
   "cell_type": "code",
   "execution_count": 9,
   "metadata": {},
   "outputs": [
    {
     "data": {
      "text/plain": [
       "RandomForestClassifier(bootstrap=True, ccp_alpha=0.0, class_weight=None,\n",
       "                       criterion='gini', max_depth=None, max_features='auto',\n",
       "                       max_leaf_nodes=None, max_samples=None,\n",
       "                       min_impurity_decrease=0.0, min_impurity_split=None,\n",
       "                       min_samples_leaf=1, min_samples_split=2,\n",
       "                       min_weight_fraction_leaf=0.0, n_estimators=100,\n",
       "                       n_jobs=None, oob_score=False, random_state=None,\n",
       "                       verbose=0, warm_start=False)"
      ]
     },
     "execution_count": 9,
     "metadata": {},
     "output_type": "execute_result"
    }
   ],
   "source": [
    "forest.fit(X_train,y_train)"
   ]
  },
  {
   "cell_type": "code",
   "execution_count": 10,
   "metadata": {},
   "outputs": [
    {
     "name": "stdout",
     "output_type": "stream",
     "text": [
      "Precisión sobre datos de pruebas: 0.7631\n",
      "Precisión sobre datos de train: 0.9998\n"
     ]
    }
   ],
   "source": [
    "print(\"Precisión sobre datos de pruebas: {:.4f}\"\n",
    "      .format(forest.score(X_test, y_test)))\n",
    "print(\"Precisión sobre datos de train: {:.4f}\"\n",
    "      .format(forest.score(X_train, y_train)))"
   ]
  },
  {
   "cell_type": "markdown",
   "metadata": {},
   "source": [
    "Como se ha comentado los modelos basados en arboles de decisión tenderan al sobrenetrenamiento, por lo que la mejor manera es configurarlos utilizando las tecnicas de *cross validation* para que aunque los resultados obtenidos con el entrenamiento den mas bajos, sean modelos mas generalizables."
   ]
  },
  {
   "cell_type": "markdown",
   "metadata": {},
   "source": [
    "- El numero de estimadores influencia bastante en la rapidez de entremaniento del modelo, ya que indica el numero de arboles usados en el modelo, pero este valor no debe de ser excesivamente alto para obtener un buen *score*. Para ello calcularemos el *score* para diferentes numeros de estimadores con un *cross val* de 5 que es el que toma por defeccto la función"
   ]
  },
  {
   "cell_type": "code",
   "execution_count": 11,
   "metadata": {},
   "outputs": [],
   "source": [
    "param_range = [40,50,60,90,100,130,150,200,250,300]\n",
    "train_score, test_score= validation_curve(\n",
    "                                forest,\n",
    "                                X = X_train, y = y_train, \n",
    "                                param_name = 'n_estimators', \n",
    "                               param_range=param_range,\n",
    "                                scoring=\"accuracy\")"
   ]
  },
  {
   "cell_type": "code",
   "execution_count": 12,
   "metadata": {},
   "outputs": [
    {
     "name": "stdout",
     "output_type": "stream",
     "text": [
      "Numero de estimadores para un Cross_val 5 (test) y para todo dataset de entrenamiento (train)\n",
      "n_estimators 40 en test: 0.7605895033130505 en train: 0.9996090157168964\n",
      "n_estimators 50 en test: 0.7578520096414392 en train: 0.9997393486770424\n",
      "n_estimators 60 en test: 0.7599377827874203 en train: 0.999837092425515\n",
      "n_estimators 90 en test: 0.7639125732474478 en train: 0.9998370910984848\n",
      "n_estimators 100 en test: 0.7596768143768249 en train: 0.9998370924255152\n",
      "n_estimators 130 en test: 0.763651541154956 en train: 0.9998533830502605\n",
      "n_estimators 150 en test: 0.7616973135792092 en train: 0.9998533830502605\n",
      "n_estimators 200 en test: 0.763651859564437 en train: 0.9998533830502605\n",
      "n_estimators 250 en test: 0.7641733718396532 en train: 0.9998533830502605\n",
      "n_estimators 300 en test: 0.7621532335013474 en train: 0.9998533830502605\n"
     ]
    }
   ],
   "source": [
    "print(\"Numero de estimadores para un Cross_val 5 (test) y para todo dataset de entrenamiento (train)\")\n",
    "print ('n_estimators 40 en test:',test_score[0].mean(),'en train:',train_score[0].mean())\n",
    "print ('n_estimators 50 en test:',test_score[1].mean(),'en train:',train_score[1].mean())\n",
    "print ('n_estimators 60 en test:',test_score[2].mean(),'en train:',train_score[2].mean())\n",
    "print ('n_estimators 90 en test:',test_score[3].mean(),'en train:',train_score[3].mean())\n",
    "print ('n_estimators 100 en test:',test_score[4].mean(),'en train:',train_score[4].mean())\n",
    "print ('n_estimators 130 en test:',test_score[5].mean(),'en train:',train_score[5].mean())\n",
    "print ('n_estimators 150 en test:',test_score[6].mean(),'en train:',train_score[6].mean())\n",
    "print ('n_estimators 200 en test:',test_score[7].mean(),'en train:',train_score[7].mean())\n",
    "print ('n_estimators 250 en test:',test_score[8].mean(),'en train:',train_score[8].mean())\n",
    "print ('n_estimators 300 en test:',test_score[9].mean(),'en train:',train_score[9].mean())"
   ]
  },
  {
   "cell_type": "markdown",
   "metadata": {},
   "source": [
    "Tomando el valor medio de cada resultado, ya que por cada prueba obtendremos 5 resultados que son las 5 partes en las que se divide el dataset, segun lo indicado con un *cross val* de 5. Vemos que aumentando el numero de estimadores las mejoras en el modelo son casi imperceptibles, se mantienen casi constante con pequeñas oscilaciones. Por lo que para entrenamientos del modelo no suele ser necesario un uso muy alto del numero de estimadores que lo unico que haran es aumentar el tiempo de entrenamiento."
   ]
  },
  {
   "cell_type": "code",
   "execution_count": 13,
   "metadata": {},
   "outputs": [
    {
     "data": {
      "image/png": "[encoded data removed]",
      "text/plain": [
       "<Figure size 576x432 with 1 Axes>"
      ]
     },
     "metadata": {
      "needs_background": "light"
     },
     "output_type": "display_data"
    }
   ],
   "source": [
    "train_scores_mean = np.mean(train_score, axis=1)\n",
    "train_scores_std = np.std(train_score, axis=1)\n",
    "test_scores_mean = np.mean(test_score, axis=1)\n",
    "test_scores_std = np.std(test_score, axis=1)\n",
    "\n",
    "plt.title(\"Curva de validación con RandomForest\")\n",
    "plt.xlabel(r\"$\\gamma$\")\n",
    "plt.ylabel(\"Score\")\n",
    "plt.ylim(0.7, 1.1)\n",
    "lw = 2\n",
    "plt.semilogx(param_range, train_scores_mean, label=\"Training score\",\n",
    "             color=\"darkorange\", lw=lw)\n",
    "plt.fill_between(param_range, train_scores_mean - train_scores_std,\n",
    "                 train_scores_mean + train_scores_std, alpha=0.2,\n",
    "                 color=\"darkorange\", lw=lw)\n",
    "plt.semilogx(param_range, test_scores_mean, label=\"Cross-validation score\",\n",
    "             color=\"navy\", lw=lw)\n",
    "plt.fill_between(param_range, test_scores_mean - test_scores_std,\n",
    "                 test_scores_mean + test_scores_std, alpha=0.2,\n",
    "                 color=\"navy\", lw=lw)\n",
    "plt.legend(loc=\"best\")\n",
    "plt.show()"
   ]
  },
  {
   "cell_type": "markdown",
   "metadata": {},
   "source": [
    "- A continuación vamos a tratar de mejorar el *score* de nuestro modelo y para ello usaremos la función de RandomizedSearchCV que dado unos rangos en los parametros que indiquemos, ira probando combinaciones aleatorias hasta un numero de pruebas elegido por nosotros. Tambien existe la tecnica de Gridsearch que prueba todas las combinaciones, pero esto haria que el proceso durase varios días, posteriormente usaremos esta tecnica para afinar mas el score, con rangos mas pequeños que son viables en tiempo. Aun así la siguiente prueba ha llevado un total de 456.4 min"
   ]
  },
  {
   "cell_type": "code",
   "execution_count": 15,
   "metadata": {},
   "outputs": [],
   "source": [
    "forest = RandomForestClassifier (random_state=32)"
   ]
  },
  {
   "cell_type": "code",
   "execution_count": 24,
   "metadata": {},
   "outputs": [
    {
     "name": "stdout",
     "output_type": "stream",
     "text": [
      "{'n_estimators': [30, 43, 56, 70, 83, 96, 110, 123, 136, 150], 'max_features': [1, 2, 3, 4, 5, 6, 7, 8, 9, 10, 11, 12, 13, 'auto'], 'max_depth': [10, 20, 30, 40, 50, 60, 70, 80, 90, 100, 110, None], 'min_samples_split': [2, 5, 10], 'min_samples_leaf': [1, 2, 3, 4, 5], 'max_leaf_nodes': [10, 15, 20, 25, 30, 35, 40, 45, 50, 55, 60, 65, 70, 75, 80, 85, 90, 95, 100, None]}\n"
     ]
    }
   ],
   "source": [
    "# Numero de arboles del bosque\n",
    "n_estimators = [int(x) for x in np.linspace(start = 30, stop = 150, num = 10)]\n",
    "# Numero de caracteristicas proporcionadas a cada arbol\n",
    "max_features = [1,2,3,4,5,6,7,8,9,10,11,12,13]\n",
    "max_features.append('auto')\n",
    "# Profundidad de arbol\n",
    "max_depth = [int(x) for x in np.linspace(10, 110, num = 11)]\n",
    "max_depth.append(None)\n",
    "# Minimo valor para separar en subnodos\n",
    "min_samples_split = [2, 5, 10]\n",
    "# Minimo numero de muestras necesarias en hoja despues de dividir\n",
    "min_samples_leaf = [1, 2,3, 4, 5]\n",
    "# Numero maximo de nodos finales\n",
    "max_leaf_nodes = [int(x) for x in np.linspace(10, 100, num = 19)]\n",
    "max_leaf_nodes.append(None)\n",
    "# Creacion de cuadrícula aleatoria\n",
    "param_grid = {'n_estimators': n_estimators,\n",
    "               'max_features': max_features,\n",
    "               'max_depth': max_depth,\n",
    "               'min_samples_split': min_samples_split,\n",
    "               'min_samples_leaf': min_samples_leaf,\n",
    "               \"max_leaf_nodes\": max_leaf_nodes}\n",
    "print(param_grid)"
   ]
  },
  {
   "cell_type": "markdown",
   "metadata": {},
   "source": [
    "Seleccionamos para la prueba un *cross val* de 5, definimos random_state, cantidad de mensajes que salga, uso de todas las CPUs disponibles."
   ]
  },
  {
   "cell_type": "code",
   "execution_count": 25,
   "metadata": {},
   "outputs": [],
   "source": [
    "forest_random = RandomizedSearchCV(estimator = forest, param_distributions = param_grid, n_iter = 3500, cv = 5, verbose=2, random_state=42, n_jobs = -1)"
   ]
  },
  {
   "cell_type": "code",
   "execution_count": 26,
   "metadata": {},
   "outputs": [
    {
     "name": "stdout",
     "output_type": "stream",
     "text": [
      "Fitting 5 folds for each of 3500 candidates, totalling 17500 fits\n"
     ]
    },
    {
     "name": "stderr",
     "output_type": "stream",
     "text": [
      "[Parallel(n_jobs=-1)]: Using backend LokyBackend with 8 concurrent workers.\n",
      "[Parallel(n_jobs=-1)]: Done  25 tasks      | elapsed:   41.3s\n",
      "[Parallel(n_jobs=-1)]: Done 146 tasks      | elapsed:  2.7min\n",
      "[Parallel(n_jobs=-1)]: Done 349 tasks      | elapsed:  5.0min\n",
      "[Parallel(n_jobs=-1)]: Done 632 tasks      | elapsed:  7.8min\n",
      "[Parallel(n_jobs=-1)]: Done 997 tasks      | elapsed: 12.4min\n",
      "[Parallel(n_jobs=-1)]: Done 1442 tasks      | elapsed: 18.2min\n",
      "[Parallel(n_jobs=-1)]: Done 1969 tasks      | elapsed: 24.4min\n",
      "[Parallel(n_jobs=-1)]: Done 2576 tasks      | elapsed: 31.1min\n",
      "[Parallel(n_jobs=-1)]: Done 3265 tasks      | elapsed: 39.1min\n",
      "[Parallel(n_jobs=-1)]: Done 4034 tasks      | elapsed: 48.1min\n",
      "[Parallel(n_jobs=-1)]: Done 4885 tasks      | elapsed: 57.7min\n",
      "[Parallel(n_jobs=-1)]: Done 5816 tasks      | elapsed: 67.8min\n",
      "[Parallel(n_jobs=-1)]: Done 6829 tasks      | elapsed: 78.7min\n",
      "[Parallel(n_jobs=-1)]: Done 7922 tasks      | elapsed: 90.8min\n",
      "[Parallel(n_jobs=-1)]: Done 9097 tasks      | elapsed: 104.1min\n",
      "[Parallel(n_jobs=-1)]: Done 10352 tasks      | elapsed: 118.8min\n",
      "[Parallel(n_jobs=-1)]: Done 11689 tasks      | elapsed: 135.1min\n",
      "[Parallel(n_jobs=-1)]: Done 13106 tasks      | elapsed: 150.8min\n",
      "[Parallel(n_jobs=-1)]: Done 14605 tasks      | elapsed: 168.1min\n",
      "[Parallel(n_jobs=-1)]: Done 16184 tasks      | elapsed: 187.1min\n",
      "[Parallel(n_jobs=-1)]: Done 17500 out of 17500 | elapsed: 201.7min finished\n"
     ]
    },
    {
     "data": {
      "text/plain": [
       "RandomizedSearchCV(cv=5, error_score=nan,\n",
       "                   estimator=RandomForestClassifier(bootstrap=True,\n",
       "                                                    ccp_alpha=0.0,\n",
       "                                                    class_weight=None,\n",
       "                                                    criterion='gini',\n",
       "                                                    max_depth=None,\n",
       "                                                    max_features='auto',\n",
       "                                                    max_leaf_nodes=None,\n",
       "                                                    max_samples=None,\n",
       "                                                    min_impurity_decrease=0.0,\n",
       "                                                    min_impurity_split=None,\n",
       "                                                    min_samples_leaf=1,\n",
       "                                                    min_samples_split=2,\n",
       "                                                    min_weight_fraction_leaf=0.0,\n",
       "                                                    n_estimators=100,\n",
       "                                                    n_jobs...\n",
       "                                                      None],\n",
       "                                        'max_features': [1, 2, 3, 4, 5, 6, 7, 8,\n",
       "                                                         9, 10, 11, 12, 13,\n",
       "                                                         'auto'],\n",
       "                                        'max_leaf_nodes': [10, 15, 20, 25, 30,\n",
       "                                                           35, 40, 45, 50, 55,\n",
       "                                                           60, 65, 70, 75, 80,\n",
       "                                                           85, 90, 95, 100,\n",
       "                                                           None],\n",
       "                                        'min_samples_leaf': [1, 2, 3, 4, 5],\n",
       "                                        'min_samples_split': [2, 5, 10],\n",
       "                                        'n_estimators': [30, 43, 56, 70, 83, 96,\n",
       "                                                         110, 123, 136, 150]},\n",
       "                   pre_dispatch='2*n_jobs', random_state=42, refit=True,\n",
       "                   return_train_score=False, scoring=None, verbose=2)"
      ]
     },
     "execution_count": 26,
     "metadata": {},
     "output_type": "execute_result"
    }
   ],
   "source": [
    "forest_random.fit(X_train, y_train)"
   ]
  },
  {
   "cell_type": "markdown",
   "metadata": {},
   "source": [
    "- A continuacion se puede ver la mejor configuración encontrada para las iteraciones probadas y el score obtenido para esa configuración."
   ]
  },
  {
   "cell_type": "code",
   "execution_count": 27,
   "metadata": {},
   "outputs": [
    {
     "data": {
      "text/plain": [
       "{'n_estimators': 110,\n",
       " 'min_samples_split': 10,\n",
       " 'min_samples_leaf': 3,\n",
       " 'max_leaf_nodes': None,\n",
       " 'max_features': 1,\n",
       " 'max_depth': 20}"
      ]
     },
     "execution_count": 27,
     "metadata": {},
     "output_type": "execute_result"
    }
   ],
   "source": [
    "forest_random.best_params_"
   ]
  },
  {
   "cell_type": "code",
   "execution_count": 29,
   "metadata": {},
   "outputs": [
    {
     "data": {
      "text/plain": [
       "0.7672357493183383"
      ]
     },
     "execution_count": 29,
     "metadata": {},
     "output_type": "execute_result"
    }
   ],
   "source": [
    "forest_random.best_score_"
   ]
  },
  {
   "cell_type": "markdown",
   "metadata": {},
   "source": [
    "- La siguente grafica es bastante intersante, ya que muestra la importancia de las caracteristicas respecto de otras, es importante considerar esto ya que las caracteristicas que tengan poca importancia, lo son pero respecto de las otras no quiere decir que su eliminacion del entrenamiento mantenga unos score como hemos obtenido o que mejore el modelo."
   ]
  },
  {
   "cell_type": "code",
   "execution_count": 39,
   "metadata": {},
   "outputs": [],
   "source": [
    "best_forest = forest_random.best_estimator_"
   ]
  },
  {
   "cell_type": "code",
   "execution_count": 40,
   "metadata": {},
   "outputs": [
    {
     "data": {
      "image/png": "[encoded data removed]",
      "text/plain": [
       "<Figure size 576x432 with 1 Axes>"
      ]
     },
     "metadata": {
      "needs_background": "light"
     },
     "output_type": "display_data"
    }
   ],
   "source": [
    "plt.barh(df_songs.loc[:,\"danceability\":\"duration_ms\"].columns, best_forest.feature_importances_);"
   ]
  },
  {
   "cell_type": "markdown",
   "metadata": {},
   "source": [
    "- Con la mejor configuración obtenida entrenamos el modelo con todo el dataset de entrenamiento y vemos resultados obtenidos, tantoco con los datos de entrenamiento como test."
   ]
  },
  {
   "cell_type": "code",
   "execution_count": 41,
   "metadata": {},
   "outputs": [
    {
     "data": {
      "text/plain": [
       "RandomForestClassifier(bootstrap=True, ccp_alpha=0.0, class_weight=None,\n",
       "                       criterion='gini', max_depth=20, max_features=1,\n",
       "                       max_leaf_nodes=None, max_samples=None,\n",
       "                       min_impurity_decrease=0.0, min_impurity_split=None,\n",
       "                       min_samples_leaf=3, min_samples_split=10,\n",
       "                       min_weight_fraction_leaf=0.0, n_estimators=110,\n",
       "                       n_jobs=None, oob_score=False, random_state=32, verbose=0,\n",
       "                       warm_start=False)"
      ]
     },
     "execution_count": 41,
     "metadata": {},
     "output_type": "execute_result"
    }
   ],
   "source": [
    "best_forest.fit(X_train,y_train)"
   ]
  },
  {
   "cell_type": "code",
   "execution_count": 42,
   "metadata": {},
   "outputs": [
    {
     "name": "stdout",
     "output_type": "stream",
     "text": [
      "Precisión sobre datos de pruebas: 0.7662\n",
      "Precisión sobre datos de train: 0.8829\n"
     ]
    }
   ],
   "source": [
    "print(\"Precisión sobre datos de pruebas: {:.4f}\"\n",
    "      .format(best_forest.score(X_test, y_test)))\n",
    "print(\"Precisión sobre datos de train: {:.4f}\"\n",
    "      .format(best_forest.score(X_train, y_train)))"
   ]
  },
  {
   "cell_type": "markdown",
   "metadata": {},
   "source": [
    "Podemos ver como el *score* con los datos de entrenamiento, ha decrecido con respecto al modelo inicial, pero en cambio hemos mejorado ligeramente el resultado sobre los resultados de test, en este caso 0.02, que es de lo que se trataba buscar un modelo mas generalizable."
   ]
  },
  {
   "cell_type": "markdown",
   "metadata": {},
   "source": [
    "- En este punto almacenaremos nuestro modelo obtenido, para su posterior uso"
   ]
  },
  {
   "cell_type": "code",
   "execution_count": 35,
   "metadata": {},
   "outputs": [],
   "source": [
    "filename = 'forest_model_random_93_20.pkl'"
   ]
  },
  {
   "cell_type": "code",
   "execution_count": 36,
   "metadata": {},
   "outputs": [
    {
     "data": {
      "text/plain": [
       "['forest_model_random_93_20.pkl']"
      ]
     },
     "execution_count": 36,
     "metadata": {},
     "output_type": "execute_result"
    }
   ],
   "source": [
    "joblib.dump(best_forest, filename)"
   ]
  },
  {
   "cell_type": "code",
   "execution_count": 37,
   "metadata": {},
   "outputs": [],
   "source": [
    "best_forest = joblib.load(filename) "
   ]
  },
  {
   "cell_type": "markdown",
   "metadata": {},
   "source": [
    "- Por ultimo represntamos la curva ROC para ver de manera visual lo bueno que es nuestro modelo obtenido"
   ]
  },
  {
   "cell_type": "code",
   "execution_count": 43,
   "metadata": {},
   "outputs": [
    {
     "data": {
      "image/png": "[encoded data removed]",
      "text/plain": [
       "<Figure size 576x432 with 1 Axes>"
      ]
     },
     "metadata": {
      "needs_background": "light"
     },
     "output_type": "display_data"
    }
   ],
   "source": [
    "probs = best_forest.predict_proba(X_test)\n",
    "preds = probs[:,1]\n",
    "fpr, tpr, threshold = metrics.roc_curve(y_test, preds)\n",
    "roc_auc = metrics.auc(fpr, tpr)\n",
    "\n",
    "plt.title('Receiver Operating Characteristic')\n",
    "plt.plot(fpr, tpr, 'b', label = 'AUC = %0.2f' % roc_auc)\n",
    "plt.legend(loc = 'lower right')\n",
    "plt.plot([0, 1], [0, 1],'r--')\n",
    "plt.xlim([0, 1])\n",
    "plt.ylim([0, 1])\n",
    "plt.ylabel('True Positive Rate')\n",
    "plt.xlabel('False Positive Rate')\n",
    "plt.show()"
   ]
  },
  {
   "cell_type": "code",
   "execution_count": 61,
   "metadata": {},
   "outputs": [
    {
     "name": "stdout",
     "output_type": "stream",
     "text": [
      "Artista: "
     ]
    },
    {
     "name": "stdin",
     "output_type": "stream",
     "text": [
      " billie\n"
     ]
    },
    {
     "name": "stdout",
     "output_type": "stream",
     "text": [
      "Titulo: "
     ]
    },
    {
     "name": "stdin",
     "output_type": "stream",
     "text": [
      " bad guy\n"
     ]
    },
    {
     "name": "stdout",
     "output_type": "stream",
     "text": [
      "Canción elegida: bad guy de Billie Eilish\n",
      "porcentaje de ser hit: 54.12948614168127\n"
     ]
    }
   ],
   "source": [
    "score = best_forest.predict_proba(find_song())\n",
    "print('porcentaje de ser hit:', score[0][1]*100)"
   ]
  },
  {
   "cell_type": "markdown",
   "metadata": {},
   "source": [
    "## AdaBoost"
   ]
  },
  {
   "cell_type": "markdown",
   "metadata": {},
   "source": [
    "-  El segundo modelo que vamos ha utilizar es AdaBoost que utiliza las tecnicas de boosting, un modelo mas avanzado que el anterior del que se espera obtener unos mejores resultados. "
   ]
  },
  {
   "cell_type": "code",
   "execution_count": 1,
   "metadata": {},
   "outputs": [],
   "source": [
    "from sklearn.ensemble import AdaBoostClassifier"
   ]
  },
  {
   "cell_type": "code",
   "execution_count": 63,
   "metadata": {},
   "outputs": [],
   "source": [
    "ada_clf = AdaBoostClassifier()"
   ]
  },
  {
   "cell_type": "markdown",
   "metadata": {},
   "source": [
    "- El proceso llevado a cabo es similar al anterior, veremos como funciona el modelo con la configuracion por defecto y trataremos de buscar una mejor configuracion de hiperparametros que nos haga tener unos mejores resultados y un modelo mas generalizable"
   ]
  },
  {
   "cell_type": "code",
   "execution_count": 64,
   "metadata": {},
   "outputs": [
    {
     "name": "stdout",
     "output_type": "stream",
     "text": [
      "Wall time: 6.83 s\n"
     ]
    },
    {
     "data": {
      "text/plain": [
       "0.7145582854155776"
      ]
     },
     "execution_count": 64,
     "metadata": {},
     "output_type": "execute_result"
    }
   ],
   "source": [
    "%%time\n",
    "cross_val_score(ada_clf,X_train,y_train,cv=5).mean()"
   ]
  },
  {
   "cell_type": "code",
   "execution_count": 65,
   "metadata": {},
   "outputs": [
    {
     "data": {
      "text/plain": [
       "AdaBoostClassifier(algorithm='SAMME.R', base_estimator=None, learning_rate=1.0,\n",
       "                   n_estimators=50, random_state=None)"
      ]
     },
     "execution_count": 65,
     "metadata": {},
     "output_type": "execute_result"
    }
   ],
   "source": [
    "ada_clf.fit(X_train,y_train)"
   ]
  },
  {
   "cell_type": "code",
   "execution_count": 66,
   "metadata": {},
   "outputs": [
    {
     "name": "stdout",
     "output_type": "stream",
     "text": [
      "Precisión sobre el juego de pruebas: 0.7137\n",
      "Precisión sobre el juego de train: 0.7204\n"
     ]
    }
   ],
   "source": [
    "print(\"Precisión sobre el juego de pruebas: {:.4f}\"\n",
    "      .format(ada_clf.score(X_test, y_test)))\n",
    "print(\"Precisión sobre el juego de train: {:.4f}\"\n",
    "      .format(ada_clf.score(X_train, y_train)))"
   ]
  },
  {
   "cell_type": "code",
   "execution_count": 36,
   "metadata": {},
   "outputs": [],
   "source": [
    "param_range = [25,30,40,50,60,90,100,130]\n",
    "train_score, test_score= validation_curve(\n",
    "                                ada_clf,\n",
    "                                X = X_train, y = y_train, \n",
    "                                param_name = 'n_estimators', \n",
    "                               param_range=param_range,\n",
    "                                scoring=\"accuracy\")"
   ]
  },
  {
   "cell_type": "code",
   "execution_count": 37,
   "metadata": {},
   "outputs": [
    {
     "name": "stdout",
     "output_type": "stream",
     "text": [
      "Numero de estimadores para un Cross_val 5 (test) y para todo dataset de entrenamiento (train)\n",
      "n_estimators 25 en test: 0.7041557762676425 en train : 0.7100823314166231\n",
      "n_estimators 30 en test: 0.7046001045478307 en train: 0.712107945635128\n",
      "n_estimators 40 en test: 0.7107422895974909 en train: 0.7183677469942499\n",
      "n_estimators 50 en test: 0.7145582854155776 en train: 0.7216806063774176\n",
      "n_estimators 60 en test: 0.7166753789858861 en train: 0.7242093570308417\n",
      "n_estimators 90 en test: 0.7180345007841088 en train: 0.7269537375849451\n",
      "n_estimators 100 en test: 0.7186617877679039 en train: 0.7276071615263984\n",
      "n_estimators 130 en test: 0.7197334030318872 en train: 0.7299856246732881\n"
     ]
    }
   ],
   "source": [
    "print(\"Numero de estimadores para un Cross_val 5 (test) y para todo dataset de entrenamiento (train)\")\n",
    "print ('n_estimators 25 en test:',test_score[0].mean(),'en train :',train_score[0].mean())\n",
    "print ('n_estimators 30 en test:',test_score[1].mean(),'en train:',train_score[1].mean())\n",
    "print ('n_estimators 40 en test:',test_score[2].mean(),'en train:',train_score[2].mean())\n",
    "print ('n_estimators 50 en test:',test_score[3].mean(),'en train:',train_score[3].mean())\n",
    "print ('n_estimators 60 en test:',test_score[4].mean(),'en train:',train_score[4].mean())\n",
    "print ('n_estimators 90 en test:',test_score[5].mean(),'en train:',train_score[5].mean())\n",
    "print ('n_estimators 100 en test:',test_score[6].mean(),'en train:',train_score[6].mean())\n",
    "print ('n_estimators 130 en test:',test_score[7].mean(),'en train:',train_score[7].mean())"
   ]
  },
  {
   "cell_type": "code",
   "execution_count": 8,
   "metadata": {},
   "outputs": [
    {
     "name": "stdout",
     "output_type": "stream",
     "text": [
      "{'n_estimators': [30, 43, 56, 70, 83, 96, 110, 123, 136, 150], 'algorithm': ['SAMME', 'SAMME.R'], 'learning_rate': [0.05, 0.1, 0.15, 0.2, 0.25, 0.3, 0.35, 0.39999999999999997, 0.44999999999999996, 0.49999999999999994, 0.5499999999999999, 0.6, 0.65, 0.7, 0.75, 0.7999999999999999, 0.85, 0.9, 0.95, 1.0], 'base_estimator__max_features': [1, 2, 3, 4, 5, 6, 7, 8, 9, 10, 11, 12, 13, 'auto'], 'base_estimator__max_depth': [10, 20, 30, 40, 50, 60, 70, 80, 90, 100, 110, None], 'base_estimator__min_samples_split': [2, 5, 10], 'base_estimator__min_samples_leaf': [1, 2, 3, 4, 5], 'base_estimator__max_leaf_nodes': [10, 11, 12, 13, 14, 15, 16, 17, 18, 19, 20, 21, 22, 23, 24, 25, 26, 27, 28, 29, 30, 31, 32, 33, 34, 35, 36, 37, 38, 39, 40, 41, 42, 43, 44, 45, 46, 47, 48, 49, 50, 51, 52, 53, 54, 55, 56, 57, 58, 59, 60, 61, 62, 63, 64, 65, 66, 67, 68, 69, 70, 71, 72, 73, 74, 75, 76, 77, 78, 79, 80, 81, 82, 83, 84, 85, 86, 87, 88, 89, 90, 91, 92, 93, 94, 95, 96, 97, 98, 100, None]}\n"
     ]
    }
   ],
   "source": [
    "# Numero de arboles del bosque\n",
    "n_estimators = [int(x) for x in np.linspace(start = 30, stop = 150, num = 10)]\n",
    "# Numero de caracteristicas proporcionadas a cada arbol\n",
    "max_features = [1,2,3,4,5,6,7,8,9,10,11,12,13]\n",
    "max_features.append('auto')\n",
    "# Profundidad de arbol\n",
    "max_depth = [int(x) for x in np.linspace(10, 110, num = 11)]\n",
    "max_depth.append(None)\n",
    "# Minimo valor para separar en subnodos\n",
    "min_samples_split = [2, 5, 10]\n",
    "# Minimo numero de muestras necesarias en hoja despues de dividir\n",
    "min_samples_leaf = [1, 2,3, 4, 5]\n",
    "# Numero maximo de nodos finales\n",
    "max_leaf_nodes = [int(x) for x in np.linspace(10, 100, num = 90)]\n",
    "max_leaf_nodes.append(None)\n",
    "#Algoritmo de implementacion\n",
    "algorithm = ['SAMME', 'SAMME.R']\n",
    "learning_rate = [float(x) for x in np.linspace(0.05, 1., num = 20)]\n",
    "# Numero de muestras maximo que se le asigna a cada arbol\n",
    "# max_samples\n",
    "# Creacion de cuadrícula aleatoria\n",
    "param_grid = {'n_estimators': n_estimators,\n",
    "               'algorithm': algorithm,\n",
    "              'learning_rate':learning_rate,\n",
    "               'base_estimator__max_features': max_features,\n",
    "               'base_estimator__max_depth': max_depth,\n",
    "               'base_estimator__min_samples_split': min_samples_split,\n",
    "               'base_estimator__min_samples_leaf': min_samples_leaf,\n",
    "               \"base_estimator__max_leaf_nodes\": max_leaf_nodes}\n",
    "print(param_grid)"
   ]
  },
  {
   "cell_type": "code",
   "execution_count": 9,
   "metadata": {},
   "outputs": [],
   "source": [
    "from sklearn.tree import DecisionTreeClassifier"
   ]
  },
  {
   "cell_type": "markdown",
   "metadata": {},
   "source": [
    "- AdaBoost utiliza las tecnicas de boosting por defecto sobre arboles de decision, pero se podria aplicar boosting sobre cualquier base, como mdelos lineales e incluso redes neuronales. Para este caso de problemas tabulares lo mejor es usar arboles de decision, para hacer el randomSearch, ya que vamos a modificar tanto parametros del modelo adaBoost como del Arbol de decision es necesario pasarle el modelo con el estimadora base aunque por defecto sea arbol de decisión sino lo indicamos no podremos hacer un randomSearch sobre el arbol tambien."
   ]
  },
  {
   "cell_type": "code",
   "execution_count": 10,
   "metadata": {},
   "outputs": [],
   "source": [
    "base_estimator = DecisionTreeClassifier(random_state=42)\n",
    "ada_clf = AdaBoostClassifier(base_estimator=base_estimator, random_state=42)"
   ]
  },
  {
   "cell_type": "code",
   "execution_count": 11,
   "metadata": {},
   "outputs": [],
   "source": [
    "# Random search of parameters, using 3 fold cross validation, \n",
    "# search across 100 different combinations, and use all available cores\n",
    "ada_random = RandomizedSearchCV(estimator = ada_clf, param_distributions = param_grid, n_iter = 3250, cv = 5, verbose=2, random_state=42, n_jobs = -1)"
   ]
  },
  {
   "cell_type": "code",
   "execution_count": 12,
   "metadata": {},
   "outputs": [
    {
     "name": "stdout",
     "output_type": "stream",
     "text": [
      "Fitting 5 folds for each of 3250 candidates, totalling 16250 fits\n"
     ]
    },
    {
     "name": "stderr",
     "output_type": "stream",
     "text": [
      "[Parallel(n_jobs=-1)]: Using backend LokyBackend with 8 concurrent workers.\n",
      "[Parallel(n_jobs=-1)]: Done  25 tasks      | elapsed:  1.3min\n",
      "[Parallel(n_jobs=-1)]: Done 146 tasks      | elapsed:  5.3min\n",
      "[Parallel(n_jobs=-1)]: Done 349 tasks      | elapsed: 12.0min\n",
      "[Parallel(n_jobs=-1)]: Done 632 tasks      | elapsed: 26.2min\n",
      "[Parallel(n_jobs=-1)]: Done 997 tasks      | elapsed: 41.2min\n",
      "[Parallel(n_jobs=-1)]: Done 1442 tasks      | elapsed: 58.6min\n",
      "[Parallel(n_jobs=-1)]: Done 1969 tasks      | elapsed: 80.8min\n",
      "[Parallel(n_jobs=-1)]: Done 2576 tasks      | elapsed: 105.2min\n",
      "[Parallel(n_jobs=-1)]: Done 3265 tasks      | elapsed: 131.7min\n",
      "[Parallel(n_jobs=-1)]: Done 4034 tasks      | elapsed: 164.4min\n",
      "[Parallel(n_jobs=-1)]: Done 4885 tasks      | elapsed: 201.5min\n",
      "[Parallel(n_jobs=-1)]: Done 5816 tasks      | elapsed: 241.8min\n",
      "[Parallel(n_jobs=-1)]: Done 6829 tasks      | elapsed: 280.0min\n",
      "[Parallel(n_jobs=-1)]: Done 7922 tasks      | elapsed: 324.9min\n",
      "[Parallel(n_jobs=-1)]: Done 9097 tasks      | elapsed: 374.2min\n",
      "[Parallel(n_jobs=-1)]: Done 10352 tasks      | elapsed: 427.8min\n",
      "[Parallel(n_jobs=-1)]: Done 11689 tasks      | elapsed: 492.5min\n",
      "[Parallel(n_jobs=-1)]: Done 13106 tasks      | elapsed: 552.5min\n",
      "[Parallel(n_jobs=-1)]: Done 14605 tasks      | elapsed: 615.7min\n",
      "[Parallel(n_jobs=-1)]: Done 16184 tasks      | elapsed: 679.6min\n",
      "[Parallel(n_jobs=-1)]: Done 16250 out of 16250 | elapsed: 684.0min finished\n"
     ]
    },
    {
     "data": {
      "text/plain": [
       "RandomizedSearchCV(cv=5, error_score=nan,\n",
       "                   estimator=AdaBoostClassifier(algorithm='SAMME.R',\n",
       "                                                base_estimator=DecisionTreeClassifier(ccp_alpha=0.0,\n",
       "                                                                                      class_weight=None,\n",
       "                                                                                      criterion='gini',\n",
       "                                                                                      max_depth=None,\n",
       "                                                                                      max_features=None,\n",
       "                                                                                      max_leaf_nodes=None,\n",
       "                                                                                      min_impurity_decrease=0.0,\n",
       "                                                                                      min_impurity_split=None,\n",
       "                                                                                      min_samples_leaf=1,\n",
       "                                                                                      min_samples_split=2,\n",
       "                                                                                      min_weight_fraction_leaf=0.0,\n",
       "                                                                                      pre...\n",
       "                                        'base_estimator__min_samples_split': [2,\n",
       "                                                                              5,\n",
       "                                                                              10],\n",
       "                                        'learning_rate': [0.05, 0.1, 0.15, 0.2,\n",
       "                                                          0.25, 0.3, 0.35,\n",
       "                                                          0.39999999999999997,\n",
       "                                                          0.44999999999999996,\n",
       "                                                          0.49999999999999994,\n",
       "                                                          0.5499999999999999,\n",
       "                                                          0.6, 0.65, 0.7, 0.75,\n",
       "                                                          0.7999999999999999,\n",
       "                                                          0.85, 0.9, 0.95,\n",
       "                                                          1.0],\n",
       "                                        'n_estimators': [30, 43, 56, 70, 83, 96,\n",
       "                                                         110, 123, 136, 150]},\n",
       "                   pre_dispatch='2*n_jobs', random_state=42, refit=True,\n",
       "                   return_train_score=False, scoring=None, verbose=2)"
      ]
     },
     "execution_count": 12,
     "metadata": {},
     "output_type": "execute_result"
    }
   ],
   "source": [
    "ada_random.fit(X_train,y_train)"
   ]
  },
  {
   "cell_type": "markdown",
   "metadata": {},
   "source": [
    "- A continuacion observamos la mejor configuracion de hiperparametros encontrada, con su mayor *score* obtenido"
   ]
  },
  {
   "cell_type": "code",
   "execution_count": 14,
   "metadata": {},
   "outputs": [
    {
     "data": {
      "text/plain": [
       "{'n_estimators': 136,\n",
       " 'learning_rate': 0.15,\n",
       " 'base_estimator__min_samples_split': 2,\n",
       " 'base_estimator__min_samples_leaf': 3,\n",
       " 'base_estimator__max_leaf_nodes': 79,\n",
       " 'base_estimator__max_features': 4,\n",
       " 'base_estimator__max_depth': 110,\n",
       " 'algorithm': 'SAMME'}"
      ]
     },
     "execution_count": 14,
     "metadata": {},
     "output_type": "execute_result"
    }
   ],
   "source": [
    "ada_random.best_params_"
   ]
  },
  {
   "cell_type": "code",
   "execution_count": null,
   "metadata": {},
   "outputs": [],
   "source": [
    "ada_random.best_score_"
   ]
  },
  {
   "cell_type": "markdown",
   "metadata": {},
   "source": [
    "- A continuación se muestra como en el caso anterior de *random forest*, la importancia que le ha dado el modelo de unas caracteristicas respecto de las otras."
   ]
  },
  {
   "cell_type": "code",
   "execution_count": 70,
   "metadata": {},
   "outputs": [
    {
     "data": {
      "image/png": "[encoded data removed]",
      "text/plain": [
       "<Figure size 576x432 with 1 Axes>"
      ]
     },
     "metadata": {
      "needs_background": "light"
     },
     "output_type": "display_data"
    }
   ],
   "source": [
    "plt.barh(df_songs.loc[:,\"danceability\":\"duration_ms\"].columns, best_ada.feature_importances_);"
   ]
  },
  {
   "cell_type": "code",
   "execution_count": 71,
   "metadata": {},
   "outputs": [
    {
     "data": {
      "image/png": "[encoded data removed]",
      "text/plain": [
       "<Figure size 576x432 with 1 Axes>"
      ]
     },
     "metadata": {
      "needs_background": "light"
     },
     "output_type": "display_data"
    }
   ],
   "source": [
    "plt.plot(best_ada.estimator_errors_);"
   ]
  },
  {
   "cell_type": "markdown",
   "metadata": {},
   "source": [
    "-  Para la configuración obtenida, entrenamos el modelo con todo el dataset y vemos los resultados obtenidos"
   ]
  },
  {
   "cell_type": "code",
   "execution_count": 15,
   "metadata": {},
   "outputs": [],
   "source": [
    "best_ada = ada_random.best_estimator_"
   ]
  },
  {
   "cell_type": "code",
   "execution_count": 72,
   "metadata": {},
   "outputs": [
    {
     "data": {
      "text/plain": [
       "AdaBoostClassifier(algorithm='SAMME',\n",
       "                   base_estimator=DecisionTreeClassifier(ccp_alpha=0.0,\n",
       "                                                         class_weight=None,\n",
       "                                                         criterion='gini',\n",
       "                                                         max_depth=110,\n",
       "                                                         max_features=4,\n",
       "                                                         max_leaf_nodes=79,\n",
       "                                                         min_impurity_decrease=0.0,\n",
       "                                                         min_impurity_split=None,\n",
       "                                                         min_samples_leaf=3,\n",
       "                                                         min_samples_split=2,\n",
       "                                                         min_weight_fraction_leaf=0.0,\n",
       "                                                         presort='deprecated',\n",
       "                                                         random_state=42,\n",
       "                                                         splitter='best'),\n",
       "                   learning_rate=0.15, n_estimators=136, random_state=42)"
      ]
     },
     "execution_count": 72,
     "metadata": {},
     "output_type": "execute_result"
    }
   ],
   "source": [
    "best_ada.fit(X_train,y_train)"
   ]
  },
  {
   "cell_type": "code",
   "execution_count": 69,
   "metadata": {},
   "outputs": [
    {
     "name": "stdout",
     "output_type": "stream",
     "text": [
      "Precisión sobre el juego de pruebas: 0.7456\n",
      "Precisión sobre el juego de train: 0.7793\n"
     ]
    }
   ],
   "source": [
    "print(\"Precisión sobre el juego de pruebas: {:.4f}\"\n",
    "      .format(best_ada.score(X_test, y_test)))\n",
    "print(\"Precisión sobre el juego de train: {:.4f}\"\n",
    "      .format(best_ada.score(X_train, y_train)))"
   ]
  },
  {
   "cell_type": "code",
   "execution_count": 73,
   "metadata": {},
   "outputs": [],
   "source": [
    "filename = 'ada_boost_model_random.pkl'"
   ]
  },
  {
   "cell_type": "code",
   "execution_count": 18,
   "metadata": {},
   "outputs": [
    {
     "data": {
      "text/plain": [
       "['ada_boost_model_random.pkl']"
      ]
     },
     "execution_count": 18,
     "metadata": {},
     "output_type": "execute_result"
    }
   ],
   "source": [
    "joblib.dump(best_ada, filename)"
   ]
  },
  {
   "cell_type": "code",
   "execution_count": 21,
   "metadata": {},
   "outputs": [],
   "source": [
    "best_ada = joblib.load(filename) "
   ]
  },
  {
   "cell_type": "code",
   "execution_count": 75,
   "metadata": {},
   "outputs": [
    {
     "data": {
      "image/png": "[encoded data removed]",
      "text/plain": [
       "<Figure size 576x432 with 1 Axes>"
      ]
     },
     "metadata": {
      "needs_background": "light"
     },
     "output_type": "display_data"
    }
   ],
   "source": [
    "probs = best_ada.predict_proba(X_test)\n",
    "preds = probs[:,1]\n",
    "fpr, tpr, threshold = metrics.roc_curve(y_test, preds)\n",
    "roc_auc = metrics.auc(fpr, tpr)\n",
    "\n",
    "plt.title('Receiver Operating Characteristic')\n",
    "plt.plot(fpr, tpr, 'b', label = 'AUC = %0.2f' % roc_auc)\n",
    "plt.legend(loc = 'lower right')\n",
    "plt.plot([0, 1], [0, 1],'r--')\n",
    "plt.xlim([0, 1])\n",
    "plt.ylim([0, 1])\n",
    "plt.ylabel('True Positive Rate')\n",
    "plt.xlabel('False Positive Rate')\n",
    "plt.show()"
   ]
  },
  {
   "cell_type": "code",
   "execution_count": 76,
   "metadata": {},
   "outputs": [
    {
     "name": "stdout",
     "output_type": "stream",
     "text": [
      "Artista: "
     ]
    },
    {
     "name": "stdin",
     "output_type": "stream",
     "text": [
      " billie\n"
     ]
    },
    {
     "name": "stdout",
     "output_type": "stream",
     "text": [
      "Titulo: "
     ]
    },
    {
     "name": "stdin",
     "output_type": "stream",
     "text": [
      " bad guy\n"
     ]
    },
    {
     "name": "stdout",
     "output_type": "stream",
     "text": [
      "Canción elegida: bad guy de Billie Eilish\n",
      "porcentaje de ser hit: 46.93950710398086\n"
     ]
    }
   ],
   "source": [
    "score = best_ada.predict_proba(find_song())\n",
    "print('porcentaje de ser hit:', score[0][1]*100)"
   ]
  },
  {
   "cell_type": "markdown",
   "metadata": {},
   "source": [
    "## Gradient Boosting"
   ]
  },
  {
   "cell_type": "markdown",
   "metadata": {},
   "source": [
    "- La siguiente tecnica que utilizaremos sera GradientBoosting, y para ello lo haremos usando las dos implementaciones mas usadas de este algoritmo que es lightGBM y XGBoost. Veremos si somos capaces de mejorar nuestra predicción."
   ]
  },
  {
   "cell_type": "markdown",
   "metadata": {},
   "source": [
    "### Implementación de lightgbm"
   ]
  },
  {
   "cell_type": "markdown",
   "metadata": {},
   "source": [
    "- El proceso llevado a cabo es similar a los anterioriores,  para esta implementación a parte de RandomSearch, usaremos también GridSearch para afinar y tratar de conseguir un mejor score."
   ]
  },
  {
   "cell_type": "code",
   "execution_count": 6,
   "metadata": {},
   "outputs": [],
   "source": [
    "import lightgbm as lgb"
   ]
  },
  {
   "cell_type": "code",
   "execution_count": 7,
   "metadata": {},
   "outputs": [],
   "source": [
    "lgb_clf =lgb.LGBMClassifier()"
   ]
  },
  {
   "cell_type": "code",
   "execution_count": 8,
   "metadata": {},
   "outputs": [
    {
     "name": "stdout",
     "output_type": "stream",
     "text": [
      "Wall time: 1.42 s\n"
     ]
    },
    {
     "data": {
      "text/plain": [
       "0.7479090433873496"
      ]
     },
     "execution_count": 8,
     "metadata": {},
     "output_type": "execute_result"
    }
   ],
   "source": [
    "%%time\n",
    "cross_val_score(lgb_clf, X_train,y_train, cv=5).mean()"
   ]
  },
  {
   "cell_type": "markdown",
   "metadata": {},
   "source": [
    "Como se puede apreciar LighGBM es extremadamente rapido en su entrenamiento"
   ]
  },
  {
   "cell_type": "code",
   "execution_count": 9,
   "metadata": {},
   "outputs": [
    {
     "data": {
      "text/plain": [
       "LGBMClassifier(boosting_type='gbdt', class_weight=None, colsample_bytree=1.0,\n",
       "               importance_type='split', learning_rate=0.1, max_depth=-1,\n",
       "               min_child_samples=20, min_child_weight=0.001, min_split_gain=0.0,\n",
       "               n_estimators=100, n_jobs=-1, num_leaves=31, objective=None,\n",
       "               random_state=None, reg_alpha=0.0, reg_lambda=0.0, silent=True,\n",
       "               subsample=1.0, subsample_for_bin=200000, subsample_freq=0)"
      ]
     },
     "execution_count": 9,
     "metadata": {},
     "output_type": "execute_result"
    }
   ],
   "source": [
    "lgb_clf.fit(X_train,y_train)"
   ]
  },
  {
   "cell_type": "code",
   "execution_count": 10,
   "metadata": {},
   "outputs": [
    {
     "name": "stdout",
     "output_type": "stream",
     "text": [
      "Precisión sobre el juego de pruebas: 0.7490\n",
      "Precisión sobre el juego de train: 0.7864\n"
     ]
    }
   ],
   "source": [
    "print(\"Precisión sobre el juego de pruebas: {:.4f}\"\n",
    "      .format(lgb_clf.score(X_test, y_test)))\n",
    "print(\"Precisión sobre el juego de train: {:.4f}\"\n",
    "      .format(lgb_clf.score(X_train, y_train)))"
   ]
  },
  {
   "cell_type": "code",
   "execution_count": 83,
   "metadata": {},
   "outputs": [],
   "source": [
    "param_range = [60,90,100,150,200,250,300]\n",
    "train_score, test_score= validation_curve(\n",
    "                                lgb_clf,\n",
    "                                X = X_train, y = y_train, \n",
    "                                param_name = 'n_estimators', \n",
    "                               param_range=param_range,\n",
    "                                scoring=\"accuracy\")"
   ]
  },
  {
   "cell_type": "code",
   "execution_count": 84,
   "metadata": {},
   "outputs": [
    {
     "name": "stdout",
     "output_type": "stream",
     "text": [
      "Numero de estimadores para un Cross_val 5 (test) y para todo dataset de entrenamiento (train)\n",
      "n_estimators 60 en test: 0.7453998954521693 en train : 0.7767838473601673\n",
      "n_estimators 90 en test: 0.7474908520648197 en train: 0.7888329848405645\n",
      "n_estimators 100 en test: 0.7479090433873496 en train: 0.7929103502352326\n",
      "n_estimators 150 en test: 0.7487454260324098 en train: 0.8095138525875587\n",
      "n_estimators 200 en test: 0.7488499738630423 en train: 0.8258690538421328\n",
      "n_estimators 250 en test: 0.7499477260846837 en train: 0.8415577626764245\n",
      "n_estimators 300 en test: 0.7488499738630423 en train: 0.8551032409827496\n"
     ]
    }
   ],
   "source": [
    "print(\"Numero de estimadores para un Cross_val 5 (test) y para todo dataset de entrenamiento (train)\")\n",
    "print ('n_estimators 60 en test:',test_score[0].mean(),'en train :',train_score[0].mean())\n",
    "print ('n_estimators 90 en test:',test_score[1].mean(),'en train:',train_score[1].mean())\n",
    "print ('n_estimators 100 en test:',test_score[2].mean(),'en train:',train_score[2].mean())\n",
    "print ('n_estimators 150 en test:',test_score[3].mean(),'en train:',train_score[3].mean())\n",
    "print ('n_estimators 200 en test:',test_score[4].mean(),'en train:',train_score[4].mean())\n",
    "print ('n_estimators 250 en test:',test_score[5].mean(),'en train:',train_score[5].mean())\n",
    "print ('n_estimators 300 en test:',test_score[6].mean(),'en train:',train_score[6].mean())"
   ]
  },
  {
   "cell_type": "code",
   "execution_count": 125,
   "metadata": {},
   "outputs": [
    {
     "name": "stdout",
     "output_type": "stream",
     "text": [
      "{'boosting_type': ['gbdt', 'dart'], 'num_leaves': [30, 40, 50, 60, 70, 80, 90, 100, 110], 'max_depth': [10, 20, 30, 40, 50, 60, 70, 80, 90, 100, 110, None], 'learning_rate': [0.005, 0.1, 0.2, 0.3, 0.4, 0.5, 0.6, 0.7, 0.8, 0.9, 1.0], 'n_estimators': [30, 45, 60, 75, 90, 105, 120, 135, 150], 'subsample_for_bin': [20000, 40000, 60000, 80000, 100000, 120000, 140000, 160000, 180000, 200000, 220000, 240000, 260000, 280000], 'min_split_gain': [0.0, 0.2, 0.4, 0.6, 0.8], 'min_child_samples': [1, 5, 9, 14, 18, 22, 27, 31, 35, 40], 'reg_alpha': [0.0, 0.1, 0.2, 0.3, 0.4, 0.5, 0.6, 0.7, 0.8, 0.9, 1.0], 'reg_lambda': [0.0, 0.1, 0.2, 0.3, 0.4, 0.5, 0.6, 0.7, 0.8, 0.9, 1.0]}\n"
     ]
    }
   ],
   "source": [
    "boosting_type = ['gbdt','dart']\n",
    "#Numero de Hojas máximas por árboles\n",
    "num_leaves = [int(x) for x in np.linspace(30, 110, num = 9)]\n",
    "# Profundidad de arbol\n",
    "max_depth = [int(x) for x in np.linspace(10, 110, num = 11)]\n",
    "max_depth.append(None)\n",
    "#Learning rate\n",
    "learning_rate = [round (float(x), 2) for x in np.linspace(0.1, 1., num = 10)]\n",
    "learning_rate.append(0.005)\n",
    "learning_rate = sorted(learning_rate)\n",
    "# Numero de arboles del bosque\n",
    "n_estimators = [int(x) for x in np.linspace(start = 30, stop = 150, num = 9)]\n",
    "# Número de muestras para la construcción de contenedores\n",
    "subsample_for_bin =  list(range(20000, 300000, 20000))\n",
    "# Reducción mínima de pérdidas para realizar una nueva partición en un nodo del árbol.\n",
    "min_split_gain =  [0.0,0.2,0.4,0.6,0.8]\n",
    "#Número mínimo de datos necesarios en una hoja\n",
    "min_child_samples = [int(x) for x in np.linspace(1, 40, num = 10)]\n",
    "# reg_alpha\n",
    "reg_alpha = [round (float(x), 2) for x in np.linspace(0.0, 1., num = 11)]\n",
    "# reg_lambda\n",
    "reg_lambda = [round (float(x), 2)  for x in np.linspace(0.0, 1., num = 11)]\n",
    "# Creacion de cuadrícula aleatoria\n",
    "param_grid = {'boosting_type':boosting_type,\n",
    "              'num_leaves': num_leaves,\n",
    "              'max_depth': max_depth,\n",
    "              'learning_rate': learning_rate,\n",
    "              'n_estimators': n_estimators,\n",
    "              'subsample_for_bin': subsample_for_bin,\n",
    "              'min_split_gain': min_split_gain,\n",
    "              'min_child_samples':min_child_samples,\n",
    "              'reg_alpha':reg_alpha,\n",
    "              'reg_lambda':reg_lambda}\n",
    "print(param_grid)"
   ]
  },
  {
   "cell_type": "code",
   "execution_count": 127,
   "metadata": {},
   "outputs": [],
   "source": [
    "lgb_clf = lgb.LGBMClassifier(random_state=42)"
   ]
  },
  {
   "cell_type": "code",
   "execution_count": 128,
   "metadata": {},
   "outputs": [],
   "source": [
    "# Random search of parameters, using 3 fold cross validation, \n",
    "# search across 100 different combinations, and use all available cores\n",
    "light_gbm_random = RandomizedSearchCV(estimator = lgb_clf, param_distributions = param_grid, n_iter = 20000, cv = 5, verbose=2, random_state=42, n_jobs = -1)"
   ]
  },
  {
   "cell_type": "code",
   "execution_count": 129,
   "metadata": {},
   "outputs": [
    {
     "name": "stdout",
     "output_type": "stream",
     "text": [
      "Fitting 5 folds for each of 20000 candidates, totalling 100000 fits\n"
     ]
    },
    {
     "name": "stderr",
     "output_type": "stream",
     "text": [
      "[Parallel(n_jobs=-1)]: Using backend LokyBackend with 8 concurrent workers.\n",
      "[Parallel(n_jobs=-1)]: Done  25 tasks      | elapsed:   10.1s\n",
      "[Parallel(n_jobs=-1)]: Done 146 tasks      | elapsed:   41.8s\n",
      "[Parallel(n_jobs=-1)]: Done 349 tasks      | elapsed:  1.7min\n",
      "[Parallel(n_jobs=-1)]: Done 632 tasks      | elapsed:  3.1min\n",
      "[Parallel(n_jobs=-1)]: Done 997 tasks      | elapsed:  4.9min\n",
      "[Parallel(n_jobs=-1)]: Done 1442 tasks      | elapsed:  7.4min\n",
      "[Parallel(n_jobs=-1)]: Done 1969 tasks      | elapsed: 10.5min\n",
      "[Parallel(n_jobs=-1)]: Done 2576 tasks      | elapsed: 13.5min\n",
      "[Parallel(n_jobs=-1)]: Done 3265 tasks      | elapsed: 16.8min\n",
      "[Parallel(n_jobs=-1)]: Done 4034 tasks      | elapsed: 21.0min\n",
      "[Parallel(n_jobs=-1)]: Done 4885 tasks      | elapsed: 25.6min\n",
      "[Parallel(n_jobs=-1)]: Done 5816 tasks      | elapsed: 30.8min\n",
      "[Parallel(n_jobs=-1)]: Done 6829 tasks      | elapsed: 35.8min\n",
      "[Parallel(n_jobs=-1)]: Done 7922 tasks      | elapsed: 42.1min\n",
      "[Parallel(n_jobs=-1)]: Done 9097 tasks      | elapsed: 48.7min\n",
      "[Parallel(n_jobs=-1)]: Done 10352 tasks      | elapsed: 55.6min\n",
      "[Parallel(n_jobs=-1)]: Done 11689 tasks      | elapsed: 62.7min\n",
      "[Parallel(n_jobs=-1)]: Done 13106 tasks      | elapsed: 69.7min\n",
      "[Parallel(n_jobs=-1)]: Done 14605 tasks      | elapsed: 77.7min\n",
      "[Parallel(n_jobs=-1)]: Done 16184 tasks      | elapsed: 86.0min\n",
      "[Parallel(n_jobs=-1)]: Done 17845 tasks      | elapsed: 95.4min\n",
      "[Parallel(n_jobs=-1)]: Done 19586 tasks      | elapsed: 104.8min\n",
      "[Parallel(n_jobs=-1)]: Done 21409 tasks      | elapsed: 114.7min\n",
      "[Parallel(n_jobs=-1)]: Done 23312 tasks      | elapsed: 125.8min\n",
      "[Parallel(n_jobs=-1)]: Done 25297 tasks      | elapsed: 136.5min\n",
      "[Parallel(n_jobs=-1)]: Done 27362 tasks      | elapsed: 147.9min\n",
      "[Parallel(n_jobs=-1)]: Done 29509 tasks      | elapsed: 159.5min\n",
      "[Parallel(n_jobs=-1)]: Done 31736 tasks      | elapsed: 171.9min\n",
      "[Parallel(n_jobs=-1)]: Done 34045 tasks      | elapsed: 184.7min\n",
      "[Parallel(n_jobs=-1)]: Done 36434 tasks      | elapsed: 197.0min\n",
      "[Parallel(n_jobs=-1)]: Done 38905 tasks      | elapsed: 209.9min\n",
      "[Parallel(n_jobs=-1)]: Done 41456 tasks      | elapsed: 224.4min\n",
      "[Parallel(n_jobs=-1)]: Done 44089 tasks      | elapsed: 238.9min\n",
      "[Parallel(n_jobs=-1)]: Done 46802 tasks      | elapsed: 254.0min\n",
      "[Parallel(n_jobs=-1)]: Done 49597 tasks      | elapsed: 268.6min\n",
      "[Parallel(n_jobs=-1)]: Done 52472 tasks      | elapsed: 283.7min\n",
      "[Parallel(n_jobs=-1)]: Done 55429 tasks      | elapsed: 299.9min\n",
      "[Parallel(n_jobs=-1)]: Done 58466 tasks      | elapsed: 316.6min\n",
      "[Parallel(n_jobs=-1)]: Done 61585 tasks      | elapsed: 334.1min\n",
      "[Parallel(n_jobs=-1)]: Done 64784 tasks      | elapsed: 350.5min\n",
      "[Parallel(n_jobs=-1)]: Done 68065 tasks      | elapsed: 369.0min\n",
      "[Parallel(n_jobs=-1)]: Done 71426 tasks      | elapsed: 386.3min\n",
      "[Parallel(n_jobs=-1)]: Done 74869 tasks      | elapsed: 405.0min\n",
      "[Parallel(n_jobs=-1)]: Done 78392 tasks      | elapsed: 424.8min\n",
      "[Parallel(n_jobs=-1)]: Done 81997 tasks      | elapsed: 444.3min\n",
      "[Parallel(n_jobs=-1)]: Done 85682 tasks      | elapsed: 464.3min\n",
      "[Parallel(n_jobs=-1)]: Done 89449 tasks      | elapsed: 485.7min\n",
      "[Parallel(n_jobs=-1)]: Done 93296 tasks      | elapsed: 507.0min\n",
      "[Parallel(n_jobs=-1)]: Done 97225 tasks      | elapsed: 528.3min\n",
      "[Parallel(n_jobs=-1)]: Done 100000 out of 100000 | elapsed: 543.5min finished\n"
     ]
    },
    {
     "data": {
      "text/plain": [
       "RandomizedSearchCV(cv=5, error_score=nan,\n",
       "                   estimator=LGBMClassifier(boosting_type='gbdt',\n",
       "                                            class_weight=None,\n",
       "                                            colsample_bytree=1.0,\n",
       "                                            importance_type='split',\n",
       "                                            learning_rate=0.1, max_depth=-1,\n",
       "                                            min_child_samples=20,\n",
       "                                            min_child_weight=0.001,\n",
       "                                            min_split_gain=0.0,\n",
       "                                            n_estimators=100, n_jobs=-1,\n",
       "                                            num_leaves=31, objective=None,\n",
       "                                            random_state=42, reg_alpha=0.0,\n",
       "                                            reg_lambda=0.0, silent...\n",
       "                                        'num_leaves': [30, 40, 50, 60, 70, 80,\n",
       "                                                       90, 100, 110],\n",
       "                                        'reg_alpha': [0.0, 0.1, 0.2, 0.3, 0.4,\n",
       "                                                      0.5, 0.6, 0.7, 0.8, 0.9,\n",
       "                                                      1.0],\n",
       "                                        'reg_lambda': [0.0, 0.1, 0.2, 0.3, 0.4,\n",
       "                                                       0.5, 0.6, 0.7, 0.8, 0.9,\n",
       "                                                       1.0],\n",
       "                                        'subsample_for_bin': [20000, 40000,\n",
       "                                                              60000, 80000,\n",
       "                                                              100000, 120000,\n",
       "                                                              140000, 160000,\n",
       "                                                              180000, 200000,\n",
       "                                                              220000, 240000,\n",
       "                                                              260000, 280000]},\n",
       "                   pre_dispatch='2*n_jobs', random_state=42, refit=True,\n",
       "                   return_train_score=False, scoring=None, verbose=2)"
      ]
     },
     "execution_count": 129,
     "metadata": {},
     "output_type": "execute_result"
    }
   ],
   "source": [
    "light_gbm_random.fit(X_train, y_train)"
   ]
  },
  {
   "cell_type": "code",
   "execution_count": 130,
   "metadata": {},
   "outputs": [
    {
     "data": {
      "text/plain": [
       "{'subsample_for_bin': 160000,\n",
       " 'reg_lambda': 0.0,\n",
       " 'reg_alpha': 0.9,\n",
       " 'num_leaves': 70,\n",
       " 'n_estimators': 150,\n",
       " 'min_split_gain': 0.4,\n",
       " 'min_child_samples': 31,\n",
       " 'max_depth': 110,\n",
       " 'learning_rate': 0.2,\n",
       " 'boosting_type': 'dart'}"
      ]
     },
     "execution_count": 130,
     "metadata": {},
     "output_type": "execute_result"
    }
   ],
   "source": [
    "light_gbm_random.best_params_"
   ]
  },
  {
   "cell_type": "code",
   "execution_count": 131,
   "metadata": {},
   "outputs": [
    {
     "data": {
      "text/plain": [
       "0.752822791427078"
      ]
     },
     "execution_count": 131,
     "metadata": {},
     "output_type": "execute_result"
    }
   ],
   "source": [
    "light_gbm_random.best_score_"
   ]
  },
  {
   "cell_type": "code",
   "execution_count": 132,
   "metadata": {},
   "outputs": [],
   "source": [
    "best_light_gbm = light_gbm_random.best_estimator_"
   ]
  },
  {
   "cell_type": "code",
   "execution_count": 134,
   "metadata": {},
   "outputs": [
    {
     "name": "stdout",
     "output_type": "stream",
     "text": [
      "Precisión sobre el juego de pruebas: 0.7505\n",
      "Precisión sobre el juego de train: 0.8265\n"
     ]
    }
   ],
   "source": [
    "print(\"Precisión sobre el juego de pruebas: {:.4f}\"\n",
    "      .format(best_light_gbm.score(X_test, y_test)))\n",
    "print(\"Precisión sobre el juego de train: {:.4f}\"\n",
    "      .format(best_light_gbm.score(X_train, y_train)))"
   ]
  },
  {
   "cell_type": "code",
   "execution_count": 135,
   "metadata": {},
   "outputs": [
    {
     "data": {
      "text/plain": [
       "['light_gbm_model_random.pkl']"
      ]
     },
     "execution_count": 135,
     "metadata": {},
     "output_type": "execute_result"
    }
   ],
   "source": [
    "filename = 'light_gbm_model_random.pkl'\n",
    "joblib.dump(best_light_gbm, filename)"
   ]
  },
  {
   "cell_type": "code",
   "execution_count": 136,
   "metadata": {},
   "outputs": [],
   "source": [
    "best_light_gbm = joblib.load(filename) "
   ]
  },
  {
   "cell_type": "code",
   "execution_count": 137,
   "metadata": {},
   "outputs": [
    {
     "data": {
      "image/png": "[encoded data removed]",
      "text/plain": [
       "<Figure size 576x432 with 1 Axes>"
      ]
     },
     "metadata": {
      "needs_background": "light"
     },
     "output_type": "display_data"
    }
   ],
   "source": [
    "plt.barh(df_songs.loc[:,\"danceability\":\"duration_ms\"].columns, best_light_gbm.feature_importances_);"
   ]
  },
  {
   "cell_type": "code",
   "execution_count": 123,
   "metadata": {},
   "outputs": [
    {
     "name": "stdout",
     "output_type": "stream",
     "text": [
      "Artista: "
     ]
    },
    {
     "name": "stdin",
     "output_type": "stream",
     "text": [
      " drake\n"
     ]
    },
    {
     "name": "stdout",
     "output_type": "stream",
     "text": [
      "Titulo: "
     ]
    },
    {
     "name": "stdin",
     "output_type": "stream",
     "text": [
      " \n"
     ]
    },
    {
     "name": "stdout",
     "output_type": "stream",
     "text": [
      "Canción elegida: POPSTAR (feat. Drake) de DJ Khaled\n"
     ]
    },
    {
     "data": {
      "text/plain": [
       "array([[0.2944884, 0.7055116]])"
      ]
     },
     "execution_count": 123,
     "metadata": {},
     "output_type": "execute_result"
    }
   ],
   "source": [
    "best_light_gbm.predict_proba(find_song())"
   ]
  },
  {
   "cell_type": "markdown",
   "metadata": {},
   "source": [
    "### Implementación de xgboost"
   ]
  },
  {
   "cell_type": "markdown",
   "metadata": {},
   "source": [
    "- Probaremos ahora la implementación de xgboost, lo que sabemos es que ambas implementaciones dan resultados muy similares, pero por contra xgboost es mas lento en el aprendizaje como podremos apreciar a continuación."
   ]
  },
  {
   "cell_type": "code",
   "execution_count": 1,
   "metadata": {},
   "outputs": [],
   "source": [
    "import xgboost as xgb"
   ]
  },
  {
   "cell_type": "code",
   "execution_count": 4,
   "metadata": {},
   "outputs": [],
   "source": [
    "xgb_clf = xgb.XGBClassifier()"
   ]
  },
  {
   "cell_type": "code",
   "execution_count": 107,
   "metadata": {},
   "outputs": [
    {
     "name": "stdout",
     "output_type": "stream",
     "text": [
      "Wall time: 19.4 s\n"
     ]
    },
    {
     "data": {
      "text/plain": [
       "0.7438599295696648"
      ]
     },
     "execution_count": 107,
     "metadata": {},
     "output_type": "execute_result"
    }
   ],
   "source": [
    "%%time\n",
    "cross_val_score(xgb_clf, X_train,y_train, cv=10).mean()"
   ]
  },
  {
   "cell_type": "code",
   "execution_count": 38,
   "metadata": {},
   "outputs": [
    {
     "data": {
      "text/plain": [
       "XGBClassifier(base_score=0.5, booster='gbtree', colsample_bylevel=1,\n",
       "              colsample_bynode=1, colsample_bytree=1, gamma=0, gpu_id=-1,\n",
       "              importance_type='gain', interaction_constraints='',\n",
       "              learning_rate=0.300000012, max_delta_step=0, max_depth=6,\n",
       "              min_child_weight=1, missing=nan, monotone_constraints='()',\n",
       "              n_estimators=100, n_jobs=0, num_parallel_tree=1,\n",
       "              objective='binary:logistic', random_state=0, reg_alpha=0,\n",
       "              reg_lambda=1, scale_pos_weight=1, subsample=1,\n",
       "              tree_method='exact', validate_parameters=1, verbosity=None)"
      ]
     },
     "execution_count": 38,
     "metadata": {},
     "output_type": "execute_result"
    }
   ],
   "source": [
    "xgb_clf.fit(X_train,y_train)"
   ]
  },
  {
   "cell_type": "code",
   "execution_count": 39,
   "metadata": {},
   "outputs": [
    {
     "name": "stdout",
     "output_type": "stream",
     "text": [
      "Precisión sobre el juego de pruebas: 0.7407\n",
      "Precisión sobre el juego de train: 0.8305\n"
     ]
    }
   ],
   "source": [
    "print(\"Precisión sobre el juego de pruebas: {:.4f}\"\n",
    "      .format(xgb_clf.score(X_test, y_test)))\n",
    "print(\"Precisión sobre el juego de train: {:.4f}\"\n",
    "      .format(xgb_clf.score(X_train, y_train)))"
   ]
  },
  {
   "cell_type": "code",
   "execution_count": 40,
   "metadata": {},
   "outputs": [],
   "source": [
    "param_range = [60,90,100,150,200,250,300]\n",
    "train_score, test_score= validation_curve(\n",
    "                                xgb_clf,\n",
    "                                X = X_train, y = y_train, \n",
    "                                param_name = 'n_estimators', \n",
    "                               param_range=param_range,\n",
    "                                scoring=\"accuracy\")"
   ]
  },
  {
   "cell_type": "code",
   "execution_count": 41,
   "metadata": {},
   "outputs": [
    {
     "name": "stdout",
     "output_type": "stream",
     "text": [
      "Numero de estimadores para un Cross_val 5 (test) y para todo dataset de entrenamiento (train)\n",
      "n_estimators 60 en test: 0.7453438732311422 en train : 0.8121290184713172\n",
      "n_estimators 90 en test: 0.7432204862227548 en train: 0.8382047783748611\n",
      "n_estimators 100 en test: 0.7426064202777705 en train: 0.8461036187391698\n",
      "n_estimators 150 en test: 0.7407388335365134 en train: 0.8793491398532345\n",
      "n_estimators 200 en test: 0.7363129986782256 en train: 0.9057702938495813\n",
      "n_estimators 250 en test: 0.7359036671981057 en train: 0.9281109267134047\n",
      "n_estimators 300 en test: 0.7341639085929994 en train: 0.9455523472620386\n"
     ]
    }
   ],
   "source": [
    "print(\"Numero de estimadores para un Cross_val 5 (test) y para todo dataset de entrenamiento (train)\")\n",
    "print ('n_estimators 60 en test:',test_score[0].mean(),'en train :',train_score[0].mean())\n",
    "print ('n_estimators 90 en test:',test_score[1].mean(),'en train:',train_score[1].mean())\n",
    "print ('n_estimators 100 en test:',test_score[2].mean(),'en train:',train_score[2].mean())\n",
    "print ('n_estimators 150 en test:',test_score[3].mean(),'en train:',train_score[3].mean())\n",
    "print ('n_estimators 200 en test:',test_score[4].mean(),'en train:',train_score[4].mean())\n",
    "print ('n_estimators 250 en test:',test_score[5].mean(),'en train:',train_score[5].mean())\n",
    "print ('n_estimators 300 en test:',test_score[6].mean(),'en train:',train_score[6].mean())"
   ]
  },
  {
   "cell_type": "code",
   "execution_count": 11,
   "metadata": {},
   "outputs": [],
   "source": [
    "xgb_clf = xgb.XGBClassifier(learning_rate= 0.1,\n",
    "                             max_depth=5,\n",
    "                             min_child_weight=1,\n",
    "                             gamma=0,\n",
    "                             subsample=0.8,\n",
    "                             colsample_bytree=0.8,\n",
    "                             objective= 'binary:logistic',\n",
    "                             nthread=4,\n",
    "                             scale_pos_weight=1,\n",
    "                             seed=27)"
   ]
  },
  {
   "cell_type": "code",
   "execution_count": 12,
   "metadata": {},
   "outputs": [
    {
     "data": {
      "text/plain": [
       "XGBClassifier(base_score=0.5, booster='gbtree', colsample_bylevel=1,\n",
       "              colsample_bynode=1, colsample_bytree=0.8, gamma=0, gpu_id=-1,\n",
       "              importance_type='gain', interaction_constraints='',\n",
       "              learning_rate=0.1, max_delta_step=0, max_depth=5,\n",
       "              min_child_weight=1, missing=nan, monotone_constraints='()',\n",
       "              n_estimators=100, n_jobs=4, nthread=4, num_parallel_tree=1,\n",
       "              objective='binary:logistic', random_state=27, reg_alpha=0,\n",
       "              reg_lambda=1, scale_pos_weight=1, seed=27, subsample=0.8,\n",
       "              tree_method='exact', validate_parameters=1, verbosity=None)"
      ]
     },
     "execution_count": 12,
     "metadata": {},
     "output_type": "execute_result"
    }
   ],
   "source": [
    "xgb_clf.fit(X_train,y_train)"
   ]
  },
  {
   "cell_type": "code",
   "execution_count": 13,
   "metadata": {},
   "outputs": [
    {
     "name": "stdout",
     "output_type": "stream",
     "text": [
      "Precisión sobre el juego de pruebas: 0.7442\n",
      "Precisión sobre el juego de train: 0.7693\n"
     ]
    }
   ],
   "source": [
    "print(\"Precisión sobre el juego de pruebas: {:.4f}\"\n",
    "      .format(xgb_clf.score(X_test, y_test)))\n",
    "print(\"Precisión sobre el juego de train: {:.4f}\"\n",
    "      .format(xgb_clf.score(X_train, y_train)))"
   ]
  },
  {
   "cell_type": "code",
   "execution_count": 14,
   "metadata": {},
   "outputs": [
    {
     "ename": "NameError",
     "evalue": "name 'gamma' is not defined",
     "output_type": "error",
     "traceback": [
      "\u001b[1;31m---------------------------------------------------------------------------\u001b[0m",
      "\u001b[1;31mNameError\u001b[0m                                 Traceback (most recent call last)",
      "\u001b[1;32m<ipython-input-14-1227b0b294a0>\u001b[0m in \u001b[0;36m<module>\u001b[1;34m\u001b[0m\n\u001b[0;32m      8\u001b[0m \u001b[0mn_estimators\u001b[0m \u001b[1;33m=\u001b[0m \u001b[1;33m[\u001b[0m\u001b[0mint\u001b[0m\u001b[1;33m(\u001b[0m\u001b[0mx\u001b[0m\u001b[1;33m)\u001b[0m \u001b[1;32mfor\u001b[0m \u001b[0mx\u001b[0m \u001b[1;32min\u001b[0m \u001b[0mnp\u001b[0m\u001b[1;33m.\u001b[0m\u001b[0mlinspace\u001b[0m\u001b[1;33m(\u001b[0m\u001b[0mstart\u001b[0m \u001b[1;33m=\u001b[0m \u001b[1;36m30\u001b[0m\u001b[1;33m,\u001b[0m \u001b[0mstop\u001b[0m \u001b[1;33m=\u001b[0m \u001b[1;36m150\u001b[0m\u001b[1;33m,\u001b[0m \u001b[0mnum\u001b[0m \u001b[1;33m=\u001b[0m \u001b[1;36m10\u001b[0m\u001b[1;33m)\u001b[0m\u001b[1;33m]\u001b[0m\u001b[1;33m\u001b[0m\u001b[1;33m\u001b[0m\u001b[0m\n\u001b[0;32m      9\u001b[0m \u001b[1;31m# Minimum loss reduction required to make a further partition on a leaf node of the tree.\u001b[0m\u001b[1;33m\u001b[0m\u001b[1;33m\u001b[0m\u001b[1;33m\u001b[0m\u001b[0m\n\u001b[1;32m---> 10\u001b[1;33m \u001b[0mgamma\u001b[0m\u001b[1;33m\u001b[0m\u001b[1;33m\u001b[0m\u001b[0m\n\u001b[0m\u001b[0;32m     11\u001b[0m \u001b[1;31m# Minimum sum of instance weight(hessian) needed in a child.\u001b[0m\u001b[1;33m\u001b[0m\u001b[1;33m\u001b[0m\u001b[1;33m\u001b[0m\u001b[0m\n\u001b[0;32m     12\u001b[0m \u001b[0mmin_child_weight\u001b[0m \u001b[1;33m=\u001b[0m \u001b[0mrange\u001b[0m\u001b[1;33m(\u001b[0m\u001b[1;36m5\u001b[0m\u001b[1;33m,\u001b[0m\u001b[1;36m8\u001b[0m\u001b[1;33m)\u001b[0m\u001b[1;33m\u001b[0m\u001b[1;33m\u001b[0m\u001b[0m\n",
      "\u001b[1;31mNameError\u001b[0m: name 'gamma' is not defined"
     ]
    }
   ],
   "source": [
    "booster = ['gbtree', 'gblinear', 'dart']\n",
    "# Profundidad de arbol\n",
    "max_depth = [int(x) for x in np.linspace(9, 12, num = 4)]\n",
    "max_depth.append(None)\n",
    "#Learning rate\n",
    "learning_rate = [float(x) for x in np.linspace(0.005, 1., num = 10)]\n",
    "# Numero de arboles del bosque\n",
    "n_estimators = [int(x) for x in np.linspace(start = 30, stop = 150, num = 10)]\n",
    "# Minimum loss reduction required to make a further partition on a leaf node of the tree.\n",
    "gamma \n",
    "# Minimum sum of instance weight(hessian) needed in a child.\n",
    "min_child_weight = range(5,8)\n",
    "# Subsample ratio of the training instance.\n",
    "subsample = [i/10. for i in range(7,11)]\n",
    "# Subsample ratio of columns when constructing each tree.\n",
    "colsample_bytree = [i/10. for i in range(7,11)]\n",
    "# Subsample ratio of columns for each level.\n",
    "colsample_bylevel \n",
    "# Subsample ratio of columns for each split.\n",
    "colsample_bynode \n",
    "# L1 regularization term on weights\n",
    "reg_alpha \n",
    "# L2 regularization term on weights\n",
    "reg_lambda \n",
    "# Balancing of positive and negative weights.\n",
    "scale_pos_weight \n",
    "#The initial prediction score of all instances, global bias.\n",
    "base_score\n",
    "# Creacion de cuadrícula aleatoria\n",
    "param_grid = {'booster': booster,\n",
    "             'max_depth': max_depth,\n",
    "             'learning_rate':learning_rate,\n",
    "             'n_estimators':n_estimators,\n",
    "             'gamma':gamma,\n",
    "             'min_child_weight':min_child_weight,\n",
    "             'subsample':subsample,\n",
    "             'colsample_bytree':colsample_bytree,\n",
    "             'colsample_bylevel':colsample_bylevel,\n",
    "             'colsample_bynode':colsample_bynode,\n",
    "             'reg_alpha':reg_alpha,\n",
    "             'reg_lambda':reg_lambda,\n",
    "             'scale_pos_weight':scale_pos_weight,\n",
    "             'base_score':base_score}\n",
    "print(param_grid)"
   ]
  },
  {
   "cell_type": "code",
   "execution_count": 18,
   "metadata": {},
   "outputs": [
    {
     "name": "stdout",
     "output_type": "stream",
     "text": [
      "{'booster': ['gbtree', 'gblinear', 'dart'], 'max_depth': [9, 10, 11, 12, None], 'learning_rate': [0.005, 0.11555555555555556, 0.22611111111111112, 0.33666666666666667, 0.44722222222222224, 0.5577777777777778, 0.6683333333333333, 0.778888888888889, 0.8894444444444445, 1.0], 'n_estimators': [30, 43, 56, 70, 83, 96, 110, 123, 136, 150], 'min_child_weight': range(5, 8), 'subsample': [0.7, 0.8, 0.9, 1.0], 'colsample_bytree': [0.7, 0.8, 0.9, 1.0]}\n"
     ]
    }
   ],
   "source": [
    "booster = ['gbtree', 'gblinear', 'dart']\n",
    "# Profundidad de arbol\n",
    "max_depth = [int(x) for x in np.linspace(9, 12, num = 4)]\n",
    "max_depth.append(None)\n",
    "#Learning rate\n",
    "learning_rate = [float(x) for x in np.linspace(0.005, 1., num = 10)]\n",
    "# Numero de arboles del bosque\n",
    "n_estimators = [int(x) for x in np.linspace(start = 30, stop = 150, num = 10)]\n",
    "# Minimum sum of instance weight(hessian) needed in a child.\n",
    "min_child_weight = range(5,8)\n",
    "# Subsample ratio of the training instance.\n",
    "subsample = [i/10. for i in range(7,11)]\n",
    "# Subsample ratio of columns when constructing each tree.\n",
    "colsample_bytree = [i/10. for i in range(7,11)]\n",
    "# Creacion de cuadrícula aleatoria\n",
    "param_grid = {'booster': booster,\n",
    "             'max_depth': max_depth,\n",
    "             'learning_rate':learning_rate,\n",
    "             'n_estimators':n_estimators,\n",
    "             'min_child_weight':min_child_weight,\n",
    "             'subsample':subsample,\n",
    "             'colsample_bytree':colsample_bytree}\n",
    "print(param_grid)"
   ]
  },
  {
   "cell_type": "code",
   "execution_count": 19,
   "metadata": {},
   "outputs": [],
   "source": [
    "xgb_clf = xgb.XGBClassifier(random_state=42)"
   ]
  },
  {
   "cell_type": "code",
   "execution_count": 20,
   "metadata": {},
   "outputs": [],
   "source": [
    "xgb_clf_grid = GridSearchCV(estimator = xgb_clf, param_grid = param_grid, cv = 5, verbose=2, n_jobs = -1)"
   ]
  },
  {
   "cell_type": "code",
   "execution_count": 21,
   "metadata": {
    "collapsed": true,
    "jupyter": {
     "outputs_hidden": true
    }
   },
   "outputs": [
    {
     "name": "stdout",
     "output_type": "stream",
     "text": [
      "Fitting 5 folds for each of 72000 candidates, totalling 360000 fits\n"
     ]
    },
    {
     "name": "stderr",
     "output_type": "stream",
     "text": [
      "[Parallel(n_jobs=-1)]: Using backend LokyBackend with 8 concurrent workers.\n",
      "[Parallel(n_jobs=-1)]: Done  25 tasks      | elapsed:   19.4s\n"
     ]
    },
    {
     "ename": "KeyboardInterrupt",
     "evalue": "",
     "output_type": "error",
     "traceback": [
      "\u001b[1;31m---------------------------------------------------------------------------\u001b[0m",
      "\u001b[1;31mKeyboardInterrupt\u001b[0m                         Traceback (most recent call last)",
      "\u001b[1;32m<ipython-input-21-629480e6d46d>\u001b[0m in \u001b[0;36m<module>\u001b[1;34m\u001b[0m\n\u001b[1;32m----> 1\u001b[1;33m \u001b[0mxgb_clf_grid\u001b[0m\u001b[1;33m.\u001b[0m\u001b[0mfit\u001b[0m\u001b[1;33m(\u001b[0m\u001b[0mX_train\u001b[0m\u001b[1;33m,\u001b[0m \u001b[0my_train\u001b[0m\u001b[1;33m)\u001b[0m\u001b[1;33m\u001b[0m\u001b[1;33m\u001b[0m\u001b[0m\n\u001b[0m",
      "\u001b[1;32m~\\Miniconda3\\envs\\tfm\\lib\\site-packages\\sklearn\\model_selection\\_search.py\u001b[0m in \u001b[0;36mfit\u001b[1;34m(self, X, y, groups, **fit_params)\u001b[0m\n\u001b[0;32m    708\u001b[0m                 \u001b[1;32mreturn\u001b[0m \u001b[0mresults\u001b[0m\u001b[1;33m\u001b[0m\u001b[1;33m\u001b[0m\u001b[0m\n\u001b[0;32m    709\u001b[0m \u001b[1;33m\u001b[0m\u001b[0m\n\u001b[1;32m--> 710\u001b[1;33m             \u001b[0mself\u001b[0m\u001b[1;33m.\u001b[0m\u001b[0m_run_search\u001b[0m\u001b[1;33m(\u001b[0m\u001b[0mevaluate_candidates\u001b[0m\u001b[1;33m)\u001b[0m\u001b[1;33m\u001b[0m\u001b[1;33m\u001b[0m\u001b[0m\n\u001b[0m\u001b[0;32m    711\u001b[0m \u001b[1;33m\u001b[0m\u001b[0m\n\u001b[0;32m    712\u001b[0m         \u001b[1;31m# For multi-metric evaluation, store the best_index_, best_params_ and\u001b[0m\u001b[1;33m\u001b[0m\u001b[1;33m\u001b[0m\u001b[1;33m\u001b[0m\u001b[0m\n",
      "\u001b[1;32m~\\Miniconda3\\envs\\tfm\\lib\\site-packages\\sklearn\\model_selection\\_search.py\u001b[0m in \u001b[0;36m_run_search\u001b[1;34m(self, evaluate_candidates)\u001b[0m\n\u001b[0;32m   1149\u001b[0m     \u001b[1;32mdef\u001b[0m \u001b[0m_run_search\u001b[0m\u001b[1;33m(\u001b[0m\u001b[0mself\u001b[0m\u001b[1;33m,\u001b[0m \u001b[0mevaluate_candidates\u001b[0m\u001b[1;33m)\u001b[0m\u001b[1;33m:\u001b[0m\u001b[1;33m\u001b[0m\u001b[1;33m\u001b[0m\u001b[0m\n\u001b[0;32m   1150\u001b[0m         \u001b[1;34m\"\"\"Search all candidates in param_grid\"\"\"\u001b[0m\u001b[1;33m\u001b[0m\u001b[1;33m\u001b[0m\u001b[0m\n\u001b[1;32m-> 1151\u001b[1;33m         \u001b[0mevaluate_candidates\u001b[0m\u001b[1;33m(\u001b[0m\u001b[0mParameterGrid\u001b[0m\u001b[1;33m(\u001b[0m\u001b[0mself\u001b[0m\u001b[1;33m.\u001b[0m\u001b[0mparam_grid\u001b[0m\u001b[1;33m)\u001b[0m\u001b[1;33m)\u001b[0m\u001b[1;33m\u001b[0m\u001b[1;33m\u001b[0m\u001b[0m\n\u001b[0m\u001b[0;32m   1152\u001b[0m \u001b[1;33m\u001b[0m\u001b[0m\n\u001b[0;32m   1153\u001b[0m \u001b[1;33m\u001b[0m\u001b[0m\n",
      "\u001b[1;32m~\\Miniconda3\\envs\\tfm\\lib\\site-packages\\sklearn\\model_selection\\_search.py\u001b[0m in \u001b[0;36mevaluate_candidates\u001b[1;34m(candidate_params)\u001b[0m\n\u001b[0;32m    687\u001b[0m                                \u001b[1;32mfor\u001b[0m \u001b[0mparameters\u001b[0m\u001b[1;33m,\u001b[0m \u001b[1;33m(\u001b[0m\u001b[0mtrain\u001b[0m\u001b[1;33m,\u001b[0m \u001b[0mtest\u001b[0m\u001b[1;33m)\u001b[0m\u001b[1;33m\u001b[0m\u001b[1;33m\u001b[0m\u001b[0m\n\u001b[0;32m    688\u001b[0m                                in product(candidate_params,\n\u001b[1;32m--> 689\u001b[1;33m                                           cv.split(X, y, groups)))\n\u001b[0m\u001b[0;32m    690\u001b[0m \u001b[1;33m\u001b[0m\u001b[0m\n\u001b[0;32m    691\u001b[0m                 \u001b[1;32mif\u001b[0m \u001b[0mlen\u001b[0m\u001b[1;33m(\u001b[0m\u001b[0mout\u001b[0m\u001b[1;33m)\u001b[0m \u001b[1;33m<\u001b[0m \u001b[1;36m1\u001b[0m\u001b[1;33m:\u001b[0m\u001b[1;33m\u001b[0m\u001b[1;33m\u001b[0m\u001b[0m\n",
      "\u001b[1;32m~\\Miniconda3\\envs\\tfm\\lib\\site-packages\\joblib\\parallel.py\u001b[0m in \u001b[0;36m__call__\u001b[1;34m(self, iterable)\u001b[0m\n\u001b[0;32m   1040\u001b[0m \u001b[1;33m\u001b[0m\u001b[0m\n\u001b[0;32m   1041\u001b[0m             \u001b[1;32mwith\u001b[0m \u001b[0mself\u001b[0m\u001b[1;33m.\u001b[0m\u001b[0m_backend\u001b[0m\u001b[1;33m.\u001b[0m\u001b[0mretrieval_context\u001b[0m\u001b[1;33m(\u001b[0m\u001b[1;33m)\u001b[0m\u001b[1;33m:\u001b[0m\u001b[1;33m\u001b[0m\u001b[1;33m\u001b[0m\u001b[0m\n\u001b[1;32m-> 1042\u001b[1;33m                 \u001b[0mself\u001b[0m\u001b[1;33m.\u001b[0m\u001b[0mretrieve\u001b[0m\u001b[1;33m(\u001b[0m\u001b[1;33m)\u001b[0m\u001b[1;33m\u001b[0m\u001b[1;33m\u001b[0m\u001b[0m\n\u001b[0m\u001b[0;32m   1043\u001b[0m             \u001b[1;31m# Make sure that we get a last message telling us we are done\u001b[0m\u001b[1;33m\u001b[0m\u001b[1;33m\u001b[0m\u001b[1;33m\u001b[0m\u001b[0m\n\u001b[0;32m   1044\u001b[0m             \u001b[0melapsed_time\u001b[0m \u001b[1;33m=\u001b[0m \u001b[0mtime\u001b[0m\u001b[1;33m.\u001b[0m\u001b[0mtime\u001b[0m\u001b[1;33m(\u001b[0m\u001b[1;33m)\u001b[0m \u001b[1;33m-\u001b[0m \u001b[0mself\u001b[0m\u001b[1;33m.\u001b[0m\u001b[0m_start_time\u001b[0m\u001b[1;33m\u001b[0m\u001b[1;33m\u001b[0m\u001b[0m\n",
      "\u001b[1;32m~\\Miniconda3\\envs\\tfm\\lib\\site-packages\\joblib\\parallel.py\u001b[0m in \u001b[0;36mretrieve\u001b[1;34m(self)\u001b[0m\n\u001b[0;32m    919\u001b[0m             \u001b[1;32mtry\u001b[0m\u001b[1;33m:\u001b[0m\u001b[1;33m\u001b[0m\u001b[1;33m\u001b[0m\u001b[0m\n\u001b[0;32m    920\u001b[0m                 \u001b[1;32mif\u001b[0m \u001b[0mgetattr\u001b[0m\u001b[1;33m(\u001b[0m\u001b[0mself\u001b[0m\u001b[1;33m.\u001b[0m\u001b[0m_backend\u001b[0m\u001b[1;33m,\u001b[0m \u001b[1;34m'supports_timeout'\u001b[0m\u001b[1;33m,\u001b[0m \u001b[1;32mFalse\u001b[0m\u001b[1;33m)\u001b[0m\u001b[1;33m:\u001b[0m\u001b[1;33m\u001b[0m\u001b[1;33m\u001b[0m\u001b[0m\n\u001b[1;32m--> 921\u001b[1;33m                     \u001b[0mself\u001b[0m\u001b[1;33m.\u001b[0m\u001b[0m_output\u001b[0m\u001b[1;33m.\u001b[0m\u001b[0mextend\u001b[0m\u001b[1;33m(\u001b[0m\u001b[0mjob\u001b[0m\u001b[1;33m.\u001b[0m\u001b[0mget\u001b[0m\u001b[1;33m(\u001b[0m\u001b[0mtimeout\u001b[0m\u001b[1;33m=\u001b[0m\u001b[0mself\u001b[0m\u001b[1;33m.\u001b[0m\u001b[0mtimeout\u001b[0m\u001b[1;33m)\u001b[0m\u001b[1;33m)\u001b[0m\u001b[1;33m\u001b[0m\u001b[1;33m\u001b[0m\u001b[0m\n\u001b[0m\u001b[0;32m    922\u001b[0m                 \u001b[1;32melse\u001b[0m\u001b[1;33m:\u001b[0m\u001b[1;33m\u001b[0m\u001b[1;33m\u001b[0m\u001b[0m\n\u001b[0;32m    923\u001b[0m                     \u001b[0mself\u001b[0m\u001b[1;33m.\u001b[0m\u001b[0m_output\u001b[0m\u001b[1;33m.\u001b[0m\u001b[0mextend\u001b[0m\u001b[1;33m(\u001b[0m\u001b[0mjob\u001b[0m\u001b[1;33m.\u001b[0m\u001b[0mget\u001b[0m\u001b[1;33m(\u001b[0m\u001b[1;33m)\u001b[0m\u001b[1;33m)\u001b[0m\u001b[1;33m\u001b[0m\u001b[1;33m\u001b[0m\u001b[0m\n",
      "\u001b[1;32m~\\Miniconda3\\envs\\tfm\\lib\\site-packages\\joblib\\_parallel_backends.py\u001b[0m in \u001b[0;36mwrap_future_result\u001b[1;34m(future, timeout)\u001b[0m\n\u001b[0;32m    538\u001b[0m         AsyncResults.get from multiprocessing.\"\"\"\n\u001b[0;32m    539\u001b[0m         \u001b[1;32mtry\u001b[0m\u001b[1;33m:\u001b[0m\u001b[1;33m\u001b[0m\u001b[1;33m\u001b[0m\u001b[0m\n\u001b[1;32m--> 540\u001b[1;33m             \u001b[1;32mreturn\u001b[0m \u001b[0mfuture\u001b[0m\u001b[1;33m.\u001b[0m\u001b[0mresult\u001b[0m\u001b[1;33m(\u001b[0m\u001b[0mtimeout\u001b[0m\u001b[1;33m=\u001b[0m\u001b[0mtimeout\u001b[0m\u001b[1;33m)\u001b[0m\u001b[1;33m\u001b[0m\u001b[1;33m\u001b[0m\u001b[0m\n\u001b[0m\u001b[0;32m    541\u001b[0m         \u001b[1;32mexcept\u001b[0m \u001b[0mCfTimeoutError\u001b[0m\u001b[1;33m:\u001b[0m\u001b[1;33m\u001b[0m\u001b[1;33m\u001b[0m\u001b[0m\n\u001b[0;32m    542\u001b[0m             \u001b[1;32mraise\u001b[0m \u001b[0mTimeoutError\u001b[0m\u001b[1;33m(\u001b[0m\u001b[1;33m)\u001b[0m\u001b[1;33m\u001b[0m\u001b[1;33m\u001b[0m\u001b[0m\n",
      "\u001b[1;32m~\\Miniconda3\\envs\\tfm\\lib\\concurrent\\futures\\_base.py\u001b[0m in \u001b[0;36mresult\u001b[1;34m(self, timeout)\u001b[0m\n\u001b[0;32m    428\u001b[0m                 \u001b[1;32mreturn\u001b[0m \u001b[0mself\u001b[0m\u001b[1;33m.\u001b[0m\u001b[0m__get_result\u001b[0m\u001b[1;33m(\u001b[0m\u001b[1;33m)\u001b[0m\u001b[1;33m\u001b[0m\u001b[1;33m\u001b[0m\u001b[0m\n\u001b[0;32m    429\u001b[0m \u001b[1;33m\u001b[0m\u001b[0m\n\u001b[1;32m--> 430\u001b[1;33m             \u001b[0mself\u001b[0m\u001b[1;33m.\u001b[0m\u001b[0m_condition\u001b[0m\u001b[1;33m.\u001b[0m\u001b[0mwait\u001b[0m\u001b[1;33m(\u001b[0m\u001b[0mtimeout\u001b[0m\u001b[1;33m)\u001b[0m\u001b[1;33m\u001b[0m\u001b[1;33m\u001b[0m\u001b[0m\n\u001b[0m\u001b[0;32m    431\u001b[0m \u001b[1;33m\u001b[0m\u001b[0m\n\u001b[0;32m    432\u001b[0m             \u001b[1;32mif\u001b[0m \u001b[0mself\u001b[0m\u001b[1;33m.\u001b[0m\u001b[0m_state\u001b[0m \u001b[1;32min\u001b[0m \u001b[1;33m[\u001b[0m\u001b[0mCANCELLED\u001b[0m\u001b[1;33m,\u001b[0m \u001b[0mCANCELLED_AND_NOTIFIED\u001b[0m\u001b[1;33m]\u001b[0m\u001b[1;33m:\u001b[0m\u001b[1;33m\u001b[0m\u001b[1;33m\u001b[0m\u001b[0m\n",
      "\u001b[1;32m~\\Miniconda3\\envs\\tfm\\lib\\threading.py\u001b[0m in \u001b[0;36mwait\u001b[1;34m(self, timeout)\u001b[0m\n\u001b[0;32m    294\u001b[0m         \u001b[1;32mtry\u001b[0m\u001b[1;33m:\u001b[0m    \u001b[1;31m# restore state no matter what (e.g., KeyboardInterrupt)\u001b[0m\u001b[1;33m\u001b[0m\u001b[1;33m\u001b[0m\u001b[0m\n\u001b[0;32m    295\u001b[0m             \u001b[1;32mif\u001b[0m \u001b[0mtimeout\u001b[0m \u001b[1;32mis\u001b[0m \u001b[1;32mNone\u001b[0m\u001b[1;33m:\u001b[0m\u001b[1;33m\u001b[0m\u001b[1;33m\u001b[0m\u001b[0m\n\u001b[1;32m--> 296\u001b[1;33m                 \u001b[0mwaiter\u001b[0m\u001b[1;33m.\u001b[0m\u001b[0macquire\u001b[0m\u001b[1;33m(\u001b[0m\u001b[1;33m)\u001b[0m\u001b[1;33m\u001b[0m\u001b[1;33m\u001b[0m\u001b[0m\n\u001b[0m\u001b[0;32m    297\u001b[0m                 \u001b[0mgotit\u001b[0m \u001b[1;33m=\u001b[0m \u001b[1;32mTrue\u001b[0m\u001b[1;33m\u001b[0m\u001b[1;33m\u001b[0m\u001b[0m\n\u001b[0;32m    298\u001b[0m             \u001b[1;32melse\u001b[0m\u001b[1;33m:\u001b[0m\u001b[1;33m\u001b[0m\u001b[1;33m\u001b[0m\u001b[0m\n",
      "\u001b[1;31mKeyboardInterrupt\u001b[0m: "
     ]
    }
   ],
   "source": [
    "xgb_clf_grid.fit(X_train, y_train)"
   ]
  },
  {
   "cell_type": "code",
   "execution_count": 24,
   "metadata": {},
   "outputs": [],
   "source": [
    "# Random search of parameters, using 3 fold cross validation, \n",
    "# search across 100 different combinations, and use all available cores\n",
    "xgb_random = RandomizedSearchCV(estimator = xgb_clf, param_distributions = param_grid, n_iter = 2400, cv = 5, verbose=2, random_state=42, n_jobs = -1)"
   ]
  },
  {
   "cell_type": "code",
   "execution_count": null,
   "metadata": {},
   "outputs": [
    {
     "name": "stdout",
     "output_type": "stream",
     "text": [
      "Fitting 5 folds for each of 2400 candidates, totalling 12000 fits\n"
     ]
    },
    {
     "name": "stderr",
     "output_type": "stream",
     "text": [
      "[Parallel(n_jobs=-1)]: Using backend LokyBackend with 8 concurrent workers.\n",
      "[Parallel(n_jobs=-1)]: Done  25 tasks      | elapsed:  1.1min\n",
      "[Parallel(n_jobs=-1)]: Done 146 tasks      | elapsed:  5.3min\n",
      "[Parallel(n_jobs=-1)]: Done 349 tasks      | elapsed: 14.6min\n",
      "[Parallel(n_jobs=-1)]: Done 632 tasks      | elapsed: 25.6min\n",
      "[Parallel(n_jobs=-1)]: Done 997 tasks      | elapsed: 40.0min\n",
      "[Parallel(n_jobs=-1)]: Done 1442 tasks      | elapsed: 54.3min\n",
      "[Parallel(n_jobs=-1)]: Done 1969 tasks      | elapsed: 75.4min\n",
      "[Parallel(n_jobs=-1)]: Done 2576 tasks      | elapsed: 101.7min\n",
      "[Parallel(n_jobs=-1)]: Done 3265 tasks      | elapsed: 126.5min\n"
     ]
    }
   ],
   "source": [
    "xgb_random.fit(X_train, y_train)"
   ]
  },
  {
   "cell_type": "markdown",
   "metadata": {},
   "source": [
    "## Añadimos año como feature"
   ]
  },
  {
   "cell_type": "markdown",
   "metadata": {},
   "source": [
    "En un principio no se penso añadir el año como fiature ya que esto limitaria mucho la prediccion en el futuro puesto que todas las nuevas predicciones que se hagan tomaran siempre 2020 como corte, entonces es un feature que impide que el modelo se extrapole en el tiempo, aunque podria dar buenos resultados en fechas actuales e incluso el proximo año ya que la tendencia a corto plazo seran similara a la vivida en el 2020"
   ]
  },
  {
   "cell_type": "markdown",
   "metadata": {},
   "source": [
    "- Primero definimos una funcion para poder hacer predicciones"
   ]
  },
  {
   "cell_type": "code",
   "execution_count": 15,
   "metadata": {},
   "outputs": [],
   "source": [
    "def find_song_year():\n",
    "    print(\"Artista: \", end=\"\")\n",
    "    artist = input()\n",
    "    print(\"Titulo: \", end=\"\")\n",
    "    title = input()\n",
    "    Searched = str (title + \" \" + artist)\n",
    "    track = sp.search(Searched)\n",
    "    try:\n",
    "        id_track = track[\"tracks\"][\"items\"][0][\"uri\"]\n",
    "        track = sp.track(id_track)\n",
    "        get_year = lambda date: parse(date, fuzzy=True).year\n",
    "        year_realease = get_year(track[\"album\"][\"release_date\"])\n",
    "        track_feat = sp.audio_features(id_track)\n",
    "        song = [[year_realease, track_feat[0][\"danceability\"], track_feat[0][\"energy\"],\n",
    "                 track_feat[0][\"key\"],track_feat[0][\"loudness\"], track_feat[0][\"mode\"],\n",
    "                 track_feat[0][\"speechiness\"],track_feat[0][\"acousticness\"],\n",
    "                 track_feat[0][\"instrumentalness\"], track_feat[0][\"liveness\"],track_feat[0][\"valence\"],\n",
    "                 track_feat[0][\"tempo\"],track_feat[0][\"time_signature\"],track[\"duration_ms\"]]]\n",
    "        \n",
    "        print (\"Canción elegida:\",track[\"name\"], \"de\", track[\"artists\"][0][\"name\"] )\n",
    "        return song\n",
    "    except:\n",
    "        print (\"ERROR: Titulo no encontrado\")"
   ]
  },
  {
   "cell_type": "markdown",
   "metadata": {},
   "source": [
    "- Obtenemos el año del dataset para añadirlo como feature"
   ]
  },
  {
   "cell_type": "code",
   "execution_count": 16,
   "metadata": {},
   "outputs": [],
   "source": [
    "from dateutil.parser import parse"
   ]
  },
  {
   "cell_type": "code",
   "execution_count": 17,
   "metadata": {},
   "outputs": [],
   "source": [
    "df_songs_year = pd.DataFrame.copy(df_songs)\n",
    "get_year = lambda date: parse(date, fuzzy=True).year\n",
    "df_songs_year.insert (12, \"year\", 0)\n",
    "for i, item in df_songs_year.iterrows():\n",
    "    if item['target']==0:\n",
    "        year = get_year(item['release_date'])\n",
    "    else:\n",
    "        year = item['year_chart']\n",
    "    df_songs_year.loc[i,'year'] = year"
   ]
  },
  {
   "cell_type": "code",
   "execution_count": 18,
   "metadata": {},
   "outputs": [],
   "source": [
    "X = df_songs_year.loc[:,\"year\":\"duration_ms\"]\n",
    "y = df_songs_year.iloc[:,-1]\n",
    "X_train, X_test, y_train, y_test = train_test_split(X, y, random_state=0)"
   ]
  },
  {
   "cell_type": "markdown",
   "metadata": {},
   "source": [
    "### Random Forest"
   ]
  },
  {
   "cell_type": "code",
   "execution_count": 19,
   "metadata": {},
   "outputs": [],
   "source": [
    "forest = RandomForestClassifier ()"
   ]
  },
  {
   "cell_type": "code",
   "execution_count": 20,
   "metadata": {},
   "outputs": [
    {
     "name": "stdout",
     "output_type": "stream",
     "text": [
      "Wall time: 11.3 s\n"
     ]
    },
    {
     "data": {
      "text/plain": [
       "0.8107643844136436"
      ]
     },
     "execution_count": 20,
     "metadata": {},
     "output_type": "execute_result"
    }
   ],
   "source": [
    "%%time\n",
    "cross_val_score(forest,X_train,y_train,cv=5).mean()"
   ]
  },
  {
   "cell_type": "code",
   "execution_count": null,
   "metadata": {},
   "outputs": [],
   "source": [
    "forest.fit(X_train,y_train)"
   ]
  },
  {
   "cell_type": "code",
   "execution_count": null,
   "metadata": {},
   "outputs": [],
   "source": [
    "print(\"Precisión sobre datos de pruebas: {:.4f}\"\n",
    "      .format(forest.score(X_test, y_test)))\n",
    "print(\"Precisión sobre datos de train: {:.4f}\"\n",
    "      .format(forest.score(X_train, y_train)))"
   ]
  },
  {
   "cell_type": "code",
   "execution_count": 19,
   "metadata": {},
   "outputs": [],
   "source": [
    "param_range = [30,40,50,60,90,100,130,150,200,300]\n",
    "train_score, test_score= validation_curve(\n",
    "                                forest,\n",
    "                                X = X_train, y = y_train, \n",
    "                                param_name = 'n_estimators', \n",
    "                               param_range=param_range,\n",
    "                                scoring=\"accuracy\")"
   ]
  },
  {
   "cell_type": "code",
   "execution_count": 20,
   "metadata": {},
   "outputs": [
    {
     "name": "stdout",
     "output_type": "stream",
     "text": [
      "Numero de estimadores para un Cross_val 5 (test) y para todo dataset de entrenamiento (train)\n",
      "n_estimators 30 en test: 0.8487715629900681 en train: 0.9987911657083115\n",
      "n_estimators 40 en test: 0.848980658651333 en train: 0.999470726607423\n",
      "n_estimators 50 en test: 0.8495556717198118 en train: 0.9996667537898588\n",
      "n_estimators 60 en test: 0.8507579717720859 en train: 0.9997582331416623\n",
      "n_estimators 90 en test: 0.8517773131207527 en train: 0.9998562467328803\n",
      "n_estimators 100 en test: 0.8524830109775221 en train: 0.9998693152117093\n",
      "n_estimators 130 en test: 0.8540512284370099 en train: 0.9998693152117093\n",
      "n_estimators 150 en test: 0.8517773131207527 en train: 0.999875849451124\n",
      "n_estimators 200 en test: 0.8529534762153685 en train: 0.999875849451124\n",
      "n_estimators 300 en test: 0.8522739153162572 en train: 0.999875849451124\n"
     ]
    }
   ],
   "source": [
    "print(\"Numero de estimadores para un Cross_val 5 (test) y para todo dataset de entrenamiento (train)\")\n",
    "print ('n_estimators 30 en test:',test_score[0].mean(),'en train:',train_score[0].mean())\n",
    "print ('n_estimators 40 en test:',test_score[1].mean(),'en train:',train_score[1].mean())\n",
    "print ('n_estimators 50 en test:',test_score[2].mean(),'en train:',train_score[2].mean())\n",
    "print ('n_estimators 60 en test:',test_score[3].mean(),'en train:',train_score[3].mean())\n",
    "print ('n_estimators 90 en test:',test_score[4].mean(),'en train:',train_score[4].mean())\n",
    "print ('n_estimators 100 en test:',test_score[5].mean(),'en train:',train_score[5].mean())\n",
    "print ('n_estimators 130 en test:',test_score[6].mean(),'en train:',train_score[6].mean())\n",
    "print ('n_estimators 150 en test:',test_score[7].mean(),'en train:',train_score[7].mean())\n",
    "print ('n_estimators 200 en test:',test_score[8].mean(),'en train:',train_score[8].mean())\n",
    "print ('n_estimators 300 en test:',test_score[9].mean(),'en train:',train_score[9].mean())"
   ]
  },
  {
   "cell_type": "code",
   "execution_count": 28,
   "metadata": {},
   "outputs": [
    {
     "name": "stdout",
     "output_type": "stream",
     "text": [
      "{'n_estimators': [30, 43, 56, 70, 83, 96, 110, 123, 136, 150], 'max_features': [1, 2, 3, 4, 5, 6, 7, 8, 9, 10, 11, 12, 13, 14, 'auto'], 'max_depth': [10, 20, 30, 40, 50, 60, 70, 80, 90, 100, 110, None], 'min_samples_split': [2, 5, 10], 'min_samples_leaf': [1, 2, 3, 4, 5], 'max_leaf_nodes': [10, 11, 12, 13, 14, 15, 16, 17, 18, 19, 20, 21, 22, 23, 24, 25, 26, 27, 28, 29, 30, 31, 32, 33, 34, 35, 36, 37, 38, 39, 40, 41, 42, 43, 44, 45, 46, 47, 48, 49, 50, 51, 52, 53, 54, 55, 56, 57, 58, 59, 60, 61, 62, 63, 64, 65, 66, 67, 68, 69, 70, 71, 72, 73, 74, 75, 76, 77, 78, 79, 80, 81, 82, 83, 84, 85, 86, 87, 88, 89, 90, 91, 92, 93, 94, 95, 96, 97, 98, 100, None]}\n"
     ]
    }
   ],
   "source": [
    "# Numero de arboles del bosque\n",
    "n_estimators = [int(x) for x in np.linspace(start = 30, stop = 150, num = 10)]\n",
    "# Numero de caracteristicas proporcionadas a cada arbol\n",
    "max_features = [1,2,3,4,5,6,7,8,9,10,11,12,13,14]\n",
    "max_features.append('auto')\n",
    "# Profundidad de arbol\n",
    "max_depth = [int(x) for x in np.linspace(10, 110, num = 11)]\n",
    "max_depth.append(None)\n",
    "# Minimo valor para separar en subnodos\n",
    "min_samples_split = [2, 5, 10]\n",
    "# Minimo numero de muestras necesarias en hoja despues de dividir\n",
    "min_samples_leaf = [1, 2,3, 4, 5]\n",
    "# Numero maximo de nodos finales\n",
    "max_leaf_nodes = [int(x) for x in np.linspace(10, 100, num = 90)]\n",
    "max_leaf_nodes.append(None)\n",
    "# Creacion de cuadrícula aleatoria\n",
    "param_grid = {'n_estimators': n_estimators,\n",
    "               'max_features': max_features,\n",
    "               'max_depth': max_depth,\n",
    "               'min_samples_split': min_samples_split,\n",
    "               'min_samples_leaf': min_samples_leaf,\n",
    "               \"max_leaf_nodes\": max_leaf_nodes}\n",
    "print(param_grid)"
   ]
  },
  {
   "cell_type": "code",
   "execution_count": 29,
   "metadata": {},
   "outputs": [],
   "source": [
    "forest = RandomForestClassifier (random_state=32)"
   ]
  },
  {
   "cell_type": "code",
   "execution_count": 30,
   "metadata": {},
   "outputs": [],
   "source": [
    "forest_random = RandomizedSearchCV(estimator = forest, param_distributions = param_grid, n_iter = 3500, cv = 5, verbose=2, random_state=42, n_jobs = -1)"
   ]
  },
  {
   "cell_type": "code",
   "execution_count": 31,
   "metadata": {},
   "outputs": [
    {
     "name": "stdout",
     "output_type": "stream",
     "text": [
      "Fitting 5 folds for each of 3500 candidates, totalling 17500 fits\n"
     ]
    },
    {
     "name": "stderr",
     "output_type": "stream",
     "text": [
      "[Parallel(n_jobs=-1)]: Using backend LokyBackend with 8 concurrent workers.\n",
      "[Parallel(n_jobs=-1)]: Done  25 tasks      | elapsed:   37.7s\n",
      "[Parallel(n_jobs=-1)]: Done 146 tasks      | elapsed:  4.1min\n",
      "[Parallel(n_jobs=-1)]: Done 349 tasks      | elapsed:  9.2min\n",
      "[Parallel(n_jobs=-1)]: Done 632 tasks      | elapsed: 16.7min\n",
      "[Parallel(n_jobs=-1)]: Done 997 tasks      | elapsed: 26.1min\n",
      "[Parallel(n_jobs=-1)]: Done 1442 tasks      | elapsed: 39.4min\n",
      "[Parallel(n_jobs=-1)]: Done 1969 tasks      | elapsed: 52.0min\n",
      "[Parallel(n_jobs=-1)]: Done 2576 tasks      | elapsed: 66.6min\n",
      "[Parallel(n_jobs=-1)]: Done 3265 tasks      | elapsed: 84.1min\n",
      "[Parallel(n_jobs=-1)]: Done 4034 tasks      | elapsed: 102.4min\n",
      "[Parallel(n_jobs=-1)]: Done 4885 tasks      | elapsed: 124.2min\n",
      "[Parallel(n_jobs=-1)]: Done 5816 tasks      | elapsed: 147.4min\n",
      "[Parallel(n_jobs=-1)]: Done 6829 tasks      | elapsed: 173.4min\n",
      "[Parallel(n_jobs=-1)]: Done 7922 tasks      | elapsed: 202.0min\n",
      "[Parallel(n_jobs=-1)]: Done 9097 tasks      | elapsed: 232.3min\n",
      "[Parallel(n_jobs=-1)]: Done 10352 tasks      | elapsed: 262.4min\n",
      "[Parallel(n_jobs=-1)]: Done 11689 tasks      | elapsed: 294.4min\n",
      "[Parallel(n_jobs=-1)]: Done 13106 tasks      | elapsed: 332.4min\n",
      "[Parallel(n_jobs=-1)]: Done 14605 tasks      | elapsed: 368.1min\n",
      "[Parallel(n_jobs=-1)]: Done 16184 tasks      | elapsed: 409.4min\n",
      "[Parallel(n_jobs=-1)]: Done 17500 out of 17500 | elapsed: 443.4min finished\n"
     ]
    },
    {
     "data": {
      "text/plain": [
       "RandomizedSearchCV(cv=5, error_score=nan,\n",
       "                   estimator=RandomForestClassifier(bootstrap=True,\n",
       "                                                    ccp_alpha=0.0,\n",
       "                                                    class_weight=None,\n",
       "                                                    criterion='gini',\n",
       "                                                    max_depth=None,\n",
       "                                                    max_features='auto',\n",
       "                                                    max_leaf_nodes=None,\n",
       "                                                    max_samples=None,\n",
       "                                                    min_impurity_decrease=0.0,\n",
       "                                                    min_impurity_split=None,\n",
       "                                                    min_samples_leaf=1,\n",
       "                                                    min_samples_split=2,\n",
       "                                                    min_weight_fraction_leaf=0.0,\n",
       "                                                    n_estimators=100,\n",
       "                                                    n_jobs...\n",
       "                                        'max_features': [1, 2, 3, 4, 5, 6, 7, 8,\n",
       "                                                         9, 10, 11, 12, 13, 14,\n",
       "                                                         'auto'],\n",
       "                                        'max_leaf_nodes': [10, 11, 12, 13, 14,\n",
       "                                                           15, 16, 17, 18, 19,\n",
       "                                                           20, 21, 22, 23, 24,\n",
       "                                                           25, 26, 27, 28, 29,\n",
       "                                                           30, 31, 32, 33, 34,\n",
       "                                                           35, 36, 37, 38, 39, ...],\n",
       "                                        'min_samples_leaf': [1, 2, 3, 4, 5],\n",
       "                                        'min_samples_split': [2, 5, 10],\n",
       "                                        'n_estimators': [30, 43, 56, 70, 83, 96,\n",
       "                                                         110, 123, 136, 150]},\n",
       "                   pre_dispatch='2*n_jobs', random_state=42, refit=True,\n",
       "                   return_train_score=False, scoring=None, verbose=2)"
      ]
     },
     "execution_count": 31,
     "metadata": {},
     "output_type": "execute_result"
    }
   ],
   "source": [
    "forest_random.fit(X_train,y_train)"
   ]
  },
  {
   "cell_type": "code",
   "execution_count": 32,
   "metadata": {},
   "outputs": [
    {
     "data": {
      "text/plain": [
       "{'n_estimators': 43,\n",
       " 'min_samples_split': 2,\n",
       " 'min_samples_leaf': 5,\n",
       " 'max_leaf_nodes': None,\n",
       " 'max_features': 4,\n",
       " 'max_depth': 30}"
      ]
     },
     "execution_count": 32,
     "metadata": {},
     "output_type": "execute_result"
    }
   ],
   "source": [
    "forest_random.best_params_"
   ]
  },
  {
   "cell_type": "code",
   "execution_count": 33,
   "metadata": {},
   "outputs": [
    {
     "data": {
      "text/plain": [
       "0.8541296393099843"
      ]
     },
     "execution_count": 33,
     "metadata": {},
     "output_type": "execute_result"
    }
   ],
   "source": [
    "forest_random.best_score_"
   ]
  },
  {
   "cell_type": "code",
   "execution_count": null,
   "metadata": {},
   "outputs": [],
   "source": [
    "best_forest = forest_random.best_estimator_"
   ]
  },
  {
   "cell_type": "code",
   "execution_count": 39,
   "metadata": {},
   "outputs": [
    {
     "data": {
      "image/png": "[encoded data removed]",
      "text/plain": [
       "<Figure size 576x432 with 1 Axes>"
      ]
     },
     "metadata": {
      "needs_background": "light"
     },
     "output_type": "display_data"
    }
   ],
   "source": [
    "plt.barh(df_songs_year.loc[:,\"year\":\"duration_ms\"].columns, best_forest.feature_importances_);"
   ]
  },
  {
   "cell_type": "code",
   "execution_count": 36,
   "metadata": {},
   "outputs": [
    {
     "data": {
      "text/plain": [
       "RandomForestClassifier(bootstrap=True, ccp_alpha=0.0, class_weight=None,\n",
       "                       criterion='gini', max_depth=30, max_features=4,\n",
       "                       max_leaf_nodes=None, max_samples=None,\n",
       "                       min_impurity_decrease=0.0, min_impurity_split=None,\n",
       "                       min_samples_leaf=5, min_samples_split=2,\n",
       "                       min_weight_fraction_leaf=0.0, n_estimators=43,\n",
       "                       n_jobs=None, oob_score=False, random_state=32, verbose=0,\n",
       "                       warm_start=False)"
      ]
     },
     "execution_count": 36,
     "metadata": {},
     "output_type": "execute_result"
    }
   ],
   "source": [
    "best_forest.fit(X_train,y_train)"
   ]
  },
  {
   "cell_type": "code",
   "execution_count": 38,
   "metadata": {},
   "outputs": [
    {
     "name": "stdout",
     "output_type": "stream",
     "text": [
      "Precisión sobre datos de pruebas: 0.8545\n",
      "Precisión sobre datos de train: 0.9348\n"
     ]
    }
   ],
   "source": [
    "print(\"Precisión sobre datos de pruebas: {:.4f}\"\n",
    "      .format(best_forest.score(X_test, y_test)))\n",
    "print(\"Precisión sobre datos de train: {:.4f}\"\n",
    "      .format(best_forest.score(X_train, y_train)))"
   ]
  },
  {
   "cell_type": "code",
   "execution_count": 37,
   "metadata": {},
   "outputs": [
    {
     "data": {
      "text/plain": [
       "['forest_model_random_year.pkl']"
      ]
     },
     "execution_count": 37,
     "metadata": {},
     "output_type": "execute_result"
    }
   ],
   "source": [
    "filename = 'forest_model_random_year.pkl'\n",
    "joblib.dump(best_forest, filename)"
   ]
  },
  {
   "cell_type": "markdown",
   "metadata": {},
   "source": [
    "## AdaBoost"
   ]
  },
  {
   "cell_type": "code",
   "execution_count": 81,
   "metadata": {},
   "outputs": [],
   "source": [
    "ada_clf = AdaBoostClassifier()"
   ]
  },
  {
   "cell_type": "code",
   "execution_count": 15,
   "metadata": {},
   "outputs": [
    {
     "name": "stdout",
     "output_type": "stream",
     "text": [
      "Wall time: 7.57 s\n"
     ]
    },
    {
     "data": {
      "text/plain": [
       "0.8401986408782017"
      ]
     },
     "execution_count": 15,
     "metadata": {},
     "output_type": "execute_result"
    }
   ],
   "source": [
    "%%time\n",
    "cross_val_score(ada_clf,X_train,y_train,cv=5).mean()"
   ]
  },
  {
   "cell_type": "code",
   "execution_count": 82,
   "metadata": {},
   "outputs": [
    {
     "data": {
      "text/plain": [
       "AdaBoostClassifier(algorithm='SAMME.R', base_estimator=None, learning_rate=1.0,\n",
       "                   n_estimators=50, random_state=None)"
      ]
     },
     "execution_count": 82,
     "metadata": {},
     "output_type": "execute_result"
    }
   ],
   "source": [
    "ada_clf.fit(X_train,y_train)"
   ]
  },
  {
   "cell_type": "code",
   "execution_count": 17,
   "metadata": {},
   "outputs": [
    {
     "name": "stdout",
     "output_type": "stream",
     "text": [
      "Precisión sobre el juego de pruebas: 0.8360\n",
      "Precisión sobre el juego de train: 0.8438\n"
     ]
    }
   ],
   "source": [
    "print(\"Precisión sobre el juego de pruebas: {:.4f}\"\n",
    "      .format(ada_clf.score(X_test, y_test)))\n",
    "print(\"Precisión sobre el juego de train: {:.4f}\"\n",
    "      .format(ada_clf.score(X_train, y_train)))"
   ]
  },
  {
   "cell_type": "code",
   "execution_count": 31,
   "metadata": {},
   "outputs": [
    {
     "name": "stdout",
     "output_type": "stream",
     "text": [
      "{'n_estimators': [30, 43, 56, 70, 83, 96, 110, 123, 136, 150], 'algorithm': ['SAMME', 'SAMME.R'], 'learning_rate': [0.05, 0.1, 0.15, 0.2, 0.25, 0.3, 0.35, 0.39999999999999997, 0.44999999999999996, 0.49999999999999994, 0.5499999999999999, 0.6, 0.65, 0.7, 0.75, 0.7999999999999999, 0.85, 0.9, 0.95, 1.0], 'base_estimator__max_features': [1, 2, 3, 4, 5, 6, 7, 8, 9, 10, 11, 12, 13, 'auto'], 'base_estimator__max_depth': [10, 20, 30, 40, 50, 60, 70, 80, 90, 100, 110, None], 'base_estimator__min_samples_split': [2, 5, 10], 'base_estimator__min_samples_leaf': [1, 2, 3, 4, 5], 'base_estimator__max_leaf_nodes': [10, 20, 30, 40, 50, 60, 70, 80, 90, 100, None]}\n"
     ]
    }
   ],
   "source": [
    "# Numero de arboles del bosque\n",
    "n_estimators = [int(x) for x in np.linspace(start = 30, stop = 150, num = 10)]\n",
    "# Numero de caracteristicas proporcionadas a cada arbol\n",
    "max_features = [1,2,3,4,5,6,7,8,9,10,11,12,13]\n",
    "max_features.append('auto')\n",
    "# Profundidad de arbol\n",
    "max_depth = [int(x) for x in np.linspace(10, 110, num = 11)]\n",
    "max_depth.append(None)\n",
    "# Minimo valor para separar en subnodos\n",
    "min_samples_split = [2, 5, 10]\n",
    "# Minimo numero de muestras necesarias en hoja despues de dividir\n",
    "min_samples_leaf = [1, 2,3, 4, 5]\n",
    "# Numero maximo de nodos finales\n",
    "max_leaf_nodes = [int(x) for x in np.linspace(10, 100, num = 10)]\n",
    "max_leaf_nodes.append(None)\n",
    "#Algoritmo de implementacion\n",
    "algorithm = ['SAMME', 'SAMME.R']\n",
    "learning_rate = [float(x) for x in np.linspace(0.05, 1., num = 20)]\n",
    "# Numero de muestras maximo que se le asigna a cada arbol\n",
    "# max_samples\n",
    "# Creacion de cuadrícula aleatoria\n",
    "param_grid = {'n_estimators': n_estimators,\n",
    "               'algorithm': algorithm,\n",
    "              'learning_rate':learning_rate,\n",
    "               'base_estimator__max_features': max_features,\n",
    "               'base_estimator__max_depth': max_depth,\n",
    "               'base_estimator__min_samples_split': min_samples_split,\n",
    "               'base_estimator__min_samples_leaf': min_samples_leaf,\n",
    "               \"base_estimator__max_leaf_nodes\": max_leaf_nodes}\n",
    "print(param_grid)"
   ]
  },
  {
   "cell_type": "code",
   "execution_count": 32,
   "metadata": {},
   "outputs": [],
   "source": [
    "from sklearn.tree import DecisionTreeClassifier"
   ]
  },
  {
   "cell_type": "code",
   "execution_count": 33,
   "metadata": {},
   "outputs": [],
   "source": [
    "base_estimator = DecisionTreeClassifier(random_state=32)\n",
    "ada_clf = AdaBoostClassifier(base_estimator=base_estimator, random_state=32)"
   ]
  },
  {
   "cell_type": "code",
   "execution_count": 34,
   "metadata": {},
   "outputs": [],
   "source": [
    "# Random search of parameters, using 3 fold cross validation, \n",
    "# search across 100 different combinations, and use all available cores\n",
    "ada_random = RandomizedSearchCV(estimator = ada_clf, param_distributions = param_grid, n_iter = 3250, cv = 5, verbose=2, random_state=32, n_jobs = -1)"
   ]
  },
  {
   "cell_type": "code",
   "execution_count": 35,
   "metadata": {},
   "outputs": [
    {
     "name": "stdout",
     "output_type": "stream",
     "text": [
      "Fitting 5 folds for each of 3250 candidates, totalling 16250 fits\n"
     ]
    },
    {
     "name": "stderr",
     "output_type": "stream",
     "text": [
      "[Parallel(n_jobs=-1)]: Using backend LokyBackend with 8 concurrent workers.\n",
      "[Parallel(n_jobs=-1)]: Done  25 tasks      | elapsed:   33.8s\n",
      "[Parallel(n_jobs=-1)]: Done 146 tasks      | elapsed:  5.8min\n",
      "[Parallel(n_jobs=-1)]: Done 349 tasks      | elapsed: 13.9min\n",
      "[Parallel(n_jobs=-1)]: Done 632 tasks      | elapsed: 28.0min\n",
      "[Parallel(n_jobs=-1)]: Done 997 tasks      | elapsed: 44.9min\n",
      "[Parallel(n_jobs=-1)]: Done 1442 tasks      | elapsed: 63.4min\n",
      "[Parallel(n_jobs=-1)]: Done 1969 tasks      | elapsed: 85.6min\n",
      "[Parallel(n_jobs=-1)]: Done 2576 tasks      | elapsed: 106.8min\n",
      "[Parallel(n_jobs=-1)]: Done 3265 tasks      | elapsed: 135.1min\n",
      "[Parallel(n_jobs=-1)]: Done 4034 tasks      | elapsed: 170.7min\n",
      "[Parallel(n_jobs=-1)]: Done 4885 tasks      | elapsed: 208.6min\n",
      "[Parallel(n_jobs=-1)]: Done 5816 tasks      | elapsed: 249.1min\n",
      "[Parallel(n_jobs=-1)]: Done 6829 tasks      | elapsed: 292.1min\n",
      "[Parallel(n_jobs=-1)]: Done 7922 tasks      | elapsed: 348.0min\n",
      "[Parallel(n_jobs=-1)]: Done 9097 tasks      | elapsed: 399.5min\n",
      "[Parallel(n_jobs=-1)]: Done 10352 tasks      | elapsed: 459.5min\n",
      "[Parallel(n_jobs=-1)]: Done 11689 tasks      | elapsed: 515.1min\n",
      "[Parallel(n_jobs=-1)]: Done 13106 tasks      | elapsed: 578.5min\n",
      "[Parallel(n_jobs=-1)]: Done 14605 tasks      | elapsed: 647.8min\n",
      "[Parallel(n_jobs=-1)]: Done 16184 tasks      | elapsed: 720.9min\n",
      "[Parallel(n_jobs=-1)]: Done 16250 out of 16250 | elapsed: 723.7min finished\n"
     ]
    },
    {
     "data": {
      "text/plain": [
       "RandomizedSearchCV(cv=5, error_score=nan,\n",
       "                   estimator=AdaBoostClassifier(algorithm='SAMME.R',\n",
       "                                                base_estimator=DecisionTreeClassifier(ccp_alpha=0.0,\n",
       "                                                                                      class_weight=None,\n",
       "                                                                                      criterion='gini',\n",
       "                                                                                      max_depth=None,\n",
       "                                                                                      max_features=None,\n",
       "                                                                                      max_leaf_nodes=None,\n",
       "                                                                                      min_impurity_decrease=0.0,\n",
       "                                                                                      min_impurity_split=None,\n",
       "                                                                                      min_samples_leaf=1,\n",
       "                                                                                      min_samples_split=2,\n",
       "                                                                                      min_weight_fraction_leaf=0.0,\n",
       "                                                                                      pre...\n",
       "                                        'base_estimator__min_samples_split': [2,\n",
       "                                                                              5,\n",
       "                                                                              10],\n",
       "                                        'learning_rate': [0.05, 0.1, 0.15, 0.2,\n",
       "                                                          0.25, 0.3, 0.35,\n",
       "                                                          0.39999999999999997,\n",
       "                                                          0.44999999999999996,\n",
       "                                                          0.49999999999999994,\n",
       "                                                          0.5499999999999999,\n",
       "                                                          0.6, 0.65, 0.7, 0.75,\n",
       "                                                          0.7999999999999999,\n",
       "                                                          0.85, 0.9, 0.95,\n",
       "                                                          1.0],\n",
       "                                        'n_estimators': [30, 43, 56, 70, 83, 96,\n",
       "                                                         110, 123, 136, 150]},\n",
       "                   pre_dispatch='2*n_jobs', random_state=32, refit=True,\n",
       "                   return_train_score=False, scoring=None, verbose=2)"
      ]
     },
     "execution_count": 35,
     "metadata": {},
     "output_type": "execute_result"
    }
   ],
   "source": [
    "ada_random.fit(X_train,y_train)"
   ]
  },
  {
   "cell_type": "code",
   "execution_count": 36,
   "metadata": {},
   "outputs": [
    {
     "data": {
      "text/plain": [
       "{'n_estimators': 70,\n",
       " 'learning_rate': 0.1,\n",
       " 'base_estimator__min_samples_split': 10,\n",
       " 'base_estimator__min_samples_leaf': 1,\n",
       " 'base_estimator__max_leaf_nodes': 90,\n",
       " 'base_estimator__max_features': 8,\n",
       " 'base_estimator__max_depth': 60,\n",
       " 'algorithm': 'SAMME'}"
      ]
     },
     "execution_count": 36,
     "metadata": {},
     "output_type": "execute_result"
    }
   ],
   "source": [
    "ada_random.best_params_"
   ]
  },
  {
   "cell_type": "code",
   "execution_count": 37,
   "metadata": {},
   "outputs": [
    {
     "data": {
      "text/plain": [
       "0.8554364871928908"
      ]
     },
     "execution_count": 37,
     "metadata": {},
     "output_type": "execute_result"
    }
   ],
   "source": [
    "ada_random.best_score_"
   ]
  },
  {
   "cell_type": "code",
   "execution_count": 50,
   "metadata": {},
   "outputs": [],
   "source": [
    "best_ada = ada_random.best_estimator_"
   ]
  },
  {
   "cell_type": "code",
   "execution_count": 49,
   "metadata": {},
   "outputs": [
    {
     "data": {
      "image/png": "[encoded data removed]",
      "text/plain": [
       "<Figure size 576x432 with 1 Axes>"
      ]
     },
     "metadata": {
      "needs_background": "light"
     },
     "output_type": "display_data"
    }
   ],
   "source": [
    "plt.barh(df_songs_year.loc[:,\"year\":\"duration_ms\"].columns, best_ada.feature_importances_);"
   ]
  },
  {
   "cell_type": "code",
   "execution_count": 39,
   "metadata": {},
   "outputs": [
    {
     "data": {
      "text/plain": [
       "AdaBoostClassifier(algorithm='SAMME',\n",
       "                   base_estimator=DecisionTreeClassifier(ccp_alpha=0.0,\n",
       "                                                         class_weight=None,\n",
       "                                                         criterion='gini',\n",
       "                                                         max_depth=60,\n",
       "                                                         max_features=8,\n",
       "                                                         max_leaf_nodes=90,\n",
       "                                                         min_impurity_decrease=0.0,\n",
       "                                                         min_impurity_split=None,\n",
       "                                                         min_samples_leaf=1,\n",
       "                                                         min_samples_split=10,\n",
       "                                                         min_weight_fraction_leaf=0.0,\n",
       "                                                         presort='deprecated',\n",
       "                                                         random_state=32,\n",
       "                                                         splitter='best'),\n",
       "                   learning_rate=0.1, n_estimators=70, random_state=32)"
      ]
     },
     "execution_count": 39,
     "metadata": {},
     "output_type": "execute_result"
    }
   ],
   "source": [
    "best_ada.fit(X_train,y_train)"
   ]
  },
  {
   "cell_type": "code",
   "execution_count": 40,
   "metadata": {},
   "outputs": [
    {
     "name": "stdout",
     "output_type": "stream",
     "text": [
      "Precisión sobre datos de pruebas: 0.8584\n",
      "Precisión sobre datos de train: 0.8730\n"
     ]
    }
   ],
   "source": [
    "print(\"Precisión sobre datos de pruebas: {:.4f}\"\n",
    "      .format(best_ada.score(X_test, y_test)))\n",
    "print(\"Precisión sobre datos de train: {:.4f}\"\n",
    "      .format(best_ada.score(X_train, y_train)))"
   ]
  },
  {
   "cell_type": "code",
   "execution_count": 41,
   "metadata": {},
   "outputs": [
    {
     "data": {
      "text/plain": [
       "['ada_model_random_year.pkl']"
      ]
     },
     "execution_count": 41,
     "metadata": {},
     "output_type": "execute_result"
    }
   ],
   "source": [
    "filename = 'ada_model_random_year.pkl'\n",
    "joblib.dump(best_ada, filename)"
   ]
  },
  {
   "cell_type": "code",
   "execution_count": 68,
   "metadata": {},
   "outputs": [
    {
     "data": {
      "text/plain": [
       "Index(['year', 'danceability', 'energy', 'key', 'loudness', 'mode',\n",
       "       'speechiness', 'acousticness', 'instrumentalness', 'liveness',\n",
       "       'valence', 'tempo', 'time_signature', 'duration_ms'],\n",
       "      dtype='object')"
      ]
     },
     "execution_count": 68,
     "metadata": {},
     "output_type": "execute_result"
    }
   ],
   "source": [
    "df_songs_year.loc[:,\"year\":\"duration_ms\"].columns"
   ]
  },
  {
   "cell_type": "code",
   "execution_count": 70,
   "metadata": {},
   "outputs": [],
   "source": [
    "X_ada = df_songs_year[[\"year\",\"danceability\",\"energy\",\"loudness\",\"speechiness\",\"acousticness\",\n",
    "              \"instrumentalness\",\"instrumentalness\",\"liveness\",\"valence\",\"tempo\",\"duration_ms\"]]\n",
    "y_ada = df_songs_year.iloc[:,-1]\n",
    "X_train_ada, X_test_ada, y_train_ada, y_test_ada = train_test_split(X_ada, y_ada, random_state=0)"
   ]
  },
  {
   "cell_type": "code",
   "execution_count": 75,
   "metadata": {},
   "outputs": [],
   "source": [
    "ada_new = ada_random.best_estimator_"
   ]
  },
  {
   "cell_type": "code",
   "execution_count": 80,
   "metadata": {},
   "outputs": [
    {
     "data": {
      "image/png": "[encoded data removed]",
      "text/plain": [
       "<Figure size 576x432 with 1 Axes>"
      ]
     },
     "metadata": {
      "needs_background": "light"
     },
     "output_type": "display_data"
    }
   ],
   "source": [
    "plt.barh([\"year\",\"danceability\",\"energy\",\"loudness\",\"speechiness\",\"acousticness\",\n",
    "              \"instrumentalness\",\"instrumentalness\",\"liveness\",\"valence\",\"tempo\",\"duration_ms\"], ada_new.feature_importances_);"
   ]
  },
  {
   "cell_type": "code",
   "execution_count": 76,
   "metadata": {},
   "outputs": [
    {
     "data": {
      "text/plain": [
       "AdaBoostClassifier(algorithm='SAMME',\n",
       "                   base_estimator=DecisionTreeClassifier(ccp_alpha=0.0,\n",
       "                                                         class_weight=None,\n",
       "                                                         criterion='gini',\n",
       "                                                         max_depth=60,\n",
       "                                                         max_features=8,\n",
       "                                                         max_leaf_nodes=90,\n",
       "                                                         min_impurity_decrease=0.0,\n",
       "                                                         min_impurity_split=None,\n",
       "                                                         min_samples_leaf=1,\n",
       "                                                         min_samples_split=10,\n",
       "                                                         min_weight_fraction_leaf=0.0,\n",
       "                                                         presort='deprecated',\n",
       "                                                         random_state=32,\n",
       "                                                         splitter='best'),\n",
       "                   learning_rate=0.1, n_estimators=70, random_state=32)"
      ]
     },
     "execution_count": 76,
     "metadata": {},
     "output_type": "execute_result"
    }
   ],
   "source": [
    "ada_new.fit(X_train_ada,y_train_ada)"
   ]
  },
  {
   "cell_type": "code",
   "execution_count": 78,
   "metadata": {},
   "outputs": [
    {
     "name": "stdout",
     "output_type": "stream",
     "text": [
      "Precisión sobre datos de pruebas: 0.8587\n",
      "Precisión sobre datos de train: 0.8731\n"
     ]
    }
   ],
   "source": [
    "print(\"Precisión sobre datos de pruebas: {:.4f}\"\n",
    "      .format(ada_new.score(X_test_ada, y_test_ada)))\n",
    "print(\"Precisión sobre datos de train: {:.4f}\"\n",
    "      .format(ada_new.score(X_train_ada, y_train_ada)))"
   ]
  },
  {
   "cell_type": "markdown",
   "metadata": {},
   "source": [
    "## LightGBM"
   ]
  },
  {
   "cell_type": "code",
   "execution_count": 21,
   "metadata": {},
   "outputs": [],
   "source": [
    "import lightgbm as lgb"
   ]
  },
  {
   "cell_type": "code",
   "execution_count": 22,
   "metadata": {},
   "outputs": [],
   "source": [
    "lgb_clf =lgb.LGBMClassifier()"
   ]
  },
  {
   "cell_type": "code",
   "execution_count": 23,
   "metadata": {},
   "outputs": [
    {
     "name": "stdout",
     "output_type": "stream",
     "text": [
      "Wall time: 1.39 s\n"
     ]
    },
    {
     "data": {
      "text/plain": [
       "0.8125240637965236"
      ]
     },
     "execution_count": 23,
     "metadata": {},
     "output_type": "execute_result"
    }
   ],
   "source": [
    "%%time\n",
    "cross_val_score(lgb_clf,X_train,y_train,cv=5).mean()"
   ]
  },
  {
   "cell_type": "code",
   "execution_count": 87,
   "metadata": {},
   "outputs": [
    {
     "data": {
      "text/plain": [
       "LGBMClassifier(boosting_type='gbdt', class_weight=None, colsample_bytree=1.0,\n",
       "               importance_type='split', learning_rate=0.1, max_depth=-1,\n",
       "               min_child_samples=20, min_child_weight=0.001, min_split_gain=0.0,\n",
       "               n_estimators=100, n_jobs=-1, num_leaves=31, objective=None,\n",
       "               random_state=None, reg_alpha=0.0, reg_lambda=0.0, silent=True,\n",
       "               subsample=1.0, subsample_for_bin=200000, subsample_freq=0)"
      ]
     },
     "execution_count": 87,
     "metadata": {},
     "output_type": "execute_result"
    }
   ],
   "source": [
    "lgb_clf.fit(X_train,y_train)"
   ]
  },
  {
   "cell_type": "code",
   "execution_count": 88,
   "metadata": {},
   "outputs": [
    {
     "name": "stdout",
     "output_type": "stream",
     "text": [
      "Precisión sobre el juego de pruebas: 0.8571\n",
      "Precisión sobre el juego de train: 0.8788\n"
     ]
    }
   ],
   "source": [
    "print(\"Precisión sobre el juego de pruebas: {:.4f}\"\n",
    "      .format(lgb_clf.score(X_test, y_test)))\n",
    "print(\"Precisión sobre el juego de train: {:.4f}\"\n",
    "      .format(lgb_clf.score(X_train, y_train)))"
   ]
  },
  {
   "cell_type": "code",
   "execution_count": 89,
   "metadata": {},
   "outputs": [
    {
     "data": {
      "image/png": "[encoded data removed]",
      "text/plain": [
       "<Figure size 576x432 with 1 Axes>"
      ]
     },
     "metadata": {
      "needs_background": "light"
     },
     "output_type": "display_data"
    }
   ],
   "source": [
    "plt.barh(df_songs_year.loc[:,\"year\":\"duration_ms\"].columns, lgb_clf.feature_importances_);"
   ]
  },
  {
   "cell_type": "code",
   "execution_count": 90,
   "metadata": {},
   "outputs": [
    {
     "name": "stdout",
     "output_type": "stream",
     "text": [
      "{'boosting_type': ['gbdt', 'dart'], 'num_leaves': [30, 40, 50, 60, 70, 80, 90, 100, 110], 'max_depth': [10, 20, 30, 40, 50, 60, 70, 80, 90, 100, 110, None], 'learning_rate': [0.005, 0.1, 0.2, 0.3, 0.4, 0.5, 0.6, 0.7, 0.8, 0.9, 1.0], 'n_estimators': [30, 45, 60, 75, 90, 105, 120, 135, 150], 'subsample_for_bin': [20000, 40000, 60000, 80000, 100000, 120000, 140000, 160000, 180000, 200000, 220000, 240000, 260000, 280000], 'min_split_gain': [0.0, 0.2, 0.4, 0.6, 0.8], 'min_child_samples': [1, 5, 9, 14, 18, 22, 27, 31, 35, 40], 'reg_alpha': [0.0, 0.1, 0.2, 0.3, 0.4, 0.5, 0.6, 0.7, 0.8, 0.9, 1.0], 'reg_lambda': [0.0, 0.1, 0.2, 0.3, 0.4, 0.5, 0.6, 0.7, 0.8, 0.9, 1.0]}\n"
     ]
    }
   ],
   "source": [
    "boosting_type = ['gbdt','dart']\n",
    "#Numero de Hojas máximas por árboles\n",
    "num_leaves = [int(x) for x in np.linspace(30, 110, num = 9)]\n",
    "# Profundidad de arbol\n",
    "max_depth = [int(x) for x in np.linspace(10, 110, num = 11)]\n",
    "max_depth.append(None)\n",
    "#Learning rate\n",
    "learning_rate = [round (float(x), 2) for x in np.linspace(0.1, 1., num = 10)]\n",
    "learning_rate.append(0.005)\n",
    "learning_rate = sorted(learning_rate)\n",
    "# Numero de arboles del bosque\n",
    "n_estimators = [int(x) for x in np.linspace(start = 30, stop = 150, num = 9)]\n",
    "# Número de muestras para la construcción de contenedores\n",
    "subsample_for_bin =  list(range(20000, 300000, 20000))\n",
    "# Reducción mínima de pérdidas para realizar una nueva partición en un nodo del árbol.\n",
    "min_split_gain =  [0.0,0.2,0.4,0.6,0.8]\n",
    "#Número mínimo de datos necesarios en una hoja\n",
    "min_child_samples = [int(x) for x in np.linspace(1, 40, num = 10)]\n",
    "# reg_alpha\n",
    "reg_alpha = [round (float(x), 2) for x in np.linspace(0.0, 1., num = 11)]\n",
    "# reg_lambda\n",
    "reg_lambda = [round (float(x), 2)  for x in np.linspace(0.0, 1., num = 11)]\n",
    "# Creacion de cuadrícula aleatoria\n",
    "param_grid = {'boosting_type':boosting_type,\n",
    "              'num_leaves': num_leaves,\n",
    "              'max_depth': max_depth,\n",
    "              'learning_rate': learning_rate,\n",
    "              'n_estimators': n_estimators,\n",
    "              'subsample_for_bin': subsample_for_bin,\n",
    "              'min_split_gain': min_split_gain,\n",
    "              'min_child_samples':min_child_samples,\n",
    "              'reg_alpha':reg_alpha,\n",
    "              'reg_lambda':reg_lambda}\n",
    "print(param_grid)"
   ]
  },
  {
   "cell_type": "code",
   "execution_count": 92,
   "metadata": {},
   "outputs": [],
   "source": [
    "lgb_clf = lgb.LGBMClassifier(random_state=32)"
   ]
  },
  {
   "cell_type": "code",
   "execution_count": 93,
   "metadata": {},
   "outputs": [],
   "source": [
    "# Random search of parameters, using 3 fold cross validation, \n",
    "# search across 100 different combinations, and use all available cores\n",
    "light_gbm_random = RandomizedSearchCV(estimator = lgb_clf, param_distributions = param_grid, n_iter = 20000, cv = 5, verbose=2, random_state=32, n_jobs = -1)"
   ]
  },
  {
   "cell_type": "code",
   "execution_count": 94,
   "metadata": {},
   "outputs": [
    {
     "name": "stdout",
     "output_type": "stream",
     "text": [
      "Fitting 5 folds for each of 20000 candidates, totalling 100000 fits\n"
     ]
    },
    {
     "name": "stderr",
     "output_type": "stream",
     "text": [
      "[Parallel(n_jobs=-1)]: Using backend LokyBackend with 8 concurrent workers.\n",
      "[Parallel(n_jobs=-1)]: Done  25 tasks      | elapsed:   10.2s\n",
      "[Parallel(n_jobs=-1)]: Done 146 tasks      | elapsed:   55.6s\n",
      "[Parallel(n_jobs=-1)]: Done 349 tasks      | elapsed:  2.3min\n",
      "[Parallel(n_jobs=-1)]: Done 632 tasks      | elapsed:  4.2min\n",
      "[Parallel(n_jobs=-1)]: Done 997 tasks      | elapsed:  6.5min\n",
      "[Parallel(n_jobs=-1)]: Done 1442 tasks      | elapsed:  9.4min\n",
      "[Parallel(n_jobs=-1)]: Done 1969 tasks      | elapsed: 12.7min\n",
      "[Parallel(n_jobs=-1)]: Done 2576 tasks      | elapsed: 16.8min\n",
      "[Parallel(n_jobs=-1)]: Done 3265 tasks      | elapsed: 21.8min\n",
      "[Parallel(n_jobs=-1)]: Done 4034 tasks      | elapsed: 27.1min\n",
      "[Parallel(n_jobs=-1)]: Done 4885 tasks      | elapsed: 32.6min\n",
      "[Parallel(n_jobs=-1)]: Done 5816 tasks      | elapsed: 38.9min\n",
      "[Parallel(n_jobs=-1)]: Done 6829 tasks      | elapsed: 45.1min\n",
      "[Parallel(n_jobs=-1)]: Done 7922 tasks      | elapsed: 52.1min\n",
      "[Parallel(n_jobs=-1)]: Done 9097 tasks      | elapsed: 60.2min\n",
      "[Parallel(n_jobs=-1)]: Done 10352 tasks      | elapsed: 67.7min\n",
      "[Parallel(n_jobs=-1)]: Done 11689 tasks      | elapsed: 76.8min\n",
      "[Parallel(n_jobs=-1)]: Done 13106 tasks      | elapsed: 86.1min\n",
      "[Parallel(n_jobs=-1)]: Done 14605 tasks      | elapsed: 95.5min\n",
      "[Parallel(n_jobs=-1)]: Done 16184 tasks      | elapsed: 106.5min\n",
      "[Parallel(n_jobs=-1)]: Done 17845 tasks      | elapsed: 117.8min\n",
      "[Parallel(n_jobs=-1)]: Done 19586 tasks      | elapsed: 129.8min\n",
      "[Parallel(n_jobs=-1)]: Done 21409 tasks      | elapsed: 141.5min\n",
      "[Parallel(n_jobs=-1)]: Done 23312 tasks      | elapsed: 154.0min\n",
      "[Parallel(n_jobs=-1)]: Done 25297 tasks      | elapsed: 167.0min\n",
      "[Parallel(n_jobs=-1)]: Done 27362 tasks      | elapsed: 179.9min\n",
      "[Parallel(n_jobs=-1)]: Done 29509 tasks      | elapsed: 194.3min\n",
      "[Parallel(n_jobs=-1)]: Done 31736 tasks      | elapsed: 208.3min\n",
      "[Parallel(n_jobs=-1)]: Done 34045 tasks      | elapsed: 222.1min\n",
      "[Parallel(n_jobs=-1)]: Done 36434 tasks      | elapsed: 235.7min\n",
      "[Parallel(n_jobs=-1)]: Done 38905 tasks      | elapsed: 249.9min\n",
      "[Parallel(n_jobs=-1)]: Done 41456 tasks      | elapsed: 264.8min\n",
      "[Parallel(n_jobs=-1)]: Done 44089 tasks      | elapsed: 281.0min\n",
      "[Parallel(n_jobs=-1)]: Done 46802 tasks      | elapsed: 296.4min\n",
      "[Parallel(n_jobs=-1)]: Done 49597 tasks      | elapsed: 312.4min\n",
      "[Parallel(n_jobs=-1)]: Done 52472 tasks      | elapsed: 328.2min\n",
      "[Parallel(n_jobs=-1)]: Done 55429 tasks      | elapsed: 345.1min\n",
      "[Parallel(n_jobs=-1)]: Done 58466 tasks      | elapsed: 363.0min\n",
      "[Parallel(n_jobs=-1)]: Done 61585 tasks      | elapsed: 380.1min\n",
      "[Parallel(n_jobs=-1)]: Done 64784 tasks      | elapsed: 398.0min\n",
      "[Parallel(n_jobs=-1)]: Done 68065 tasks      | elapsed: 417.0min\n",
      "[Parallel(n_jobs=-1)]: Done 71426 tasks      | elapsed: 437.2min\n",
      "[Parallel(n_jobs=-1)]: Done 74869 tasks      | elapsed: 458.3min\n",
      "[Parallel(n_jobs=-1)]: Done 78392 tasks      | elapsed: 479.1min\n",
      "[Parallel(n_jobs=-1)]: Done 81997 tasks      | elapsed: 500.8min\n",
      "[Parallel(n_jobs=-1)]: Done 85682 tasks      | elapsed: 522.0min\n",
      "[Parallel(n_jobs=-1)]: Done 89449 tasks      | elapsed: 544.1min\n",
      "[Parallel(n_jobs=-1)]: Done 93296 tasks      | elapsed: 566.1min\n",
      "[Parallel(n_jobs=-1)]: Done 97225 tasks      | elapsed: 588.9min\n",
      "[Parallel(n_jobs=-1)]: Done 100000 out of 100000 | elapsed: 605.0min finished\n"
     ]
    },
    {
     "data": {
      "text/plain": [
       "RandomizedSearchCV(cv=5, error_score=nan,\n",
       "                   estimator=LGBMClassifier(boosting_type='gbdt',\n",
       "                                            class_weight=None,\n",
       "                                            colsample_bytree=1.0,\n",
       "                                            importance_type='split',\n",
       "                                            learning_rate=0.1, max_depth=-1,\n",
       "                                            min_child_samples=20,\n",
       "                                            min_child_weight=0.001,\n",
       "                                            min_split_gain=0.0,\n",
       "                                            n_estimators=100, n_jobs=-1,\n",
       "                                            num_leaves=31, objective=None,\n",
       "                                            random_state=32, reg_alpha=0.0,\n",
       "                                            reg_lambda=0.0, silent...\n",
       "                                        'num_leaves': [30, 40, 50, 60, 70, 80,\n",
       "                                                       90, 100, 110],\n",
       "                                        'reg_alpha': [0.0, 0.1, 0.2, 0.3, 0.4,\n",
       "                                                      0.5, 0.6, 0.7, 0.8, 0.9,\n",
       "                                                      1.0],\n",
       "                                        'reg_lambda': [0.0, 0.1, 0.2, 0.3, 0.4,\n",
       "                                                       0.5, 0.6, 0.7, 0.8, 0.9,\n",
       "                                                       1.0],\n",
       "                                        'subsample_for_bin': [20000, 40000,\n",
       "                                                              60000, 80000,\n",
       "                                                              100000, 120000,\n",
       "                                                              140000, 160000,\n",
       "                                                              180000, 200000,\n",
       "                                                              220000, 240000,\n",
       "                                                              260000, 280000]},\n",
       "                   pre_dispatch='2*n_jobs', random_state=32, refit=True,\n",
       "                   return_train_score=False, scoring=None, verbose=2)"
      ]
     },
     "execution_count": 94,
     "metadata": {},
     "output_type": "execute_result"
    }
   ],
   "source": [
    "light_gbm_random.fit(X_train,y_train)"
   ]
  },
  {
   "cell_type": "code",
   "execution_count": 98,
   "metadata": {},
   "outputs": [
    {
     "data": {
      "text/plain": [
       "{'subsample_for_bin': 260000,\n",
       " 'reg_lambda': 0.8,\n",
       " 'reg_alpha': 0.7,\n",
       " 'num_leaves': 40,\n",
       " 'n_estimators': 105,\n",
       " 'min_split_gain': 0.0,\n",
       " 'min_child_samples': 31,\n",
       " 'max_depth': 10,\n",
       " 'learning_rate': 0.3,\n",
       " 'boosting_type': 'dart'}"
      ]
     },
     "execution_count": 98,
     "metadata": {},
     "output_type": "execute_result"
    }
   ],
   "source": [
    "light_gbm_random.best_params_"
   ]
  },
  {
   "cell_type": "code",
   "execution_count": 96,
   "metadata": {},
   "outputs": [
    {
     "data": {
      "text/plain": [
       "0.8578410872974386"
      ]
     },
     "execution_count": 96,
     "metadata": {},
     "output_type": "execute_result"
    }
   ],
   "source": [
    "light_gbm_random.best_score_"
   ]
  },
  {
   "cell_type": "code",
   "execution_count": 104,
   "metadata": {},
   "outputs": [],
   "source": [
    "best_lgb = light_gbm_random.best_estimator_"
   ]
  },
  {
   "cell_type": "code",
   "execution_count": 105,
   "metadata": {},
   "outputs": [
    {
     "data": {
      "image/png": "[encoded data removed]",
      "text/plain": [
       "<Figure size 576x432 with 1 Axes>"
      ]
     },
     "metadata": {
      "needs_background": "light"
     },
     "output_type": "display_data"
    }
   ],
   "source": [
    "plt.barh(df_songs_year.loc[:,\"year\":\"duration_ms\"].columns, best_lgb.feature_importances_);"
   ]
  },
  {
   "cell_type": "code",
   "execution_count": 106,
   "metadata": {},
   "outputs": [
    {
     "data": {
      "text/plain": [
       "LGBMClassifier(boosting_type='dart', class_weight=None, colsample_bytree=1.0,\n",
       "               importance_type='split', learning_rate=0.3, max_depth=10,\n",
       "               min_child_samples=31, min_child_weight=0.001, min_split_gain=0.0,\n",
       "               n_estimators=105, n_jobs=-1, num_leaves=40, objective=None,\n",
       "               random_state=32, reg_alpha=0.7, reg_lambda=0.8, silent=True,\n",
       "               subsample=1.0, subsample_for_bin=260000, subsample_freq=0)"
      ]
     },
     "execution_count": 106,
     "metadata": {},
     "output_type": "execute_result"
    }
   ],
   "source": [
    "best_lgb.fit(X_train,y_train)"
   ]
  },
  {
   "cell_type": "code",
   "execution_count": 107,
   "metadata": {},
   "outputs": [
    {
     "name": "stdout",
     "output_type": "stream",
     "text": [
      "Precisión sobre el juego de pruebas: 0.8579\n",
      "Precisión sobre el juego de train: 0.8841\n"
     ]
    }
   ],
   "source": [
    "print(\"Precisión sobre el juego de pruebas: {:.4f}\"\n",
    "      .format(best_lgb.score(X_test, y_test)))\n",
    "print(\"Precisión sobre el juego de train: {:.4f}\"\n",
    "      .format(best_lgb.score(X_train, y_train)))"
   ]
  },
  {
   "cell_type": "code",
   "execution_count": 109,
   "metadata": {},
   "outputs": [
    {
     "data": {
      "text/plain": [
       "['light_gbm_model_random_year.pkl']"
      ]
     },
     "execution_count": 109,
     "metadata": {},
     "output_type": "execute_result"
    }
   ],
   "source": [
    "filename = 'light_gbm_model_random_year.pkl'\n",
    "joblib.dump(best_lgb, filename)"
   ]
  }
 ],
 "metadata": {
  "kernelspec": {
   "display_name": "tfm",
   "language": "python",
   "name": "tfm"
  },
  "language_info": {
   "codemirror_mode": {
    "name": "ipython",
    "version": 3
   },
   "file_extension": ".py",
   "mimetype": "text/x-python",
   "name": "python",
   "nbconvert_exporter": "python",
   "pygments_lexer": "ipython3",
   "version": "3.7.7"
  }
 },
 "nbformat": 4,
 "nbformat_minor": 4
}
