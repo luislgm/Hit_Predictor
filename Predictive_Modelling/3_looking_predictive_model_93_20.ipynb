{
 "cells": [
  {
   "cell_type": "markdown",
   "metadata": {},
   "source": [
    "# Looking Predictive Model\n",
    "\n",
    "En este cuaderno se tratara de buscar el mejor modelo de aprendizaje supervisado para tratar de predecir el porcentaje de que una canción sea hit o no, acorde a las caracteristicas que hemos obtenido."
   ]
  },
  {
   "cell_type": "code",
   "execution_count": 33,
   "metadata": {},
   "outputs": [],
   "source": [
    "import numpy as np\n",
    "import pandas as pd\n",
    "pd.options.display.max_columns = None\n",
    "import sklearn.metrics as metrics\n",
    "from sklearn.model_selection import train_test_split\n",
    "from sklearn.model_selection import cross_val_score\n",
    "from sklearn.model_selection import RandomizedSearchCV\n",
    "from sklearn.model_selection import GridSearchCV\n",
    "from sklearn.model_selection import validation_curve\n",
    "import matplotlib.pyplot as plt\n",
    "import joblib\n",
    "plt.rcParams['figure.figsize'] = 8, 6"
   ]
  },
  {
   "cell_type": "markdown",
   "metadata": {},
   "source": [
    "- Definimos función que usaremos para extraer las caracteristicas necesarias de una canción para hacer una predicción de probabilidad de ser un *hit* una vez entrenado el modelo."
   ]
  },
  {
   "cell_type": "code",
   "execution_count": 5,
   "metadata": {},
   "outputs": [],
   "source": [
    "import spotipy\n",
    "import spotipy.util as util\n",
    "from spotipy.oauth2 import SpotifyClientCredentials\n",
    "\n",
    "# sp_cid: Sustituir por spotify client id (str)\n",
    "# sp_secret: Sustituir por spotify secret id (str)\n",
    "client_credentials_manager = SpotifyClientCredentials(client_id='01ec25b32db847e3aeb622ebe1a894c8', client_secret='cd8d3b7666164ea5943688215d9226c2') \n",
    "sp = spotipy.Spotify(client_credentials_manager=client_credentials_manager, requests_timeout=50)\n",
    "\n",
    "def find_song():\n",
    "    print(\"Artista: \", end=\"\")\n",
    "    artist = input()\n",
    "    print(\"Titulo: \", end=\"\")\n",
    "    title = input()\n",
    "    Searched = str (title + \" \" + artist)\n",
    "    track = sp.search(Searched)\n",
    "    try:\n",
    "        id_track = track[\"tracks\"][\"items\"][0][\"uri\"]\n",
    "        track = sp.track(id_track)\n",
    "        track_feat = sp.audio_features(id_track)\n",
    "        song = [[track_feat[0][\"danceability\"], track_feat[0][\"energy\"], track_feat[0][\"key\"],\n",
    "        track_feat[0][\"loudness\"], track_feat[0][\"mode\"], track_feat[0][\"speechiness\"],\n",
    "        track_feat[0][\"acousticness\"], track_feat[0][\"instrumentalness\"], track_feat[0][\"liveness\"],\n",
    "        track_feat[0][\"valence\"], track_feat[0][\"tempo\"],track_feat[0][\"time_signature\"],\n",
    "                track[\"duration_ms\"]]]\n",
    "        \n",
    "        print (\"Canción elegida:\",track[\"name\"], \"de\", track[\"artists\"][0][\"name\"] )\n",
    "        return song\n",
    "    except:\n",
    "        print (\"ERROR: Titulo no encontrado\")"
   ]
  },
  {
   "cell_type": "markdown",
   "metadata": {},
   "source": [
    "- Se lee dataframe y se realiza *split* para los entrenamientos y test."
   ]
  },
  {
   "cell_type": "code",
   "execution_count": 6,
   "metadata": {},
   "outputs": [],
   "source": [
    "df_songs = pd.read_csv(\"../Data/fusion_songs_1993_2020_to_train.csv\")"
   ]
  },
  {
   "cell_type": "code",
   "execution_count": 7,
   "metadata": {},
   "outputs": [
    {
     "data": {
      "text/html": [
       "<div>\n",
       "<style scoped>\n",
       "    .dataframe tbody tr th:only-of-type {\n",
       "        vertical-align: middle;\n",
       "    }\n",
       "\n",
       "    .dataframe tbody tr th {\n",
       "        vertical-align: top;\n",
       "    }\n",
       "\n",
       "    .dataframe thead th {\n",
       "        text-align: right;\n",
       "    }\n",
       "</style>\n",
       "<table border=\"1\" class=\"dataframe\">\n",
       "  <thead>\n",
       "    <tr style=\"text-align: right;\">\n",
       "      <th></th>\n",
       "      <th>artist</th>\n",
       "      <th>title</th>\n",
       "      <th>id</th>\n",
       "      <th>year_chart</th>\n",
       "      <th>date_chart</th>\n",
       "      <th>release_date</th>\n",
       "      <th>collaboration</th>\n",
       "      <th>rank</th>\n",
       "      <th>weeks</th>\n",
       "      <th>isNew</th>\n",
       "      <th>peakPos</th>\n",
       "      <th>lastPos</th>\n",
       "      <th>danceability</th>\n",
       "      <th>energy</th>\n",
       "      <th>key</th>\n",
       "      <th>loudness</th>\n",
       "      <th>mode</th>\n",
       "      <th>speechiness</th>\n",
       "      <th>acousticness</th>\n",
       "      <th>instrumentalness</th>\n",
       "      <th>liveness</th>\n",
       "      <th>valence</th>\n",
       "      <th>tempo</th>\n",
       "      <th>time_signature</th>\n",
       "      <th>duration_ms</th>\n",
       "      <th>popularity_artist</th>\n",
       "      <th>popularity_song</th>\n",
       "      <th>genres</th>\n",
       "      <th>album</th>\n",
       "      <th>label</th>\n",
       "      <th>song_lyrics</th>\n",
       "      <th>target</th>\n",
       "    </tr>\n",
       "  </thead>\n",
       "  <tbody>\n",
       "    <tr>\n",
       "      <th>0</th>\n",
       "      <td>PARTYNEXTDOOR</td>\n",
       "      <td>Come and See Me (feat. Drake)</td>\n",
       "      <td>1wZqJM5FGDEl3FjHDxDyQd</td>\n",
       "      <td>2016.0</td>\n",
       "      <td>2016-12-31</td>\n",
       "      <td>2016-08-12</td>\n",
       "      <td>True</td>\n",
       "      <td>63.0</td>\n",
       "      <td>24.0</td>\n",
       "      <td>False</td>\n",
       "      <td>55.0</td>\n",
       "      <td>56.0</td>\n",
       "      <td>0.717</td>\n",
       "      <td>0.347</td>\n",
       "      <td>11</td>\n",
       "      <td>-10.265</td>\n",
       "      <td>0</td>\n",
       "      <td>0.0636</td>\n",
       "      <td>0.0511</td>\n",
       "      <td>0.000002</td>\n",
       "      <td>0.087</td>\n",
       "      <td>0.0589</td>\n",
       "      <td>84.987</td>\n",
       "      <td>4</td>\n",
       "      <td>235477</td>\n",
       "      <td>83</td>\n",
       "      <td>73</td>\n",
       "      <td>['pop', 'pop rap', 'rap', 'toronto rap', 'trap...</td>\n",
       "      <td>PARTYNEXTDOOR 3 (P3)</td>\n",
       "      <td>OVO Sound/Warner Records</td>\n",
       "      <td>Usually hear the phone late night like now\\nSh...</td>\n",
       "      <td>1</td>\n",
       "    </tr>\n",
       "    <tr>\n",
       "      <th>1</th>\n",
       "      <td>Macy Todd</td>\n",
       "      <td>I've Got a Feelin'</td>\n",
       "      <td>2xnIFEOXHXlzIyJN0itwBX</td>\n",
       "      <td>NaN</td>\n",
       "      <td>NaN</td>\n",
       "      <td>2016-07-15</td>\n",
       "      <td>False</td>\n",
       "      <td>NaN</td>\n",
       "      <td>NaN</td>\n",
       "      <td>NaN</td>\n",
       "      <td>NaN</td>\n",
       "      <td>NaN</td>\n",
       "      <td>0.475</td>\n",
       "      <td>0.546</td>\n",
       "      <td>10</td>\n",
       "      <td>-7.140</td>\n",
       "      <td>0</td>\n",
       "      <td>0.0399</td>\n",
       "      <td>0.3570</td>\n",
       "      <td>0.000056</td>\n",
       "      <td>0.330</td>\n",
       "      <td>0.4930</td>\n",
       "      <td>183.895</td>\n",
       "      <td>3</td>\n",
       "      <td>220533</td>\n",
       "      <td>27</td>\n",
       "      <td>0</td>\n",
       "      <td>[]</td>\n",
       "      <td>I've Got a Feelin'</td>\n",
       "      <td>Macy Todd Music</td>\n",
       "      <td>NaN</td>\n",
       "      <td>0</td>\n",
       "    </tr>\n",
       "    <tr>\n",
       "      <th>2</th>\n",
       "      <td>The Japanese House</td>\n",
       "      <td>You Seemed so Happy</td>\n",
       "      <td>0NuIfPuBhUAt4aA4HP0rUu</td>\n",
       "      <td>NaN</td>\n",
       "      <td>NaN</td>\n",
       "      <td>2019-03-01</td>\n",
       "      <td>False</td>\n",
       "      <td>NaN</td>\n",
       "      <td>NaN</td>\n",
       "      <td>NaN</td>\n",
       "      <td>NaN</td>\n",
       "      <td>NaN</td>\n",
       "      <td>0.519</td>\n",
       "      <td>0.888</td>\n",
       "      <td>11</td>\n",
       "      <td>-6.232</td>\n",
       "      <td>1</td>\n",
       "      <td>0.1170</td>\n",
       "      <td>0.0406</td>\n",
       "      <td>0.000000</td>\n",
       "      <td>0.227</td>\n",
       "      <td>0.4160</td>\n",
       "      <td>149.938</td>\n",
       "      <td>4</td>\n",
       "      <td>162485</td>\n",
       "      <td>63</td>\n",
       "      <td>52</td>\n",
       "      <td>['art pop', 'electropop', 'indie pop', 'indie ...</td>\n",
       "      <td>Good At Falling</td>\n",
       "      <td>Dirty Hit/The Japanese House PS</td>\n",
       "      <td>NaN</td>\n",
       "      <td>0</td>\n",
       "    </tr>\n",
       "    <tr>\n",
       "      <th>3</th>\n",
       "      <td>Krzysztof Komeda</td>\n",
       "      <td>Rosemary's Baby Main Theme Vocal</td>\n",
       "      <td>28D0Hfi6x9zAeGr1sDYBkb</td>\n",
       "      <td>NaN</td>\n",
       "      <td>NaN</td>\n",
       "      <td>2008-07-21</td>\n",
       "      <td>False</td>\n",
       "      <td>NaN</td>\n",
       "      <td>NaN</td>\n",
       "      <td>NaN</td>\n",
       "      <td>NaN</td>\n",
       "      <td>NaN</td>\n",
       "      <td>0.265</td>\n",
       "      <td>0.255</td>\n",
       "      <td>3</td>\n",
       "      <td>-11.284</td>\n",
       "      <td>1</td>\n",
       "      <td>0.0358</td>\n",
       "      <td>0.8410</td>\n",
       "      <td>0.138000</td>\n",
       "      <td>0.247</td>\n",
       "      <td>0.1100</td>\n",
       "      <td>116.572</td>\n",
       "      <td>3</td>\n",
       "      <td>152866</td>\n",
       "      <td>32</td>\n",
       "      <td>33</td>\n",
       "      <td>['polish jazz']</td>\n",
       "      <td>Rosemary's Baby</td>\n",
       "      <td>Harkit Records</td>\n",
       "      <td>NaN</td>\n",
       "      <td>0</td>\n",
       "    </tr>\n",
       "    <tr>\n",
       "      <th>4</th>\n",
       "      <td>Flyte</td>\n",
       "      <td>White Roses</td>\n",
       "      <td>5xxHfQuaXGEBHtsGbSXwI7</td>\n",
       "      <td>NaN</td>\n",
       "      <td>NaN</td>\n",
       "      <td>2019-07-05</td>\n",
       "      <td>True</td>\n",
       "      <td>NaN</td>\n",
       "      <td>NaN</td>\n",
       "      <td>NaN</td>\n",
       "      <td>NaN</td>\n",
       "      <td>NaN</td>\n",
       "      <td>0.530</td>\n",
       "      <td>0.633</td>\n",
       "      <td>10</td>\n",
       "      <td>-7.078</td>\n",
       "      <td>1</td>\n",
       "      <td>0.0283</td>\n",
       "      <td>0.3910</td>\n",
       "      <td>0.015200</td>\n",
       "      <td>0.142</td>\n",
       "      <td>0.6050</td>\n",
       "      <td>140.186</td>\n",
       "      <td>4</td>\n",
       "      <td>206445</td>\n",
       "      <td>46</td>\n",
       "      <td>53</td>\n",
       "      <td>['english indie rock']</td>\n",
       "      <td>White Roses</td>\n",
       "      <td>Universal-Island Records Ltd.</td>\n",
       "      <td>NaN</td>\n",
       "      <td>0</td>\n",
       "    </tr>\n",
       "  </tbody>\n",
       "</table>\n",
       "</div>"
      ],
      "text/plain": [
       "               artist                             title  \\\n",
       "0       PARTYNEXTDOOR     Come and See Me (feat. Drake)   \n",
       "1           Macy Todd                I've Got a Feelin'   \n",
       "2  The Japanese House               You Seemed so Happy   \n",
       "3    Krzysztof Komeda  Rosemary's Baby Main Theme Vocal   \n",
       "4               Flyte                       White Roses   \n",
       "\n",
       "                       id  year_chart  date_chart release_date  collaboration  \\\n",
       "0  1wZqJM5FGDEl3FjHDxDyQd      2016.0  2016-12-31   2016-08-12           True   \n",
       "1  2xnIFEOXHXlzIyJN0itwBX         NaN         NaN   2016-07-15          False   \n",
       "2  0NuIfPuBhUAt4aA4HP0rUu         NaN         NaN   2019-03-01          False   \n",
       "3  28D0Hfi6x9zAeGr1sDYBkb         NaN         NaN   2008-07-21          False   \n",
       "4  5xxHfQuaXGEBHtsGbSXwI7         NaN         NaN   2019-07-05           True   \n",
       "\n",
       "   rank  weeks  isNew  peakPos  lastPos  danceability  energy  key  loudness  \\\n",
       "0  63.0   24.0  False     55.0     56.0         0.717   0.347   11   -10.265   \n",
       "1   NaN    NaN    NaN      NaN      NaN         0.475   0.546   10    -7.140   \n",
       "2   NaN    NaN    NaN      NaN      NaN         0.519   0.888   11    -6.232   \n",
       "3   NaN    NaN    NaN      NaN      NaN         0.265   0.255    3   -11.284   \n",
       "4   NaN    NaN    NaN      NaN      NaN         0.530   0.633   10    -7.078   \n",
       "\n",
       "   mode  speechiness  acousticness  instrumentalness  liveness  valence  \\\n",
       "0     0       0.0636        0.0511          0.000002     0.087   0.0589   \n",
       "1     0       0.0399        0.3570          0.000056     0.330   0.4930   \n",
       "2     1       0.1170        0.0406          0.000000     0.227   0.4160   \n",
       "3     1       0.0358        0.8410          0.138000     0.247   0.1100   \n",
       "4     1       0.0283        0.3910          0.015200     0.142   0.6050   \n",
       "\n",
       "     tempo  time_signature  duration_ms  popularity_artist  popularity_song  \\\n",
       "0   84.987               4       235477                 83               73   \n",
       "1  183.895               3       220533                 27                0   \n",
       "2  149.938               4       162485                 63               52   \n",
       "3  116.572               3       152866                 32               33   \n",
       "4  140.186               4       206445                 46               53   \n",
       "\n",
       "                                              genres                 album  \\\n",
       "0  ['pop', 'pop rap', 'rap', 'toronto rap', 'trap...  PARTYNEXTDOOR 3 (P3)   \n",
       "1                                                 []    I've Got a Feelin'   \n",
       "2  ['art pop', 'electropop', 'indie pop', 'indie ...       Good At Falling   \n",
       "3                                    ['polish jazz']       Rosemary's Baby   \n",
       "4                             ['english indie rock']           White Roses   \n",
       "\n",
       "                             label  \\\n",
       "0         OVO Sound/Warner Records   \n",
       "1                  Macy Todd Music   \n",
       "2  Dirty Hit/The Japanese House PS   \n",
       "3                   Harkit Records   \n",
       "4    Universal-Island Records Ltd.   \n",
       "\n",
       "                                         song_lyrics  target  \n",
       "0  Usually hear the phone late night like now\\nSh...       1  \n",
       "1                                                NaN       0  \n",
       "2                                                NaN       0  \n",
       "3                                                NaN       0  \n",
       "4                                                NaN       0  "
      ]
     },
     "execution_count": 7,
     "metadata": {},
     "output_type": "execute_result"
    }
   ],
   "source": [
    "df_songs.head()"
   ]
  },
  {
   "cell_type": "code",
   "execution_count": 8,
   "metadata": {},
   "outputs": [],
   "source": [
    "X = df_songs.loc[:,\"danceability\":\"duration_ms\"]\n",
    "y = df_songs.iloc[:,-1]\n",
    "X_train, X_test, y_train, y_test = train_test_split(X, y, random_state=0)"
   ]
  },
  {
   "cell_type": "markdown",
   "metadata": {},
   "source": [
    "## Random Forest\n",
    "- El primer modelo que usaremos será *random forest*"
   ]
  },
  {
   "cell_type": "code",
   "execution_count": 34,
   "metadata": {},
   "outputs": [],
   "source": [
    "from sklearn.ensemble import RandomForestClassifier"
   ]
  },
  {
   "cell_type": "markdown",
   "metadata": {},
   "source": [
    "- Probamos el modelo de *random forest* con la configuración por defecto dada por *sklearn*"
   ]
  },
  {
   "cell_type": "code",
   "execution_count": 7,
   "metadata": {},
   "outputs": [],
   "source": [
    "forest = RandomForestClassifier ()"
   ]
  },
  {
   "cell_type": "code",
   "execution_count": 8,
   "metadata": {},
   "outputs": [
    {
     "name": "stdout",
     "output_type": "stream",
     "text": [
      "Wall time: 12.3 s\n"
     ]
    },
    {
     "data": {
      "text/plain": [
       "0.7599378464693165"
      ]
     },
     "execution_count": 8,
     "metadata": {},
     "output_type": "execute_result"
    }
   ],
   "source": [
    "%%time\n",
    "cross_val_score(forest,X_train,y_train,cv=5).mean()"
   ]
  },
  {
   "cell_type": "markdown",
   "metadata": {},
   "source": [
    "Vemos el *score* obtenido utilizando *cross validation*."
   ]
  },
  {
   "cell_type": "markdown",
   "metadata": {},
   "source": [
    "- La función anterior no almacena el entrenamiento generado, por ello entrenamos *random forest* con la configuración por defecto, pero ahora sobre todos los datos de entrenamiento."
   ]
  },
  {
   "cell_type": "code",
   "execution_count": 9,
   "metadata": {},
   "outputs": [
    {
     "data": {
      "text/plain": [
       "RandomForestClassifier(bootstrap=True, ccp_alpha=0.0, class_weight=None,\n",
       "                       criterion='gini', max_depth=None, max_features='auto',\n",
       "                       max_leaf_nodes=None, max_samples=None,\n",
       "                       min_impurity_decrease=0.0, min_impurity_split=None,\n",
       "                       min_samples_leaf=1, min_samples_split=2,\n",
       "                       min_weight_fraction_leaf=0.0, n_estimators=100,\n",
       "                       n_jobs=None, oob_score=False, random_state=None,\n",
       "                       verbose=0, warm_start=False)"
      ]
     },
     "execution_count": 9,
     "metadata": {},
     "output_type": "execute_result"
    }
   ],
   "source": [
    "forest.fit(X_train,y_train)"
   ]
  },
  {
   "cell_type": "code",
   "execution_count": 10,
   "metadata": {},
   "outputs": [
    {
     "name": "stdout",
     "output_type": "stream",
     "text": [
      "Precisión sobre datos de pruebas: 0.7631\n",
      "Precisión sobre datos de train: 0.9998\n"
     ]
    }
   ],
   "source": [
    "print(\"Precisión sobre datos de pruebas: {:.4f}\"\n",
    "      .format(forest.score(X_test, y_test)))\n",
    "print(\"Precisión sobre datos de train: {:.4f}\"\n",
    "      .format(forest.score(X_train, y_train)))"
   ]
  },
  {
   "cell_type": "markdown",
   "metadata": {},
   "source": [
    "los modelos basados en árboles de decisión tenderán al sobreentrenamiento, por lo que la mejor manera es configurarlos utilizando las técnicas de *cross validation* y obtener el mayor *score* posible, que aunque los resultados obtenidos con todo el dataset de entrenamiento den más bajos, sean modelos más generalizables."
   ]
  },
  {
   "cell_type": "markdown",
   "metadata": {},
   "source": [
    "- Calculamos el *score* para diferentes números de estimadores con un *cross val* de 5 que es el que toma por defecto la función, y analizaremos los resultados obtenidos."
   ]
  },
  {
   "cell_type": "code",
   "execution_count": 11,
   "metadata": {},
   "outputs": [],
   "source": [
    "param_range = [40,50,60,90,100,130,150,200,250,300]\n",
    "train_score, test_score= validation_curve(\n",
    "                                forest,\n",
    "                                X = X_train, y = y_train, \n",
    "                                param_name = 'n_estimators', \n",
    "                               param_range=param_range,\n",
    "                                scoring=\"accuracy\")"
   ]
  },
  {
   "cell_type": "code",
   "execution_count": 12,
   "metadata": {},
   "outputs": [
    {
     "name": "stdout",
     "output_type": "stream",
     "text": [
      "Numero de estimadores para un Cross_val 5 (test) y para todo dataset de entrenamiento (train)\n",
      "n_estimators 40 en test: 0.7605895033130505 en train: 0.9996090157168964\n",
      "n_estimators 50 en test: 0.7578520096414392 en train: 0.9997393486770424\n",
      "n_estimators 60 en test: 0.7599377827874203 en train: 0.999837092425515\n",
      "n_estimators 90 en test: 0.7639125732474478 en train: 0.9998370910984848\n",
      "n_estimators 100 en test: 0.7596768143768249 en train: 0.9998370924255152\n",
      "n_estimators 130 en test: 0.763651541154956 en train: 0.9998533830502605\n",
      "n_estimators 150 en test: 0.7616973135792092 en train: 0.9998533830502605\n",
      "n_estimators 200 en test: 0.763651859564437 en train: 0.9998533830502605\n",
      "n_estimators 250 en test: 0.7641733718396532 en train: 0.9998533830502605\n",
      "n_estimators 300 en test: 0.7621532335013474 en train: 0.9998533830502605\n"
     ]
    }
   ],
   "source": [
    "print(\"Numero de estimadores para un Cross_val 5 (test) y para todo dataset de entrenamiento (train)\")\n",
    "print ('n_estimators 40 en test:',test_score[0].mean(),'en train:',train_score[0].mean())\n",
    "print ('n_estimators 50 en test:',test_score[1].mean(),'en train:',train_score[1].mean())\n",
    "print ('n_estimators 60 en test:',test_score[2].mean(),'en train:',train_score[2].mean())\n",
    "print ('n_estimators 90 en test:',test_score[3].mean(),'en train:',train_score[3].mean())\n",
    "print ('n_estimators 100 en test:',test_score[4].mean(),'en train:',train_score[4].mean())\n",
    "print ('n_estimators 130 en test:',test_score[5].mean(),'en train:',train_score[5].mean())\n",
    "print ('n_estimators 150 en test:',test_score[6].mean(),'en train:',train_score[6].mean())\n",
    "print ('n_estimators 200 en test:',test_score[7].mean(),'en train:',train_score[7].mean())\n",
    "print ('n_estimators 250 en test:',test_score[8].mean(),'en train:',train_score[8].mean())\n",
    "print ('n_estimators 300 en test:',test_score[9].mean(),'en train:',train_score[9].mean())"
   ]
  },
  {
   "cell_type": "markdown",
   "metadata": {},
   "source": [
    "Tomando el valor medio de cada resultado, ya que por cada prueba obtendremos 5 resultados que son las 5 partes en las que se divide el dataset, según lo indicado con un *cross val* de 5. Vemos que aumentando el numero de estimadores las mejoras en el modelo son casi imperceptibles, se mantienen casi constante con pequeñas oscilaciones, incluso bajando el *score* de los resultados en test en algunos casos. Por lo que para entrenamientos del modelo no suele ser necesario un uso muy alto del número de estimadores que lo único que harán es aumentar el tiempo de entrenamiento."
   ]
  },
  {
   "cell_type": "code",
   "execution_count": 13,
   "metadata": {},
   "outputs": [
    {
     "data": {
      "image/png": "[encoded data removed]",
      "text/plain": [
       "<Figure size 576x432 with 1 Axes>"
      ]
     },
     "metadata": {
      "needs_background": "light"
     },
     "output_type": "display_data"
    }
   ],
   "source": [
    "train_scores_mean = np.mean(train_score, axis=1)\n",
    "train_scores_std = np.std(train_score, axis=1)\n",
    "test_scores_mean = np.mean(test_score, axis=1)\n",
    "test_scores_std = np.std(test_score, axis=1)\n",
    "\n",
    "plt.title(\"Curva de validación con RandomForest\")\n",
    "plt.xlabel(r\"$\\gamma$\")\n",
    "plt.ylabel(\"Score\")\n",
    "plt.ylim(0.7, 1.1)\n",
    "lw = 2\n",
    "plt.semilogx(param_range, train_scores_mean, label=\"Training score\",\n",
    "             color=\"darkorange\", lw=lw)\n",
    "plt.fill_between(param_range, train_scores_mean - train_scores_std,\n",
    "                 train_scores_mean + train_scores_std, alpha=0.2,\n",
    "                 color=\"darkorange\", lw=lw)\n",
    "plt.semilogx(param_range, test_scores_mean, label=\"Cross-validation score\",\n",
    "             color=\"navy\", lw=lw)\n",
    "plt.fill_between(param_range, test_scores_mean - test_scores_std,\n",
    "                 test_scores_mean + test_scores_std, alpha=0.2,\n",
    "                 color=\"navy\", lw=lw)\n",
    "plt.legend(loc=\"best\")\n",
    "plt.show()"
   ]
  },
  {
   "cell_type": "markdown",
   "metadata": {},
   "source": [
    "Aqui observamos graficamente los resultados obtenidos anteriormente."
   ]
  },
  {
   "cell_type": "markdown",
   "metadata": {},
   "source": [
    "- A continuación, vamos a tratar de mejorar el *score* de nuestro modelo y para ello usaremos la función de RandomizedSearchCV que dado unos rangos en los parámetros que indicaremos a continuación, ira probando combinaciones aleatorias hasta un número de pruebas elegido por nosotros. La siguiente prueba ha llevado un total de 201.7 min"
   ]
  },
  {
   "cell_type": "code",
   "execution_count": 15,
   "metadata": {},
   "outputs": [],
   "source": [
    "forest = RandomForestClassifier (random_state=32)"
   ]
  },
  {
   "cell_type": "code",
   "execution_count": 24,
   "metadata": {},
   "outputs": [
    {
     "name": "stdout",
     "output_type": "stream",
     "text": [
      "{'n_estimators': [30, 43, 56, 70, 83, 96, 110, 123, 136, 150], 'max_features': [1, 2, 3, 4, 5, 6, 7, 8, 9, 10, 11, 12, 13, 'auto'], 'max_depth': [10, 20, 30, 40, 50, 60, 70, 80, 90, 100, 110, None], 'min_samples_split': [2, 5, 10], 'min_samples_leaf': [1, 2, 3, 4, 5], 'max_leaf_nodes': [10, 15, 20, 25, 30, 35, 40, 45, 50, 55, 60, 65, 70, 75, 80, 85, 90, 95, 100, None]}\n"
     ]
    }
   ],
   "source": [
    "# Numero de arboles del bosque\n",
    "n_estimators = [int(x) for x in np.linspace(start = 30, stop = 150, num = 10)]\n",
    "# Numero de caracteristicas proporcionadas a cada arbol\n",
    "max_features = [1,2,3,4,5,6,7,8,9,10,11,12,13]\n",
    "max_features.append('auto')\n",
    "# Profundidad de arbol\n",
    "max_depth = [int(x) for x in np.linspace(10, 110, num = 11)]\n",
    "max_depth.append(None)\n",
    "# Minimo valor para separar en subnodos\n",
    "min_samples_split = [2, 5, 10]\n",
    "# Minimo numero de muestras necesarias en hoja despues de dividir\n",
    "min_samples_leaf = [1, 2,3, 4, 5]\n",
    "# Numero maximo de nodos finales\n",
    "max_leaf_nodes = [int(x) for x in np.linspace(10, 100, num = 19)]\n",
    "max_leaf_nodes.append(None)\n",
    "# Creacion de cuadrícula aleatoria\n",
    "param_grid = {'n_estimators': n_estimators,\n",
    "               'max_features': max_features,\n",
    "               'max_depth': max_depth,\n",
    "               'min_samples_split': min_samples_split,\n",
    "               'min_samples_leaf': min_samples_leaf,\n",
    "               \"max_leaf_nodes\": max_leaf_nodes}\n",
    "print(param_grid)"
   ]
  },
  {
   "cell_type": "markdown",
   "metadata": {},
   "source": [
    "Seleccionamos para la prueba un *cross val* de 5, definimos random_state, cantidad de mensajes que salga, uso de todas las CPUs disponibles."
   ]
  },
  {
   "cell_type": "code",
   "execution_count": 25,
   "metadata": {},
   "outputs": [],
   "source": [
    "forest_random = RandomizedSearchCV(estimator = forest, param_distributions = param_grid, n_iter = 3500, cv = 5, verbose=2, random_state=42, n_jobs = -1)"
   ]
  },
  {
   "cell_type": "code",
   "execution_count": 26,
   "metadata": {},
   "outputs": [
    {
     "name": "stdout",
     "output_type": "stream",
     "text": [
      "Fitting 5 folds for each of 3500 candidates, totalling 17500 fits\n"
     ]
    },
    {
     "name": "stderr",
     "output_type": "stream",
     "text": [
      "[Parallel(n_jobs=-1)]: Using backend LokyBackend with 8 concurrent workers.\n",
      "[Parallel(n_jobs=-1)]: Done  25 tasks      | elapsed:   41.3s\n",
      "[Parallel(n_jobs=-1)]: Done 146 tasks      | elapsed:  2.7min\n",
      "[Parallel(n_jobs=-1)]: Done 349 tasks      | elapsed:  5.0min\n",
      "[Parallel(n_jobs=-1)]: Done 632 tasks      | elapsed:  7.8min\n",
      "[Parallel(n_jobs=-1)]: Done 997 tasks      | elapsed: 12.4min\n",
      "[Parallel(n_jobs=-1)]: Done 1442 tasks      | elapsed: 18.2min\n",
      "[Parallel(n_jobs=-1)]: Done 1969 tasks      | elapsed: 24.4min\n",
      "[Parallel(n_jobs=-1)]: Done 2576 tasks      | elapsed: 31.1min\n",
      "[Parallel(n_jobs=-1)]: Done 3265 tasks      | elapsed: 39.1min\n",
      "[Parallel(n_jobs=-1)]: Done 4034 tasks      | elapsed: 48.1min\n",
      "[Parallel(n_jobs=-1)]: Done 4885 tasks      | elapsed: 57.7min\n",
      "[Parallel(n_jobs=-1)]: Done 5816 tasks      | elapsed: 67.8min\n",
      "[Parallel(n_jobs=-1)]: Done 6829 tasks      | elapsed: 78.7min\n",
      "[Parallel(n_jobs=-1)]: Done 7922 tasks      | elapsed: 90.8min\n",
      "[Parallel(n_jobs=-1)]: Done 9097 tasks      | elapsed: 104.1min\n",
      "[Parallel(n_jobs=-1)]: Done 10352 tasks      | elapsed: 118.8min\n",
      "[Parallel(n_jobs=-1)]: Done 11689 tasks      | elapsed: 135.1min\n",
      "[Parallel(n_jobs=-1)]: Done 13106 tasks      | elapsed: 150.8min\n",
      "[Parallel(n_jobs=-1)]: Done 14605 tasks      | elapsed: 168.1min\n",
      "[Parallel(n_jobs=-1)]: Done 16184 tasks      | elapsed: 187.1min\n",
      "[Parallel(n_jobs=-1)]: Done 17500 out of 17500 | elapsed: 201.7min finished\n"
     ]
    },
    {
     "data": {
      "text/plain": [
       "RandomizedSearchCV(cv=5, error_score=nan,\n",
       "                   estimator=RandomForestClassifier(bootstrap=True,\n",
       "                                                    ccp_alpha=0.0,\n",
       "                                                    class_weight=None,\n",
       "                                                    criterion='gini',\n",
       "                                                    max_depth=None,\n",
       "                                                    max_features='auto',\n",
       "                                                    max_leaf_nodes=None,\n",
       "                                                    max_samples=None,\n",
       "                                                    min_impurity_decrease=0.0,\n",
       "                                                    min_impurity_split=None,\n",
       "                                                    min_samples_leaf=1,\n",
       "                                                    min_samples_split=2,\n",
       "                                                    min_weight_fraction_leaf=0.0,\n",
       "                                                    n_estimators=100,\n",
       "                                                    n_jobs...\n",
       "                                                      None],\n",
       "                                        'max_features': [1, 2, 3, 4, 5, 6, 7, 8,\n",
       "                                                         9, 10, 11, 12, 13,\n",
       "                                                         'auto'],\n",
       "                                        'max_leaf_nodes': [10, 15, 20, 25, 30,\n",
       "                                                           35, 40, 45, 50, 55,\n",
       "                                                           60, 65, 70, 75, 80,\n",
       "                                                           85, 90, 95, 100,\n",
       "                                                           None],\n",
       "                                        'min_samples_leaf': [1, 2, 3, 4, 5],\n",
       "                                        'min_samples_split': [2, 5, 10],\n",
       "                                        'n_estimators': [30, 43, 56, 70, 83, 96,\n",
       "                                                         110, 123, 136, 150]},\n",
       "                   pre_dispatch='2*n_jobs', random_state=42, refit=True,\n",
       "                   return_train_score=False, scoring=None, verbose=2)"
      ]
     },
     "execution_count": 26,
     "metadata": {},
     "output_type": "execute_result"
    }
   ],
   "source": [
    "forest_random.fit(X_train, y_train)"
   ]
  },
  {
   "cell_type": "markdown",
   "metadata": {},
   "source": [
    "- A continuacion se puede ver la mejor configuración encontrada para las iteraciones probadas y el score obtenido para esa configuración."
   ]
  },
  {
   "cell_type": "code",
   "execution_count": 27,
   "metadata": {},
   "outputs": [
    {
     "data": {
      "text/plain": [
       "{'n_estimators': 110,\n",
       " 'min_samples_split': 10,\n",
       " 'min_samples_leaf': 3,\n",
       " 'max_leaf_nodes': None,\n",
       " 'max_features': 1,\n",
       " 'max_depth': 20}"
      ]
     },
     "execution_count": 27,
     "metadata": {},
     "output_type": "execute_result"
    }
   ],
   "source": [
    "forest_random.best_params_"
   ]
  },
  {
   "cell_type": "code",
   "execution_count": 29,
   "metadata": {},
   "outputs": [
    {
     "data": {
      "text/plain": [
       "0.7672357493183383"
      ]
     },
     "execution_count": 29,
     "metadata": {},
     "output_type": "execute_result"
    }
   ],
   "source": [
    "forest_random.best_score_"
   ]
  },
  {
   "cell_type": "markdown",
   "metadata": {},
   "source": [
    "Respecto de la configuración por defecto donde se obtenía un *score* de 0.759 hemos conseguido una mejoría de 0.009. Tomaremos esta nueva configuración la que mejor ha clasificado para nuestro dataset de entrenamiento."
   ]
  },
  {
   "cell_type": "markdown",
   "metadata": {},
   "source": [
    "- En la siguiente gráfica se muestra la importancia de las características predictivas respecto de las demás."
   ]
  },
  {
   "cell_type": "code",
   "execution_count": 39,
   "metadata": {},
   "outputs": [],
   "source": [
    "best_forest = forest_random.best_estimator_"
   ]
  },
  {
   "cell_type": "code",
   "execution_count": 40,
   "metadata": {},
   "outputs": [
    {
     "data": {
      "image/png": "[encoded data removed]",
      "text/plain": [
       "<Figure size 576x432 with 1 Axes>"
      ]
     },
     "metadata": {
      "needs_background": "light"
     },
     "output_type": "display_data"
    }
   ],
   "source": [
    "plt.barh(df_songs.loc[:,\"danceability\":\"duration_ms\"].columns, best_forest.feature_importances_);"
   ]
  },
  {
   "cell_type": "markdown",
   "metadata": {},
   "source": [
    "- Con la mejor configuración obtenida, entrenamos el modelo con todo el dataset de entrenamiento y vemos resultados obtenidos, tanto con los datos de entrenamiento como con los de test."
   ]
  },
  {
   "cell_type": "code",
   "execution_count": 41,
   "metadata": {},
   "outputs": [
    {
     "data": {
      "text/plain": [
       "RandomForestClassifier(bootstrap=True, ccp_alpha=0.0, class_weight=None,\n",
       "                       criterion='gini', max_depth=20, max_features=1,\n",
       "                       max_leaf_nodes=None, max_samples=None,\n",
       "                       min_impurity_decrease=0.0, min_impurity_split=None,\n",
       "                       min_samples_leaf=3, min_samples_split=10,\n",
       "                       min_weight_fraction_leaf=0.0, n_estimators=110,\n",
       "                       n_jobs=None, oob_score=False, random_state=32, verbose=0,\n",
       "                       warm_start=False)"
      ]
     },
     "execution_count": 41,
     "metadata": {},
     "output_type": "execute_result"
    }
   ],
   "source": [
    "best_forest.fit(X_train,y_train)"
   ]
  },
  {
   "cell_type": "code",
   "execution_count": 42,
   "metadata": {},
   "outputs": [
    {
     "name": "stdout",
     "output_type": "stream",
     "text": [
      "Precisión sobre datos de pruebas: 0.7662\n",
      "Precisión sobre datos de train: 0.8829\n"
     ]
    }
   ],
   "source": [
    "print(\"Precisión sobre datos de pruebas: {:.4f}\"\n",
    "      .format(best_forest.score(X_test, y_test)))\n",
    "print(\"Precisión sobre datos de train: {:.4f}\"\n",
    "      .format(best_forest.score(X_train, y_train)))"
   ]
  },
  {
   "cell_type": "markdown",
   "metadata": {},
   "source": [
    "Podemos ver como el *score* con los datos de entrenamiento, ha decrecido con respecto al modelo inicial, pero en cambio hemos mejorado un 0.003 el resultado sobre los resultados de test."
   ]
  },
  {
   "cell_type": "markdown",
   "metadata": {},
   "source": [
    "- En este punto almacenaremos nuestro modelo obtenido, para su posterior uso"
   ]
  },
  {
   "cell_type": "code",
   "execution_count": 2,
   "metadata": {},
   "outputs": [],
   "source": [
    "filename = '../Models/forest_model_random_93_20.pkl'"
   ]
  },
  {
   "cell_type": "code",
   "execution_count": 30,
   "metadata": {},
   "outputs": [
    {
     "data": {
      "text/plain": [
       "['../Models/forest_model_random_93_20.pkl']"
      ]
     },
     "execution_count": 30,
     "metadata": {},
     "output_type": "execute_result"
    }
   ],
   "source": [
    "joblib.dump(best_forest, filename)"
   ]
  },
  {
   "cell_type": "code",
   "execution_count": 9,
   "metadata": {},
   "outputs": [],
   "source": [
    "best_forest = joblib.load(filename) "
   ]
  },
  {
   "cell_type": "markdown",
   "metadata": {},
   "source": [
    "- Por último representamos la curva ROC para ver de manera visual lo bueno que es nuestro modelo obtenido"
   ]
  },
  {
   "cell_type": "code",
   "execution_count": 10,
   "metadata": {},
   "outputs": [
    {
     "data": {
      "image/png": "[encoded data removed]",
      "text/plain": [
       "<Figure size 576x432 with 1 Axes>"
      ]
     },
     "metadata": {
      "needs_background": "light"
     },
     "output_type": "display_data"
    }
   ],
   "source": [
    "probs = best_forest.predict_proba(X_test)\n",
    "preds = probs[:,1]\n",
    "fpr, tpr, threshold = metrics.roc_curve(y_test, preds)\n",
    "roc_auc = metrics.auc(fpr, tpr)\n",
    "\n",
    "plt.title('Receiver Operating Characteristic')\n",
    "plt.plot(fpr, tpr, 'b', label = 'AUC = %0.2f' % roc_auc)\n",
    "plt.legend(loc = 'lower right')\n",
    "plt.plot([0, 1], [0, 1],'r--')\n",
    "plt.xlim([0, 1])\n",
    "plt.ylim([0, 1])\n",
    "plt.ylabel('True Positive Rate')\n",
    "plt.xlabel('False Positive Rate')\n",
    "plt.show()"
   ]
  },
  {
   "cell_type": "markdown",
   "metadata": {},
   "source": [
    "- Utilizando la función definida al principio del cuaderno, podemos hacer predicciones sobre cualquier canción de interés."
   ]
  },
  {
   "cell_type": "code",
   "execution_count": 11,
   "metadata": {},
   "outputs": [
    {
     "name": "stdout",
     "output_type": "stream",
     "text": [
      "Artista: "
     ]
    },
    {
     "name": "stdin",
     "output_type": "stream",
     "text": [
      " billie eilish\n"
     ]
    },
    {
     "name": "stdout",
     "output_type": "stream",
     "text": [
      "Titulo: "
     ]
    },
    {
     "name": "stdin",
     "output_type": "stream",
     "text": [
      " bad guy\n"
     ]
    },
    {
     "name": "stdout",
     "output_type": "stream",
     "text": [
      "Canción elegida: bad guy de Billie Eilish\n",
      "porcentaje de ser hit: 46.761806339461145\n"
     ]
    }
   ],
   "source": [
    "score = best_forest.predict_proba(find_song())\n",
    "print('porcentaje de ser hit:', score[0][1]*100)"
   ]
  },
  {
   "cell_type": "markdown",
   "metadata": {},
   "source": [
    "## AdaBoost\n",
    "-  El segundo modelo que vamos a utilizar es AdaBoost que utiliza las técnicas de *boosting*, un modelo más avanzado que el anterior. "
   ]
  },
  {
   "cell_type": "code",
   "execution_count": 35,
   "metadata": {},
   "outputs": [],
   "source": [
    "from sklearn.ensemble import AdaBoostClassifier"
   ]
  },
  {
   "cell_type": "code",
   "execution_count": 7,
   "metadata": {},
   "outputs": [],
   "source": [
    "ada_clf = AdaBoostClassifier()"
   ]
  },
  {
   "cell_type": "markdown",
   "metadata": {},
   "source": [
    "- El proceso llevado a cabo es similar al del modelo anterior, veremos como funciona el modelo con la configuración por defecto y trataremos de buscar una mejor configuración de hiperparametros que nos haga tener unos mejores resultados utilizando *cross validation* y un modelo más generalizable."
   ]
  },
  {
   "cell_type": "code",
   "execution_count": 10,
   "metadata": {},
   "outputs": [
    {
     "name": "stdout",
     "output_type": "stream",
     "text": [
      "Wall time: 3.35 s\n"
     ]
    },
    {
     "data": {
      "text/plain": [
       "0.7569396603419929"
      ]
     },
     "execution_count": 10,
     "metadata": {},
     "output_type": "execute_result"
    }
   ],
   "source": [
    "%%time\n",
    "cross_val_score(ada_clf,X_train,y_train,cv=5).mean()"
   ]
  },
  {
   "cell_type": "code",
   "execution_count": 11,
   "metadata": {},
   "outputs": [
    {
     "data": {
      "text/plain": [
       "AdaBoostClassifier(algorithm='SAMME.R', base_estimator=None, learning_rate=1.0,\n",
       "                   n_estimators=50, random_state=None)"
      ]
     },
     "execution_count": 11,
     "metadata": {},
     "output_type": "execute_result"
    }
   ],
   "source": [
    "ada_clf.fit(X_train,y_train)"
   ]
  },
  {
   "cell_type": "code",
   "execution_count": 12,
   "metadata": {},
   "outputs": [
    {
     "name": "stdout",
     "output_type": "stream",
     "text": [
      "Precisión sobre el juego de pruebas: 0.7553\n",
      "Precisión sobre el juego de train: 0.7662\n"
     ]
    }
   ],
   "source": [
    "print(\"Precisión sobre el juego de pruebas: {:.4f}\"\n",
    "      .format(ada_clf.score(X_test, y_test)))\n",
    "print(\"Precisión sobre el juego de train: {:.4f}\"\n",
    "      .format(ada_clf.score(X_train, y_train)))"
   ]
  },
  {
   "cell_type": "markdown",
   "metadata": {},
   "source": [
    "Como se puede observar, el modelo con la configuración por defecto da peores resultado que con *random forest*"
   ]
  },
  {
   "cell_type": "code",
   "execution_count": 13,
   "metadata": {},
   "outputs": [],
   "source": [
    "param_range = [25,30,40,50,60,90,100,130]\n",
    "train_score, test_score= validation_curve(\n",
    "                                ada_clf,\n",
    "                                X = X_train, y = y_train, \n",
    "                                param_name = 'n_estimators', \n",
    "                               param_range=param_range,\n",
    "                                scoring=\"accuracy\")"
   ]
  },
  {
   "cell_type": "code",
   "execution_count": 14,
   "metadata": {},
   "outputs": [
    {
     "name": "stdout",
     "output_type": "stream",
     "text": [
      "Numero de estimadores para un Cross_val 5 (test) y para todo dataset de entrenamiento (train)\n",
      "n_estimators 25 en test: 0.7498372396869823 en train : 0.7591066038790212\n",
      "n_estimators 30 en test: 0.7527695999609418 en train: 0.7627394649514427\n",
      "n_estimators 40 en test: 0.7564189334768299 en train: 0.7654437285646443\n",
      "n_estimators 50 en test: 0.7569396603419929 en train: 0.7670728441204049\n",
      "n_estimators 60 en test: 0.7574610027988193 en train: 0.7681480638374856\n",
      "n_estimators 90 en test: 0.7571353972635889 en train: 0.7700378001945054\n",
      "n_estimators 100 en test: 0.7570050616493823 en train: 0.7710315402472518\n",
      "n_estimators 130 en test: 0.7578519671868417 en train: 0.7729212792583323\n"
     ]
    }
   ],
   "source": [
    "print(\"Numero de estimadores para un Cross_val 5 (test) y para todo dataset de entrenamiento (train)\")\n",
    "print ('n_estimators 25 en test:',test_score[0].mean(),'en train :',train_score[0].mean())\n",
    "print ('n_estimators 30 en test:',test_score[1].mean(),'en train:',train_score[1].mean())\n",
    "print ('n_estimators 40 en test:',test_score[2].mean(),'en train:',train_score[2].mean())\n",
    "print ('n_estimators 50 en test:',test_score[3].mean(),'en train:',train_score[3].mean())\n",
    "print ('n_estimators 60 en test:',test_score[4].mean(),'en train:',train_score[4].mean())\n",
    "print ('n_estimators 90 en test:',test_score[5].mean(),'en train:',train_score[5].mean())\n",
    "print ('n_estimators 100 en test:',test_score[6].mean(),'en train:',train_score[6].mean())\n",
    "print ('n_estimators 130 en test:',test_score[7].mean(),'en train:',train_score[7].mean())"
   ]
  },
  {
   "cell_type": "markdown",
   "metadata": {},
   "source": [
    "- Definimos *Grid* de parámetros para buscar la mejor combinación "
   ]
  },
  {
   "cell_type": "code",
   "execution_count": 8,
   "metadata": {},
   "outputs": [
    {
     "name": "stdout",
     "output_type": "stream",
     "text": [
      "{'n_estimators': [30, 43, 56, 70, 83, 96, 110, 123, 136, 150], 'algorithm': ['SAMME', 'SAMME.R'], 'learning_rate': [0.05, 0.1, 0.15, 0.2, 0.25, 0.3, 0.35, 0.4, 0.45, 0.5, 0.55, 0.6, 0.65, 0.7, 0.75, 0.8, 0.85, 0.9, 0.95, 1.0], 'base_estimator__max_features': [1, 2, 3, 4, 5, 6, 7, 8, 9, 10, 11, 12, 13, 'auto'], 'base_estimator__max_depth': [10, 20, 30, 40, 50, 60, 70, 80, 90, 100, 110, None], 'base_estimator__min_samples_split': [2, 5, 10], 'base_estimator__min_samples_leaf': [1, 2, 3, 4, 5], 'base_estimator__max_leaf_nodes': [10, 15, 20, 25, 30, 35, 40, 45, 50, 55, 60, 65, 70, 75, 80, 85, 90, 95, 100, None]}\n"
     ]
    }
   ],
   "source": [
    "# Numero de arboles del bosque\n",
    "n_estimators = [int(x) for x in np.linspace(start = 30, stop = 150, num = 10)]\n",
    "# Numero de caracteristicas proporcionadas a cada arbol\n",
    "max_features = [1,2,3,4,5,6,7,8,9,10,11,12,13]\n",
    "max_features.append('auto')\n",
    "# Profundidad de arbol\n",
    "max_depth = [int(x) for x in np.linspace(10, 110, num = 11)]\n",
    "max_depth.append(None)\n",
    "# Minimo valor para separar en subnodos\n",
    "min_samples_split = [2, 5, 10]\n",
    "# Minimo numero de muestras necesarias en hoja despues de dividir\n",
    "min_samples_leaf = [1, 2,3, 4, 5]\n",
    "# Numero maximo de nodos finales\n",
    "max_leaf_nodes = [int(x) for x in np.linspace(10, 100, num = 19)]\n",
    "max_leaf_nodes.append(None)\n",
    "#Algoritmo de implementacion\n",
    "algorithm = ['SAMME', 'SAMME.R']\n",
    "learning_rate = [round(float(x),2) for x in np.linspace(0.05, 1., num = 20)]\n",
    "# Numero de muestras maximo que se le asigna a cada arbol\n",
    "# max_samples\n",
    "# Creacion de cuadrícula aleatoria\n",
    "param_grid = {'n_estimators': n_estimators,\n",
    "               'algorithm': algorithm,\n",
    "              'learning_rate':learning_rate,\n",
    "               'base_estimator__max_features': max_features,\n",
    "               'base_estimator__max_depth': max_depth,\n",
    "               'base_estimator__min_samples_split': min_samples_split,\n",
    "               'base_estimator__min_samples_leaf': min_samples_leaf,\n",
    "               \"base_estimator__max_leaf_nodes\": max_leaf_nodes}\n",
    "print(param_grid)"
   ]
  },
  {
   "cell_type": "code",
   "execution_count": 36,
   "metadata": {},
   "outputs": [],
   "source": [
    "from sklearn.tree import DecisionTreeClassifier"
   ]
  },
  {
   "cell_type": "markdown",
   "metadata": {},
   "source": [
    "- Definimos estimador base y lanzamos la búsqueda aleatoria sobre el clasificador."
   ]
  },
  {
   "cell_type": "code",
   "execution_count": 10,
   "metadata": {},
   "outputs": [],
   "source": [
    "base_estimator = DecisionTreeClassifier(random_state=32)\n",
    "ada_clf = AdaBoostClassifier(base_estimator=base_estimator, random_state=32)"
   ]
  },
  {
   "cell_type": "code",
   "execution_count": 11,
   "metadata": {},
   "outputs": [],
   "source": [
    "ada_random = RandomizedSearchCV(estimator = ada_clf, param_distributions = param_grid, n_iter = 6250, cv = 5, verbose=2, random_state=32, n_jobs = -1)"
   ]
  },
  {
   "cell_type": "code",
   "execution_count": 12,
   "metadata": {},
   "outputs": [
    {
     "name": "stdout",
     "output_type": "stream",
     "text": [
      "Fitting 5 folds for each of 6250 candidates, totalling 31250 fits\n"
     ]
    },
    {
     "name": "stderr",
     "output_type": "stream",
     "text": [
      "[Parallel(n_jobs=-1)]: Using backend LokyBackend with 8 concurrent workers.\n",
      "[Parallel(n_jobs=-1)]: Done  25 tasks      | elapsed:   18.6s\n",
      "[Parallel(n_jobs=-1)]: Done 146 tasks      | elapsed:  2.9min\n",
      "[Parallel(n_jobs=-1)]: Done 349 tasks      | elapsed:  6.0min\n",
      "[Parallel(n_jobs=-1)]: Done 632 tasks      | elapsed: 10.8min\n",
      "[Parallel(n_jobs=-1)]: Done 997 tasks      | elapsed: 16.8min\n",
      "[Parallel(n_jobs=-1)]: Done 1442 tasks      | elapsed: 23.8min\n",
      "[Parallel(n_jobs=-1)]: Done 1969 tasks      | elapsed: 32.6min\n",
      "[Parallel(n_jobs=-1)]: Done 2576 tasks      | elapsed: 42.8min\n",
      "[Parallel(n_jobs=-1)]: Done 3265 tasks      | elapsed: 55.6min\n",
      "[Parallel(n_jobs=-1)]: Done 4034 tasks      | elapsed: 68.5min\n",
      "[Parallel(n_jobs=-1)]: Done 4885 tasks      | elapsed: 83.7min\n",
      "[Parallel(n_jobs=-1)]: Done 5816 tasks      | elapsed: 100.0min\n",
      "[Parallel(n_jobs=-1)]: Done 6829 tasks      | elapsed: 116.9min\n",
      "[Parallel(n_jobs=-1)]: Done 7922 tasks      | elapsed: 133.5min\n",
      "[Parallel(n_jobs=-1)]: Done 9097 tasks      | elapsed: 151.6min\n",
      "[Parallel(n_jobs=-1)]: Done 10352 tasks      | elapsed: 174.8min\n",
      "[Parallel(n_jobs=-1)]: Done 11689 tasks      | elapsed: 197.6min\n",
      "[Parallel(n_jobs=-1)]: Done 13106 tasks      | elapsed: 224.4min\n",
      "[Parallel(n_jobs=-1)]: Done 14605 tasks      | elapsed: 252.5min\n",
      "[Parallel(n_jobs=-1)]: Done 16184 tasks      | elapsed: 280.3min\n",
      "[Parallel(n_jobs=-1)]: Done 17845 tasks      | elapsed: 310.0min\n",
      "[Parallel(n_jobs=-1)]: Done 19586 tasks      | elapsed: 340.3min\n",
      "[Parallel(n_jobs=-1)]: Done 21409 tasks      | elapsed: 371.1min\n",
      "[Parallel(n_jobs=-1)]: Done 23312 tasks      | elapsed: 404.2min\n",
      "[Parallel(n_jobs=-1)]: Done 25297 tasks      | elapsed: 436.1min\n",
      "[Parallel(n_jobs=-1)]: Done 27362 tasks      | elapsed: 472.0min\n",
      "[Parallel(n_jobs=-1)]: Done 29509 tasks      | elapsed: 509.8min\n",
      "[Parallel(n_jobs=-1)]: Done 31250 out of 31250 | elapsed: 539.1min finished\n"
     ]
    },
    {
     "data": {
      "text/plain": [
       "RandomizedSearchCV(cv=5, error_score=nan,\n",
       "                   estimator=AdaBoostClassifier(algorithm='SAMME.R',\n",
       "                                                base_estimator=DecisionTreeClassifier(ccp_alpha=0.0,\n",
       "                                                                                      class_weight=None,\n",
       "                                                                                      criterion='gini',\n",
       "                                                                                      max_depth=None,\n",
       "                                                                                      max_features=None,\n",
       "                                                                                      max_leaf_nodes=None,\n",
       "                                                                                      min_impurity_decrease=0.0,\n",
       "                                                                                      min_impurity_split=None,\n",
       "                                                                                      min_samples_leaf=1,\n",
       "                                                                                      min_samples_split=2,\n",
       "                                                                                      min_weight_fraction_leaf=0.0,\n",
       "                                                                                      pre...\n",
       "                                        'base_estimator__min_samples_leaf': [1,\n",
       "                                                                             2,\n",
       "                                                                             3,\n",
       "                                                                             4,\n",
       "                                                                             5],\n",
       "                                        'base_estimator__min_samples_split': [2,\n",
       "                                                                              5,\n",
       "                                                                              10],\n",
       "                                        'learning_rate': [0.05, 0.1, 0.15, 0.2,\n",
       "                                                          0.25, 0.3, 0.35, 0.4,\n",
       "                                                          0.45, 0.5, 0.55, 0.6,\n",
       "                                                          0.65, 0.7, 0.75, 0.8,\n",
       "                                                          0.85, 0.9, 0.95,\n",
       "                                                          1.0],\n",
       "                                        'n_estimators': [30, 43, 56, 70, 83, 96,\n",
       "                                                         110, 123, 136, 150]},\n",
       "                   pre_dispatch='2*n_jobs', random_state=32, refit=True,\n",
       "                   return_train_score=False, scoring=None, verbose=2)"
      ]
     },
     "execution_count": 12,
     "metadata": {},
     "output_type": "execute_result"
    }
   ],
   "source": [
    "ada_random.fit(X_train,y_train)"
   ]
  },
  {
   "cell_type": "markdown",
   "metadata": {},
   "source": [
    "- A continuación observamos la mejor configuración de hiperparametros encontrada, para un mayor *score* obtenido para un *cross val* de 5."
   ]
  },
  {
   "cell_type": "code",
   "execution_count": 13,
   "metadata": {},
   "outputs": [
    {
     "data": {
      "text/plain": [
       "{'n_estimators': 43,\n",
       " 'learning_rate': 0.05,\n",
       " 'base_estimator__min_samples_split': 2,\n",
       " 'base_estimator__min_samples_leaf': 4,\n",
       " 'base_estimator__max_leaf_nodes': 70,\n",
       " 'base_estimator__max_features': 4,\n",
       " 'base_estimator__max_depth': 110,\n",
       " 'algorithm': 'SAMME'}"
      ]
     },
     "execution_count": 13,
     "metadata": {},
     "output_type": "execute_result"
    }
   ],
   "source": [
    "ada_random.best_params_"
   ]
  },
  {
   "cell_type": "code",
   "execution_count": 14,
   "metadata": {},
   "outputs": [
    {
     "data": {
      "text/plain": [
       "0.7702986362521931"
      ]
     },
     "execution_count": 14,
     "metadata": {},
     "output_type": "execute_result"
    }
   ],
   "source": [
    "ada_random.best_score_"
   ]
  },
  {
   "cell_type": "markdown",
   "metadata": {},
   "source": [
    "Como se puede observar hemos mejorado el *score* un 0.15 con esta nueva configuración con respecto al modelo que usaba la configuración por defecto."
   ]
  },
  {
   "cell_type": "markdown",
   "metadata": {},
   "source": [
    "- A continuación se muestra como en el caso anterior de *random forest*, la importancia que le ha dado el modelo a cada una de las características respecto de las otras."
   ]
  },
  {
   "cell_type": "code",
   "execution_count": 16,
   "metadata": {},
   "outputs": [],
   "source": [
    "best_ada = ada_random.best_estimator_"
   ]
  },
  {
   "cell_type": "code",
   "execution_count": 17,
   "metadata": {},
   "outputs": [
    {
     "data": {
      "image/png": "[encoded data removed]",
      "text/plain": [
       "<Figure size 576x432 with 1 Axes>"
      ]
     },
     "metadata": {
      "needs_background": "light"
     },
     "output_type": "display_data"
    }
   ],
   "source": [
    "plt.barh(df_songs.loc[:,\"danceability\":\"duration_ms\"].columns, best_ada.feature_importances_);"
   ]
  },
  {
   "cell_type": "markdown",
   "metadata": {},
   "source": [
    "-  Para la configuración obtenida, entrenamos el modelo con todo el dataset de entrenamiento y vemos los resultados obtenidos."
   ]
  },
  {
   "cell_type": "code",
   "execution_count": 19,
   "metadata": {},
   "outputs": [
    {
     "data": {
      "text/plain": [
       "AdaBoostClassifier(algorithm='SAMME',\n",
       "                   base_estimator=DecisionTreeClassifier(ccp_alpha=0.0,\n",
       "                                                         class_weight=None,\n",
       "                                                         criterion='gini',\n",
       "                                                         max_depth=110,\n",
       "                                                         max_features=4,\n",
       "                                                         max_leaf_nodes=70,\n",
       "                                                         min_impurity_decrease=0.0,\n",
       "                                                         min_impurity_split=None,\n",
       "                                                         min_samples_leaf=4,\n",
       "                                                         min_samples_split=2,\n",
       "                                                         min_weight_fraction_leaf=0.0,\n",
       "                                                         presort='deprecated',\n",
       "                                                         random_state=32,\n",
       "                                                         splitter='best'),\n",
       "                   learning_rate=0.05, n_estimators=43, random_state=32)"
      ]
     },
     "execution_count": 19,
     "metadata": {},
     "output_type": "execute_result"
    }
   ],
   "source": [
    "best_ada.fit(X_train,y_train)"
   ]
  },
  {
   "cell_type": "code",
   "execution_count": 20,
   "metadata": {},
   "outputs": [
    {
     "name": "stdout",
     "output_type": "stream",
     "text": [
      "Precisión sobre el juego de pruebas: 0.7654\n",
      "Precisión sobre el juego de train: 0.7986\n"
     ]
    }
   ],
   "source": [
    "print(\"Precisión sobre el juego de pruebas: {:.4f}\"\n",
    "      .format(best_ada.score(X_test, y_test)))\n",
    "print(\"Precisión sobre el juego de train: {:.4f}\"\n",
    "      .format(best_ada.score(X_train, y_train)))"
   ]
  },
  {
   "cell_type": "markdown",
   "metadata": {},
   "source": [
    "Podemos ver como el *score* con los datos de entrenamiento, ha aumentado con respecto al modelo inicial, también hemos mejorado el resultado sobre los resultados de test, en este caso 0.1, mejorando por tanto los resultados de entrenamiento y de test."
   ]
  },
  {
   "cell_type": "markdown",
   "metadata": {},
   "source": [
    "- Guardamos nuestro modelo obtenido, para su posterior uso"
   ]
  },
  {
   "cell_type": "code",
   "execution_count": 12,
   "metadata": {},
   "outputs": [],
   "source": [
    "filename = '../Models/ada_boost_model_random_93_20.pkl'"
   ]
  },
  {
   "cell_type": "code",
   "execution_count": 32,
   "metadata": {},
   "outputs": [
    {
     "data": {
      "text/plain": [
       "['../Models/ada_boost_model_random_93_20.pkl']"
      ]
     },
     "execution_count": 32,
     "metadata": {},
     "output_type": "execute_result"
    }
   ],
   "source": [
    "joblib.dump(best_ada, filename)"
   ]
  },
  {
   "cell_type": "code",
   "execution_count": 13,
   "metadata": {},
   "outputs": [],
   "source": [
    "best_ada = joblib.load(filename) "
   ]
  },
  {
   "cell_type": "markdown",
   "metadata": {},
   "source": [
    "- Representamos la curva ROC para ver de manera visual lo bueno que es nuestro modelo obtenido"
   ]
  },
  {
   "cell_type": "code",
   "execution_count": 24,
   "metadata": {},
   "outputs": [
    {
     "data": {
      "image/png": "[encoded data removed]",
      "text/plain": [
       "<Figure size 576x432 with 1 Axes>"
      ]
     },
     "metadata": {
      "needs_background": "light"
     },
     "output_type": "display_data"
    }
   ],
   "source": [
    "probs = best_ada.predict_proba(X_test)\n",
    "preds = probs[:,1]\n",
    "fpr, tpr, threshold = metrics.roc_curve(y_test, preds)\n",
    "roc_auc = metrics.auc(fpr, tpr)\n",
    "\n",
    "plt.title('Receiver Operating Characteristic')\n",
    "plt.plot(fpr, tpr, 'b', label = 'AUC = %0.2f' % roc_auc)\n",
    "plt.legend(loc = 'lower right')\n",
    "plt.plot([0, 1], [0, 1],'r--')\n",
    "plt.xlim([0, 1])\n",
    "plt.ylim([0, 1])\n",
    "plt.ylabel('True Positive Rate')\n",
    "plt.xlabel('False Positive Rate')\n",
    "plt.show()"
   ]
  },
  {
   "cell_type": "markdown",
   "metadata": {},
   "source": [
    "- Utilizando la función definida al principio del cuaderno, podemos hacer predicciones sobre cualquier canción de interés."
   ]
  },
  {
   "cell_type": "code",
   "execution_count": 14,
   "metadata": {},
   "outputs": [
    {
     "name": "stdout",
     "output_type": "stream",
     "text": [
      "Artista: "
     ]
    },
    {
     "name": "stdin",
     "output_type": "stream",
     "text": [
      " billie eilish\n"
     ]
    },
    {
     "name": "stdout",
     "output_type": "stream",
     "text": [
      "Titulo: "
     ]
    },
    {
     "name": "stdin",
     "output_type": "stream",
     "text": [
      " bad guy\n"
     ]
    },
    {
     "name": "stdout",
     "output_type": "stream",
     "text": [
      "Canción elegida: bad guy de Billie Eilish\n",
      "porcentaje de ser hit: 30.477130731039416\n"
     ]
    }
   ],
   "source": [
    "score = best_ada.predict_proba(find_song())\n",
    "print('porcentaje de ser hit:', score[0][1]*100)"
   ]
  },
  {
   "cell_type": "markdown",
   "metadata": {},
   "source": [
    "## Gradient Boosting\n",
    "- La siguiente técnica que utilizaremos será GradientBoosting, y para ello lo haremos usando la implementación de LightGBM."
   ]
  },
  {
   "cell_type": "code",
   "execution_count": 37,
   "metadata": {},
   "outputs": [],
   "source": [
    "import lightgbm as lgb"
   ]
  },
  {
   "cell_type": "code",
   "execution_count": 8,
   "metadata": {},
   "outputs": [],
   "source": [
    "lgb_clf =lgb.LGBMClassifier()"
   ]
  },
  {
   "cell_type": "code",
   "execution_count": 9,
   "metadata": {},
   "outputs": [
    {
     "name": "stdout",
     "output_type": "stream",
     "text": [
      "Wall time: 1 s\n"
     ]
    },
    {
     "data": {
      "text/plain": [
       "0.7638474266676432"
      ]
     },
     "execution_count": 9,
     "metadata": {},
     "output_type": "execute_result"
    }
   ],
   "source": [
    "%%time\n",
    "cross_val_score(lgb_clf, X_train,y_train, cv=5).mean()"
   ]
  },
  {
   "cell_type": "code",
   "execution_count": 10,
   "metadata": {},
   "outputs": [
    {
     "data": {
      "text/plain": [
       "LGBMClassifier(boosting_type='gbdt', class_weight=None, colsample_bytree=1.0,\n",
       "               importance_type='split', learning_rate=0.1, max_depth=-1,\n",
       "               min_child_samples=20, min_child_weight=0.001, min_split_gain=0.0,\n",
       "               n_estimators=100, n_jobs=-1, num_leaves=31, objective=None,\n",
       "               random_state=None, reg_alpha=0.0, reg_lambda=0.0, silent=True,\n",
       "               subsample=1.0, subsample_for_bin=200000, subsample_freq=0)"
      ]
     },
     "execution_count": 10,
     "metadata": {},
     "output_type": "execute_result"
    }
   ],
   "source": [
    "lgb_clf.fit(X_train,y_train)"
   ]
  },
  {
   "cell_type": "code",
   "execution_count": 11,
   "metadata": {},
   "outputs": [
    {
     "name": "stdout",
     "output_type": "stream",
     "text": [
      "Precisión sobre el juego de pruebas: 0.7690\n",
      "Precisión sobre el juego de train: 0.8361\n"
     ]
    }
   ],
   "source": [
    "print(\"Precisión sobre el juego de pruebas: {:.4f}\"\n",
    "      .format(lgb_clf.score(X_test, y_test)))\n",
    "print(\"Precisión sobre el juego de train: {:.4f}\"\n",
    "      .format(lgb_clf.score(X_train, y_train)))"
   ]
  },
  {
   "cell_type": "markdown",
   "metadata": {},
   "source": [
    "Como se puede observar, por defecto ya somos capaces de obtener un buen *score* si lo comparamos con los modelos previamente probados"
   ]
  },
  {
   "cell_type": "code",
   "execution_count": 12,
   "metadata": {},
   "outputs": [],
   "source": [
    "param_range = [60,90,100,150,200,250,300]\n",
    "train_score, test_score= validation_curve(\n",
    "                                lgb_clf,\n",
    "                                X = X_train, y = y_train, \n",
    "                                param_name = 'n_estimators', \n",
    "                               param_range=param_range,\n",
    "                                scoring=\"accuracy\")"
   ]
  },
  {
   "cell_type": "code",
   "execution_count": 13,
   "metadata": {},
   "outputs": [
    {
     "name": "stdout",
     "output_type": "stream",
     "text": [
      "Numero de estimadores para un Cross_val 5 (test) y para todo dataset de entrenamiento (train)\n",
      "n_estimators 60 en test: 0.765476494481433 en train : 0.822722498072024\n",
      "n_estimators 90 en test: 0.7635215239502304 en train: 0.8429720644449471\n",
      "n_estimators 100 en test: 0.7638474266676432 en train: 0.8491463425994821\n",
      "n_estimators 150 en test: 0.7633262540292066 en train: 0.8802619308456345\n",
      "n_estimators 200 en test: 0.7600677999921459 en train: 0.906148219259282\n",
      "n_estimators 250 en test: 0.7597421095477206 en train: 0.9284178469871887\n",
      "n_estimators 300 en test: 0.7585040485765504 en train: 0.9459631271873938\n"
     ]
    }
   ],
   "source": [
    "print(\"Numero de estimadores para un Cross_val 5 (test) y para todo dataset de entrenamiento (train)\")\n",
    "print ('n_estimators 60 en test:',test_score[0].mean(),'en train :',train_score[0].mean())\n",
    "print ('n_estimators 90 en test:',test_score[1].mean(),'en train:',train_score[1].mean())\n",
    "print ('n_estimators 100 en test:',test_score[2].mean(),'en train:',train_score[2].mean())\n",
    "print ('n_estimators 150 en test:',test_score[3].mean(),'en train:',train_score[3].mean())\n",
    "print ('n_estimators 200 en test:',test_score[4].mean(),'en train:',train_score[4].mean())\n",
    "print ('n_estimators 250 en test:',test_score[5].mean(),'en train:',train_score[5].mean())\n",
    "print ('n_estimators 300 en test:',test_score[6].mean(),'en train:',train_score[6].mean())"
   ]
  },
  {
   "cell_type": "markdown",
   "metadata": {},
   "source": [
    "- Definimos grid de parámetros sobre los que entrenar el modelo en busca del mejor resultado."
   ]
  },
  {
   "cell_type": "code",
   "execution_count": 14,
   "metadata": {},
   "outputs": [
    {
     "name": "stdout",
     "output_type": "stream",
     "text": [
      "{'boosting_type': ['gbdt', 'dart'], 'num_leaves': [30, 40, 50, 60, 70, 80, 90, 100, 110], 'max_depth': [10, 20, 30, 40, 50, 60, 70, 80, 90, 100, 110, None], 'learning_rate': [0.005, 0.1, 0.2, 0.3, 0.4, 0.5, 0.6, 0.7, 0.8, 0.9, 1.0], 'n_estimators': [30, 45, 60, 75, 90, 105, 120, 135, 150], 'subsample_for_bin': [20000, 40000, 60000, 80000, 100000, 120000, 140000, 160000, 180000, 200000, 220000, 240000, 260000, 280000], 'min_split_gain': [0.0, 0.2, 0.4, 0.6, 0.8], 'min_child_samples': [1, 5, 9, 14, 18, 22, 27, 31, 35, 40], 'reg_alpha': [0.0, 0.1, 0.2, 0.3, 0.4, 0.5, 0.6, 0.7, 0.8, 0.9, 1.0], 'reg_lambda': [0.0, 0.1, 0.2, 0.3, 0.4, 0.5, 0.6, 0.7, 0.8, 0.9, 1.0]}\n"
     ]
    }
   ],
   "source": [
    "boosting_type = ['gbdt','dart']\n",
    "#Numero de Hojas máximas por árboles\n",
    "num_leaves = [int(x) for x in np.linspace(30, 110, num = 9)]\n",
    "# Profundidad de arbol\n",
    "max_depth = [int(x) for x in np.linspace(10, 110, num = 11)]\n",
    "max_depth.append(None)\n",
    "#Learning rate\n",
    "learning_rate = [round (float(x), 2) for x in np.linspace(0.1, 1., num = 10)]\n",
    "learning_rate.append(0.005)\n",
    "learning_rate = sorted(learning_rate)\n",
    "# Numero de arboles del bosque\n",
    "n_estimators = [int(x) for x in np.linspace(start = 30, stop = 150, num = 9)]\n",
    "# Número de muestras para la construcción de contenedores\n",
    "subsample_for_bin =  list(range(20000, 300000, 20000))\n",
    "# Reducción mínima de pérdidas para realizar una nueva partición en un nodo del árbol.\n",
    "min_split_gain =  [0.0,0.2,0.4,0.6,0.8]\n",
    "#Número mínimo de datos necesarios en una hoja\n",
    "min_child_samples = [int(x) for x in np.linspace(1, 40, num = 10)]\n",
    "# reg_alpha\n",
    "reg_alpha = [round (float(x), 2) for x in np.linspace(0.0, 1., num = 11)]\n",
    "# reg_lambda\n",
    "reg_lambda = [round (float(x), 2)  for x in np.linspace(0.0, 1., num = 11)]\n",
    "# Creacion de cuadrícula aleatoria\n",
    "param_grid = {'boosting_type':boosting_type,\n",
    "              'num_leaves': num_leaves,\n",
    "              'max_depth': max_depth,\n",
    "              'learning_rate': learning_rate,\n",
    "              'n_estimators': n_estimators,\n",
    "              'subsample_for_bin': subsample_for_bin,\n",
    "              'min_split_gain': min_split_gain,\n",
    "              'min_child_samples':min_child_samples,\n",
    "              'reg_alpha':reg_alpha,\n",
    "              'reg_lambda':reg_lambda}\n",
    "print(param_grid)"
   ]
  },
  {
   "cell_type": "markdown",
   "metadata": {},
   "source": [
    "- Lanzamos búsqueda aleatoria."
   ]
  },
  {
   "cell_type": "code",
   "execution_count": 15,
   "metadata": {},
   "outputs": [],
   "source": [
    "lgb_clf = lgb.LGBMClassifier(random_state=32)"
   ]
  },
  {
   "cell_type": "code",
   "execution_count": 18,
   "metadata": {},
   "outputs": [],
   "source": [
    "light_gbm_random = RandomizedSearchCV(estimator = lgb_clf, param_distributions = param_grid, n_iter = 40000, cv = 5, verbose=2, random_state=42, n_jobs = -1)"
   ]
  },
  {
   "cell_type": "code",
   "execution_count": 19,
   "metadata": {},
   "outputs": [
    {
     "name": "stdout",
     "output_type": "stream",
     "text": [
      "Fitting 5 folds for each of 40000 candidates, totalling 200000 fits\n"
     ]
    },
    {
     "name": "stderr",
     "output_type": "stream",
     "text": [
      "[Parallel(n_jobs=-1)]: Using backend LokyBackend with 8 concurrent workers.\n",
      "[Parallel(n_jobs=-1)]: Done  25 tasks      | elapsed:    6.1s\n",
      "[Parallel(n_jobs=-1)]: Done 146 tasks      | elapsed:   23.9s\n",
      "[Parallel(n_jobs=-1)]: Done 349 tasks      | elapsed:   56.4s\n",
      "[Parallel(n_jobs=-1)]: Done 632 tasks      | elapsed:  1.8min\n",
      "[Parallel(n_jobs=-1)]: Done 997 tasks      | elapsed:  2.7min\n",
      "[Parallel(n_jobs=-1)]: Done 1442 tasks      | elapsed:  4.1min\n",
      "[Parallel(n_jobs=-1)]: Done 1969 tasks      | elapsed:  5.7min\n",
      "[Parallel(n_jobs=-1)]: Done 2576 tasks      | elapsed:  7.4min\n",
      "[Parallel(n_jobs=-1)]: Done 3265 tasks      | elapsed:  9.1min\n",
      "[Parallel(n_jobs=-1)]: Done 4034 tasks      | elapsed: 11.4min\n",
      "[Parallel(n_jobs=-1)]: Done 4885 tasks      | elapsed: 13.8min\n",
      "[Parallel(n_jobs=-1)]: Done 5816 tasks      | elapsed: 16.5min\n",
      "[Parallel(n_jobs=-1)]: Done 6829 tasks      | elapsed: 19.3min\n",
      "[Parallel(n_jobs=-1)]: Done 7922 tasks      | elapsed: 22.6min\n",
      "[Parallel(n_jobs=-1)]: Done 9097 tasks      | elapsed: 26.1min\n",
      "[Parallel(n_jobs=-1)]: Done 10352 tasks      | elapsed: 29.7min\n",
      "[Parallel(n_jobs=-1)]: Done 11689 tasks      | elapsed: 33.4min\n",
      "[Parallel(n_jobs=-1)]: Done 13106 tasks      | elapsed: 37.1min\n",
      "[Parallel(n_jobs=-1)]: Done 14605 tasks      | elapsed: 41.4min\n",
      "[Parallel(n_jobs=-1)]: Done 16184 tasks      | elapsed: 45.8min\n",
      "[Parallel(n_jobs=-1)]: Done 17845 tasks      | elapsed: 50.8min\n",
      "[Parallel(n_jobs=-1)]: Done 19586 tasks      | elapsed: 55.9min\n",
      "[Parallel(n_jobs=-1)]: Done 21409 tasks      | elapsed: 61.1min\n",
      "[Parallel(n_jobs=-1)]: Done 23312 tasks      | elapsed: 67.0min\n",
      "[Parallel(n_jobs=-1)]: Done 25297 tasks      | elapsed: 72.9min\n",
      "[Parallel(n_jobs=-1)]: Done 27362 tasks      | elapsed: 78.9min\n",
      "[Parallel(n_jobs=-1)]: Done 29509 tasks      | elapsed: 85.0min\n",
      "[Parallel(n_jobs=-1)]: Done 31736 tasks      | elapsed: 91.6min\n",
      "[Parallel(n_jobs=-1)]: Done 34045 tasks      | elapsed: 98.4min\n",
      "[Parallel(n_jobs=-1)]: Done 36434 tasks      | elapsed: 105.0min\n",
      "[Parallel(n_jobs=-1)]: Done 38905 tasks      | elapsed: 111.8min\n",
      "[Parallel(n_jobs=-1)]: Done 41456 tasks      | elapsed: 119.5min\n",
      "[Parallel(n_jobs=-1)]: Done 44089 tasks      | elapsed: 127.1min\n",
      "[Parallel(n_jobs=-1)]: Done 46802 tasks      | elapsed: 135.1min\n",
      "[Parallel(n_jobs=-1)]: Done 49597 tasks      | elapsed: 142.9min\n",
      "[Parallel(n_jobs=-1)]: Done 52472 tasks      | elapsed: 151.0min\n",
      "[Parallel(n_jobs=-1)]: Done 55429 tasks      | elapsed: 159.6min\n",
      "[Parallel(n_jobs=-1)]: Done 58466 tasks      | elapsed: 168.4min\n",
      "[Parallel(n_jobs=-1)]: Done 61585 tasks      | elapsed: 177.6min\n",
      "[Parallel(n_jobs=-1)]: Done 64784 tasks      | elapsed: 186.4min\n",
      "[Parallel(n_jobs=-1)]: Done 68065 tasks      | elapsed: 196.2min\n",
      "[Parallel(n_jobs=-1)]: Done 71426 tasks      | elapsed: 205.3min\n",
      "[Parallel(n_jobs=-1)]: Done 74869 tasks      | elapsed: 215.4min\n",
      "[Parallel(n_jobs=-1)]: Done 78392 tasks      | elapsed: 226.0min\n",
      "[Parallel(n_jobs=-1)]: Done 81997 tasks      | elapsed: 236.4min\n",
      "[Parallel(n_jobs=-1)]: Done 85682 tasks      | elapsed: 247.1min\n",
      "[Parallel(n_jobs=-1)]: Done 89449 tasks      | elapsed: 258.3min\n",
      "[Parallel(n_jobs=-1)]: Done 93296 tasks      | elapsed: 269.6min\n",
      "[Parallel(n_jobs=-1)]: Done 97225 tasks      | elapsed: 280.8min\n",
      "[Parallel(n_jobs=-1)]: Done 101234 tasks      | elapsed: 292.1min\n",
      "[Parallel(n_jobs=-1)]: Done 105325 tasks      | elapsed: 303.8min\n",
      "[Parallel(n_jobs=-1)]: Done 109496 tasks      | elapsed: 315.8min\n",
      "[Parallel(n_jobs=-1)]: Done 113749 tasks      | elapsed: 328.4min\n",
      "[Parallel(n_jobs=-1)]: Done 118082 tasks      | elapsed: 340.9min\n",
      "[Parallel(n_jobs=-1)]: Done 122497 tasks      | elapsed: 353.7min\n",
      "[Parallel(n_jobs=-1)]: Done 126992 tasks      | elapsed: 366.4min\n",
      "[Parallel(n_jobs=-1)]: Done 131569 tasks      | elapsed: 379.5min\n",
      "[Parallel(n_jobs=-1)]: Done 136226 tasks      | elapsed: 392.6min\n",
      "[Parallel(n_jobs=-1)]: Done 140965 tasks      | elapsed: 406.2min\n",
      "[Parallel(n_jobs=-1)]: Done 145784 tasks      | elapsed: 420.0min\n",
      "[Parallel(n_jobs=-1)]: Done 150685 tasks      | elapsed: 434.1min\n",
      "[Parallel(n_jobs=-1)]: Done 155666 tasks      | elapsed: 448.0min\n",
      "[Parallel(n_jobs=-1)]: Done 160729 tasks      | elapsed: 463.3min\n",
      "[Parallel(n_jobs=-1)]: Done 165872 tasks      | elapsed: 478.5min\n",
      "[Parallel(n_jobs=-1)]: Done 171097 tasks      | elapsed: 493.5min\n",
      "[Parallel(n_jobs=-1)]: Done 176402 tasks      | elapsed: 508.8min\n",
      "[Parallel(n_jobs=-1)]: Done 181789 tasks      | elapsed: 524.7min\n",
      "[Parallel(n_jobs=-1)]: Done 187256 tasks      | elapsed: 540.8min\n",
      "[Parallel(n_jobs=-1)]: Done 192805 tasks      | elapsed: 556.9min\n",
      "[Parallel(n_jobs=-1)]: Done 198434 tasks      | elapsed: 573.1min\n",
      "[Parallel(n_jobs=-1)]: Done 200000 out of 200000 | elapsed: 577.7min finished\n"
     ]
    },
    {
     "data": {
      "text/plain": [
       "RandomizedSearchCV(cv=5, error_score=nan,\n",
       "                   estimator=LGBMClassifier(boosting_type='gbdt',\n",
       "                                            class_weight=None,\n",
       "                                            colsample_bytree=1.0,\n",
       "                                            importance_type='split',\n",
       "                                            learning_rate=0.1, max_depth=-1,\n",
       "                                            min_child_samples=20,\n",
       "                                            min_child_weight=0.001,\n",
       "                                            min_split_gain=0.0,\n",
       "                                            n_estimators=100, n_jobs=-1,\n",
       "                                            num_leaves=31, objective=None,\n",
       "                                            random_state=32, reg_alpha=0.0,\n",
       "                                            reg_lambda=0.0, silent...\n",
       "                                        'num_leaves': [30, 40, 50, 60, 70, 80,\n",
       "                                                       90, 100, 110],\n",
       "                                        'reg_alpha': [0.0, 0.1, 0.2, 0.3, 0.4,\n",
       "                                                      0.5, 0.6, 0.7, 0.8, 0.9,\n",
       "                                                      1.0],\n",
       "                                        'reg_lambda': [0.0, 0.1, 0.2, 0.3, 0.4,\n",
       "                                                       0.5, 0.6, 0.7, 0.8, 0.9,\n",
       "                                                       1.0],\n",
       "                                        'subsample_for_bin': [20000, 40000,\n",
       "                                                              60000, 80000,\n",
       "                                                              100000, 120000,\n",
       "                                                              140000, 160000,\n",
       "                                                              180000, 200000,\n",
       "                                                              220000, 240000,\n",
       "                                                              260000, 280000]},\n",
       "                   pre_dispatch='2*n_jobs', random_state=42, refit=True,\n",
       "                   return_train_score=False, scoring=None, verbose=2)"
      ]
     },
     "execution_count": 19,
     "metadata": {},
     "output_type": "execute_result"
    }
   ],
   "source": [
    "light_gbm_random.fit(X_train, y_train)"
   ]
  },
  {
   "cell_type": "markdown",
   "metadata": {},
   "source": [
    "- Tras la búsqueda de hiperparametros, a continuación se muestra la mejor combinación encontrada, con el *score* obtenido."
   ]
  },
  {
   "cell_type": "code",
   "execution_count": 20,
   "metadata": {},
   "outputs": [
    {
     "data": {
      "text/plain": [
       "{'subsample_for_bin': 120000,\n",
       " 'reg_lambda': 0.7,\n",
       " 'reg_alpha': 0.9,\n",
       " 'num_leaves': 40,\n",
       " 'n_estimators': 150,\n",
       " 'min_split_gain': 0.2,\n",
       " 'min_child_samples': 35,\n",
       " 'max_depth': 100,\n",
       " 'learning_rate': 0.1,\n",
       " 'boosting_type': 'dart'}"
      ]
     },
     "execution_count": 20,
     "metadata": {},
     "output_type": "execute_result"
    }
   ],
   "source": [
    "light_gbm_random.best_params_"
   ]
  },
  {
   "cell_type": "code",
   "execution_count": 21,
   "metadata": {},
   "outputs": [
    {
     "data": {
      "text/plain": [
       "0.7703635068771141"
      ]
     },
     "execution_count": 21,
     "metadata": {},
     "output_type": "execute_result"
    }
   ],
   "source": [
    "light_gbm_random.best_score_"
   ]
  },
  {
   "cell_type": "markdown",
   "metadata": {},
   "source": [
    "Podemos observar que respecto a la configuración por defecto hemos conseguido una mejora de 0.07."
   ]
  },
  {
   "cell_type": "markdown",
   "metadata": {},
   "source": [
    "- A continuación se muestra la importancia que le ha dado el modelo a cada una de las características respecto de las otras."
   ]
  },
  {
   "cell_type": "code",
   "execution_count": 22,
   "metadata": {},
   "outputs": [],
   "source": [
    "best_light_gbm = light_gbm_random.best_estimator_"
   ]
  },
  {
   "cell_type": "code",
   "execution_count": 17,
   "metadata": {},
   "outputs": [
    {
     "data": {
      "image/png": "[encoded data removed]",
      "text/plain": [
       "<Figure size 576x432 with 1 Axes>"
      ]
     },
     "metadata": {
      "needs_background": "light"
     },
     "output_type": "display_data"
    }
   ],
   "source": [
    "plt.barh(df_songs.loc[:,\"danceability\":\"duration_ms\"].columns, best_light_gbm.feature_importances_);"
   ]
  },
  {
   "cell_type": "markdown",
   "metadata": {},
   "source": [
    "-  Para la configuración obtenida, entrenamos el modelo con todo el dataset de entrenamiento y vemos los resultados obtenidos."
   ]
  },
  {
   "cell_type": "code",
   "execution_count": 18,
   "metadata": {},
   "outputs": [
    {
     "data": {
      "text/plain": [
       "LGBMClassifier(boosting_type='dart', class_weight=None, colsample_bytree=1.0,\n",
       "               importance_type='split', learning_rate=0.1, max_depth=100,\n",
       "               min_child_samples=35, min_child_weight=0.001, min_split_gain=0.2,\n",
       "               n_estimators=150, n_jobs=-1, num_leaves=40, objective=None,\n",
       "               random_state=32, reg_alpha=0.9, reg_lambda=0.7, silent=True,\n",
       "               subsample=1.0, subsample_for_bin=120000, subsample_freq=0)"
      ]
     },
     "execution_count": 18,
     "metadata": {},
     "output_type": "execute_result"
    }
   ],
   "source": [
    "best_light_gbm.fit(X_train,y_train)"
   ]
  },
  {
   "cell_type": "code",
   "execution_count": 20,
   "metadata": {},
   "outputs": [
    {
     "name": "stdout",
     "output_type": "stream",
     "text": [
      "Precisión sobre el juego de pruebas: 0.7645\n",
      "Precisión sobre el juego de train: 0.8139\n"
     ]
    }
   ],
   "source": [
    "print(\"Precisión sobre el juego de pruebas: {:.4f}\"\n",
    "      .format(best_light_gbm.score(X_test, y_test)))\n",
    "print(\"Precisión sobre el juego de train: {:.4f}\"\n",
    "      .format(best_light_gbm.score(X_train, y_train)))"
   ]
  },
  {
   "cell_type": "markdown",
   "metadata": {},
   "source": [
    "Para la configuración nueva hemos obtenido peores resultados globales tanto en test como en entrenamiento. Ya que hemos mejorado un 0.007 en *cross validation*, tomaremos la nueva configuración por lo que comentábamos, este modelo será más generalizable que el de por defecto y no tendera al sobreentrenamiento que lo que le permitirá ser un mejor clasificador."
   ]
  },
  {
   "cell_type": "markdown",
   "metadata": {},
   "source": [
    "- Guardamos nuestro modelo obtenido, para su posterior uso"
   ]
  },
  {
   "cell_type": "code",
   "execution_count": 15,
   "metadata": {},
   "outputs": [],
   "source": [
    "filename = '../Models/light_gbm_model_random_93_20.pkl'"
   ]
  },
  {
   "cell_type": "code",
   "execution_count": 25,
   "metadata": {},
   "outputs": [
    {
     "data": {
      "text/plain": [
       "['../Models/light_gbm_model_random_93_20.pkl']"
      ]
     },
     "execution_count": 25,
     "metadata": {},
     "output_type": "execute_result"
    }
   ],
   "source": [
    "joblib.dump(best_light_gbm, filename)"
   ]
  },
  {
   "cell_type": "code",
   "execution_count": 16,
   "metadata": {},
   "outputs": [],
   "source": [
    "best_light_gbm = joblib.load(filename) "
   ]
  },
  {
   "cell_type": "markdown",
   "metadata": {},
   "source": [
    "- Representamos la curva ROC para ver de manera visual lo bueno que es nuestro modelo obtenido"
   ]
  },
  {
   "cell_type": "code",
   "execution_count": 21,
   "metadata": {},
   "outputs": [
    {
     "data": {
      "image/png": "[encoded data removed]",
      "text/plain": [
       "<Figure size 576x432 with 1 Axes>"
      ]
     },
     "metadata": {
      "needs_background": "light"
     },
     "output_type": "display_data"
    }
   ],
   "source": [
    "probs = best_light_gbm.predict_proba(X_test)\n",
    "preds = probs[:,1]\n",
    "fpr, tpr, threshold = metrics.roc_curve(y_test, preds)\n",
    "roc_auc = metrics.auc(fpr, tpr)\n",
    "\n",
    "plt.title('Receiver Operating Characteristic')\n",
    "plt.plot(fpr, tpr, 'b', label = 'AUC = %0.2f' % roc_auc)\n",
    "plt.legend(loc = 'lower right')\n",
    "plt.plot([0, 1], [0, 1],'r--')\n",
    "plt.xlim([0, 1])\n",
    "plt.ylim([0, 1])\n",
    "plt.ylabel('True Positive Rate')\n",
    "plt.xlabel('False Positive Rate')\n",
    "plt.show()"
   ]
  },
  {
   "cell_type": "markdown",
   "metadata": {},
   "source": [
    "- Utilizando la función definida al principio del cuaderno, podemos hacer predicciones sobre cualquier canción de interés."
   ]
  },
  {
   "cell_type": "code",
   "execution_count": 23,
   "metadata": {},
   "outputs": [
    {
     "name": "stdout",
     "output_type": "stream",
     "text": [
      "Artista: "
     ]
    },
    {
     "name": "stdin",
     "output_type": "stream",
     "text": [
      " billie eilish\n"
     ]
    },
    {
     "name": "stdout",
     "output_type": "stream",
     "text": [
      "Titulo: "
     ]
    },
    {
     "name": "stdin",
     "output_type": "stream",
     "text": [
      " bad guy\n"
     ]
    },
    {
     "name": "stdout",
     "output_type": "stream",
     "text": [
      "Canción elegida: bad guy de Billie Eilish\n",
      "porcentaje de ser hit: 23.515944903992146\n"
     ]
    }
   ],
   "source": [
    "score = best_light_gbm.predict_proba(find_song())\n",
    "print('porcentaje de ser hit:', score[0][1]*100)"
   ]
  },
  {
   "cell_type": "markdown",
   "metadata": {},
   "source": [
    "## Conclusiones"
   ]
  },
  {
   "cell_type": "markdown",
   "metadata": {},
   "source": [
    "Tras ver los resultados obtenidos para estos tres modelos, podemos observar que el que mejor resultado obtiene en la clasificación para los datos de test es *random forest* con un 0.7662 seguido de Ada Boost con un 0.7654 y por último light gbm con un 0.7645. Hemos conseguido resultados muy parecidos otra vez. En el cuaderno 4_model_testing podremos a prueba estos modelos, con canciones actuales y analizaremos cuál es capaz de predecir mejor para canciones actuales."
   ]
  },
  {
   "cell_type": "markdown",
   "metadata": {},
   "source": [
    "# Año como feature"
   ]
  },
  {
   "cell_type": "markdown",
   "metadata": {},
   "source": [
    "Como en el cuaderno 2_looking_predictive_model, realizaremos la inclusión del año como característica para ver el comportamiento de los modelos con este nuevo *feature*"
   ]
  },
  {
   "cell_type": "markdown",
   "metadata": {},
   "source": [
    "- Primero definimos una función para poder hacer predicciones"
   ]
  },
  {
   "cell_type": "code",
   "execution_count": 28,
   "metadata": {},
   "outputs": [],
   "source": [
    "def find_song_year():\n",
    "    print(\"Artista: \", end=\"\")\n",
    "    artist = input()\n",
    "    print(\"Titulo: \", end=\"\")\n",
    "    title = input()\n",
    "    Searched = str (title + \" \" + artist)\n",
    "    track = sp.search(Searched)\n",
    "    try:\n",
    "        id_track = track[\"tracks\"][\"items\"][0][\"uri\"]\n",
    "        track = sp.track(id_track)\n",
    "        get_year = lambda date: parse(date, fuzzy=True).year\n",
    "        year_realease = get_year(track[\"album\"][\"release_date\"])\n",
    "        track_feat = sp.audio_features(id_track)\n",
    "        song = [[year_realease, track_feat[0][\"danceability\"], track_feat[0][\"energy\"],\n",
    "                 track_feat[0][\"key\"],track_feat[0][\"loudness\"], track_feat[0][\"mode\"],\n",
    "                 track_feat[0][\"speechiness\"],track_feat[0][\"acousticness\"],\n",
    "                 track_feat[0][\"instrumentalness\"], track_feat[0][\"liveness\"],track_feat[0][\"valence\"],\n",
    "                 track_feat[0][\"tempo\"],track_feat[0][\"time_signature\"],track[\"duration_ms\"]]]\n",
    "        \n",
    "        print (\"Canción elegida:\",track[\"name\"], \"de\", track[\"artists\"][0][\"name\"] )\n",
    "        return song\n",
    "    except:\n",
    "        print (\"ERROR: Titulo no encontrado\")"
   ]
  },
  {
   "cell_type": "markdown",
   "metadata": {},
   "source": [
    "- Obtenemos el año del dataset para añadirlo como feature, para los *hits* tomaremos el año en el que han sido *hit* y para los no *hits* tomaremos el año de lanzamiento de la canción."
   ]
  },
  {
   "cell_type": "code",
   "execution_count": 29,
   "metadata": {},
   "outputs": [],
   "source": [
    "from dateutil.parser import parse"
   ]
  },
  {
   "cell_type": "code",
   "execution_count": 30,
   "metadata": {},
   "outputs": [],
   "source": [
    "df_songs_year = pd.DataFrame.copy(df_songs)\n",
    "get_year = lambda date: parse(date, fuzzy=True).year\n",
    "df_songs_year.insert (12, \"year\", 0)\n",
    "for i, item in df_songs_year.iterrows():\n",
    "    if item['target']==0:\n",
    "        year = get_year(item['release_date'])\n",
    "    else:\n",
    "        year = item['year_chart']\n",
    "    df_songs_year.loc[i,'year'] = year"
   ]
  },
  {
   "cell_type": "code",
   "execution_count": 31,
   "metadata": {},
   "outputs": [],
   "source": [
    "X = df_songs_year.loc[:,\"year\":\"duration_ms\"]\n",
    "y = df_songs_year.iloc[:,-1]\n",
    "X_train, X_test, y_train, y_test = train_test_split(X, y, random_state=0)"
   ]
  },
  {
   "cell_type": "markdown",
   "metadata": {},
   "source": [
    "### Random Forest"
   ]
  },
  {
   "cell_type": "markdown",
   "metadata": {},
   "source": [
    "El proceso llevado a cabo será igual que en los casos anteriores."
   ]
  },
  {
   "cell_type": "code",
   "execution_count": 38,
   "metadata": {},
   "outputs": [],
   "source": [
    "forest = RandomForestClassifier ()"
   ]
  },
  {
   "cell_type": "code",
   "execution_count": 39,
   "metadata": {},
   "outputs": [
    {
     "name": "stdout",
     "output_type": "stream",
     "text": [
      "Wall time: 9.96 s\n"
     ]
    },
    {
     "data": {
      "text/plain": [
       "0.815456593888873"
      ]
     },
     "execution_count": 39,
     "metadata": {},
     "output_type": "execute_result"
    }
   ],
   "source": [
    "%%time\n",
    "cross_val_score(forest,X_train,y_train,cv=5).mean()"
   ]
  },
  {
   "cell_type": "markdown",
   "metadata": {},
   "source": [
    "Podemos observar como ya se pudo ver en el cuaderno anterior, una importante mejora en el acierto en el modelo al incluir esta característica."
   ]
  },
  {
   "cell_type": "code",
   "execution_count": 40,
   "metadata": {},
   "outputs": [
    {
     "data": {
      "text/plain": [
       "RandomForestClassifier(bootstrap=True, ccp_alpha=0.0, class_weight=None,\n",
       "                       criterion='gini', max_depth=None, max_features='auto',\n",
       "                       max_leaf_nodes=None, max_samples=None,\n",
       "                       min_impurity_decrease=0.0, min_impurity_split=None,\n",
       "                       min_samples_leaf=1, min_samples_split=2,\n",
       "                       min_weight_fraction_leaf=0.0, n_estimators=100,\n",
       "                       n_jobs=None, oob_score=False, random_state=None,\n",
       "                       verbose=0, warm_start=False)"
      ]
     },
     "execution_count": 40,
     "metadata": {},
     "output_type": "execute_result"
    }
   ],
   "source": [
    "forest.fit(X_train,y_train)"
   ]
  },
  {
   "cell_type": "code",
   "execution_count": 42,
   "metadata": {},
   "outputs": [
    {
     "name": "stdout",
     "output_type": "stream",
     "text": [
      "Precisión sobre datos de pruebas: 0.8122\n",
      "Precisión sobre datos de train: 0.9999\n"
     ]
    }
   ],
   "source": [
    "print(\"Precisión sobre datos de pruebas: {:.4f}\"\n",
    "      .format(forest.score(X_test, y_test)))\n",
    "print(\"Precisión sobre datos de train: {:.4f}\"\n",
    "      .format(forest.score(X_train, y_train)))"
   ]
  },
  {
   "cell_type": "markdown",
   "metadata": {},
   "source": [
    "Podemos ver como obtenemos un *score* que supera al del mejor *random forest* obtenido previamente, por 0.04 con la configuración por defecto."
   ]
  },
  {
   "cell_type": "code",
   "execution_count": 16,
   "metadata": {},
   "outputs": [],
   "source": [
    "param_range = [30,40,50,60,90,100,130,150,200,300]\n",
    "train_score, test_score= validation_curve(\n",
    "                                forest,\n",
    "                                X = X_train, y = y_train, \n",
    "                                param_name = 'n_estimators', \n",
    "                               param_range=param_range,\n",
    "                                scoring=\"accuracy\")"
   ]
  },
  {
   "cell_type": "code",
   "execution_count": 17,
   "metadata": {},
   "outputs": [
    {
     "name": "stdout",
     "output_type": "stream",
     "text": [
      "Numero de estimadores para un Cross_val 5 (test) y para todo dataset de entrenamiento (train)\n",
      "n_estimators 30 en test: 0.8037925328731255 en train: 0.999152875569963\n",
      "n_estimators 40 en test: 0.8113514253600413 en train: 0.99956014384266\n",
      "n_estimators 50 en test: 0.8106346643911003 en train: 0.999885962972721\n",
      "n_estimators 60 en test: 0.8129806629922213 en train: 0.9998208004737392\n",
      "n_estimators 90 en test: 0.8151308397625515 en train: 0.9999348348469574\n",
      "n_estimators 100 en test: 0.812328857557396 en train: 0.9999511267987332\n",
      "n_estimators 130 en test: 0.8144792466007136 en train: 0.9999511267987332\n",
      "n_estimators 150 en test: 0.8148050219543338 en train: 0.9999511267987332\n",
      "n_estimators 200 en test: 0.8150007164213321 en train: 0.9999511267987332\n",
      "n_estimators 300 en test: 0.8145447328172978 en train: 0.9999511267987332\n"
     ]
    }
   ],
   "source": [
    "print(\"Numero de estimadores para un Cross_val 5 (test) y para todo dataset de entrenamiento (train)\")\n",
    "print ('n_estimators 30 en test:',test_score[0].mean(),'en train:',train_score[0].mean())\n",
    "print ('n_estimators 40 en test:',test_score[1].mean(),'en train:',train_score[1].mean())\n",
    "print ('n_estimators 50 en test:',test_score[2].mean(),'en train:',train_score[2].mean())\n",
    "print ('n_estimators 60 en test:',test_score[3].mean(),'en train:',train_score[3].mean())\n",
    "print ('n_estimators 90 en test:',test_score[4].mean(),'en train:',train_score[4].mean())\n",
    "print ('n_estimators 100 en test:',test_score[5].mean(),'en train:',train_score[5].mean())\n",
    "print ('n_estimators 130 en test:',test_score[6].mean(),'en train:',train_score[6].mean())\n",
    "print ('n_estimators 150 en test:',test_score[7].mean(),'en train:',train_score[7].mean())\n",
    "print ('n_estimators 200 en test:',test_score[8].mean(),'en train:',train_score[8].mean())\n",
    "print ('n_estimators 300 en test:',test_score[9].mean(),'en train:',train_score[9].mean())"
   ]
  },
  {
   "cell_type": "markdown",
   "metadata": {},
   "source": [
    "Podemos observar que sucede lo mismo que cuando no incluíamos el tiempo como feature, por tanto tenderemos a no usar unos números de estimador muy altos."
   ]
  },
  {
   "cell_type": "markdown",
   "metadata": {},
   "source": [
    "- Definimos *grid* con rangos de parámetros."
   ]
  },
  {
   "cell_type": "code",
   "execution_count": 18,
   "metadata": {},
   "outputs": [
    {
     "name": "stdout",
     "output_type": "stream",
     "text": [
      "{'n_estimators': [30, 43, 56, 70, 83, 96, 110, 123, 136, 150], 'max_features': [1, 2, 3, 4, 5, 6, 7, 8, 9, 10, 11, 12, 13, 14, 'auto'], 'max_depth': [10, 20, 30, 40, 50, 60, 70, 80, 90, 100, 110, None], 'min_samples_split': [2, 5, 10], 'min_samples_leaf': [1, 2, 3, 4, 5], 'max_leaf_nodes': [10, 15, 20, 25, 30, 35, 40, 45, 50, 55, 60, 65, 70, 75, 80, 85, 90, 95, 100, None]}\n"
     ]
    }
   ],
   "source": [
    "# Numero de arboles del bosque\n",
    "n_estimators = [int(x) for x in np.linspace(start = 30, stop = 150, num = 10)]\n",
    "# Numero de caracteristicas proporcionadas a cada arbol\n",
    "max_features = [1,2,3,4,5,6,7,8,9,10,11,12,13,14]\n",
    "max_features.append('auto')\n",
    "# Profundidad de arbol\n",
    "max_depth = [int(x) for x in np.linspace(10, 110, num = 11)]\n",
    "max_depth.append(None)\n",
    "# Minimo valor para separar en subnodos\n",
    "min_samples_split = [2, 5, 10]\n",
    "# Minimo numero de muestras necesarias en hoja despues de dividir\n",
    "min_samples_leaf = [1, 2,3, 4, 5]\n",
    "# Numero maximo de nodos finales\n",
    "max_leaf_nodes = [int(x) for x in np.linspace(10, 100, num = 19)]\n",
    "max_leaf_nodes.append(None)\n",
    "# Creacion de cuadrícula aleatoria\n",
    "param_grid = {'n_estimators': n_estimators,\n",
    "               'max_features': max_features,\n",
    "               'max_depth': max_depth,\n",
    "               'min_samples_split': min_samples_split,\n",
    "               'min_samples_leaf': min_samples_leaf,\n",
    "               \"max_leaf_nodes\": max_leaf_nodes}\n",
    "print(param_grid)"
   ]
  },
  {
   "cell_type": "markdown",
   "metadata": {},
   "source": [
    "- Realizamos búsqueda aleatoria"
   ]
  },
  {
   "cell_type": "code",
   "execution_count": 19,
   "metadata": {},
   "outputs": [],
   "source": [
    "forest = RandomForestClassifier (random_state=32)"
   ]
  },
  {
   "cell_type": "code",
   "execution_count": 20,
   "metadata": {},
   "outputs": [],
   "source": [
    "forest_random = RandomizedSearchCV(estimator = forest, param_distributions = param_grid, n_iter = 3500, cv = 5, verbose=2, random_state=32, n_jobs = -1)"
   ]
  },
  {
   "cell_type": "code",
   "execution_count": 21,
   "metadata": {},
   "outputs": [
    {
     "name": "stdout",
     "output_type": "stream",
     "text": [
      "Fitting 5 folds for each of 3500 candidates, totalling 17500 fits\n"
     ]
    },
    {
     "name": "stderr",
     "output_type": "stream",
     "text": [
      "[Parallel(n_jobs=-1)]: Using backend LokyBackend with 8 concurrent workers.\n",
      "[Parallel(n_jobs=-1)]: Done  25 tasks      | elapsed:   15.4s\n",
      "[Parallel(n_jobs=-1)]: Done 146 tasks      | elapsed:  1.4min\n",
      "[Parallel(n_jobs=-1)]: Done 349 tasks      | elapsed:  3.6min\n",
      "[Parallel(n_jobs=-1)]: Done 632 tasks      | elapsed:  6.7min\n",
      "[Parallel(n_jobs=-1)]: Done 997 tasks      | elapsed: 11.1min\n",
      "[Parallel(n_jobs=-1)]: Done 1442 tasks      | elapsed: 15.9min\n",
      "[Parallel(n_jobs=-1)]: Done 1969 tasks      | elapsed: 21.6min\n",
      "[Parallel(n_jobs=-1)]: Done 2576 tasks      | elapsed: 27.7min\n",
      "[Parallel(n_jobs=-1)]: Done 3265 tasks      | elapsed: 34.0min\n",
      "[Parallel(n_jobs=-1)]: Done 4034 tasks      | elapsed: 42.4min\n",
      "[Parallel(n_jobs=-1)]: Done 4885 tasks      | elapsed: 50.6min\n",
      "[Parallel(n_jobs=-1)]: Done 5816 tasks      | elapsed: 60.5min\n",
      "[Parallel(n_jobs=-1)]: Done 6829 tasks      | elapsed: 71.7min\n",
      "[Parallel(n_jobs=-1)]: Done 7922 tasks      | elapsed: 82.7min\n",
      "[Parallel(n_jobs=-1)]: Done 9097 tasks      | elapsed: 95.9min\n",
      "[Parallel(n_jobs=-1)]: Done 10352 tasks      | elapsed: 109.3min\n",
      "[Parallel(n_jobs=-1)]: Done 11689 tasks      | elapsed: 123.1min\n",
      "[Parallel(n_jobs=-1)]: Done 13106 tasks      | elapsed: 137.6min\n",
      "[Parallel(n_jobs=-1)]: Done 14605 tasks      | elapsed: 153.1min\n",
      "[Parallel(n_jobs=-1)]: Done 16184 tasks      | elapsed: 170.6min\n",
      "[Parallel(n_jobs=-1)]: Done 17500 out of 17500 | elapsed: 183.4min finished\n"
     ]
    },
    {
     "data": {
      "text/plain": [
       "RandomizedSearchCV(cv=5, error_score=nan,\n",
       "                   estimator=RandomForestClassifier(bootstrap=True,\n",
       "                                                    ccp_alpha=0.0,\n",
       "                                                    class_weight=None,\n",
       "                                                    criterion='gini',\n",
       "                                                    max_depth=None,\n",
       "                                                    max_features='auto',\n",
       "                                                    max_leaf_nodes=None,\n",
       "                                                    max_samples=None,\n",
       "                                                    min_impurity_decrease=0.0,\n",
       "                                                    min_impurity_split=None,\n",
       "                                                    min_samples_leaf=1,\n",
       "                                                    min_samples_split=2,\n",
       "                                                    min_weight_fraction_leaf=0.0,\n",
       "                                                    n_estimators=100,\n",
       "                                                    n_jobs...\n",
       "                                        'max_features': [1, 2, 3, 4, 5, 6, 7, 8,\n",
       "                                                         9, 10, 11, 12, 13, 14,\n",
       "                                                         'auto'],\n",
       "                                        'max_leaf_nodes': [10, 15, 20, 25, 30,\n",
       "                                                           35, 40, 45, 50, 55,\n",
       "                                                           60, 65, 70, 75, 80,\n",
       "                                                           85, 90, 95, 100,\n",
       "                                                           None],\n",
       "                                        'min_samples_leaf': [1, 2, 3, 4, 5],\n",
       "                                        'min_samples_split': [2, 5, 10],\n",
       "                                        'n_estimators': [30, 43, 56, 70, 83, 96,\n",
       "                                                         110, 123, 136, 150]},\n",
       "                   pre_dispatch='2*n_jobs', random_state=32, refit=True,\n",
       "                   return_train_score=False, scoring=None, verbose=2)"
      ]
     },
     "execution_count": 21,
     "metadata": {},
     "output_type": "execute_result"
    }
   ],
   "source": [
    "forest_random.fit(X_train,y_train)"
   ]
  },
  {
   "cell_type": "markdown",
   "metadata": {},
   "source": [
    "- Tras la búsqueda de hiperparametros, a continuación se muestra la mejor combinación encontrada, con el *score* obtenido."
   ]
  },
  {
   "cell_type": "code",
   "execution_count": 22,
   "metadata": {},
   "outputs": [
    {
     "data": {
      "text/plain": [
       "{'n_estimators': 150,\n",
       " 'min_samples_split': 10,\n",
       " 'min_samples_leaf': 4,\n",
       " 'max_leaf_nodes': None,\n",
       " 'max_features': 11,\n",
       " 'max_depth': 60}"
      ]
     },
     "execution_count": 22,
     "metadata": {},
     "output_type": "execute_result"
    }
   ],
   "source": [
    "forest_random.best_params_"
   ]
  },
  {
   "cell_type": "code",
   "execution_count": 23,
   "metadata": {},
   "outputs": [
    {
     "data": {
      "text/plain": [
       "0.817281462306155"
      ]
     },
     "execution_count": 23,
     "metadata": {},
     "output_type": "execute_result"
    }
   ],
   "source": [
    "forest_random.best_score_"
   ]
  },
  {
   "cell_type": "markdown",
   "metadata": {},
   "source": [
    "Podemos observar que la mejora con respecto al modelo con valores por defecto, es muy leve."
   ]
  },
  {
   "cell_type": "markdown",
   "metadata": {},
   "source": [
    "- A continuación se muestra la importancia que le ha dado el modelo a cada una de las características respecto de las otras."
   ]
  },
  {
   "cell_type": "code",
   "execution_count": 24,
   "metadata": {},
   "outputs": [],
   "source": [
    "best_forest = forest_random.best_estimator_"
   ]
  },
  {
   "cell_type": "code",
   "execution_count": 25,
   "metadata": {},
   "outputs": [
    {
     "data": {
      "image/png": "[encoded data removed]",
      "text/plain": [
       "<Figure size 576x432 with 1 Axes>"
      ]
     },
     "metadata": {
      "needs_background": "light"
     },
     "output_type": "display_data"
    }
   ],
   "source": [
    "plt.barh(df_songs_year.loc[:,\"year\":\"duration_ms\"].columns, best_forest.feature_importances_);"
   ]
  },
  {
   "cell_type": "markdown",
   "metadata": {},
   "source": [
    "Podemos observar como en este caso el año aunque tiene un peso importante con respecto a otras características, no tiene tanto importancia como lo tenía para el *random forest* del cuaderno 3_looking_predictive_model, en la que se usaba todo el dataset desde 1958, y el año tenía una importancia con respecto a todas las demás características muy superior."
   ]
  },
  {
   "cell_type": "markdown",
   "metadata": {},
   "source": [
    "- Para la configuración obtenida, entrenamos el modelo con todo el dataset de entrenamiento y vemos los resultados obtenidos."
   ]
  },
  {
   "cell_type": "code",
   "execution_count": 26,
   "metadata": {},
   "outputs": [
    {
     "data": {
      "text/plain": [
       "RandomForestClassifier(bootstrap=True, ccp_alpha=0.0, class_weight=None,\n",
       "                       criterion='gini', max_depth=60, max_features=11,\n",
       "                       max_leaf_nodes=None, max_samples=None,\n",
       "                       min_impurity_decrease=0.0, min_impurity_split=None,\n",
       "                       min_samples_leaf=4, min_samples_split=10,\n",
       "                       min_weight_fraction_leaf=0.0, n_estimators=150,\n",
       "                       n_jobs=None, oob_score=False, random_state=32, verbose=0,\n",
       "                       warm_start=False)"
      ]
     },
     "execution_count": 26,
     "metadata": {},
     "output_type": "execute_result"
    }
   ],
   "source": [
    "best_forest.fit(X_train,y_train)"
   ]
  },
  {
   "cell_type": "code",
   "execution_count": 27,
   "metadata": {},
   "outputs": [
    {
     "name": "stdout",
     "output_type": "stream",
     "text": [
      "Precisión sobre datos de pruebas: 0.8098\n",
      "Precisión sobre datos de train: 0.9478\n"
     ]
    }
   ],
   "source": [
    "print(\"Precisión sobre datos de pruebas: {:.4f}\"\n",
    "      .format(best_forest.score(X_test, y_test)))\n",
    "print(\"Precisión sobre datos de train: {:.4f}\"\n",
    "      .format(best_forest.score(X_train, y_train)))"
   ]
  },
  {
   "cell_type": "markdown",
   "metadata": {},
   "source": [
    "Se puede observar un descenso en la predicción de los datos de entrenamiento, y un resultado prácticamente idéntico en los resultados de test con la configuración por defecto. Tomaremos este modelo como mejor respecto, ya que tiene un mejor  *score* usando *cross validation*."
   ]
  },
  {
   "cell_type": "markdown",
   "metadata": {},
   "source": [
    "- Guardamos nuestro modelo obtenido, para su posterior uso"
   ]
  },
  {
   "cell_type": "code",
   "execution_count": 25,
   "metadata": {},
   "outputs": [],
   "source": [
    "filename = '../Models/forest_model_random_year_93_20.pkl'"
   ]
  },
  {
   "cell_type": "code",
   "execution_count": 28,
   "metadata": {},
   "outputs": [
    {
     "data": {
      "text/plain": [
       "['../Models/forest_model_random_year_93_20.pkl']"
      ]
     },
     "execution_count": 28,
     "metadata": {},
     "output_type": "execute_result"
    }
   ],
   "source": [
    "joblib.dump(best_forest, filename)"
   ]
  },
  {
   "cell_type": "code",
   "execution_count": 26,
   "metadata": {},
   "outputs": [],
   "source": [
    "best_forest = joblib.load(filename) "
   ]
  },
  {
   "cell_type": "markdown",
   "metadata": {},
   "source": [
    "- Representamos la curva ROC para ver de manera visual lo bueno que es nuestro modelo obtenido"
   ]
  },
  {
   "cell_type": "code",
   "execution_count": 43,
   "metadata": {},
   "outputs": [
    {
     "data": {
      "image/png": "[encoded data removed]",
      "text/plain": [
       "<Figure size 576x432 with 1 Axes>"
      ]
     },
     "metadata": {
      "needs_background": "light"
     },
     "output_type": "display_data"
    }
   ],
   "source": [
    "probs = best_forest.predict_proba(X_test)\n",
    "preds = probs[:,1]\n",
    "fpr, tpr, threshold = metrics.roc_curve(y_test, preds)\n",
    "roc_auc = metrics.auc(fpr, tpr)\n",
    "\n",
    "plt.title('Receiver Operating Characteristic')\n",
    "plt.plot(fpr, tpr, 'b', label = 'AUC = %0.2f' % roc_auc)\n",
    "plt.legend(loc = 'lower right')\n",
    "plt.plot([0, 1], [0, 1],'r--')\n",
    "plt.xlim([0, 1])\n",
    "plt.ylim([0, 1])\n",
    "plt.ylabel('True Positive Rate')\n",
    "plt.xlabel('False Positive Rate')\n",
    "plt.show()"
   ]
  },
  {
   "cell_type": "markdown",
   "metadata": {},
   "source": [
    "- Utilizando la función definida al principio del cuaderno, podemos hacer predicciones sobre cualquier canción de interés."
   ]
  },
  {
   "cell_type": "code",
   "execution_count": 44,
   "metadata": {},
   "outputs": [
    {
     "name": "stdout",
     "output_type": "stream",
     "text": [
      "Artista: "
     ]
    },
    {
     "name": "stdin",
     "output_type": "stream",
     "text": [
      " billie eilish\n"
     ]
    },
    {
     "name": "stdout",
     "output_type": "stream",
     "text": [
      "Titulo: "
     ]
    },
    {
     "name": "stdin",
     "output_type": "stream",
     "text": [
      " bad guy\n"
     ]
    },
    {
     "name": "stdout",
     "output_type": "stream",
     "text": [
      "Canción elegida: bad guy de Billie Eilish\n",
      "porcentaje de ser hit: 45.13276353276353\n"
     ]
    }
   ],
   "source": [
    "score = best_forest.predict_proba(find_song_year())\n",
    "print('porcentaje de ser hit:', score[0][1]*100)"
   ]
  },
  {
   "cell_type": "markdown",
   "metadata": {},
   "source": [
    "## AdaBoost\n",
    "- Utilizaremos AdaBoost para entrenar el dataset"
   ]
  },
  {
   "cell_type": "code",
   "execution_count": 13,
   "metadata": {},
   "outputs": [],
   "source": [
    "ada_clf = AdaBoostClassifier()"
   ]
  },
  {
   "cell_type": "code",
   "execution_count": 14,
   "metadata": {},
   "outputs": [
    {
     "name": "stdout",
     "output_type": "stream",
     "text": [
      "Wall time: 2.9 s\n"
     ]
    },
    {
     "data": {
      "text/plain": [
       "0.7998824432196292"
      ]
     },
     "execution_count": 14,
     "metadata": {},
     "output_type": "execute_result"
    }
   ],
   "source": [
    "%%time\n",
    "cross_val_score(ada_clf,X_train,y_train,cv=5).mean()"
   ]
  },
  {
   "cell_type": "markdown",
   "metadata": {},
   "source": [
    "Como para *random forest* obtenemos mejores resultados que cuando no incluíamos el año como característica."
   ]
  },
  {
   "cell_type": "code",
   "execution_count": 15,
   "metadata": {},
   "outputs": [
    {
     "data": {
      "text/plain": [
       "AdaBoostClassifier(algorithm='SAMME.R', base_estimator=None, learning_rate=1.0,\n",
       "                   n_estimators=50, random_state=None)"
      ]
     },
     "execution_count": 15,
     "metadata": {},
     "output_type": "execute_result"
    }
   ],
   "source": [
    "ada_clf.fit(X_train,y_train)"
   ]
  },
  {
   "cell_type": "code",
   "execution_count": 16,
   "metadata": {},
   "outputs": [
    {
     "name": "stdout",
     "output_type": "stream",
     "text": [
      "Precisión sobre el juego de pruebas: 0.7891\n",
      "Precisión sobre el juego de train: 0.8053\n"
     ]
    }
   ],
   "source": [
    "print(\"Precisión sobre el juego de pruebas: {:.4f}\"\n",
    "      .format(ada_clf.score(X_test, y_test)))\n",
    "print(\"Precisión sobre el juego de train: {:.4f}\"\n",
    "      .format(ada_clf.score(X_train, y_train)))"
   ]
  },
  {
   "cell_type": "markdown",
   "metadata": {},
   "source": [
    "- Definimos el *grid* de entrenamiento y se lanza la búsqueda de la mejor combinación de hiperparametros."
   ]
  },
  {
   "cell_type": "code",
   "execution_count": 17,
   "metadata": {},
   "outputs": [
    {
     "name": "stdout",
     "output_type": "stream",
     "text": [
      "{'n_estimators': [30, 43, 56, 70, 83, 96, 110, 123, 136, 150], 'algorithm': ['SAMME', 'SAMME.R'], 'learning_rate': [0.05, 0.1, 0.15, 0.2, 0.25, 0.3, 0.35, 0.39999999999999997, 0.44999999999999996, 0.49999999999999994, 0.5499999999999999, 0.6, 0.65, 0.7, 0.75, 0.7999999999999999, 0.85, 0.9, 0.95, 1.0], 'base_estimator__max_features': [1, 2, 3, 4, 5, 6, 7, 8, 9, 10, 11, 12, 13, 'auto'], 'base_estimator__max_depth': [10, 20, 30, 40, 50, 60, 70, 80, 90, 100, 110, None], 'base_estimator__min_samples_split': [2, 5, 10], 'base_estimator__min_samples_leaf': [1, 2, 3, 4, 5], 'base_estimator__max_leaf_nodes': [10, 20, 30, 40, 50, 60, 70, 80, 90, 100, None]}\n"
     ]
    }
   ],
   "source": [
    "# Numero de arboles del bosque\n",
    "n_estimators = [int(x) for x in np.linspace(start = 30, stop = 150, num = 10)]\n",
    "# Numero de caracteristicas proporcionadas a cada arbol\n",
    "max_features = [1,2,3,4,5,6,7,8,9,10,11,12,13]\n",
    "max_features.append('auto')\n",
    "# Profundidad de arbol\n",
    "max_depth = [int(x) for x in np.linspace(10, 110, num = 11)]\n",
    "max_depth.append(None)\n",
    "# Minimo valor para separar en subnodos\n",
    "min_samples_split = [2, 5, 10]\n",
    "# Minimo numero de muestras necesarias en hoja despues de dividir\n",
    "min_samples_leaf = [1, 2,3, 4, 5]\n",
    "# Numero maximo de nodos finales\n",
    "max_leaf_nodes = [int(x) for x in np.linspace(10, 100, num = 10)]\n",
    "max_leaf_nodes.append(None)\n",
    "#Algoritmo de implementacion\n",
    "algorithm = ['SAMME', 'SAMME.R']\n",
    "learning_rate = [float(x) for x in np.linspace(0.05, 1., num = 20)]\n",
    "# Creacion de cuadrícula aleatoria\n",
    "param_grid = {'n_estimators': n_estimators,\n",
    "               'algorithm': algorithm,\n",
    "              'learning_rate':learning_rate,\n",
    "               'base_estimator__max_features': max_features,\n",
    "               'base_estimator__max_depth': max_depth,\n",
    "               'base_estimator__min_samples_split': min_samples_split,\n",
    "               'base_estimator__min_samples_leaf': min_samples_leaf,\n",
    "               \"base_estimator__max_leaf_nodes\": max_leaf_nodes}\n",
    "print(param_grid)"
   ]
  },
  {
   "cell_type": "code",
   "execution_count": 18,
   "metadata": {},
   "outputs": [],
   "source": [
    "from sklearn.tree import DecisionTreeClassifier"
   ]
  },
  {
   "cell_type": "code",
   "execution_count": 19,
   "metadata": {},
   "outputs": [],
   "source": [
    "base_estimator = DecisionTreeClassifier(random_state=32)\n",
    "ada_clf = AdaBoostClassifier(base_estimator=base_estimator, random_state=32)"
   ]
  },
  {
   "cell_type": "code",
   "execution_count": 20,
   "metadata": {},
   "outputs": [],
   "source": [
    "ada_random = RandomizedSearchCV(estimator = ada_clf, param_distributions = param_grid, n_iter = 3250, cv = 5, verbose=2, random_state=32, n_jobs = -1)"
   ]
  },
  {
   "cell_type": "code",
   "execution_count": 21,
   "metadata": {},
   "outputs": [
    {
     "name": "stdout",
     "output_type": "stream",
     "text": [
      "Fitting 5 folds for each of 3250 candidates, totalling 16250 fits\n"
     ]
    },
    {
     "name": "stderr",
     "output_type": "stream",
     "text": [
      "[Parallel(n_jobs=-1)]: Using backend LokyBackend with 8 concurrent workers.\n",
      "[Parallel(n_jobs=-1)]: Done  25 tasks      | elapsed:   13.5s\n",
      "[Parallel(n_jobs=-1)]: Done 146 tasks      | elapsed:  2.1min\n",
      "[Parallel(n_jobs=-1)]: Done 349 tasks      | elapsed:  5.1min\n",
      "[Parallel(n_jobs=-1)]: Done 632 tasks      | elapsed: 10.3min\n",
      "[Parallel(n_jobs=-1)]: Done 997 tasks      | elapsed: 17.2min\n",
      "[Parallel(n_jobs=-1)]: Done 1442 tasks      | elapsed: 24.4min\n",
      "[Parallel(n_jobs=-1)]: Done 1969 tasks      | elapsed: 33.1min\n",
      "[Parallel(n_jobs=-1)]: Done 2576 tasks      | elapsed: 41.3min\n",
      "[Parallel(n_jobs=-1)]: Done 3265 tasks      | elapsed: 52.0min\n",
      "[Parallel(n_jobs=-1)]: Done 4034 tasks      | elapsed: 65.1min\n",
      "[Parallel(n_jobs=-1)]: Done 4885 tasks      | elapsed: 79.2min\n",
      "[Parallel(n_jobs=-1)]: Done 5816 tasks      | elapsed: 94.9min\n",
      "[Parallel(n_jobs=-1)]: Done 6829 tasks      | elapsed: 111.8min\n",
      "[Parallel(n_jobs=-1)]: Done 7922 tasks      | elapsed: 132.1min\n",
      "[Parallel(n_jobs=-1)]: Done 9097 tasks      | elapsed: 151.9min\n",
      "[Parallel(n_jobs=-1)]: Done 10352 tasks      | elapsed: 174.3min\n",
      "[Parallel(n_jobs=-1)]: Done 11689 tasks      | elapsed: 196.2min\n",
      "[Parallel(n_jobs=-1)]: Done 13106 tasks      | elapsed: 220.0min\n",
      "[Parallel(n_jobs=-1)]: Done 14605 tasks      | elapsed: 245.6min\n",
      "[Parallel(n_jobs=-1)]: Done 16184 tasks      | elapsed: 273.8min\n",
      "[Parallel(n_jobs=-1)]: Done 16250 out of 16250 | elapsed: 274.9min finished\n"
     ]
    },
    {
     "data": {
      "text/plain": [
       "RandomizedSearchCV(cv=5, error_score=nan,\n",
       "                   estimator=AdaBoostClassifier(algorithm='SAMME.R',\n",
       "                                                base_estimator=DecisionTreeClassifier(ccp_alpha=0.0,\n",
       "                                                                                      class_weight=None,\n",
       "                                                                                      criterion='gini',\n",
       "                                                                                      max_depth=None,\n",
       "                                                                                      max_features=None,\n",
       "                                                                                      max_leaf_nodes=None,\n",
       "                                                                                      min_impurity_decrease=0.0,\n",
       "                                                                                      min_impurity_split=None,\n",
       "                                                                                      min_samples_leaf=1,\n",
       "                                                                                      min_samples_split=2,\n",
       "                                                                                      min_weight_fraction_leaf=0.0,\n",
       "                                                                                      pre...\n",
       "                                        'base_estimator__min_samples_split': [2,\n",
       "                                                                              5,\n",
       "                                                                              10],\n",
       "                                        'learning_rate': [0.05, 0.1, 0.15, 0.2,\n",
       "                                                          0.25, 0.3, 0.35,\n",
       "                                                          0.39999999999999997,\n",
       "                                                          0.44999999999999996,\n",
       "                                                          0.49999999999999994,\n",
       "                                                          0.5499999999999999,\n",
       "                                                          0.6, 0.65, 0.7, 0.75,\n",
       "                                                          0.7999999999999999,\n",
       "                                                          0.85, 0.9, 0.95,\n",
       "                                                          1.0],\n",
       "                                        'n_estimators': [30, 43, 56, 70, 83, 96,\n",
       "                                                         110, 123, 136, 150]},\n",
       "                   pre_dispatch='2*n_jobs', random_state=32, refit=True,\n",
       "                   return_train_score=False, scoring=None, verbose=2)"
      ]
     },
     "execution_count": 21,
     "metadata": {},
     "output_type": "execute_result"
    }
   ],
   "source": [
    "ada_random.fit(X_train,y_train)"
   ]
  },
  {
   "cell_type": "markdown",
   "metadata": {},
   "source": [
    "- Tras la búsqueda de hiperparametros, a continuación se muestra la mejor combinación encontrada, con el *score* obtenido."
   ]
  },
  {
   "cell_type": "code",
   "execution_count": 22,
   "metadata": {},
   "outputs": [
    {
     "data": {
      "text/plain": [
       "{'n_estimators': 96,\n",
       " 'learning_rate': 0.05,\n",
       " 'base_estimator__min_samples_split': 5,\n",
       " 'base_estimator__min_samples_leaf': 3,\n",
       " 'base_estimator__max_leaf_nodes': 80,\n",
       " 'base_estimator__max_features': 7,\n",
       " 'base_estimator__max_depth': 30,\n",
       " 'algorithm': 'SAMME'}"
      ]
     },
     "execution_count": 22,
     "metadata": {},
     "output_type": "execute_result"
    }
   ],
   "source": [
    "ada_random.best_params_"
   ]
  },
  {
   "cell_type": "code",
   "execution_count": 23,
   "metadata": {},
   "outputs": [
    {
     "data": {
      "text/plain": [
       "0.8184544616067155"
      ]
     },
     "execution_count": 23,
     "metadata": {},
     "output_type": "execute_result"
    }
   ],
   "source": [
    "ada_random.best_score_"
   ]
  },
  {
   "cell_type": "markdown",
   "metadata": {},
   "source": [
    "Podemos observar como hemos conseguido para esta configuración una mejoría del 0.018."
   ]
  },
  {
   "cell_type": "markdown",
   "metadata": {},
   "source": [
    "- A continuación se muestra la importancia que le ha dado el modelo a cada una de las características respecto de las otras."
   ]
  },
  {
   "cell_type": "code",
   "execution_count": 24,
   "metadata": {},
   "outputs": [],
   "source": [
    "best_ada = ada_random.best_estimator_"
   ]
  },
  {
   "cell_type": "code",
   "execution_count": 25,
   "metadata": {},
   "outputs": [
    {
     "data": {
      "image/png": "[encoded data removed]",
      "text/plain": [
       "<Figure size 576x432 with 1 Axes>"
      ]
     },
     "metadata": {
      "needs_background": "light"
     },
     "output_type": "display_data"
    }
   ],
   "source": [
    "plt.barh(df_songs_year.loc[:,\"year\":\"duration_ms\"].columns, best_ada.feature_importances_);"
   ]
  },
  {
   "cell_type": "markdown",
   "metadata": {},
   "source": [
    "Para Ada Boost se puede ver que la caracteristica de volumen (*loudness*) gana en importancia al año y esta tiene un peso muy similar a instrumentalidad (*instrumentalness*)."
   ]
  },
  {
   "cell_type": "markdown",
   "metadata": {},
   "source": [
    "-  Para la configuración obtenida, entrenamos el modelo con todo el dataset de entrenamiento y vemos los resultados obtenidos."
   ]
  },
  {
   "cell_type": "code",
   "execution_count": 26,
   "metadata": {},
   "outputs": [
    {
     "data": {
      "text/plain": [
       "AdaBoostClassifier(algorithm='SAMME',\n",
       "                   base_estimator=DecisionTreeClassifier(ccp_alpha=0.0,\n",
       "                                                         class_weight=None,\n",
       "                                                         criterion='gini',\n",
       "                                                         max_depth=30,\n",
       "                                                         max_features=7,\n",
       "                                                         max_leaf_nodes=80,\n",
       "                                                         min_impurity_decrease=0.0,\n",
       "                                                         min_impurity_split=None,\n",
       "                                                         min_samples_leaf=3,\n",
       "                                                         min_samples_split=5,\n",
       "                                                         min_weight_fraction_leaf=0.0,\n",
       "                                                         presort='deprecated',\n",
       "                                                         random_state=32,\n",
       "                                                         splitter='best'),\n",
       "                   learning_rate=0.05, n_estimators=96, random_state=32)"
      ]
     },
     "execution_count": 26,
     "metadata": {},
     "output_type": "execute_result"
    }
   ],
   "source": [
    "best_ada.fit(X_train,y_train)"
   ]
  },
  {
   "cell_type": "code",
   "execution_count": 27,
   "metadata": {},
   "outputs": [
    {
     "name": "stdout",
     "output_type": "stream",
     "text": [
      "Precisión sobre datos de pruebas: 0.8149\n",
      "Precisión sobre datos de train: 0.8600\n"
     ]
    }
   ],
   "source": [
    "print(\"Precisión sobre datos de pruebas: {:.4f}\"\n",
    "      .format(best_ada.score(X_test, y_test)))\n",
    "print(\"Precisión sobre datos de train: {:.4f}\"\n",
    "      .format(best_ada.score(X_train, y_train)))"
   ]
  },
  {
   "cell_type": "markdown",
   "metadata": {},
   "source": [
    "Como se puede observar, respecto de la configuración por defecto se ha conseguido una mejoría de 0.026 en los resultados de test y una mejora tambien en entrenamiento de 0.0547."
   ]
  },
  {
   "cell_type": "markdown",
   "metadata": {},
   "source": [
    "- Guardamos nuestro modelo obtenido, para su posterior uso"
   ]
  },
  {
   "cell_type": "code",
   "execution_count": 4,
   "metadata": {},
   "outputs": [],
   "source": [
    "filename = '../Models/ada_boost_model_random_year_93_20.pkl'"
   ]
  },
  {
   "cell_type": "code",
   "execution_count": 5,
   "metadata": {},
   "outputs": [
    {
     "data": {
      "text/plain": [
       "['../Models/ada_boost_model_random_year_93_20.pkl']"
      ]
     },
     "execution_count": 5,
     "metadata": {},
     "output_type": "execute_result"
    }
   ],
   "source": [
    "joblib.dump(best_ada, filename)"
   ]
  },
  {
   "cell_type": "code",
   "execution_count": 45,
   "metadata": {},
   "outputs": [],
   "source": [
    "best_ada = joblib.load(filename)"
   ]
  },
  {
   "cell_type": "markdown",
   "metadata": {},
   "source": [
    "- Representamos la curva ROC para ver de manera visual lo bueno que es nuestro modelo obtenido"
   ]
  },
  {
   "cell_type": "code",
   "execution_count": 46,
   "metadata": {},
   "outputs": [
    {
     "data": {
      "image/png": "[encoded data removed]",
      "text/plain": [
       "<Figure size 576x432 with 1 Axes>"
      ]
     },
     "metadata": {
      "needs_background": "light"
     },
     "output_type": "display_data"
    }
   ],
   "source": [
    "probs = best_ada.predict_proba(X_test)\n",
    "preds = probs[:,1]\n",
    "fpr, tpr, threshold = metrics.roc_curve(y_test, preds)\n",
    "roc_auc = metrics.auc(fpr, tpr)\n",
    "\n",
    "plt.title('Receiver Operating Characteristic')\n",
    "plt.plot(fpr, tpr, 'b', label = 'AUC = %0.2f' % roc_auc)\n",
    "plt.legend(loc = 'lower right')\n",
    "plt.plot([0, 1], [0, 1],'r--')\n",
    "plt.xlim([0, 1])\n",
    "plt.ylim([0, 1])\n",
    "plt.ylabel('True Positive Rate')\n",
    "plt.xlabel('False Positive Rate')\n",
    "plt.show()"
   ]
  },
  {
   "cell_type": "markdown",
   "metadata": {},
   "source": [
    "- Utilizando la función definida al principio del cuaderno, podemos hacer predicciones sobre cualquier canción de interés."
   ]
  },
  {
   "cell_type": "code",
   "execution_count": 47,
   "metadata": {},
   "outputs": [
    {
     "name": "stdout",
     "output_type": "stream",
     "text": [
      "Artista: "
     ]
    },
    {
     "name": "stdin",
     "output_type": "stream",
     "text": [
      " billie eilish\n"
     ]
    },
    {
     "name": "stdout",
     "output_type": "stream",
     "text": [
      "Titulo: "
     ]
    },
    {
     "name": "stdin",
     "output_type": "stream",
     "text": [
      " bad guy\n"
     ]
    },
    {
     "name": "stdout",
     "output_type": "stream",
     "text": [
      "Canción elegida: bad guy de Billie Eilish\n",
      "porcentaje de ser hit: 45.13276353276353\n"
     ]
    }
   ],
   "source": [
    "score = best_ada.predict_proba(find_song_year())\n",
    "print('porcentaje de ser hit:', score[0][1]*100)"
   ]
  },
  {
   "cell_type": "markdown",
   "metadata": {},
   "source": [
    "## LightGBM\n",
    "- Realizamos los entrenamientos y análisis de resultados utilizando la implementación de *gradient boosting* de lightgbm"
   ]
  },
  {
   "cell_type": "code",
   "execution_count": 10,
   "metadata": {},
   "outputs": [],
   "source": [
    "import lightgbm as lgb"
   ]
  },
  {
   "cell_type": "code",
   "execution_count": 11,
   "metadata": {},
   "outputs": [],
   "source": [
    "lgb_clf =lgb.LGBMClassifier()"
   ]
  },
  {
   "cell_type": "code",
   "execution_count": 12,
   "metadata": {},
   "outputs": [
    {
     "name": "stdout",
     "output_type": "stream",
     "text": [
      "Wall time: 992 ms\n"
     ]
    },
    {
     "data": {
      "text/plain": [
       "0.8170857466118578"
      ]
     },
     "execution_count": 12,
     "metadata": {},
     "output_type": "execute_result"
    }
   ],
   "source": [
    "%%time\n",
    "cross_val_score(lgb_clf,X_train,y_train,cv=5).mean()"
   ]
  },
  {
   "cell_type": "markdown",
   "metadata": {},
   "source": [
    "Al igual que para los 2 casos anteriores, obtenemos un score bastante alto en comparación de cuando no teníamos incluido el año como característica."
   ]
  },
  {
   "cell_type": "code",
   "execution_count": 13,
   "metadata": {},
   "outputs": [
    {
     "data": {
      "text/plain": [
       "LGBMClassifier(boosting_type='gbdt', class_weight=None, colsample_bytree=1.0,\n",
       "               importance_type='split', learning_rate=0.1, max_depth=-1,\n",
       "               min_child_samples=20, min_child_weight=0.001, min_split_gain=0.0,\n",
       "               n_estimators=100, n_jobs=-1, num_leaves=31, objective=None,\n",
       "               random_state=None, reg_alpha=0.0, reg_lambda=0.0, silent=True,\n",
       "               subsample=1.0, subsample_for_bin=200000, subsample_freq=0)"
      ]
     },
     "execution_count": 13,
     "metadata": {},
     "output_type": "execute_result"
    }
   ],
   "source": [
    "lgb_clf.fit(X_train,y_train)"
   ]
  },
  {
   "cell_type": "code",
   "execution_count": 14,
   "metadata": {},
   "outputs": [
    {
     "name": "stdout",
     "output_type": "stream",
     "text": [
      "Precisión sobre el juego de pruebas: 0.8178\n",
      "Precisión sobre el juego de train: 0.8750\n"
     ]
    }
   ],
   "source": [
    "print(\"Precisión sobre el juego de pruebas: {:.4f}\"\n",
    "      .format(lgb_clf.score(X_test, y_test)))\n",
    "print(\"Precisión sobre el juego de train: {:.4f}\"\n",
    "      .format(lgb_clf.score(X_train, y_train)))"
   ]
  },
  {
   "cell_type": "markdown",
   "metadata": {},
   "source": [
    "- Definimos el *grid* de entrenamiento y se lanza la búsqueda de la mejor combinación de hiperparametros."
   ]
  },
  {
   "cell_type": "code",
   "execution_count": 16,
   "metadata": {},
   "outputs": [
    {
     "name": "stdout",
     "output_type": "stream",
     "text": [
      "{'boosting_type': ['gbdt', 'dart'], 'num_leaves': [30, 40, 50, 60, 70, 80, 90, 100, 110], 'max_depth': [10, 20, 30, 40, 50, 60, 70, 80, 90, 100, 110, None], 'learning_rate': [0.005, 0.1, 0.2, 0.3, 0.4, 0.5, 0.6, 0.7, 0.8, 0.9, 1.0], 'n_estimators': [30, 45, 60, 75, 90, 105, 120, 135, 150], 'subsample_for_bin': [20000, 40000, 60000, 80000, 100000, 120000, 140000, 160000, 180000, 200000, 220000, 240000, 260000, 280000], 'min_split_gain': [0.0, 0.2, 0.4, 0.6, 0.8], 'min_child_samples': [1, 5, 9, 14, 18, 22, 27, 31, 35, 40], 'reg_alpha': [0.0, 0.1, 0.2, 0.3, 0.4, 0.5, 0.6, 0.7, 0.8, 0.9, 1.0], 'reg_lambda': [0.0, 0.1, 0.2, 0.3, 0.4, 0.5, 0.6, 0.7, 0.8, 0.9, 1.0]}\n"
     ]
    }
   ],
   "source": [
    "boosting_type = ['gbdt','dart']\n",
    "#Numero de Hojas máximas por árboles\n",
    "num_leaves = [int(x) for x in np.linspace(30, 110, num = 9)]\n",
    "# Profundidad de arbol\n",
    "max_depth = [int(x) for x in np.linspace(10, 110, num = 11)]\n",
    "max_depth.append(None)\n",
    "#Learning rate\n",
    "learning_rate = [round (float(x), 2) for x in np.linspace(0.1, 1., num = 10)]\n",
    "learning_rate.append(0.005)\n",
    "learning_rate = sorted(learning_rate)\n",
    "# Numero de arboles del bosque\n",
    "n_estimators = [int(x) for x in np.linspace(start = 30, stop = 150, num = 9)]\n",
    "# Número de muestras para la construcción de contenedores\n",
    "subsample_for_bin =  list(range(20000, 300000, 20000))\n",
    "# Reducción mínima de pérdidas para realizar una nueva partición en un nodo del árbol.\n",
    "min_split_gain =  [0.0,0.2,0.4,0.6,0.8]\n",
    "#Número mínimo de datos necesarios en una hoja\n",
    "min_child_samples = [int(x) for x in np.linspace(1, 40, num = 10)]\n",
    "# reg_alpha\n",
    "reg_alpha = [round (float(x), 2) for x in np.linspace(0.0, 1., num = 11)]\n",
    "# reg_lambda\n",
    "reg_lambda = [round (float(x), 2)  for x in np.linspace(0.0, 1., num = 11)]\n",
    "# Creacion de cuadrícula aleatoria\n",
    "param_grid = {'boosting_type':boosting_type,\n",
    "              'num_leaves': num_leaves,\n",
    "              'max_depth': max_depth,\n",
    "              'learning_rate': learning_rate,\n",
    "              'n_estimators': n_estimators,\n",
    "              'subsample_for_bin': subsample_for_bin,\n",
    "              'min_split_gain': min_split_gain,\n",
    "              'min_child_samples':min_child_samples,\n",
    "              'reg_alpha':reg_alpha,\n",
    "              'reg_lambda':reg_lambda}\n",
    "print(param_grid)"
   ]
  },
  {
   "cell_type": "code",
   "execution_count": 17,
   "metadata": {},
   "outputs": [],
   "source": [
    "lgb_clf = lgb.LGBMClassifier(random_state=32)"
   ]
  },
  {
   "cell_type": "code",
   "execution_count": 20,
   "metadata": {},
   "outputs": [],
   "source": [
    "light_gbm_random = RandomizedSearchCV(estimator = lgb_clf, param_distributions = param_grid, n_iter = 40000, cv = 5, verbose=2, random_state=32, n_jobs = -1)"
   ]
  },
  {
   "cell_type": "code",
   "execution_count": 21,
   "metadata": {},
   "outputs": [
    {
     "name": "stdout",
     "output_type": "stream",
     "text": [
      "Fitting 5 folds for each of 40000 candidates, totalling 200000 fits\n"
     ]
    },
    {
     "name": "stderr",
     "output_type": "stream",
     "text": [
      "[Parallel(n_jobs=-1)]: Using backend LokyBackend with 8 concurrent workers.\n",
      "[Parallel(n_jobs=-1)]: Done  25 tasks      | elapsed:    5.5s\n",
      "[Parallel(n_jobs=-1)]: Done 146 tasks      | elapsed:   27.3s\n",
      "[Parallel(n_jobs=-1)]: Done 349 tasks      | elapsed:  1.1min\n",
      "[Parallel(n_jobs=-1)]: Done 632 tasks      | elapsed:  2.0min\n",
      "[Parallel(n_jobs=-1)]: Done 997 tasks      | elapsed:  3.1min\n",
      "[Parallel(n_jobs=-1)]: Done 1442 tasks      | elapsed:  4.5min\n",
      "[Parallel(n_jobs=-1)]: Done 1969 tasks      | elapsed:  6.0min\n",
      "[Parallel(n_jobs=-1)]: Done 2576 tasks      | elapsed:  7.9min\n",
      "[Parallel(n_jobs=-1)]: Done 3265 tasks      | elapsed: 10.2min\n",
      "[Parallel(n_jobs=-1)]: Done 4034 tasks      | elapsed: 12.6min\n",
      "[Parallel(n_jobs=-1)]: Done 4885 tasks      | elapsed: 15.1min\n",
      "[Parallel(n_jobs=-1)]: Done 5816 tasks      | elapsed: 18.1min\n",
      "[Parallel(n_jobs=-1)]: Done 6829 tasks      | elapsed: 21.0min\n",
      "[Parallel(n_jobs=-1)]: Done 7922 tasks      | elapsed: 24.3min\n",
      "[Parallel(n_jobs=-1)]: Done 9097 tasks      | elapsed: 28.1min\n",
      "[Parallel(n_jobs=-1)]: Done 10352 tasks      | elapsed: 31.6min\n",
      "[Parallel(n_jobs=-1)]: Done 11689 tasks      | elapsed: 35.8min\n",
      "[Parallel(n_jobs=-1)]: Done 13106 tasks      | elapsed: 40.2min\n",
      "[Parallel(n_jobs=-1)]: Done 14605 tasks      | elapsed: 44.7min\n",
      "[Parallel(n_jobs=-1)]: Done 16184 tasks      | elapsed: 49.9min\n",
      "[Parallel(n_jobs=-1)]: Done 17845 tasks      | elapsed: 55.1min\n",
      "[Parallel(n_jobs=-1)]: Done 19586 tasks      | elapsed: 60.8min\n",
      "[Parallel(n_jobs=-1)]: Done 21409 tasks      | elapsed: 66.3min\n",
      "[Parallel(n_jobs=-1)]: Done 23312 tasks      | elapsed: 72.1min\n",
      "[Parallel(n_jobs=-1)]: Done 25297 tasks      | elapsed: 78.2min\n",
      "[Parallel(n_jobs=-1)]: Done 27362 tasks      | elapsed: 84.2min\n",
      "[Parallel(n_jobs=-1)]: Done 29509 tasks      | elapsed: 90.7min\n",
      "[Parallel(n_jobs=-1)]: Done 31736 tasks      | elapsed: 97.4min\n",
      "[Parallel(n_jobs=-1)]: Done 34045 tasks      | elapsed: 104.4min\n",
      "[Parallel(n_jobs=-1)]: Done 36434 tasks      | elapsed: 111.4min\n",
      "[Parallel(n_jobs=-1)]: Done 38905 tasks      | elapsed: 118.6min\n",
      "[Parallel(n_jobs=-1)]: Done 41456 tasks      | elapsed: 126.3min\n",
      "[Parallel(n_jobs=-1)]: Done 44089 tasks      | elapsed: 134.7min\n",
      "[Parallel(n_jobs=-1)]: Done 46802 tasks      | elapsed: 142.8min\n",
      "[Parallel(n_jobs=-1)]: Done 49597 tasks      | elapsed: 151.1min\n",
      "[Parallel(n_jobs=-1)]: Done 52472 tasks      | elapsed: 159.2min\n",
      "[Parallel(n_jobs=-1)]: Done 55429 tasks      | elapsed: 168.0min\n",
      "[Parallel(n_jobs=-1)]: Done 58466 tasks      | elapsed: 177.3min\n",
      "[Parallel(n_jobs=-1)]: Done 61585 tasks      | elapsed: 186.1min\n",
      "[Parallel(n_jobs=-1)]: Done 64784 tasks      | elapsed: 195.4min\n",
      "[Parallel(n_jobs=-1)]: Done 68065 tasks      | elapsed: 205.2min\n",
      "[Parallel(n_jobs=-1)]: Done 71426 tasks      | elapsed: 215.5min\n",
      "[Parallel(n_jobs=-1)]: Done 74869 tasks      | elapsed: 226.4min\n",
      "[Parallel(n_jobs=-1)]: Done 78392 tasks      | elapsed: 237.0min\n",
      "[Parallel(n_jobs=-1)]: Done 81997 tasks      | elapsed: 248.2min\n",
      "[Parallel(n_jobs=-1)]: Done 85682 tasks      | elapsed: 259.3min\n",
      "[Parallel(n_jobs=-1)]: Done 89449 tasks      | elapsed: 270.6min\n",
      "[Parallel(n_jobs=-1)]: Done 93296 tasks      | elapsed: 282.1min\n",
      "[Parallel(n_jobs=-1)]: Done 97225 tasks      | elapsed: 294.0min\n",
      "[Parallel(n_jobs=-1)]: Done 101234 tasks      | elapsed: 306.4min\n",
      "[Parallel(n_jobs=-1)]: Done 105325 tasks      | elapsed: 318.4min\n",
      "[Parallel(n_jobs=-1)]: Done 109496 tasks      | elapsed: 330.8min\n",
      "[Parallel(n_jobs=-1)]: Done 113749 tasks      | elapsed: 343.5min\n",
      "[Parallel(n_jobs=-1)]: Done 118082 tasks      | elapsed: 356.4min\n",
      "[Parallel(n_jobs=-1)]: Done 122497 tasks      | elapsed: 369.7min\n",
      "[Parallel(n_jobs=-1)]: Done 126992 tasks      | elapsed: 382.9min\n",
      "[Parallel(n_jobs=-1)]: Done 131569 tasks      | elapsed: 396.5min\n",
      "[Parallel(n_jobs=-1)]: Done 136226 tasks      | elapsed: 410.4min\n",
      "[Parallel(n_jobs=-1)]: Done 140965 tasks      | elapsed: 425.0min\n",
      "[Parallel(n_jobs=-1)]: Done 145784 tasks      | elapsed: 438.9min\n",
      "[Parallel(n_jobs=-1)]: Done 150685 tasks      | elapsed: 454.0min\n",
      "[Parallel(n_jobs=-1)]: Done 155666 tasks      | elapsed: 469.5min\n",
      "[Parallel(n_jobs=-1)]: Done 160729 tasks      | elapsed: 484.4min\n",
      "[Parallel(n_jobs=-1)]: Done 165872 tasks      | elapsed: 500.3min\n",
      "[Parallel(n_jobs=-1)]: Done 171097 tasks      | elapsed: 515.2min\n",
      "[Parallel(n_jobs=-1)]: Done 176402 tasks      | elapsed: 531.3min\n",
      "[Parallel(n_jobs=-1)]: Done 181789 tasks      | elapsed: 547.5min\n",
      "[Parallel(n_jobs=-1)]: Done 187256 tasks      | elapsed: 564.2min\n",
      "[Parallel(n_jobs=-1)]: Done 192805 tasks      | elapsed: 580.9min\n",
      "[Parallel(n_jobs=-1)]: Done 198434 tasks      | elapsed: 597.3min\n",
      "[Parallel(n_jobs=-1)]: Done 200000 out of 200000 | elapsed: 601.9min finished\n"
     ]
    },
    {
     "data": {
      "text/plain": [
       "RandomizedSearchCV(cv=5, error_score=nan,\n",
       "                   estimator=LGBMClassifier(boosting_type='gbdt',\n",
       "                                            class_weight=None,\n",
       "                                            colsample_bytree=1.0,\n",
       "                                            importance_type='split',\n",
       "                                            learning_rate=0.1, max_depth=-1,\n",
       "                                            min_child_samples=20,\n",
       "                                            min_child_weight=0.001,\n",
       "                                            min_split_gain=0.0,\n",
       "                                            n_estimators=100, n_jobs=-1,\n",
       "                                            num_leaves=31, objective=None,\n",
       "                                            random_state=32, reg_alpha=0.0,\n",
       "                                            reg_lambda=0.0, silent...\n",
       "                                        'num_leaves': [30, 40, 50, 60, 70, 80,\n",
       "                                                       90, 100, 110],\n",
       "                                        'reg_alpha': [0.0, 0.1, 0.2, 0.3, 0.4,\n",
       "                                                      0.5, 0.6, 0.7, 0.8, 0.9,\n",
       "                                                      1.0],\n",
       "                                        'reg_lambda': [0.0, 0.1, 0.2, 0.3, 0.4,\n",
       "                                                       0.5, 0.6, 0.7, 0.8, 0.9,\n",
       "                                                       1.0],\n",
       "                                        'subsample_for_bin': [20000, 40000,\n",
       "                                                              60000, 80000,\n",
       "                                                              100000, 120000,\n",
       "                                                              140000, 160000,\n",
       "                                                              180000, 200000,\n",
       "                                                              220000, 240000,\n",
       "                                                              260000, 280000]},\n",
       "                   pre_dispatch='2*n_jobs', random_state=32, refit=True,\n",
       "                   return_train_score=False, scoring=None, verbose=2)"
      ]
     },
     "execution_count": 21,
     "metadata": {},
     "output_type": "execute_result"
    }
   ],
   "source": [
    "light_gbm_random.fit(X_train,y_train)"
   ]
  },
  {
   "cell_type": "markdown",
   "metadata": {},
   "source": [
    "- Tras la búsqueda de hiperparametros, a continuación se muestra la mejor combinación encontrada, con el *score* obtenido."
   ]
  },
  {
   "cell_type": "code",
   "execution_count": 22,
   "metadata": {},
   "outputs": [
    {
     "data": {
      "text/plain": [
       "{'subsample_for_bin': 100000,\n",
       " 'reg_lambda': 0.6,\n",
       " 'reg_alpha': 0.8,\n",
       " 'num_leaves': 50,\n",
       " 'n_estimators': 60,\n",
       " 'min_split_gain': 0.8,\n",
       " 'min_child_samples': 27,\n",
       " 'max_depth': 80,\n",
       " 'learning_rate': 0.2,\n",
       " 'boosting_type': 'dart'}"
      ]
     },
     "execution_count": 22,
     "metadata": {},
     "output_type": "execute_result"
    }
   ],
   "source": [
    "light_gbm_random.best_params_"
   ]
  },
  {
   "cell_type": "code",
   "execution_count": null,
   "metadata": {},
   "outputs": [],
   "source": [
    "0.8170857466118578"
   ]
  },
  {
   "cell_type": "code",
   "execution_count": 23,
   "metadata": {},
   "outputs": [
    {
     "data": {
      "text/plain": [
       "0.8208001630256542"
      ]
     },
     "execution_count": 23,
     "metadata": {},
     "output_type": "execute_result"
    }
   ],
   "source": [
    "light_gbm_random.best_score_"
   ]
  },
  {
   "cell_type": "markdown",
   "metadata": {},
   "source": [
    "Hemos conseguido una pequeña mejora respecto al modelo por defecto, una mejora de 0.003."
   ]
  },
  {
   "cell_type": "markdown",
   "metadata": {},
   "source": [
    "- A continuación se muestra la importancia que le ha dado el modelo a cada una de las características respecto de las otras."
   ]
  },
  {
   "cell_type": "code",
   "execution_count": 24,
   "metadata": {},
   "outputs": [],
   "source": [
    "best_lgb = light_gbm_random.best_estimator_"
   ]
  },
  {
   "cell_type": "code",
   "execution_count": 25,
   "metadata": {},
   "outputs": [
    {
     "data": {
      "image/png": "[encoded data removed]",
      "text/plain": [
       "<Figure size 576x432 with 1 Axes>"
      ]
     },
     "metadata": {
      "needs_background": "light"
     },
     "output_type": "display_data"
    }
   ],
   "source": [
    "plt.barh(df_songs_year.loc[:,\"year\":\"duration_ms\"].columns, best_lgb.feature_importances_);"
   ]
  },
  {
   "cell_type": "markdown",
   "metadata": {},
   "source": [
    "Para lightGBM podemos observar como varias características tienen un peso importante, la ganadora es el año pero no difiere mucho respecto de las demás características."
   ]
  },
  {
   "cell_type": "markdown",
   "metadata": {},
   "source": [
    "-  Para la configuración obtenida, entrenamos el modelo con todo el dataset de entrenamiento y vemos los resultados obtenidos."
   ]
  },
  {
   "cell_type": "code",
   "execution_count": 26,
   "metadata": {},
   "outputs": [
    {
     "data": {
      "text/plain": [
       "LGBMClassifier(boosting_type='dart', class_weight=None, colsample_bytree=1.0,\n",
       "               importance_type='split', learning_rate=0.2, max_depth=80,\n",
       "               min_child_samples=27, min_child_weight=0.001, min_split_gain=0.8,\n",
       "               n_estimators=60, n_jobs=-1, num_leaves=50, objective=None,\n",
       "               random_state=32, reg_alpha=0.8, reg_lambda=0.6, silent=True,\n",
       "               subsample=1.0, subsample_for_bin=100000, subsample_freq=0)"
      ]
     },
     "execution_count": 26,
     "metadata": {},
     "output_type": "execute_result"
    }
   ],
   "source": [
    "best_lgb.fit(X_train,y_train)"
   ]
  },
  {
   "cell_type": "code",
   "execution_count": 27,
   "metadata": {},
   "outputs": [
    {
     "name": "stdout",
     "output_type": "stream",
     "text": [
      "Precisión sobre el juego de pruebas: 0.8168\n",
      "Precisión sobre el juego de train: 0.8671\n"
     ]
    }
   ],
   "source": [
    "print(\"Precisión sobre el juego de pruebas: {:.4f}\"\n",
    "      .format(best_lgb.score(X_test, y_test)))\n",
    "print(\"Precisión sobre el juego de train: {:.4f}\"\n",
    "      .format(best_lgb.score(X_train, y_train)))"
   ]
  },
  {
   "cell_type": "markdown",
   "metadata": {},
   "source": [
    "- Guardamos nuestro modelo obtenido, para su posterior uso"
   ]
  },
  {
   "cell_type": "code",
   "execution_count": 49,
   "metadata": {},
   "outputs": [],
   "source": [
    "filename = '../Models/light_gbm_model_random_year_93_20.pkl'"
   ]
  },
  {
   "cell_type": "code",
   "execution_count": 30,
   "metadata": {},
   "outputs": [
    {
     "data": {
      "text/plain": [
       "['../Models/light_gbm_model_random_year_93_20.pkl']"
      ]
     },
     "execution_count": 30,
     "metadata": {},
     "output_type": "execute_result"
    }
   ],
   "source": [
    "joblib.dump(best_lgb, filename)"
   ]
  },
  {
   "cell_type": "code",
   "execution_count": 50,
   "metadata": {},
   "outputs": [],
   "source": [
    "best_lgb = joblib.load(filename)"
   ]
  },
  {
   "cell_type": "markdown",
   "metadata": {},
   "source": [
    "- Representamos la curva ROC para ver de manera visual lo bueno que es nuestro modelo obtenido"
   ]
  },
  {
   "cell_type": "code",
   "execution_count": 51,
   "metadata": {},
   "outputs": [
    {
     "data": {
      "image/png": "[encoded data removed]",
      "text/plain": [
       "<Figure size 576x432 with 1 Axes>"
      ]
     },
     "metadata": {
      "needs_background": "light"
     },
     "output_type": "display_data"
    }
   ],
   "source": [
    "probs = best_lgb.predict_proba(X_test)\n",
    "preds = probs[:,1]\n",
    "fpr, tpr, threshold = metrics.roc_curve(y_test, preds)\n",
    "roc_auc = metrics.auc(fpr, tpr)\n",
    "\n",
    "plt.title('Receiver Operating Characteristic')\n",
    "plt.plot(fpr, tpr, 'b', label = 'AUC = %0.2f' % roc_auc)\n",
    "plt.legend(loc = 'lower right')\n",
    "plt.plot([0, 1], [0, 1],'r--')\n",
    "plt.xlim([0, 1])\n",
    "plt.ylim([0, 1])\n",
    "plt.ylabel('True Positive Rate')\n",
    "plt.xlabel('False Positive Rate')\n",
    "plt.show()"
   ]
  },
  {
   "cell_type": "markdown",
   "metadata": {},
   "source": [
    "- Utilizando la función definida al principio del cuaderno, podemos hacer predicciones sobre cualquier canción de interés."
   ]
  },
  {
   "cell_type": "code",
   "execution_count": 52,
   "metadata": {},
   "outputs": [
    {
     "name": "stdout",
     "output_type": "stream",
     "text": [
      "Artista: "
     ]
    },
    {
     "name": "stdin",
     "output_type": "stream",
     "text": [
      " billie eilish\n"
     ]
    },
    {
     "name": "stdout",
     "output_type": "stream",
     "text": [
      "Titulo: "
     ]
    },
    {
     "name": "stdin",
     "output_type": "stream",
     "text": [
      " bad guy\n"
     ]
    },
    {
     "name": "stdout",
     "output_type": "stream",
     "text": [
      "Canción elegida: bad guy de Billie Eilish\n",
      "porcentaje de ser hit: 36.350180818750836\n"
     ]
    }
   ],
   "source": [
    "score = best_lgb.predict_proba(find_song_year())\n",
    "print('porcentaje de ser hit:', score[0][1]*100)"
   ]
  }
 ],
 "metadata": {
  "kernelspec": {
   "display_name": "test",
   "language": "python",
   "name": "test"
  },
  "language_info": {
   "codemirror_mode": {
    "name": "ipython",
    "version": 3
   },
   "file_extension": ".py",
   "mimetype": "text/x-python",
   "name": "python",
   "nbconvert_exporter": "python",
   "pygments_lexer": "ipython3",
   "version": "3.7.7"
  }
 },
 "nbformat": 4,
 "nbformat_minor": 4
}
