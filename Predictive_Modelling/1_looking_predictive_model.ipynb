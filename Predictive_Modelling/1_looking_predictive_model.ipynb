{
 "cells": [
  {
   "cell_type": "code",
   "execution_count": 1,
   "metadata": {},
   "outputs": [],
   "source": [
    "import numpy as np\n",
    "import pandas as pd\n",
    "pd.options.display.max_columns = None\n",
    "from sklearn.model_selection import train_test_split\n",
    "from sklearn.model_selection import cross_val_score\n",
    "from sklearn.model_selection import RandomizedSearchCV\n",
    "from sklearn.model_selection import GridSearchCV\n",
    "from sklearn.model_selection import validation_curve\n",
    "import matplotlib.pyplot as plt\n",
    "import joblib\n",
    "plt.rcParams['figure.figsize'] = 8, 6"
   ]
  },
  {
   "cell_type": "markdown",
   "metadata": {},
   "source": [
    "- Definimos función que usaremos para extraer las caracteristicas necesarias de una canción para hacer una predicción de probabilidad de ser un *hit*."
   ]
  },
  {
   "cell_type": "code",
   "execution_count": 2,
   "metadata": {},
   "outputs": [],
   "source": [
    "import spotipy\n",
    "import spotipy.util as util\n",
    "from spotipy.oauth2 import SpotifyClientCredentials\n",
    "\n",
    "client_credentials_manager = SpotifyClientCredentials(client_id='01ec25b32db847e3aeb622ebe1a894c8', client_secret='cd8d3b7666164ea5943688215d9226c2') \n",
    "sp = spotipy.Spotify(client_credentials_manager=client_credentials_manager, requests_timeout=50)\n",
    "\n",
    "def find_song():\n",
    "    print(\"Artista: \", end=\"\")\n",
    "    artist = input()\n",
    "    print(\"Titulo: \", end=\"\")\n",
    "    title = input()\n",
    "    Searched = str (title + \" \" + artist)\n",
    "    track = sp.search(Searched)\n",
    "    try:\n",
    "        id_track = track[\"tracks\"][\"items\"][0][\"uri\"]\n",
    "        track = sp.track(id_track)\n",
    "        track_feat = sp.audio_features(id_track)\n",
    "        song = [[track_feat[0][\"danceability\"], track_feat[0][\"energy\"], track_feat[0][\"key\"],\n",
    "        track_feat[0][\"loudness\"], track_feat[0][\"mode\"], track_feat[0][\"speechiness\"],\n",
    "        track_feat[0][\"acousticness\"], track_feat[0][\"instrumentalness\"], track_feat[0][\"liveness\"],\n",
    "        track_feat[0][\"valence\"], track_feat[0][\"tempo\"],track_feat[0][\"time_signature\"],\n",
    "                track[\"duration_ms\"]]]\n",
    "        \n",
    "        print (\"Canción elegida:\",track[\"name\"], \"de\", track[\"artists\"][0][\"name\"] )\n",
    "        return song\n",
    "    except:\n",
    "        print (\"ERROR: Titulo no encontrado\")"
   ]
  },
  {
   "cell_type": "markdown",
   "metadata": {},
   "source": [
    "- Se lee dataframe y se realiza *split* para los entrenamientos"
   ]
  },
  {
   "cell_type": "code",
   "execution_count": 3,
   "metadata": {},
   "outputs": [],
   "source": [
    "df_songs = pd.read_csv(\"../Data/fusion_songs_1958_2020.csv\")"
   ]
  },
  {
   "cell_type": "code",
   "execution_count": 4,
   "metadata": {},
   "outputs": [
    {
     "data": {
      "text/html": [
       "<div>\n",
       "<style scoped>\n",
       "    .dataframe tbody tr th:only-of-type {\n",
       "        vertical-align: middle;\n",
       "    }\n",
       "\n",
       "    .dataframe tbody tr th {\n",
       "        vertical-align: top;\n",
       "    }\n",
       "\n",
       "    .dataframe thead th {\n",
       "        text-align: right;\n",
       "    }\n",
       "</style>\n",
       "<table border=\"1\" class=\"dataframe\">\n",
       "  <thead>\n",
       "    <tr style=\"text-align: right;\">\n",
       "      <th></th>\n",
       "      <th>artist</th>\n",
       "      <th>title</th>\n",
       "      <th>id</th>\n",
       "      <th>year_chart</th>\n",
       "      <th>date_chart</th>\n",
       "      <th>release_date</th>\n",
       "      <th>collaboration</th>\n",
       "      <th>rank</th>\n",
       "      <th>weeks</th>\n",
       "      <th>isNew</th>\n",
       "      <th>peakPos</th>\n",
       "      <th>lastPos</th>\n",
       "      <th>danceability</th>\n",
       "      <th>energy</th>\n",
       "      <th>key</th>\n",
       "      <th>loudness</th>\n",
       "      <th>mode</th>\n",
       "      <th>speechiness</th>\n",
       "      <th>acousticness</th>\n",
       "      <th>instrumentalness</th>\n",
       "      <th>liveness</th>\n",
       "      <th>valence</th>\n",
       "      <th>tempo</th>\n",
       "      <th>time_signature</th>\n",
       "      <th>duration_ms</th>\n",
       "      <th>popularity_artist</th>\n",
       "      <th>popularity_song</th>\n",
       "      <th>genres</th>\n",
       "      <th>album</th>\n",
       "      <th>label</th>\n",
       "      <th>song_lyrics</th>\n",
       "      <th>target</th>\n",
       "    </tr>\n",
       "  </thead>\n",
       "  <tbody>\n",
       "    <tr>\n",
       "      <th>0</th>\n",
       "      <td>Hiss Golden Messenger</td>\n",
       "      <td>Lateness of Dancers</td>\n",
       "      <td>42z4npwegunTwhYIjmQdqR</td>\n",
       "      <td>NaN</td>\n",
       "      <td>NaN</td>\n",
       "      <td>2014-09-09</td>\n",
       "      <td>False</td>\n",
       "      <td>NaN</td>\n",
       "      <td>NaN</td>\n",
       "      <td>NaN</td>\n",
       "      <td>NaN</td>\n",
       "      <td>NaN</td>\n",
       "      <td>0.595</td>\n",
       "      <td>0.179</td>\n",
       "      <td>2</td>\n",
       "      <td>-11.783</td>\n",
       "      <td>1</td>\n",
       "      <td>0.0279</td>\n",
       "      <td>0.8480</td>\n",
       "      <td>0.010300</td>\n",
       "      <td>0.5310</td>\n",
       "      <td>0.200</td>\n",
       "      <td>123.533</td>\n",
       "      <td>4</td>\n",
       "      <td>320186</td>\n",
       "      <td>55</td>\n",
       "      <td>27</td>\n",
       "      <td>['alternative country', 'chamber pop', 'deep n...</td>\n",
       "      <td>Lateness of Dancers</td>\n",
       "      <td>Merge Records</td>\n",
       "      <td>NaN</td>\n",
       "      <td>0</td>\n",
       "    </tr>\n",
       "    <tr>\n",
       "      <th>1</th>\n",
       "      <td>Johnny Mathis</td>\n",
       "      <td>My Love for You</td>\n",
       "      <td>5foJJKZXkVdAp5XBYPR5Uw</td>\n",
       "      <td>1960.0</td>\n",
       "      <td>1960-11-07</td>\n",
       "      <td>2015-09-25</td>\n",
       "      <td>False</td>\n",
       "      <td>97.0</td>\n",
       "      <td>11.0</td>\n",
       "      <td>False</td>\n",
       "      <td>47.0</td>\n",
       "      <td>80.0</td>\n",
       "      <td>0.157</td>\n",
       "      <td>0.414</td>\n",
       "      <td>2</td>\n",
       "      <td>-10.966</td>\n",
       "      <td>1</td>\n",
       "      <td>0.0366</td>\n",
       "      <td>0.6810</td>\n",
       "      <td>0.000047</td>\n",
       "      <td>0.1740</td>\n",
       "      <td>0.181</td>\n",
       "      <td>87.920</td>\n",
       "      <td>4</td>\n",
       "      <td>187160</td>\n",
       "      <td>57</td>\n",
       "      <td>30</td>\n",
       "      <td>['adult standards', 'brill building pop', 'eas...</td>\n",
       "      <td>The Singles</td>\n",
       "      <td>Columbia/Legacy</td>\n",
       "      <td>NaN</td>\n",
       "      <td>1</td>\n",
       "    </tr>\n",
       "    <tr>\n",
       "      <th>2</th>\n",
       "      <td>NLE Choppa</td>\n",
       "      <td>Camelot</td>\n",
       "      <td>4sWuPniHClkInYAnzXAYUF</td>\n",
       "      <td>2020.0</td>\n",
       "      <td>2020-02-15</td>\n",
       "      <td>2019-09-13</td>\n",
       "      <td>False</td>\n",
       "      <td>99.0</td>\n",
       "      <td>20.0</td>\n",
       "      <td>False</td>\n",
       "      <td>37.0</td>\n",
       "      <td>92.0</td>\n",
       "      <td>0.787</td>\n",
       "      <td>0.713</td>\n",
       "      <td>7</td>\n",
       "      <td>-5.252</td>\n",
       "      <td>1</td>\n",
       "      <td>0.4010</td>\n",
       "      <td>0.0849</td>\n",
       "      <td>0.000000</td>\n",
       "      <td>0.7170</td>\n",
       "      <td>0.761</td>\n",
       "      <td>175.046</td>\n",
       "      <td>4</td>\n",
       "      <td>148759</td>\n",
       "      <td>84</td>\n",
       "      <td>80</td>\n",
       "      <td>['memphis hip hop']</td>\n",
       "      <td>Camelot</td>\n",
       "      <td>Warner Records</td>\n",
       "      <td>NaN</td>\n",
       "      <td>1</td>\n",
       "    </tr>\n",
       "    <tr>\n",
       "      <th>3</th>\n",
       "      <td>Maejor</td>\n",
       "      <td>DeJa Vu</td>\n",
       "      <td>1vJXZIdnyGzEzJ9NedL4s3</td>\n",
       "      <td>NaN</td>\n",
       "      <td>NaN</td>\n",
       "      <td>2017-09-29</td>\n",
       "      <td>True</td>\n",
       "      <td>NaN</td>\n",
       "      <td>NaN</td>\n",
       "      <td>NaN</td>\n",
       "      <td>NaN</td>\n",
       "      <td>NaN</td>\n",
       "      <td>0.806</td>\n",
       "      <td>0.300</td>\n",
       "      <td>8</td>\n",
       "      <td>-10.243</td>\n",
       "      <td>0</td>\n",
       "      <td>0.3220</td>\n",
       "      <td>0.0811</td>\n",
       "      <td>0.000000</td>\n",
       "      <td>0.1120</td>\n",
       "      <td>0.431</td>\n",
       "      <td>137.850</td>\n",
       "      <td>4</td>\n",
       "      <td>183559</td>\n",
       "      <td>54</td>\n",
       "      <td>13</td>\n",
       "      <td>['la pop']</td>\n",
       "      <td>For You - EP</td>\n",
       "      <td>Duke City</td>\n",
       "      <td>NaN</td>\n",
       "      <td>0</td>\n",
       "    </tr>\n",
       "    <tr>\n",
       "      <th>4</th>\n",
       "      <td>Play-N-Skillz</td>\n",
       "      <td>Si Una Vez (feat. Frankie J, Becky G &amp; Kap G) ...</td>\n",
       "      <td>4oagvVIaRqFtwFVeHi9nv9</td>\n",
       "      <td>NaN</td>\n",
       "      <td>NaN</td>\n",
       "      <td>2017-03-31</td>\n",
       "      <td>True</td>\n",
       "      <td>NaN</td>\n",
       "      <td>NaN</td>\n",
       "      <td>NaN</td>\n",
       "      <td>NaN</td>\n",
       "      <td>NaN</td>\n",
       "      <td>0.622</td>\n",
       "      <td>0.812</td>\n",
       "      <td>5</td>\n",
       "      <td>-2.505</td>\n",
       "      <td>1</td>\n",
       "      <td>0.0543</td>\n",
       "      <td>0.0947</td>\n",
       "      <td>0.000027</td>\n",
       "      <td>0.0511</td>\n",
       "      <td>0.410</td>\n",
       "      <td>176.013</td>\n",
       "      <td>4</td>\n",
       "      <td>240193</td>\n",
       "      <td>67</td>\n",
       "      <td>32</td>\n",
       "      <td>['chicano rap', 'pop rap']</td>\n",
       "      <td>Si Una Vez (feat. Frankie J, Becky G &amp; Kap G) ...</td>\n",
       "      <td>Sony Music Latin/Latium Records</td>\n",
       "      <td>NaN</td>\n",
       "      <td>0</td>\n",
       "    </tr>\n",
       "  </tbody>\n",
       "</table>\n",
       "</div>"
      ],
      "text/plain": [
       "                  artist                                              title  \\\n",
       "0  Hiss Golden Messenger                                Lateness of Dancers   \n",
       "1          Johnny Mathis                                    My Love for You   \n",
       "2             NLE Choppa                                            Camelot   \n",
       "3                 Maejor                                            DeJa Vu   \n",
       "4          Play-N-Skillz  Si Una Vez (feat. Frankie J, Becky G & Kap G) ...   \n",
       "\n",
       "                       id  year_chart  date_chart release_date  collaboration  \\\n",
       "0  42z4npwegunTwhYIjmQdqR         NaN         NaN   2014-09-09          False   \n",
       "1  5foJJKZXkVdAp5XBYPR5Uw      1960.0  1960-11-07   2015-09-25          False   \n",
       "2  4sWuPniHClkInYAnzXAYUF      2020.0  2020-02-15   2019-09-13          False   \n",
       "3  1vJXZIdnyGzEzJ9NedL4s3         NaN         NaN   2017-09-29           True   \n",
       "4  4oagvVIaRqFtwFVeHi9nv9         NaN         NaN   2017-03-31           True   \n",
       "\n",
       "   rank  weeks  isNew  peakPos  lastPos  danceability  energy  key  loudness  \\\n",
       "0   NaN    NaN    NaN      NaN      NaN         0.595   0.179    2   -11.783   \n",
       "1  97.0   11.0  False     47.0     80.0         0.157   0.414    2   -10.966   \n",
       "2  99.0   20.0  False     37.0     92.0         0.787   0.713    7    -5.252   \n",
       "3   NaN    NaN    NaN      NaN      NaN         0.806   0.300    8   -10.243   \n",
       "4   NaN    NaN    NaN      NaN      NaN         0.622   0.812    5    -2.505   \n",
       "\n",
       "   mode  speechiness  acousticness  instrumentalness  liveness  valence  \\\n",
       "0     1       0.0279        0.8480          0.010300    0.5310    0.200   \n",
       "1     1       0.0366        0.6810          0.000047    0.1740    0.181   \n",
       "2     1       0.4010        0.0849          0.000000    0.7170    0.761   \n",
       "3     0       0.3220        0.0811          0.000000    0.1120    0.431   \n",
       "4     1       0.0543        0.0947          0.000027    0.0511    0.410   \n",
       "\n",
       "     tempo  time_signature  duration_ms  popularity_artist  popularity_song  \\\n",
       "0  123.533               4       320186                 55               27   \n",
       "1   87.920               4       187160                 57               30   \n",
       "2  175.046               4       148759                 84               80   \n",
       "3  137.850               4       183559                 54               13   \n",
       "4  176.013               4       240193                 67               32   \n",
       "\n",
       "                                              genres  \\\n",
       "0  ['alternative country', 'chamber pop', 'deep n...   \n",
       "1  ['adult standards', 'brill building pop', 'eas...   \n",
       "2                                ['memphis hip hop']   \n",
       "3                                         ['la pop']   \n",
       "4                         ['chicano rap', 'pop rap']   \n",
       "\n",
       "                                               album  \\\n",
       "0                                Lateness of Dancers   \n",
       "1                                        The Singles   \n",
       "2                                            Camelot   \n",
       "3                                       For You - EP   \n",
       "4  Si Una Vez (feat. Frankie J, Becky G & Kap G) ...   \n",
       "\n",
       "                             label song_lyrics  target  \n",
       "0                    Merge Records         NaN       0  \n",
       "1                  Columbia/Legacy         NaN       1  \n",
       "2                   Warner Records         NaN       1  \n",
       "3                        Duke City         NaN       0  \n",
       "4  Sony Music Latin/Latium Records         NaN       0  "
      ]
     },
     "execution_count": 4,
     "metadata": {},
     "output_type": "execute_result"
    }
   ],
   "source": [
    "df_songs.head()"
   ]
  },
  {
   "cell_type": "code",
   "execution_count": 5,
   "metadata": {},
   "outputs": [],
   "source": [
    "X = df_songs.loc[:,\"danceability\":\"duration_ms\"]\n",
    "y = df_songs.iloc[:,-1]\n",
    "X_train, X_test, y_train, y_test = train_test_split(X, y, random_state=0)"
   ]
  },
  {
   "cell_type": "code",
   "execution_count": 6,
   "metadata": {},
   "outputs": [],
   "source": [
    "df_songs_93 = pd.read_csv(\"../Data/fusion_songs_1993_2020.csv\")"
   ]
  },
  {
   "cell_type": "code",
   "execution_count": 27,
   "metadata": {},
   "outputs": [],
   "source": [
    "X_93 = df_songs_93.loc[:,\"danceability\":\"duration_ms\"]\n",
    "y_93 = df_songs_93.iloc[:,-1]\n",
    "X_train_93, X_test_93, y_train_93, y_test_93 = train_test_split(X_93, y_93, random_state=0)"
   ]
  },
  {
   "cell_type": "code",
   "execution_count": 28,
   "metadata": {},
   "outputs": [
    {
     "name": "stdout",
     "output_type": "stream",
     "text": [
      "Wall time: 10.5 s\n"
     ]
    },
    {
     "data": {
      "text/plain": [
       "0.7608339403223424"
      ]
     },
     "execution_count": 28,
     "metadata": {},
     "output_type": "execute_result"
    }
   ],
   "source": [
    "%%time\n",
    "cross_val_score(forest,X_train_93,y_train_93,cv=5).mean()"
   ]
  },
  {
   "cell_type": "code",
   "execution_count": 30,
   "metadata": {},
   "outputs": [
    {
     "data": {
      "text/plain": [
       "RandomForestClassifier(bootstrap=True, ccp_alpha=0.0, class_weight=None,\n",
       "                       criterion='gini', max_depth=None, max_features='auto',\n",
       "                       max_leaf_nodes=None, max_samples=None,\n",
       "                       min_impurity_decrease=0.0, min_impurity_split=None,\n",
       "                       min_samples_leaf=1, min_samples_split=2,\n",
       "                       min_weight_fraction_leaf=0.0, n_estimators=100,\n",
       "                       n_jobs=None, oob_score=False, random_state=42, verbose=0,\n",
       "                       warm_start=False)"
      ]
     },
     "execution_count": 30,
     "metadata": {},
     "output_type": "execute_result"
    }
   ],
   "source": [
    "forest.fit(X_train_93,y_train_93)"
   ]
  },
  {
   "cell_type": "code",
   "execution_count": 35,
   "metadata": {},
   "outputs": [
    {
     "name": "stdout",
     "output_type": "stream",
     "text": [
      "Precisión sobre datos de pruebas: 0.7700\n",
      "Precisión sobre datos de train: 0.9996\n"
     ]
    }
   ],
   "source": [
    "print(\"Precisión sobre datos de pruebas: {:.4f}\"\n",
    "      .format(forest.score(X_test_93, y_test_93)))\n",
    "print(\"Precisión sobre datos de train: {:.4f}\"\n",
    "      .format(forest.score(X_train_93, y_train_93)))"
   ]
  },
  {
   "cell_type": "code",
   "execution_count": 39,
   "metadata": {},
   "outputs": [],
   "source": [
    "import lightgbm as lgb"
   ]
  },
  {
   "cell_type": "code",
   "execution_count": 40,
   "metadata": {},
   "outputs": [],
   "source": [
    "lgb_clf =lgb.LGBMClassifier()"
   ]
  },
  {
   "cell_type": "code",
   "execution_count": 41,
   "metadata": {},
   "outputs": [
    {
     "name": "stdout",
     "output_type": "stream",
     "text": [
      "Wall time: 1.83 s\n"
     ]
    },
    {
     "data": {
      "text/plain": [
       "0.7619977379754881"
      ]
     },
     "execution_count": 41,
     "metadata": {},
     "output_type": "execute_result"
    }
   ],
   "source": [
    "%%time\n",
    "cross_val_score(lgb_clf, X_train_93,y_train_93, cv=10).mean()"
   ]
  },
  {
   "cell_type": "code",
   "execution_count": 43,
   "metadata": {},
   "outputs": [
    {
     "data": {
      "text/plain": [
       "LGBMClassifier(boosting_type='gbdt', class_weight=None, colsample_bytree=1.0,\n",
       "               importance_type='split', learning_rate=0.1, max_depth=-1,\n",
       "               min_child_samples=20, min_child_weight=0.001, min_split_gain=0.0,\n",
       "               n_estimators=100, n_jobs=-1, num_leaves=31, objective=None,\n",
       "               random_state=None, reg_alpha=0.0, reg_lambda=0.0, silent=True,\n",
       "               subsample=1.0, subsample_for_bin=200000, subsample_freq=0)"
      ]
     },
     "execution_count": 43,
     "metadata": {},
     "output_type": "execute_result"
    }
   ],
   "source": [
    "lgb_clf.fit(X_train_93,y_train_93)"
   ]
  },
  {
   "cell_type": "code",
   "execution_count": 44,
   "metadata": {},
   "outputs": [
    {
     "name": "stdout",
     "output_type": "stream",
     "text": [
      "Precisión sobre datos de pruebas: 0.7710\n",
      "Precisión sobre datos de train: 0.8318\n"
     ]
    }
   ],
   "source": [
    "print(\"Precisión sobre datos de pruebas: {:.4f}\"\n",
    "      .format(lgb_clf.score(X_test_93, y_test_93)))\n",
    "print(\"Precisión sobre datos de train: {:.4f}\"\n",
    "      .format(lgb_clf.score(X_train_93, y_train_93)))"
   ]
  },
  {
   "cell_type": "markdown",
   "metadata": {},
   "source": [
    "## Random Forest"
   ]
  },
  {
   "cell_type": "markdown",
   "metadata": {},
   "source": [
    "- El primer modelo que usaremos de aprendizaje automatico, será *random forest*"
   ]
  },
  {
   "cell_type": "code",
   "execution_count": 11,
   "metadata": {},
   "outputs": [],
   "source": [
    "from sklearn.ensemble import RandomForestClassifier"
   ]
  },
  {
   "cell_type": "code",
   "execution_count": 12,
   "metadata": {},
   "outputs": [],
   "source": [
    "forest = RandomForestClassifier ()"
   ]
  },
  {
   "cell_type": "code",
   "execution_count": 13,
   "metadata": {},
   "outputs": [
    {
     "name": "stdout",
     "output_type": "stream",
     "text": [
      "Wall time: 29.3 s\n"
     ]
    },
    {
     "data": {
      "text/plain": [
       "0.743318993612306"
      ]
     },
     "execution_count": 13,
     "metadata": {},
     "output_type": "execute_result"
    }
   ],
   "source": [
    "%%time\n",
    "cross_val_score(forest,X_train,y_train,cv=5).mean()"
   ]
  },
  {
   "cell_type": "code",
   "execution_count": 14,
   "metadata": {},
   "outputs": [
    {
     "data": {
      "text/plain": [
       "RandomForestClassifier(bootstrap=True, ccp_alpha=0.0, class_weight=None,\n",
       "                       criterion='gini', max_depth=None, max_features='auto',\n",
       "                       max_leaf_nodes=None, max_samples=None,\n",
       "                       min_impurity_decrease=0.0, min_impurity_split=None,\n",
       "                       min_samples_leaf=1, min_samples_split=2,\n",
       "                       min_weight_fraction_leaf=0.0, n_estimators=100,\n",
       "                       n_jobs=None, oob_score=False, random_state=None,\n",
       "                       verbose=0, warm_start=False)"
      ]
     },
     "execution_count": 14,
     "metadata": {},
     "output_type": "execute_result"
    }
   ],
   "source": [
    "forest.fit(X_train,y_train)"
   ]
  },
  {
   "cell_type": "code",
   "execution_count": 15,
   "metadata": {},
   "outputs": [
    {
     "name": "stdout",
     "output_type": "stream",
     "text": [
      "Precisión sobre datos de pruebas: 0.7470\n",
      "Precisión sobre datos de train: 0.9993\n"
     ]
    }
   ],
   "source": [
    "print(\"Precisión sobre datos de pruebas: {:.4f}\"\n",
    "      .format(forest.score(X_test, y_test)))\n",
    "print(\"Precisión sobre datos de train: {:.4f}\"\n",
    "      .format(forest.score(X_train, y_train)))"
   ]
  },
  {
   "cell_type": "markdown",
   "metadata": {},
   "source": [
    "- El numero de estimadores influencia bastante en la rapidez de entremaniento del modelo, ya que indica el numero de arboles usados en el modelo, pero este valor no debe de ser excesivamente alto para obtener un buen *score*. Para ello calcularemos el *score* para diferentes numeros de estimadores, el modelo de *random forest* tendera al sobre entrenamiento, por lo que nos fijaremos en los resultados obtenidos realizando un *cross validation*."
   ]
  },
  {
   "cell_type": "code",
   "execution_count": 33,
   "metadata": {},
   "outputs": [],
   "source": [
    "param_range = [30,40,50,60,90,100,130,150,200,300]\n",
    "train_score, test_score= validation_curve(\n",
    "                                forest,\n",
    "                                X = X_train, y = y_train, \n",
    "                                param_name = 'n_estimators', \n",
    "                               param_range=param_range,\n",
    "                                scoring=\"accuracy\")"
   ]
  },
  {
   "cell_type": "code",
   "execution_count": 34,
   "metadata": {},
   "outputs": [
    {
     "name": "stdout",
     "output_type": "stream",
     "text": [
      "Numero de estimadores para un Cross_val 5 (test) y para todo dataset de entrenamiento (train)\n",
      "n_estimators 30 en test: 0.7336114732724903 en train: 0.9988200782268579\n",
      "n_estimators 40 en test: 0.7367405475880051 en train: 0.9992242503259451\n",
      "n_estimators 50 en test: 0.738200782268579 en train: 0.9994328552803129\n",
      "n_estimators 60 en test: 0.74 en train: 0.9994915254237288\n",
      "n_estimators 90 en test: 0.7429465449804433 en train: 0.9995241199478487\n",
      "n_estimators 100 en test: 0.7429726205997392 en train: 0.9995501955671446\n",
      "n_estimators 130 en test: 0.7434680573663625 en train: 0.9995501955671446\n",
      "n_estimators 150 en test: 0.7437548891786181 en train: 0.9995501955671446\n",
      "n_estimators 200 en test: 0.743155149934811 en train: 0.9995501955671446\n",
      "n_estimators 300 en test: 0.7446153846153846 en train: 0.9995501955671446\n"
     ]
    }
   ],
   "source": [
    "print(\"Numero de estimadores para un Cross_val 5 (test) y para todo dataset de entrenamiento (train)\")\n",
    "print ('n_estimators 30 en test:',test_score[0].mean(),'en train:',train_score[0].mean())\n",
    "print ('n_estimators 40 en test:',test_score[1].mean(),'en train:',train_score[1].mean())\n",
    "print ('n_estimators 50 en test:',test_score[2].mean(),'en train:',train_score[2].mean())\n",
    "print ('n_estimators 60 en test:',test_score[3].mean(),'en train:',train_score[3].mean())\n",
    "print ('n_estimators 90 en test:',test_score[4].mean(),'en train:',train_score[4].mean())\n",
    "print ('n_estimators 100 en test:',test_score[5].mean(),'en train:',train_score[5].mean())\n",
    "print ('n_estimators 130 en test:',test_score[6].mean(),'en train:',train_score[6].mean())\n",
    "print ('n_estimators 150 en test:',test_score[7].mean(),'en train:',train_score[7].mean())\n",
    "print ('n_estimators 200 en test:',test_score[8].mean(),'en train:',train_score[8].mean())\n",
    "print ('n_estimators 300 en test:',test_score[9].mean(),'en train:',train_score[9].mean())"
   ]
  },
  {
   "cell_type": "code",
   "execution_count": 35,
   "metadata": {},
   "outputs": [
    {
     "data": {
      "image/png": "[encoded data removed]",
      "text/plain": [
       "<Figure size 576x432 with 1 Axes>"
      ]
     },
     "metadata": {
      "needs_background": "light"
     },
     "output_type": "display_data"
    }
   ],
   "source": [
    "train_scores_mean = np.mean(train_score, axis=1)\n",
    "train_scores_std = np.std(train_score, axis=1)\n",
    "test_scores_mean = np.mean(test_score, axis=1)\n",
    "test_scores_std = np.std(test_score, axis=1)\n",
    "\n",
    "plt.title(\"Curva de validación con RandomForest\")\n",
    "plt.xlabel(r\"$\\gamma$\")\n",
    "plt.ylabel(\"Score\")\n",
    "plt.ylim(0.0, 1.1)\n",
    "lw = 2\n",
    "plt.semilogx(param_range, train_scores_mean, label=\"Training score\",\n",
    "             color=\"darkorange\", lw=lw)\n",
    "plt.fill_between(param_range, train_scores_mean - train_scores_std,\n",
    "                 train_scores_mean + train_scores_std, alpha=0.2,\n",
    "                 color=\"darkorange\", lw=lw)\n",
    "plt.semilogx(param_range, test_scores_mean, label=\"Cross-validation score\",\n",
    "             color=\"navy\", lw=lw)\n",
    "plt.fill_between(param_range, test_scores_mean - test_scores_std,\n",
    "                 test_scores_mean + test_scores_std, alpha=0.2,\n",
    "                 color=\"navy\", lw=lw)\n",
    "plt.legend(loc=\"best\")\n",
    "plt.show()"
   ]
  },
  {
   "cell_type": "code",
   "execution_count": 16,
   "metadata": {},
   "outputs": [],
   "source": [
    "forest = RandomForestClassifier (random_state=42)"
   ]
  },
  {
   "cell_type": "code",
   "execution_count": 17,
   "metadata": {},
   "outputs": [
    {
     "name": "stdout",
     "output_type": "stream",
     "text": [
      "{'n_estimators': [30, 43, 56, 70, 83, 96, 110, 123, 136, 150], 'max_features': [1, 2, 3, 4, 5, 6, 7, 8, 9, 10, 11, 12, 13, 'auto'], 'max_depth': [10, 20, 30, 40, 50, 60, 70, 80, 90, 100, 110, None], 'min_samples_split': [2, 5, 10], 'min_samples_leaf': [1, 2, 3, 4, 5], 'max_leaf_nodes': [10, 11, 12, 13, 14, 15, 16, 17, 18, 19, 20, 21, 22, 23, 24, 25, 26, 27, 28, 29, 30, 31, 32, 33, 34, 35, 36, 37, 38, 39, 40, 41, 42, 43, 44, 45, 46, 47, 48, 49, 50, 51, 52, 53, 54, 55, 56, 57, 58, 59, 60, 61, 62, 63, 64, 65, 66, 67, 68, 69, 70, 71, 72, 73, 74, 75, 76, 77, 78, 79, 80, 81, 82, 83, 84, 85, 86, 87, 88, 89, 90, 91, 92, 93, 94, 95, 96, 97, 98, 100, None]}\n"
     ]
    }
   ],
   "source": [
    "# Numero de arboles del bosque\n",
    "n_estimators = [int(x) for x in np.linspace(start = 30, stop = 150, num = 10)]\n",
    "# Numero de caracteristicas proporcionadas a cada arbol\n",
    "max_features = [1,2,3,4,5,6,7,8,9,10,11,12,13]\n",
    "max_features.append('auto')\n",
    "# Profundidad de arbol\n",
    "max_depth = [int(x) for x in np.linspace(10, 110, num = 11)]\n",
    "max_depth.append(None)\n",
    "# Minimo valor para separar en subnodos\n",
    "min_samples_split = [2, 5, 10]\n",
    "# Minimo numero de muestras necesarias en hoja despues de dividir\n",
    "min_samples_leaf = [1, 2,3, 4, 5]\n",
    "# Numero maximo de nodos finales\n",
    "max_leaf_nodes = [int(x) for x in np.linspace(10, 100, num = 90)]\n",
    "max_leaf_nodes.append(None)\n",
    "# Creacion de cuadrícula aleatoria\n",
    "param_grid = {'n_estimators': n_estimators,\n",
    "               'max_features': max_features,\n",
    "               'max_depth': max_depth,\n",
    "               'min_samples_split': min_samples_split,\n",
    "               'min_samples_leaf': min_samples_leaf,\n",
    "               \"max_leaf_nodes\": max_leaf_nodes}\n",
    "print(param_grid)"
   ]
  },
  {
   "cell_type": "code",
   "execution_count": 18,
   "metadata": {},
   "outputs": [],
   "source": [
    "forest_random = RandomizedSearchCV(estimator = forest, param_distributions = param_grid, n_iter = 3500, cv = 5, verbose=2, random_state=42, n_jobs = -1)"
   ]
  },
  {
   "cell_type": "code",
   "execution_count": 19,
   "metadata": {},
   "outputs": [
    {
     "name": "stdout",
     "output_type": "stream",
     "text": [
      "Fitting 5 folds for each of 3500 candidates, totalling 17500 fits\n"
     ]
    },
    {
     "name": "stderr",
     "output_type": "stream",
     "text": [
      "[Parallel(n_jobs=-1)]: Using backend LokyBackend with 8 concurrent workers.\n",
      "[Parallel(n_jobs=-1)]: Done  25 tasks      | elapsed:   45.1s\n",
      "[Parallel(n_jobs=-1)]: Done 146 tasks      | elapsed:  3.9min\n",
      "[Parallel(n_jobs=-1)]: Done 349 tasks      | elapsed:  9.9min\n",
      "[Parallel(n_jobs=-1)]: Done 632 tasks      | elapsed: 16.0min\n",
      "[Parallel(n_jobs=-1)]: Done 997 tasks      | elapsed: 25.9min\n",
      "[Parallel(n_jobs=-1)]: Done 1442 tasks      | elapsed: 37.7min\n",
      "[Parallel(n_jobs=-1)]: Done 1969 tasks      | elapsed: 51.4min\n",
      "[Parallel(n_jobs=-1)]: Done 2576 tasks      | elapsed: 66.3min\n",
      "[Parallel(n_jobs=-1)]: Done 3265 tasks      | elapsed: 86.0min\n",
      "[Parallel(n_jobs=-1)]: Done 4034 tasks      | elapsed: 103.7min\n",
      "[Parallel(n_jobs=-1)]: Done 4885 tasks      | elapsed: 127.2min\n",
      "[Parallel(n_jobs=-1)]: Done 5816 tasks      | elapsed: 150.9min\n",
      "[Parallel(n_jobs=-1)]: Done 6829 tasks      | elapsed: 177.5min\n",
      "[Parallel(n_jobs=-1)]: Done 7922 tasks      | elapsed: 205.7min\n",
      "[Parallel(n_jobs=-1)]: Done 9097 tasks      | elapsed: 237.1min\n",
      "[Parallel(n_jobs=-1)]: Done 10352 tasks      | elapsed: 270.0min\n",
      "[Parallel(n_jobs=-1)]: Done 11689 tasks      | elapsed: 306.9min\n",
      "[Parallel(n_jobs=-1)]: Done 13106 tasks      | elapsed: 342.2min\n",
      "[Parallel(n_jobs=-1)]: Done 14605 tasks      | elapsed: 379.9min\n",
      "[Parallel(n_jobs=-1)]: Done 16184 tasks      | elapsed: 424.2min\n",
      "[Parallel(n_jobs=-1)]: Done 17500 out of 17500 | elapsed: 458.4min finished\n"
     ]
    },
    {
     "data": {
      "text/plain": [
       "RandomizedSearchCV(cv=5, error_score=nan,\n",
       "                   estimator=RandomForestClassifier(bootstrap=True,\n",
       "                                                    ccp_alpha=0.0,\n",
       "                                                    class_weight=None,\n",
       "                                                    criterion='gini',\n",
       "                                                    max_depth=None,\n",
       "                                                    max_features='auto',\n",
       "                                                    max_leaf_nodes=None,\n",
       "                                                    max_samples=None,\n",
       "                                                    min_impurity_decrease=0.0,\n",
       "                                                    min_impurity_split=None,\n",
       "                                                    min_samples_leaf=1,\n",
       "                                                    min_samples_split=2,\n",
       "                                                    min_weight_fraction_leaf=0.0,\n",
       "                                                    n_estimators=100,\n",
       "                                                    n_jobs...\n",
       "                                        'max_features': [1, 2, 3, 4, 5, 6, 7, 8,\n",
       "                                                         9, 10, 11, 12, 13,\n",
       "                                                         'auto'],\n",
       "                                        'max_leaf_nodes': [10, 11, 12, 13, 14,\n",
       "                                                           15, 16, 17, 18, 19,\n",
       "                                                           20, 21, 22, 23, 24,\n",
       "                                                           25, 26, 27, 28, 29,\n",
       "                                                           30, 31, 32, 33, 34,\n",
       "                                                           35, 36, 37, 38, 39, ...],\n",
       "                                        'min_samples_leaf': [1, 2, 3, 4, 5],\n",
       "                                        'min_samples_split': [2, 5, 10],\n",
       "                                        'n_estimators': [30, 43, 56, 70, 83, 96,\n",
       "                                                         110, 123, 136, 150]},\n",
       "                   pre_dispatch='2*n_jobs', random_state=42, refit=True,\n",
       "                   return_train_score=False, scoring=None, verbose=2)"
      ]
     },
     "execution_count": 19,
     "metadata": {},
     "output_type": "execute_result"
    }
   ],
   "source": [
    "# Fit the random search model\n",
    "forest_random.fit(X_train, y_train)"
   ]
  },
  {
   "cell_type": "code",
   "execution_count": 45,
   "metadata": {},
   "outputs": [
    {
     "data": {
      "text/plain": [
       "{'n_estimators': 150,\n",
       " 'min_samples_split': 2,\n",
       " 'min_samples_leaf': 3,\n",
       " 'max_leaf_nodes': None,\n",
       " 'max_features': 6,\n",
       " 'max_depth': 20}"
      ]
     },
     "execution_count": 45,
     "metadata": {},
     "output_type": "execute_result"
    }
   ],
   "source": [
    "forest_random.best_params_"
   ]
  },
  {
   "cell_type": "code",
   "execution_count": 46,
   "metadata": {},
   "outputs": [
    {
     "data": {
      "text/plain": [
       "0.7466562377786469"
      ]
     },
     "execution_count": 46,
     "metadata": {},
     "output_type": "execute_result"
    }
   ],
   "source": [
    "forest_random.best_score_"
   ]
  },
  {
   "cell_type": "code",
   "execution_count": 47,
   "metadata": {},
   "outputs": [],
   "source": [
    "best_forest = forest_random.best_estimator_"
   ]
  },
  {
   "cell_type": "code",
   "execution_count": 48,
   "metadata": {},
   "outputs": [
    {
     "data": {
      "image/png": "[encoded data removed]",
      "text/plain": [
       "<Figure size 576x432 with 1 Axes>"
      ]
     },
     "metadata": {
      "needs_background": "light"
     },
     "output_type": "display_data"
    }
   ],
   "source": [
    "plt.barh(df_songs.loc[:,\"danceability\":\"duration_ms\"].columns, best_forest.feature_importances_);"
   ]
  },
  {
   "cell_type": "code",
   "execution_count": 49,
   "metadata": {},
   "outputs": [
    {
     "data": {
      "text/plain": [
       "RandomForestClassifier(bootstrap=True, ccp_alpha=0.0, class_weight=None,\n",
       "                       criterion='gini', max_depth=20, max_features=6,\n",
       "                       max_leaf_nodes=None, max_samples=None,\n",
       "                       min_impurity_decrease=0.0, min_impurity_split=None,\n",
       "                       min_samples_leaf=3, min_samples_split=2,\n",
       "                       min_weight_fraction_leaf=0.0, n_estimators=150,\n",
       "                       n_jobs=None, oob_score=False, random_state=42, verbose=0,\n",
       "                       warm_start=False)"
      ]
     },
     "execution_count": 49,
     "metadata": {},
     "output_type": "execute_result"
    }
   ],
   "source": [
    "best_forest.fit(X_train,y_train)"
   ]
  },
  {
   "cell_type": "code",
   "execution_count": 50,
   "metadata": {},
   "outputs": [
    {
     "name": "stdout",
     "output_type": "stream",
     "text": [
      "Precisión sobre datos de pruebas: 0.7475\n",
      "Precisión sobre datos de train: 0.95\n"
     ]
    }
   ],
   "source": [
    "print(\"Precisión sobre datos de pruebas: {:.4f}\"\n",
    "      .format(best_forest.score(X_test, y_test)))\n",
    "print(\"Precisión sobre datos de train: {:.2f}\"\n",
    "      .format(best_forest.score(X_train, y_train)))"
   ]
  },
  {
   "cell_type": "code",
   "execution_count": 47,
   "metadata": {},
   "outputs": [
    {
     "data": {
      "text/plain": [
       "['finalized_forest_model_1.pkl']"
      ]
     },
     "execution_count": 47,
     "metadata": {},
     "output_type": "execute_result"
    }
   ],
   "source": [
    "filename = 'finalized_forest_model_1.pkl'\n",
    "joblib.dump(best_forest, filename)"
   ]
  },
  {
   "cell_type": "code",
   "execution_count": 10,
   "metadata": {},
   "outputs": [],
   "source": [
    "best_forest = joblib.load('finalized_forest_model_1.pkl') "
   ]
  },
  {
   "cell_type": "code",
   "execution_count": 17,
   "metadata": {},
   "outputs": [
    {
     "data": {
      "text/plain": [
       "DecisionTreeClassifier(ccp_alpha=0.0, class_weight=None, criterion='gini',\n",
       "                       max_depth=None, max_features=None, max_leaf_nodes=None,\n",
       "                       min_impurity_decrease=0.0, min_impurity_split=None,\n",
       "                       min_samples_leaf=1, min_samples_split=2,\n",
       "                       min_weight_fraction_leaf=0.0, presort='deprecated',\n",
       "                       random_state=None, splitter='best')"
      ]
     },
     "execution_count": 17,
     "metadata": {},
     "output_type": "execute_result"
    }
   ],
   "source": [
    "best_forest.base_estimator_"
   ]
  },
  {
   "cell_type": "code",
   "execution_count": 51,
   "metadata": {},
   "outputs": [
    {
     "data": {
      "text/plain": [
       "{'n_estimators': 150,\n",
       " 'min_samples_split': 2,\n",
       " 'min_samples_leaf': 3,\n",
       " 'max_leaf_nodes': None,\n",
       " 'max_features': 6,\n",
       " 'max_depth': 20}"
      ]
     },
     "execution_count": 51,
     "metadata": {},
     "output_type": "execute_result"
    }
   ],
   "source": [
    "forest_random.best_params_"
   ]
  },
  {
   "cell_type": "code",
   "execution_count": 52,
   "metadata": {},
   "outputs": [
    {
     "name": "stdout",
     "output_type": "stream",
     "text": [
      "{'n_estimators': [140, 143, 147, 151, 155], 'max_features': [4, 5, 6, 7, 8, 'auto'], 'max_depth': [10, 15, 20, 25, 30, None], 'min_samples_split': [2, 3, 4, 5], 'min_samples_leaf': [2, 3, 4], 'max_leaf_nodes': [None]}\n"
     ]
    }
   ],
   "source": [
    "# Numero de arboles del bosque\n",
    "n_estimators = [int(x) for x in np.linspace(start = 140, stop = 155, num = 5)]\n",
    "# Numero de caracteristicas proporcionadas a cada arbol\n",
    "max_features = [4,5,6,7,8]\n",
    "max_features.append('auto')\n",
    "# Profundidad de arbol\n",
    "max_depth = [int(x) for x in np.linspace(10, 30, num = 5)]\n",
    "max_depth.append(None)\n",
    "# Minimo valor para separar en subnodos\n",
    "min_samples_split = [2, 3, 4, 5]\n",
    "# Minimo numero de muestras necesarias en hoja despues de dividir\n",
    "min_samples_leaf = [2,3, 4]\n",
    "# Numero maximo de nodos finales\n",
    "max_leaf_nodes = []\n",
    "max_leaf_nodes.append(None)\n",
    "# Numero de muestras maximo que se le asigna a cada arbol\n",
    "# max_samples\n",
    "# Creacion de cuadrícula aleatoria\n",
    "param_grid = {'n_estimators': n_estimators,\n",
    "               'max_features': max_features,\n",
    "               'max_depth': max_depth,\n",
    "               'min_samples_split': min_samples_split,\n",
    "               'min_samples_leaf': min_samples_leaf,\n",
    "               \"max_leaf_nodes\": max_leaf_nodes}\n",
    "print(param_grid)"
   ]
  },
  {
   "cell_type": "code",
   "execution_count": 53,
   "metadata": {},
   "outputs": [],
   "source": [
    "forest_grid = GridSearchCV(estimator = forest, param_grid = param_grid, cv = 5, verbose=2, n_jobs = -1)"
   ]
  },
  {
   "cell_type": "code",
   "execution_count": 54,
   "metadata": {},
   "outputs": [
    {
     "name": "stdout",
     "output_type": "stream",
     "text": [
      "Fitting 5 folds for each of 2160 candidates, totalling 10800 fits\n"
     ]
    },
    {
     "name": "stderr",
     "output_type": "stream",
     "text": [
      "[Parallel(n_jobs=-1)]: Using backend LokyBackend with 8 concurrent workers.\n",
      "[Parallel(n_jobs=-1)]: Done  25 tasks      | elapsed:  1.0min\n",
      "[Parallel(n_jobs=-1)]: Done 146 tasks      | elapsed:  4.9min\n",
      "[Parallel(n_jobs=-1)]: Done 349 tasks      | elapsed: 11.8min\n",
      "[Parallel(n_jobs=-1)]: Done 632 tasks      | elapsed: 23.2min\n",
      "[Parallel(n_jobs=-1)]: Done 997 tasks      | elapsed: 40.9min\n",
      "[Parallel(n_jobs=-1)]: Done 1442 tasks      | elapsed: 66.2min\n",
      "[Parallel(n_jobs=-1)]: Done 1969 tasks      | elapsed: 84.7min\n",
      "[Parallel(n_jobs=-1)]: Done 2576 tasks      | elapsed: 117.4min\n",
      "[Parallel(n_jobs=-1)]: Done 3265 tasks      | elapsed: 168.3min\n",
      "[Parallel(n_jobs=-1)]: Done 4034 tasks      | elapsed: 204.5min\n",
      "[Parallel(n_jobs=-1)]: Done 4885 tasks      | elapsed: 268.2min\n",
      "[Parallel(n_jobs=-1)]: Done 5816 tasks      | elapsed: 322.5min\n",
      "[Parallel(n_jobs=-1)]: Done 6829 tasks      | elapsed: 402.7min\n",
      "[Parallel(n_jobs=-1)]: Done 7922 tasks      | elapsed: 465.4min\n",
      "[Parallel(n_jobs=-1)]: Done 9097 tasks      | elapsed: 550.0min\n",
      "[Parallel(n_jobs=-1)]: Done 10352 tasks      | elapsed: 641.8min\n",
      "[Parallel(n_jobs=-1)]: Done 10800 out of 10800 | elapsed: 668.3min finished\n"
     ]
    },
    {
     "data": {
      "text/plain": [
       "GridSearchCV(cv=5, error_score=nan,\n",
       "             estimator=RandomForestClassifier(bootstrap=True, ccp_alpha=0.0,\n",
       "                                              class_weight=None,\n",
       "                                              criterion='gini', max_depth=None,\n",
       "                                              max_features='auto',\n",
       "                                              max_leaf_nodes=None,\n",
       "                                              max_samples=None,\n",
       "                                              min_impurity_decrease=0.0,\n",
       "                                              min_impurity_split=None,\n",
       "                                              min_samples_leaf=1,\n",
       "                                              min_samples_split=2,\n",
       "                                              min_weight_fraction_leaf=0.0,\n",
       "                                              n_estimators=100, n_jobs=None,\n",
       "                                              oob_score=False, random_state=42,\n",
       "                                              verbose=0, warm_start=False),\n",
       "             iid='deprecated', n_jobs=-1,\n",
       "             param_grid={'max_depth': [10, 15, 20, 25, 30, None],\n",
       "                         'max_features': [4, 5, 6, 7, 8, 'auto'],\n",
       "                         'max_leaf_nodes': [None],\n",
       "                         'min_samples_leaf': [2, 3, 4],\n",
       "                         'min_samples_split': [2, 3, 4, 5],\n",
       "                         'n_estimators': [140, 143, 147, 151, 155]},\n",
       "             pre_dispatch='2*n_jobs', refit=True, return_train_score=False,\n",
       "             scoring=None, verbose=2)"
      ]
     },
     "execution_count": 54,
     "metadata": {},
     "output_type": "execute_result"
    }
   ],
   "source": [
    "forest_grid.fit(X_train,y_train)"
   ]
  },
  {
   "cell_type": "code",
   "execution_count": 55,
   "metadata": {},
   "outputs": [
    {
     "data": {
      "text/plain": [
       "{'max_depth': 20,\n",
       " 'max_features': 'auto',\n",
       " 'max_leaf_nodes': None,\n",
       " 'min_samples_leaf': 3,\n",
       " 'min_samples_split': 2,\n",
       " 'n_estimators': 151}"
      ]
     },
     "execution_count": 55,
     "metadata": {},
     "output_type": "execute_result"
    }
   ],
   "source": [
    "forest_grid.best_params_"
   ]
  },
  {
   "cell_type": "code",
   "execution_count": 58,
   "metadata": {},
   "outputs": [
    {
     "data": {
      "text/plain": [
       "0.7478555599009257"
      ]
     },
     "execution_count": 58,
     "metadata": {},
     "output_type": "execute_result"
    }
   ],
   "source": [
    "forest_grid.best_score_"
   ]
  },
  {
   "cell_type": "code",
   "execution_count": 59,
   "metadata": {},
   "outputs": [],
   "source": [
    "best_forest_refined = forest_grid.best_estimator_"
   ]
  },
  {
   "cell_type": "code",
   "execution_count": 60,
   "metadata": {},
   "outputs": [
    {
     "data": {
      "text/plain": [
       "RandomForestClassifier(bootstrap=True, ccp_alpha=0.0, class_weight=None,\n",
       "                       criterion='gini', max_depth=20, max_features='auto',\n",
       "                       max_leaf_nodes=None, max_samples=None,\n",
       "                       min_impurity_decrease=0.0, min_impurity_split=None,\n",
       "                       min_samples_leaf=3, min_samples_split=2,\n",
       "                       min_weight_fraction_leaf=0.0, n_estimators=151,\n",
       "                       n_jobs=None, oob_score=False, random_state=42, verbose=0,\n",
       "                       warm_start=False)"
      ]
     },
     "execution_count": 60,
     "metadata": {},
     "output_type": "execute_result"
    }
   ],
   "source": [
    "best_forest_refined.fit(X_train,y_train)"
   ]
  },
  {
   "cell_type": "code",
   "execution_count": 61,
   "metadata": {},
   "outputs": [
    {
     "name": "stdout",
     "output_type": "stream",
     "text": [
      "Precisión sobre el juego de pruebas: 0.7462\n",
      "Precisión sobre el juego de train: 0.9317\n"
     ]
    }
   ],
   "source": [
    "print(\"Precisión sobre el juego de pruebas: {:.4f}\"\n",
    "      .format(best_forest_refined.score(X_test, y_test)))\n",
    "print(\"Precisión sobre el juego de train: {:.4f}\"\n",
    "      .format(best_forest_refined.score(X_train, y_train)))"
   ]
  },
  {
   "cell_type": "code",
   "execution_count": 253,
   "metadata": {},
   "outputs": [
    {
     "data": {
      "text/plain": [
       "['finalized_forest_refined_model.pkl']"
      ]
     },
     "execution_count": 253,
     "metadata": {},
     "output_type": "execute_result"
    }
   ],
   "source": [
    "filename = 'finalized_forest_refined_model.pkl'\n",
    "joblib.dump(best_forest_refined, filename)"
   ]
  },
  {
   "cell_type": "code",
   "execution_count": 21,
   "metadata": {},
   "outputs": [],
   "source": [
    "best_forest_refined = joblib.load('finalized_forest_refined_model.pkl') "
   ]
  },
  {
   "cell_type": "code",
   "execution_count": 22,
   "metadata": {},
   "outputs": [
    {
     "name": "stdout",
     "output_type": "stream",
     "text": [
      "Artista: "
     ]
    },
    {
     "name": "stdin",
     "output_type": "stream",
     "text": [
      " allie crow buckley\n"
     ]
    },
    {
     "name": "stdout",
     "output_type": "stream",
     "text": [
      "Titulo: "
     ]
    },
    {
     "name": "stdin",
     "output_type": "stream",
     "text": [
      " hanging tough\n"
     ]
    },
    {
     "data": {
      "text/plain": [
       "array([[0.47930462, 0.52069538]])"
      ]
     },
     "execution_count": 22,
     "metadata": {},
     "output_type": "execute_result"
    }
   ],
   "source": [
    "best_forest_refined.predict_proba(find_song())"
   ]
  },
  {
   "cell_type": "markdown",
   "metadata": {},
   "source": [
    "## AdaBoost"
   ]
  },
  {
   "cell_type": "code",
   "execution_count": 7,
   "metadata": {},
   "outputs": [],
   "source": [
    "from sklearn.ensemble import AdaBoostClassifier"
   ]
  },
  {
   "cell_type": "code",
   "execution_count": 8,
   "metadata": {},
   "outputs": [],
   "source": [
    "ada_clf = AdaBoostClassifier()"
   ]
  },
  {
   "cell_type": "code",
   "execution_count": 9,
   "metadata": {},
   "outputs": [
    {
     "name": "stdout",
     "output_type": "stream",
     "text": [
      "Wall time: 6.87 s\n"
     ]
    },
    {
     "data": {
      "text/plain": [
       "0.7121366184330595"
      ]
     },
     "execution_count": 9,
     "metadata": {},
     "output_type": "execute_result"
    }
   ],
   "source": [
    "%%time\n",
    "cross_val_score(ada_clf,X_train,y_train,cv=5).mean()"
   ]
  },
  {
   "cell_type": "code",
   "execution_count": 10,
   "metadata": {},
   "outputs": [
    {
     "data": {
      "text/plain": [
       "AdaBoostClassifier(algorithm='SAMME.R', base_estimator=None, learning_rate=1.0,\n",
       "                   n_estimators=50, random_state=None)"
      ]
     },
     "execution_count": 10,
     "metadata": {},
     "output_type": "execute_result"
    }
   ],
   "source": [
    "ada_clf.fit(X_train,y_train)"
   ]
  },
  {
   "cell_type": "code",
   "execution_count": 11,
   "metadata": {},
   "outputs": [
    {
     "name": "stdout",
     "output_type": "stream",
     "text": [
      "Precisión sobre el juego de pruebas: 0.71\n",
      "Precisión sobre el juego de train: 0.72\n"
     ]
    }
   ],
   "source": [
    "print(\"Precisión sobre el juego de pruebas: {:.2f}\"\n",
    "      .format(ada_clf.score(X_test, y_test)))\n",
    "print(\"Precisión sobre el juego de train: {:.2f}\"\n",
    "      .format(ada_clf.score(X_train, y_train)))"
   ]
  },
  {
   "cell_type": "code",
   "execution_count": 55,
   "metadata": {},
   "outputs": [],
   "source": [
    "param_range = [25,30,40,50,60,90,100,130]\n",
    "train_score, test_score= validation_curve(\n",
    "                                ada_clf,\n",
    "                                X = X_train, y = y_train, \n",
    "                                param_name = 'n_estimators', \n",
    "                               param_range=param_range,\n",
    "                                scoring=\"accuracy\")"
   ]
  },
  {
   "cell_type": "code",
   "execution_count": 56,
   "metadata": {},
   "outputs": [
    {
     "name": "stdout",
     "output_type": "stream",
     "text": [
      "Numero de estimadores para un Cross_val 5 (test) y para todo dataset de entrenamiento (train)\n",
      "n_estimators 25 en test: 0.7040417209908736 en train : 0.7083507170795306\n",
      "n_estimators 30 en test: 0.7069361147327249 en train: 0.710651890482399\n",
      "n_estimators 40 en test: 0.7107431551499348 en train: 0.715058670143416\n",
      "n_estimators 50 en test: 0.7142112125162973 en train: 0.71883963494133\n",
      "n_estimators 60 en test: 0.7152281616688396 en train: 0.7202346805736637\n",
      "n_estimators 90 en test: 0.7166623207301173 en train: 0.7236310299869622\n",
      "n_estimators 100 en test: 0.7180964797913951 en train: 0.72496740547588\n",
      "n_estimators 130 en test: 0.7192438070404171 en train: 0.726792698826597\n"
     ]
    }
   ],
   "source": [
    "print(\"Numero de estimadores para un Cross_val 5 (test) y para todo dataset de entrenamiento (train)\")\n",
    "print ('n_estimators 25 en test:',test_score[0].mean(),'en train :',train_score[0].mean())\n",
    "print ('n_estimators 30 en test:',test_score[1].mean(),'en train:',train_score[1].mean())\n",
    "print ('n_estimators 40 en test:',test_score[2].mean(),'en train:',train_score[2].mean())\n",
    "print ('n_estimators 50 en test:',test_score[3].mean(),'en train:',train_score[3].mean())\n",
    "print ('n_estimators 60 en test:',test_score[4].mean(),'en train:',train_score[4].mean())\n",
    "print ('n_estimators 90 en test:',test_score[5].mean(),'en train:',train_score[5].mean())\n",
    "print ('n_estimators 100 en test:',test_score[6].mean(),'en train:',train_score[6].mean())\n",
    "print ('n_estimators 130 en test:',test_score[7].mean(),'en train:',train_score[7].mean())"
   ]
  },
  {
   "cell_type": "code",
   "execution_count": 12,
   "metadata": {},
   "outputs": [
    {
     "name": "stdout",
     "output_type": "stream",
     "text": [
      "{'n_estimators': [30, 43, 56, 70, 83, 96, 110, 123, 136, 150], 'algorithm': ['SAMME', 'SAMME.R'], 'learning_rate': [0.05, 0.1, 0.15, 0.2, 0.25, 0.3, 0.35, 0.39999999999999997, 0.44999999999999996, 0.49999999999999994, 0.5499999999999999, 0.6, 0.65, 0.7, 0.75, 0.7999999999999999, 0.85, 0.9, 0.95, 1.0], 'base_estimator__max_features': [1, 2, 3, 4, 5, 6, 7, 8, 9, 10, 11, 12, 13, 'auto'], 'base_estimator__max_depth': [10, 20, 30, 40, 50, 60, 70, 80, 90, 100, 110, None], 'base_estimator__min_samples_split': [2, 5, 10], 'base_estimator__min_samples_leaf': [1, 2, 3, 4, 5], 'base_estimator__max_leaf_nodes': [10, 11, 12, 13, 14, 15, 16, 17, 18, 19, 20, 21, 22, 23, 24, 25, 26, 27, 28, 29, 30, 31, 32, 33, 34, 35, 36, 37, 38, 39, 40, 41, 42, 43, 44, 45, 46, 47, 48, 49, 50, 51, 52, 53, 54, 55, 56, 57, 58, 59, 60, 61, 62, 63, 64, 65, 66, 67, 68, 69, 70, 71, 72, 73, 74, 75, 76, 77, 78, 79, 80, 81, 82, 83, 84, 85, 86, 87, 88, 89, 90, 91, 92, 93, 94, 95, 96, 97, 98, 100, None]}\n"
     ]
    }
   ],
   "source": [
    "# Numero de arboles del bosque\n",
    "n_estimators = [int(x) for x in np.linspace(start = 30, stop = 150, num = 10)]\n",
    "# Numero de caracteristicas proporcionadas a cada arbol\n",
    "max_features = [1,2,3,4,5,6,7,8,9,10,11,12,13]\n",
    "max_features.append('auto')\n",
    "# Profundidad de arbol\n",
    "max_depth = [int(x) for x in np.linspace(10, 110, num = 11)]\n",
    "max_depth.append(None)\n",
    "# Minimo valor para separar en subnodos\n",
    "min_samples_split = [2, 5, 10]\n",
    "# Minimo numero de muestras necesarias en hoja despues de dividir\n",
    "min_samples_leaf = [1, 2,3, 4, 5]\n",
    "# Numero maximo de nodos finales\n",
    "max_leaf_nodes = [int(x) for x in np.linspace(10, 100, num = 90)]\n",
    "max_leaf_nodes.append(None)\n",
    "#Algoritmo de implementacion\n",
    "algorithm = ['SAMME', 'SAMME.R']\n",
    "learning_rate = [float(x) for x in np.linspace(0.05, 1., num = 20)]\n",
    "# Numero de muestras maximo que se le asigna a cada arbol\n",
    "# max_samples\n",
    "# Creacion de cuadrícula aleatoria\n",
    "param_grid = {'n_estimators': n_estimators,\n",
    "               'algorithm': algorithm,\n",
    "              'learning_rate':learning_rate,\n",
    "               'base_estimator__max_features': max_features,\n",
    "               'base_estimator__max_depth': max_depth,\n",
    "               'base_estimator__min_samples_split': min_samples_split,\n",
    "               'base_estimator__min_samples_leaf': min_samples_leaf,\n",
    "               \"base_estimator__max_leaf_nodes\": max_leaf_nodes}\n",
    "print(param_grid)"
   ]
  },
  {
   "cell_type": "code",
   "execution_count": 13,
   "metadata": {},
   "outputs": [],
   "source": [
    "from sklearn.tree import DecisionTreeClassifier"
   ]
  },
  {
   "cell_type": "code",
   "execution_count": 14,
   "metadata": {},
   "outputs": [],
   "source": [
    "base_estimator = DecisionTreeClassifier(random_state=42)\n",
    "ada_clf = AdaBoostClassifier(base_estimator=base_estimator, random_state=42)"
   ]
  },
  {
   "cell_type": "code",
   "execution_count": 15,
   "metadata": {},
   "outputs": [],
   "source": [
    "# Random search of parameters, using 3 fold cross validation, \n",
    "# search across 100 different combinations, and use all available cores\n",
    "ada_random = RandomizedSearchCV(estimator = ada_clf, param_distributions = param_grid, n_iter = 3250, cv = 5, verbose=2, random_state=42, n_jobs = -1)"
   ]
  },
  {
   "cell_type": "code",
   "execution_count": 16,
   "metadata": {},
   "outputs": [
    {
     "name": "stdout",
     "output_type": "stream",
     "text": [
      "Fitting 5 folds for each of 3250 candidates, totalling 16250 fits\n"
     ]
    },
    {
     "name": "stderr",
     "output_type": "stream",
     "text": [
      "[Parallel(n_jobs=-1)]: Using backend LokyBackend with 8 concurrent workers.\n",
      "[Parallel(n_jobs=-1)]: Done  25 tasks      | elapsed:  1.3min\n",
      "[Parallel(n_jobs=-1)]: Done 146 tasks      | elapsed:  5.0min\n",
      "[Parallel(n_jobs=-1)]: Done 349 tasks      | elapsed: 11.5min\n",
      "[Parallel(n_jobs=-1)]: Done 632 tasks      | elapsed: 25.0min\n",
      "[Parallel(n_jobs=-1)]: Done 997 tasks      | elapsed: 39.1min\n",
      "[Parallel(n_jobs=-1)]: Done 1442 tasks      | elapsed: 55.6min\n",
      "[Parallel(n_jobs=-1)]: Done 1969 tasks      | elapsed: 76.5min\n",
      "[Parallel(n_jobs=-1)]: Done 2576 tasks      | elapsed: 99.1min\n",
      "[Parallel(n_jobs=-1)]: Done 3265 tasks      | elapsed: 123.8min\n",
      "[Parallel(n_jobs=-1)]: Done 4034 tasks      | elapsed: 154.3min\n",
      "[Parallel(n_jobs=-1)]: Done 4885 tasks      | elapsed: 189.4min\n",
      "[Parallel(n_jobs=-1)]: Done 5816 tasks      | elapsed: 227.1min\n",
      "[Parallel(n_jobs=-1)]: Done 6829 tasks      | elapsed: 262.9min\n",
      "[Parallel(n_jobs=-1)]: Done 7922 tasks      | elapsed: 304.5min\n",
      "[Parallel(n_jobs=-1)]: Done 9097 tasks      | elapsed: 351.0min\n",
      "[Parallel(n_jobs=-1)]: Done 10352 tasks      | elapsed: 401.3min\n",
      "[Parallel(n_jobs=-1)]: Done 11689 tasks      | elapsed: 461.5min\n",
      "[Parallel(n_jobs=-1)]: Done 13106 tasks      | elapsed: 518.0min\n",
      "[Parallel(n_jobs=-1)]: Done 14605 tasks      | elapsed: 577.3min\n",
      "[Parallel(n_jobs=-1)]: Done 16184 tasks      | elapsed: 636.5min\n",
      "[Parallel(n_jobs=-1)]: Done 16250 out of 16250 | elapsed: 640.5min finished\n"
     ]
    },
    {
     "data": {
      "text/plain": [
       "RandomizedSearchCV(cv=5, error_score=nan,\n",
       "                   estimator=AdaBoostClassifier(algorithm='SAMME.R',\n",
       "                                                base_estimator=DecisionTreeClassifier(ccp_alpha=0.0,\n",
       "                                                                                      class_weight=None,\n",
       "                                                                                      criterion='gini',\n",
       "                                                                                      max_depth=None,\n",
       "                                                                                      max_features=None,\n",
       "                                                                                      max_leaf_nodes=None,\n",
       "                                                                                      min_impurity_decrease=0.0,\n",
       "                                                                                      min_impurity_split=None,\n",
       "                                                                                      min_samples_leaf=1,\n",
       "                                                                                      min_samples_split=2,\n",
       "                                                                                      min_weight_fraction_leaf=0.0,\n",
       "                                                                                      pre...\n",
       "                                        'base_estimator__min_samples_split': [2,\n",
       "                                                                              5,\n",
       "                                                                              10],\n",
       "                                        'learning_rate': [0.05, 0.1, 0.15, 0.2,\n",
       "                                                          0.25, 0.3, 0.35,\n",
       "                                                          0.39999999999999997,\n",
       "                                                          0.44999999999999996,\n",
       "                                                          0.49999999999999994,\n",
       "                                                          0.5499999999999999,\n",
       "                                                          0.6, 0.65, 0.7, 0.75,\n",
       "                                                          0.7999999999999999,\n",
       "                                                          0.85, 0.9, 0.95,\n",
       "                                                          1.0],\n",
       "                                        'n_estimators': [30, 43, 56, 70, 83, 96,\n",
       "                                                         110, 123, 136, 150]},\n",
       "                   pre_dispatch='2*n_jobs', random_state=42, refit=True,\n",
       "                   return_train_score=False, scoring=None, verbose=2)"
      ]
     },
     "execution_count": 16,
     "metadata": {},
     "output_type": "execute_result"
    }
   ],
   "source": [
    "ada_random.fit(X_train,y_train)"
   ]
  },
  {
   "cell_type": "code",
   "execution_count": 17,
   "metadata": {},
   "outputs": [
    {
     "data": {
      "text/plain": [
       "0.747438404380133"
      ]
     },
     "execution_count": 17,
     "metadata": {},
     "output_type": "execute_result"
    }
   ],
   "source": [
    "ada_random.best_score_"
   ]
  },
  {
   "cell_type": "code",
   "execution_count": 18,
   "metadata": {},
   "outputs": [
    {
     "data": {
      "text/plain": [
       "{'n_estimators': 136,\n",
       " 'learning_rate': 0.1,\n",
       " 'base_estimator__min_samples_split': 5,\n",
       " 'base_estimator__min_samples_leaf': 2,\n",
       " 'base_estimator__max_leaf_nodes': 88,\n",
       " 'base_estimator__max_features': 11,\n",
       " 'base_estimator__max_depth': 80,\n",
       " 'algorithm': 'SAMME'}"
      ]
     },
     "execution_count": 18,
     "metadata": {},
     "output_type": "execute_result"
    }
   ],
   "source": [
    "ada_random.best_params_"
   ]
  },
  {
   "cell_type": "code",
   "execution_count": 19,
   "metadata": {},
   "outputs": [],
   "source": [
    "best_ada = ada_random.best_estimator_"
   ]
  },
  {
   "cell_type": "code",
   "execution_count": 20,
   "metadata": {},
   "outputs": [
    {
     "data": {
      "text/plain": [
       "AdaBoostClassifier(algorithm='SAMME',\n",
       "                   base_estimator=DecisionTreeClassifier(ccp_alpha=0.0,\n",
       "                                                         class_weight=None,\n",
       "                                                         criterion='gini',\n",
       "                                                         max_depth=80,\n",
       "                                                         max_features=11,\n",
       "                                                         max_leaf_nodes=88,\n",
       "                                                         min_impurity_decrease=0.0,\n",
       "                                                         min_impurity_split=None,\n",
       "                                                         min_samples_leaf=2,\n",
       "                                                         min_samples_split=5,\n",
       "                                                         min_weight_fraction_leaf=0.0,\n",
       "                                                         presort='deprecated',\n",
       "                                                         random_state=42,\n",
       "                                                         splitter='best'),\n",
       "                   learning_rate=0.1, n_estimators=136, random_state=42)"
      ]
     },
     "execution_count": 20,
     "metadata": {},
     "output_type": "execute_result"
    }
   ],
   "source": [
    "best_ada.fit(X_train,y_train)"
   ]
  },
  {
   "cell_type": "code",
   "execution_count": 21,
   "metadata": {},
   "outputs": [
    {
     "name": "stdout",
     "output_type": "stream",
     "text": [
      "Precisión sobre el juego de pruebas: 0.7456\n",
      "Precisión sobre el juego de train: 0.78\n"
     ]
    }
   ],
   "source": [
    "print(\"Precisión sobre el juego de pruebas: {:.4f}\"\n",
    "      .format(best_ada.score(X_test, y_test)))\n",
    "print(\"Precisión sobre el juego de train: {:.2f}\"\n",
    "      .format(best_ada.score(X_train, y_train)))"
   ]
  },
  {
   "cell_type": "code",
   "execution_count": 22,
   "metadata": {},
   "outputs": [
    {
     "data": {
      "text/plain": [
       "['ada_boost_model.pkl']"
      ]
     },
     "execution_count": 22,
     "metadata": {},
     "output_type": "execute_result"
    }
   ],
   "source": [
    "filename = 'ada_boost_model.pkl'\n",
    "joblib.dump(best_ada, filename)"
   ]
  },
  {
   "cell_type": "code",
   "execution_count": 23,
   "metadata": {},
   "outputs": [],
   "source": [
    "best_ada = joblib.load(filename) "
   ]
  },
  {
   "cell_type": "code",
   "execution_count": 24,
   "metadata": {},
   "outputs": [
    {
     "data": {
      "text/plain": [
       "AdaBoostClassifier(algorithm='SAMME',\n",
       "                   base_estimator=DecisionTreeClassifier(ccp_alpha=0.0,\n",
       "                                                         class_weight=None,\n",
       "                                                         criterion='gini',\n",
       "                                                         max_depth=80,\n",
       "                                                         max_features=11,\n",
       "                                                         max_leaf_nodes=88,\n",
       "                                                         min_impurity_decrease=0.0,\n",
       "                                                         min_impurity_split=None,\n",
       "                                                         min_samples_leaf=2,\n",
       "                                                         min_samples_split=5,\n",
       "                                                         min_weight_fraction_leaf=0.0,\n",
       "                                                         presort='deprecated',\n",
       "                                                         random_state=42,\n",
       "                                                         splitter='best'),\n",
       "                   learning_rate=0.1, n_estimators=136, random_state=42)"
      ]
     },
     "execution_count": 24,
     "metadata": {},
     "output_type": "execute_result"
    }
   ],
   "source": [
    "best_ada"
   ]
  },
  {
   "cell_type": "code",
   "execution_count": 54,
   "metadata": {},
   "outputs": [
    {
     "name": "stdout",
     "output_type": "stream",
     "text": [
      "{'n_estimators': [95, 96, 97], 'learning_rate': [0.04, 0.05, 0.06], 'base_estimator__max_features': [3, 4, 5, 6, 7], 'base_estimator__max_depth': [99, 100, 101], 'base_estimator__min_samples_split': [9, 10, 11], 'base_estimator__min_samples_leaf': [4, 5, 6], 'base_estimator__max_leaf_nodes': [54, 55, 56]}\n"
     ]
    }
   ],
   "source": [
    "# Numero de arboles del bosque\n",
    "n_estimators = [95,96,97]\n",
    "# Numero de caracteristicas proporcionadas a cada arbol\n",
    "max_features = [3,4,5,6,7]\n",
    "# Profundidad de arbol\n",
    "max_depth = [99,100,101]\n",
    "# Minimo valor para separar en subnodos\n",
    "min_samples_split = [9, 10,11]\n",
    "# Minimo numero de muestras necesarias en hoja despues de dividir\n",
    "min_samples_leaf = [4, 5, 6]\n",
    "# Numero maximo de nodos finales\n",
    "max_leaf_nodes = [54,55,56]\n",
    "learning_rate = [0.04,0.05,0.06]\n",
    "# Numero de muestras maximo que se le asigna a cada arbol\n",
    "# max_samples\n",
    "# Creacion de cuadrícula aleatoria\n",
    "param_grid = {'n_estimators': n_estimators,\n",
    "              'learning_rate':learning_rate,\n",
    "               'base_estimator__max_features': max_features,\n",
    "               'base_estimator__max_depth': max_depth,\n",
    "               'base_estimator__min_samples_split': min_samples_split,\n",
    "               'base_estimator__min_samples_leaf': min_samples_leaf,\n",
    "               \"base_estimator__max_leaf_nodes\": max_leaf_nodes}\n",
    "print(param_grid)"
   ]
  },
  {
   "cell_type": "code",
   "execution_count": 35,
   "metadata": {},
   "outputs": [],
   "source": [
    "base_estimator = DecisionTreeClassifier(random_state=42)\n",
    "ada_clf = AdaBoostClassifier(base_estimator=base_estimator, random_state=42)"
   ]
  },
  {
   "cell_type": "code",
   "execution_count": 56,
   "metadata": {},
   "outputs": [],
   "source": [
    "ada_clf_grid = GridSearchCV(estimator = ada_clf, param_grid = param_grid, cv = 5, verbose=2, n_jobs = -1)"
   ]
  },
  {
   "cell_type": "code",
   "execution_count": 57,
   "metadata": {},
   "outputs": [
    {
     "name": "stdout",
     "output_type": "stream",
     "text": [
      "Fitting 5 folds for each of 3645 candidates, totalling 18225 fits\n"
     ]
    },
    {
     "name": "stderr",
     "output_type": "stream",
     "text": [
      "[Parallel(n_jobs=-1)]: Using backend LokyBackend with 8 concurrent workers.\n",
      "[Parallel(n_jobs=-1)]: Done  25 tasks      | elapsed:   46.5s\n",
      "[Parallel(n_jobs=-1)]: Done 146 tasks      | elapsed:  3.8min\n",
      "[Parallel(n_jobs=-1)]: Done 349 tasks      | elapsed:  8.6min\n",
      "[Parallel(n_jobs=-1)]: Done 632 tasks      | elapsed: 15.3min\n",
      "[Parallel(n_jobs=-1)]: Done 997 tasks      | elapsed: 24.0min\n",
      "[Parallel(n_jobs=-1)]: Done 1442 tasks      | elapsed: 35.9min\n",
      "[Parallel(n_jobs=-1)]: Done 1969 tasks      | elapsed: 51.5min\n",
      "[Parallel(n_jobs=-1)]: Done 2576 tasks      | elapsed: 70.4min\n",
      "[Parallel(n_jobs=-1)]: Done 3265 tasks      | elapsed: 94.6min\n",
      "[Parallel(n_jobs=-1)]: Done 4034 tasks      | elapsed: 124.2min\n",
      "[Parallel(n_jobs=-1)]: Done 4885 tasks      | elapsed: 159.9min\n",
      "[Parallel(n_jobs=-1)]: Done 5816 tasks      | elapsed: 203.9min\n",
      "[Parallel(n_jobs=-1)]: Done 6829 tasks      | elapsed: 234.1min\n",
      "[Parallel(n_jobs=-1)]: Done 7922 tasks      | elapsed: 263.9min\n",
      "[Parallel(n_jobs=-1)]: Done 9097 tasks      | elapsed: 302.3min\n",
      "[Parallel(n_jobs=-1)]: Done 10352 tasks      | elapsed: 350.9min\n",
      "[Parallel(n_jobs=-1)]: Done 11689 tasks      | elapsed: 411.3min\n",
      "[Parallel(n_jobs=-1)]: Done 13106 tasks      | elapsed: 456.2min\n",
      "[Parallel(n_jobs=-1)]: Done 14605 tasks      | elapsed: 499.6min\n",
      "[Parallel(n_jobs=-1)]: Done 16184 tasks      | elapsed: 558.4min\n",
      "[Parallel(n_jobs=-1)]: Done 17845 tasks      | elapsed: 632.3min\n",
      "[Parallel(n_jobs=-1)]: Done 18225 out of 18225 | elapsed: 650.4min finished\n"
     ]
    },
    {
     "data": {
      "text/plain": [
       "GridSearchCV(cv=5, error_score=nan,\n",
       "             estimator=AdaBoostClassifier(algorithm='SAMME.R',\n",
       "                                          base_estimator=DecisionTreeClassifier(ccp_alpha=0.0,\n",
       "                                                                                class_weight=None,\n",
       "                                                                                criterion='gini',\n",
       "                                                                                max_depth=None,\n",
       "                                                                                max_features=None,\n",
       "                                                                                max_leaf_nodes=None,\n",
       "                                                                                min_impurity_decrease=0.0,\n",
       "                                                                                min_impurity_split=None,\n",
       "                                                                                min_samples_leaf=1,\n",
       "                                                                                min_samples_split=2,\n",
       "                                                                                min_weight_fraction_leaf=0.0,\n",
       "                                                                                presort='...\n",
       "             param_grid={'base_estimator__max_depth': [99, 100, 101],\n",
       "                         'base_estimator__max_features': [3, 4, 5, 6, 7],\n",
       "                         'base_estimator__max_leaf_nodes': [54, 55, 56],\n",
       "                         'base_estimator__min_samples_leaf': [4, 5, 6],\n",
       "                         'base_estimator__min_samples_split': [9, 10, 11],\n",
       "                         'learning_rate': [0.04, 0.05, 0.06],\n",
       "                         'n_estimators': [95, 96, 97]},\n",
       "             pre_dispatch='2*n_jobs', refit=True, return_train_score=False,\n",
       "             scoring=None, verbose=2)"
      ]
     },
     "execution_count": 57,
     "metadata": {},
     "output_type": "execute_result"
    }
   ],
   "source": [
    "ada_clf_grid.fit(X_train,y_train)"
   ]
  },
  {
   "cell_type": "code",
   "execution_count": 60,
   "metadata": {},
   "outputs": [
    {
     "data": {
      "text/plain": [
       "0.7464695037116794"
      ]
     },
     "execution_count": 60,
     "metadata": {},
     "output_type": "execute_result"
    }
   ],
   "source": [
    "ada_clf_grid.best_score_"
   ]
  },
  {
   "cell_type": "code",
   "execution_count": 61,
   "metadata": {},
   "outputs": [
    {
     "data": {
      "text/plain": [
       "{'base_estimator__max_depth': 99,\n",
       " 'base_estimator__max_features': 4,\n",
       " 'base_estimator__max_leaf_nodes': 54,\n",
       " 'base_estimator__min_samples_leaf': 5,\n",
       " 'base_estimator__min_samples_split': 11,\n",
       " 'learning_rate': 0.05,\n",
       " 'n_estimators': 96}"
      ]
     },
     "execution_count": 61,
     "metadata": {},
     "output_type": "execute_result"
    }
   ],
   "source": [
    "ada_clf_grid.best_params_"
   ]
  },
  {
   "cell_type": "code",
   "execution_count": 41,
   "metadata": {},
   "outputs": [],
   "source": [
    "base_estimator = DecisionTreeClassifier(max_depth=99, max_features=4,\n",
    "                                        max_leaf_nodes=54, min_samples_leaf=5,\n",
    "                                        min_samples_split=11,\n",
    "                                        random_state=42)\n",
    "best_ada = AdaBoostClassifier(base_estimator=base_estimator, random_state=42, learning_rate=0.05, n_estimators=96)"
   ]
  },
  {
   "cell_type": "code",
   "execution_count": 42,
   "metadata": {},
   "outputs": [
    {
     "data": {
      "text/plain": [
       "['finalized_ada_refined_boost_model.pkl']"
      ]
     },
     "execution_count": 42,
     "metadata": {},
     "output_type": "execute_result"
    }
   ],
   "source": [
    "filename = 'finalized_ada_refined_boost_model.pkl'\n",
    "joblib.dump(best_ada, filename)"
   ]
  },
  {
   "cell_type": "code",
   "execution_count": 48,
   "metadata": {},
   "outputs": [],
   "source": [
    "best_ada = joblib.load('finalized_ada_refined_boost_model.pkl') "
   ]
  },
  {
   "cell_type": "code",
   "execution_count": 49,
   "metadata": {},
   "outputs": [
    {
     "data": {
      "text/plain": [
       "0.7464695037116794"
      ]
     },
     "execution_count": 49,
     "metadata": {},
     "output_type": "execute_result"
    }
   ],
   "source": [
    "cross_val_score(best_ada,X_train,y_train,cv=5).mean()"
   ]
  },
  {
   "cell_type": "code",
   "execution_count": 50,
   "metadata": {},
   "outputs": [
    {
     "data": {
      "text/plain": [
       "AdaBoostClassifier(algorithm='SAMME.R',\n",
       "                   base_estimator=DecisionTreeClassifier(ccp_alpha=0.0,\n",
       "                                                         class_weight=None,\n",
       "                                                         criterion='gini',\n",
       "                                                         max_depth=99,\n",
       "                                                         max_features=4,\n",
       "                                                         max_leaf_nodes=54,\n",
       "                                                         min_impurity_decrease=0.0,\n",
       "                                                         min_impurity_split=None,\n",
       "                                                         min_samples_leaf=5,\n",
       "                                                         min_samples_split=11,\n",
       "                                                         min_weight_fraction_leaf=0.0,\n",
       "                                                         presort='deprecated',\n",
       "                                                         random_state=42,\n",
       "                                                         splitter='best'),\n",
       "                   learning_rate=0.05, n_estimators=96, random_state=42)"
      ]
     },
     "execution_count": 50,
     "metadata": {},
     "output_type": "execute_result"
    }
   ],
   "source": [
    "best_ada.fit(X_train,y_train)"
   ]
  },
  {
   "cell_type": "code",
   "execution_count": 51,
   "metadata": {},
   "outputs": [
    {
     "name": "stdout",
     "output_type": "stream",
     "text": [
      "Precisión sobre el juego de pruebas: 0.7435\n",
      "Precisión sobre el juego de train: 0.78\n"
     ]
    }
   ],
   "source": [
    "print(\"Precisión sobre el juego de pruebas: {:.4f}\"\n",
    "      .format(best_ada.score(X_test, y_test)))\n",
    "print(\"Precisión sobre el juego de train: {:.2f}\"\n",
    "      .format(best_ada.score(X_train, y_train)))"
   ]
  },
  {
   "cell_type": "code",
   "execution_count": 77,
   "metadata": {},
   "outputs": [
    {
     "name": "stdout",
     "output_type": "stream",
     "text": [
      "Artista: "
     ]
    },
    {
     "name": "stdin",
     "output_type": "stream",
     "text": [
      " taylor swift\n"
     ]
    },
    {
     "name": "stdout",
     "output_type": "stream",
     "text": [
      "Titulo: "
     ]
    },
    {
     "name": "stdin",
     "output_type": "stream",
     "text": [
      " \n"
     ]
    },
    {
     "name": "stdout",
     "output_type": "stream",
     "text": [
      "Canción elegida: cardigan de Taylor Swift\n"
     ]
    },
    {
     "data": {
      "text/plain": [
       "array([[0.49705165, 0.50294835]])"
      ]
     },
     "execution_count": 77,
     "metadata": {},
     "output_type": "execute_result"
    }
   ],
   "source": [
    "best_ada.predict_proba(find_song())"
   ]
  },
  {
   "cell_type": "code",
   "execution_count": 52,
   "metadata": {},
   "outputs": [
    {
     "data": {
      "image/png": "[encoded data removed]",
      "text/plain": [
       "<Figure size 576x432 with 1 Axes>"
      ]
     },
     "metadata": {
      "needs_background": "light"
     },
     "output_type": "display_data"
    }
   ],
   "source": [
    "plt.plot(best_ada.estimator_errors_);"
   ]
  },
  {
   "cell_type": "code",
   "execution_count": 53,
   "metadata": {},
   "outputs": [
    {
     "data": {
      "text/plain": [
       "array([0.08574009, 0.09978206, 0.00960921, 0.11348423, 0.01153179,\n",
       "       0.10310428, 0.11856401, 0.12007554, 0.04960036, 0.11074553,\n",
       "       0.0424206 , 0.00693569, 0.12840662])"
      ]
     },
     "execution_count": 53,
     "metadata": {},
     "output_type": "execute_result"
    }
   ],
   "source": [
    "best_ada.feature_importances_"
   ]
  },
  {
   "cell_type": "code",
   "execution_count": 54,
   "metadata": {},
   "outputs": [
    {
     "data": {
      "image/png": "[encoded data removed]",
      "text/plain": [
       "<Figure size 576x432 with 1 Axes>"
      ]
     },
     "metadata": {
      "needs_background": "light"
     },
     "output_type": "display_data"
    }
   ],
   "source": [
    "plt.barh(df_songs.loc[:,\"danceability\":\"duration_ms\"].columns, best_ada.feature_importances_);"
   ]
  },
  {
   "cell_type": "markdown",
   "metadata": {},
   "source": [
    "## Gradient Boosting"
   ]
  },
  {
   "cell_type": "markdown",
   "metadata": {},
   "source": [
    "### Implementación de sklearn"
   ]
  },
  {
   "cell_type": "code",
   "execution_count": 7,
   "metadata": {},
   "outputs": [],
   "source": [
    "from sklearn.ensemble import GradientBoostingClassifier"
   ]
  },
  {
   "cell_type": "code",
   "execution_count": 8,
   "metadata": {},
   "outputs": [],
   "source": [
    "gb_clf = GradientBoostingClassifier()"
   ]
  },
  {
   "cell_type": "code",
   "execution_count": 9,
   "metadata": {},
   "outputs": [
    {
     "data": {
      "text/plain": [
       "0.734650308332371"
      ]
     },
     "execution_count": 9,
     "metadata": {},
     "output_type": "execute_result"
    }
   ],
   "source": [
    "cross_val_score(gb_clf, X_train,y_train, cv=10).mean()"
   ]
  },
  {
   "cell_type": "markdown",
   "metadata": {},
   "source": [
    "### Implementación de lightgbm"
   ]
  },
  {
   "cell_type": "code",
   "execution_count": 44,
   "metadata": {},
   "outputs": [],
   "source": [
    "import lightgbm as lgb"
   ]
  },
  {
   "cell_type": "code",
   "execution_count": 11,
   "metadata": {},
   "outputs": [],
   "source": [
    "lgb_clf =lgb.LGBMClassifier()"
   ]
  },
  {
   "cell_type": "code",
   "execution_count": 108,
   "metadata": {},
   "outputs": [
    {
     "name": "stdout",
     "output_type": "stream",
     "text": [
      "Wall time: 2.84 s\n"
     ]
    },
    {
     "data": {
      "text/plain": [
       "0.747594959064888"
      ]
     },
     "execution_count": 108,
     "metadata": {},
     "output_type": "execute_result"
    }
   ],
   "source": [
    "%%time\n",
    "cross_val_score(lgb_clf, X_train,y_train, cv=10).mean()"
   ]
  },
  {
   "cell_type": "code",
   "execution_count": 13,
   "metadata": {},
   "outputs": [
    {
     "data": {
      "text/plain": [
       "LGBMClassifier(boosting_type='gbdt', class_weight=None, colsample_bytree=1.0,\n",
       "               importance_type='split', learning_rate=0.1, max_depth=-1,\n",
       "               min_child_samples=20, min_child_weight=0.001, min_split_gain=0.0,\n",
       "               n_estimators=100, n_jobs=-1, num_leaves=31, objective=None,\n",
       "               random_state=None, reg_alpha=0.0, reg_lambda=0.0, silent=True,\n",
       "               subsample=1.0, subsample_for_bin=200000, subsample_freq=0)"
      ]
     },
     "execution_count": 13,
     "metadata": {},
     "output_type": "execute_result"
    }
   ],
   "source": [
    "lgb_clf.fit(X_train,y_train)"
   ]
  },
  {
   "cell_type": "code",
   "execution_count": 14,
   "metadata": {},
   "outputs": [
    {
     "name": "stdout",
     "output_type": "stream",
     "text": [
      "Precisión sobre el juego de pruebas: 0.74\n",
      "Precisión sobre el juego de train: 0.78\n"
     ]
    }
   ],
   "source": [
    "print(\"Precisión sobre el juego de pruebas: {:.2f}\"\n",
    "      .format(lgb_clf.score(X_test, y_test)))\n",
    "print(\"Precisión sobre el juego de train: {:.2f}\"\n",
    "      .format(lgb_clf.score(X_train, y_train)))"
   ]
  },
  {
   "cell_type": "code",
   "execution_count": 15,
   "metadata": {},
   "outputs": [],
   "source": [
    "param_range = [60,90,100,150,200,250,300]\n",
    "train_score, test_score= validation_curve(\n",
    "                                lgb_clf,\n",
    "                                X = X_train, y = y_train, \n",
    "                                param_name = 'n_estimators', \n",
    "                               param_range=param_range,\n",
    "                                scoring=\"accuracy\")"
   ]
  },
  {
   "cell_type": "code",
   "execution_count": 16,
   "metadata": {},
   "outputs": [
    {
     "name": "stdout",
     "output_type": "stream",
     "text": [
      "Numero de estimadores para un Cross_val 5 (test) y para todo dataset de entrenamiento (train)\n",
      "n_estimators 60 en test: 0.7434250799654006 en train : 0.773958752139413\n",
      "n_estimators 90 en test: 0.7464182710063174 en train: 0.7869039053533449\n",
      "n_estimators 100 en test: 0.7471858419834135 en train: 0.790696624800657\n",
      "n_estimators 150 en test: 0.7473393208346477 en train: 0.8083682783525724\n",
      "n_estimators 200 en test: 0.747339304471599 en train: 0.8250102136417095\n",
      "n_estimators 250 en test: 0.7477486130434509 en train: 0.8395543328749406\n",
      "n_estimators 300 en test: 0.7475951407374362 en train: 0.8536571175752881\n"
     ]
    }
   ],
   "source": [
    "print(\"Numero de estimadores para un Cross_val 5 (test) y para todo dataset de entrenamiento (train)\")\n",
    "print ('n_estimators 60 en test:',test_score[0].mean(),'en train :',train_score[0].mean())\n",
    "print ('n_estimators 90 en test:',test_score[1].mean(),'en train:',train_score[1].mean())\n",
    "print ('n_estimators 100 en test:',test_score[2].mean(),'en train:',train_score[2].mean())\n",
    "print ('n_estimators 150 en test:',test_score[3].mean(),'en train:',train_score[3].mean())\n",
    "print ('n_estimators 200 en test:',test_score[4].mean(),'en train:',train_score[4].mean())\n",
    "print ('n_estimators 250 en test:',test_score[5].mean(),'en train:',train_score[5].mean())\n",
    "print ('n_estimators 300 en test:',test_score[6].mean(),'en train:',train_score[6].mean())"
   ]
  },
  {
   "cell_type": "code",
   "execution_count": 54,
   "metadata": {},
   "outputs": [
    {
     "name": "stdout",
     "output_type": "stream",
     "text": [
      "{'num_leaves': [10, 20, 30, 40, 50, 60, 70, 80, 90, 100, 110], 'max_depth': [10, 20, 30, 40, 50, 60, 70, 80, 90, 100, 110, None], 'learning_rate': [0.005, 0.11555555555555556, 0.22611111111111112, 0.33666666666666667, 0.44722222222222224, 0.5577777777777778, 0.6683333333333333, 0.778888888888889, 0.8894444444444445, 1.0], 'n_estimators': [30, 43, 56, 70, 83, 96, 110, 123, 136, 150], 'subsample_for_bin': [20000, 40000, 60000, 80000, 100000, 120000, 140000, 160000, 180000, 200000, 220000, 240000, 260000, 280000], 'min_split_gain': [0.0, 0.1, 0.2, 0.3, 0.4, 0.5, 0.6, 0.7, 0.8, 0.9, 1.0], 'min_child_samples': [1, 5, 9, 14, 18, 22, 27, 31, 35, 40], 'colsample_bytree': [0.6, 0.6444444444444444, 0.6888888888888889, 0.7333333333333333, 0.7777777777777778, 0.8222222222222222, 0.8666666666666667, 0.9111111111111111, 0.9555555555555555, 1.0], 'reg_alpha': [0.0, 0.1111111111111111, 0.2222222222222222, 0.3333333333333333, 0.4444444444444444, 0.5555555555555556, 0.6666666666666666, 0.7777777777777777, 0.8888888888888888, 1.0], 'reg_lambda': [0.0, 0.1111111111111111, 0.2222222222222222, 0.3333333333333333, 0.4444444444444444, 0.5555555555555556, 0.6666666666666666, 0.7777777777777777, 0.8888888888888888, 1.0]}\n"
     ]
    }
   ],
   "source": [
    "boosting_type = ['gbdt','dart', 'goss']\n",
    "#Numero de Hojas máximas por árboles\n",
    "num_leaves = [int(x) for x in np.linspace(10, 110, num = 11)]\n",
    "# Profundidad de arbol\n",
    "max_depth = [int(x) for x in np.linspace(10, 110, num = 11)]\n",
    "max_depth.append(None)\n",
    "#Learning rate\n",
    "learning_rate = [float(x) for x in np.linspace(0.005, 1., num = 10)]\n",
    "# Numero de arboles del bosque\n",
    "n_estimators = [int(x) for x in np.linspace(start = 30, stop = 150, num = 10)]\n",
    "# Número de muestras para la construcción de contenedores\n",
    "subsample_for_bin =  list(range(20000, 300000, 20000))\n",
    "# Reducción mínima de pérdidas para realizar una nueva partición en un nodo del árbol.\n",
    "min_split_gain =  [0.0,0.1,0.2,0.3,0.4,0.5,0.6,0.7,0.8,0.9,1.0]\n",
    "#Número mínimo de datos necesarios en una hoja\n",
    "min_child_samples = [int(x) for x in np.linspace(1, 40, num = 10)]\n",
    "# Proporción de submuestras de columnas al construir cada árbol\n",
    "colsample_bytree = list(np.linspace(0.6, 1, 10))\n",
    "# reg_alpha\n",
    "reg_alpha = [float(x) for x in np.linspace(0.0, 1., num = 10)]\n",
    "# reg_lambda\n",
    "reg_lambda = [float(x) for x in np.linspace(0.0, 1., num = 10)]\n",
    "# Creacion de cuadrícula aleatoria\n",
    "param_grid = {'num_leaves': num_leaves,\n",
    "             'max_depth': max_depth,\n",
    "             'learning_rate': learning_rate,\n",
    "             'n_estimators': n_estimators,\n",
    "             'subsample_for_bin': subsample_for_bin,\n",
    "             'min_split_gain':min_split_gain,\n",
    "             'min_child_samples':min_child_samples,\n",
    "             'colsample_bytree':colsample_bytree,\n",
    "             'reg_alpha':reg_alpha,\n",
    "             'reg_lambda':reg_lambda}\n",
    "print(param_grid)"
   ]
  },
  {
   "cell_type": "code",
   "execution_count": 45,
   "metadata": {},
   "outputs": [
    {
     "name": "stdout",
     "output_type": "stream",
     "text": [
      "{'boosting_type': ['gbdt', 'dart', 'goss'], 'num_leaves': [10, 20, 30, 40, 50, 60, 70, 80, 90, 100, 110], 'max_depth': [10, 20, 30, 40, 50, 60, 70, 80, 90, 100, 110, None], 'learning_rate': [0.005, 0.11555555555555556, 0.22611111111111112, 0.33666666666666667, 0.44722222222222224, 0.5577777777777778, 0.6683333333333333, 0.778888888888889, 0.8894444444444445, 1.0], 'n_estimators': [30, 43, 56, 70, 83, 96, 110, 123, 136, 150], 'subsample_for_bin': [20000, 40000, 60000, 80000, 100000, 120000, 140000, 160000, 180000, 200000, 220000, 240000, 260000, 280000], 'min_split_gain': [0.0, 0.1, 0.2, 0.3, 0.4, 0.5, 0.6, 0.7, 0.8, 0.9, 1.0], 'min_child_samples': [1, 5, 9, 14, 18, 22, 27, 31, 35, 40], 'reg_alpha': [0.0, 0.1111111111111111, 0.2222222222222222, 0.3333333333333333, 0.4444444444444444, 0.5555555555555556, 0.6666666666666666, 0.7777777777777777, 0.8888888888888888, 1.0], 'reg_lambda': [0.0, 0.1111111111111111, 0.2222222222222222, 0.3333333333333333, 0.4444444444444444, 0.5555555555555556, 0.6666666666666666, 0.7777777777777777, 0.8888888888888888, 1.0]}\n"
     ]
    }
   ],
   "source": [
    "boosting_type = ['gbdt','dart', 'goss']\n",
    "#Numero de Hojas máximas por árboles\n",
    "num_leaves = [int(x) for x in np.linspace(10, 110, num = 11)]\n",
    "# Profundidad de arbol\n",
    "max_depth = [int(x) for x in np.linspace(10, 110, num = 11)]\n",
    "max_depth.append(None)\n",
    "#Learning rate\n",
    "learning_rate = [float(x) for x in np.linspace(0.005, 1., num = 10)]\n",
    "# Numero de arboles del bosque\n",
    "n_estimators = [int(x) for x in np.linspace(start = 30, stop = 150, num = 10)]\n",
    "# Número de muestras para la construcción de contenedores\n",
    "subsample_for_bin =  list(range(20000, 300000, 20000))\n",
    "# Reducción mínima de pérdidas para realizar una nueva partición en un nodo del árbol.\n",
    "min_split_gain =  [0.0,0.1,0.2,0.3,0.4,0.5,0.6,0.7,0.8,0.9,1.0]\n",
    "#Número mínimo de datos necesarios en una hoja\n",
    "min_child_samples = [int(x) for x in np.linspace(1, 40, num = 10)]\n",
    "# reg_alpha\n",
    "reg_alpha = [float(x) for x in np.linspace(0.0, 1., num = 10)]\n",
    "# reg_lambda\n",
    "reg_lambda = [float(x) for x in np.linspace(0.0, 1., num = 10)]\n",
    "# Creacion de cuadrícula aleatoria\n",
    "param_grid = {'boosting_type':boosting_type,\n",
    "             'num_leaves': num_leaves,\n",
    "             'max_depth': max_depth,\n",
    "             'learning_rate': learning_rate,\n",
    "             'n_estimators': n_estimators,\n",
    "             'subsample_for_bin': subsample_for_bin,\n",
    "             'min_split_gain':min_split_gain,\n",
    "             'min_child_samples':min_child_samples,\n",
    "             'reg_alpha':reg_alpha,\n",
    "             'reg_lambda':reg_lambda}\n",
    "print(param_grid)"
   ]
  },
  {
   "cell_type": "code",
   "execution_count": 46,
   "metadata": {},
   "outputs": [],
   "source": [
    "lgb_clf = lgb.LGBMClassifier(random_state=42)"
   ]
  },
  {
   "cell_type": "code",
   "execution_count": 89,
   "metadata": {},
   "outputs": [],
   "source": [
    "# Random search of parameters, using 3 fold cross validation, \n",
    "# search across 100 different combinations, and use all available cores\n",
    "ligth_gbm_random = RandomizedSearchCV(estimator = lgb_clf, param_distributions = param_grid, n_iter = 40000, cv = 5, verbose=2, random_state=42, n_jobs = -1)"
   ]
  },
  {
   "cell_type": "code",
   "execution_count": 90,
   "metadata": {},
   "outputs": [
    {
     "name": "stdout",
     "output_type": "stream",
     "text": [
      "Fitting 5 folds for each of 40000 candidates, totalling 200000 fits\n"
     ]
    },
    {
     "name": "stderr",
     "output_type": "stream",
     "text": [
      "[Parallel(n_jobs=-1)]: Using backend LokyBackend with 8 concurrent workers.\n",
      "[Parallel(n_jobs=-1)]: Done  25 tasks      | elapsed:    6.2s\n",
      "[Parallel(n_jobs=-1)]: Done 146 tasks      | elapsed:   21.6s\n",
      "[Parallel(n_jobs=-1)]: Done 349 tasks      | elapsed:  1.0min\n",
      "[Parallel(n_jobs=-1)]: Done 632 tasks      | elapsed:  1.8min\n",
      "[Parallel(n_jobs=-1)]: Done 997 tasks      | elapsed:  2.9min\n",
      "[Parallel(n_jobs=-1)]: Done 1442 tasks      | elapsed:  4.0min\n",
      "[Parallel(n_jobs=-1)]: Done 1969 tasks      | elapsed:  5.6min\n",
      "[Parallel(n_jobs=-1)]: Done 2576 tasks      | elapsed:  7.1min\n",
      "[Parallel(n_jobs=-1)]: Done 3265 tasks      | elapsed:  9.0min\n",
      "[Parallel(n_jobs=-1)]: Done 4034 tasks      | elapsed: 11.2min\n",
      "[Parallel(n_jobs=-1)]: Done 4885 tasks      | elapsed: 13.7min\n",
      "[Parallel(n_jobs=-1)]: Done 5816 tasks      | elapsed: 16.2min\n",
      "[Parallel(n_jobs=-1)]: Done 6829 tasks      | elapsed: 19.1min\n",
      "[Parallel(n_jobs=-1)]: Done 7922 tasks      | elapsed: 22.1min\n",
      "[Parallel(n_jobs=-1)]: Done 9097 tasks      | elapsed: 25.3min\n",
      "[Parallel(n_jobs=-1)]: Done 10352 tasks      | elapsed: 28.8min\n",
      "[Parallel(n_jobs=-1)]: Done 11689 tasks      | elapsed: 32.4min\n",
      "[Parallel(n_jobs=-1)]: Done 13106 tasks      | elapsed: 36.3min\n",
      "[Parallel(n_jobs=-1)]: Done 14605 tasks      | elapsed: 40.6min\n",
      "[Parallel(n_jobs=-1)]: Done 16184 tasks      | elapsed: 44.9min\n",
      "[Parallel(n_jobs=-1)]: Done 17845 tasks      | elapsed: 49.4min\n",
      "[Parallel(n_jobs=-1)]: Done 19586 tasks      | elapsed: 54.5min\n",
      "[Parallel(n_jobs=-1)]: Done 21409 tasks      | elapsed: 59.6min\n",
      "[Parallel(n_jobs=-1)]: Done 23312 tasks      | elapsed: 65.0min\n",
      "[Parallel(n_jobs=-1)]: Done 25297 tasks      | elapsed: 70.6min\n",
      "[Parallel(n_jobs=-1)]: Done 27362 tasks      | elapsed: 76.4min\n",
      "[Parallel(n_jobs=-1)]: Done 29509 tasks      | elapsed: 82.4min\n",
      "[Parallel(n_jobs=-1)]: Done 31736 tasks      | elapsed: 88.4min\n",
      "[Parallel(n_jobs=-1)]: Done 34045 tasks      | elapsed: 94.6min\n",
      "[Parallel(n_jobs=-1)]: Done 36434 tasks      | elapsed: 101.2min\n",
      "[Parallel(n_jobs=-1)]: Done 38905 tasks      | elapsed: 108.0min\n",
      "[Parallel(n_jobs=-1)]: Done 41456 tasks      | elapsed: 115.1min\n",
      "[Parallel(n_jobs=-1)]: Done 44089 tasks      | elapsed: 122.5min\n",
      "[Parallel(n_jobs=-1)]: Done 46802 tasks      | elapsed: 130.2min\n",
      "[Parallel(n_jobs=-1)]: Done 49597 tasks      | elapsed: 138.0min\n",
      "[Parallel(n_jobs=-1)]: Done 52472 tasks      | elapsed: 146.3min\n",
      "[Parallel(n_jobs=-1)]: Done 55429 tasks      | elapsed: 154.7min\n",
      "[Parallel(n_jobs=-1)]: Done 58466 tasks      | elapsed: 163.1min\n",
      "[Parallel(n_jobs=-1)]: Done 61585 tasks      | elapsed: 171.5min\n",
      "[Parallel(n_jobs=-1)]: Done 64784 tasks      | elapsed: 180.6min\n",
      "[Parallel(n_jobs=-1)]: Done 68065 tasks      | elapsed: 189.6min\n",
      "[Parallel(n_jobs=-1)]: Done 71426 tasks      | elapsed: 198.9min\n",
      "[Parallel(n_jobs=-1)]: Done 74869 tasks      | elapsed: 208.4min\n",
      "[Parallel(n_jobs=-1)]: Done 78392 tasks      | elapsed: 218.2min\n",
      "[Parallel(n_jobs=-1)]: Done 81997 tasks      | elapsed: 228.1min\n",
      "[Parallel(n_jobs=-1)]: Done 85682 tasks      | elapsed: 238.9min\n",
      "[Parallel(n_jobs=-1)]: Done 89449 tasks      | elapsed: 249.4min\n",
      "[Parallel(n_jobs=-1)]: Done 93296 tasks      | elapsed: 260.0min\n",
      "[Parallel(n_jobs=-1)]: Done 97225 tasks      | elapsed: 270.7min\n",
      "[Parallel(n_jobs=-1)]: Done 101234 tasks      | elapsed: 281.7min\n",
      "[Parallel(n_jobs=-1)]: Done 105325 tasks      | elapsed: 293.1min\n",
      "[Parallel(n_jobs=-1)]: Done 109496 tasks      | elapsed: 304.3min\n",
      "[Parallel(n_jobs=-1)]: Done 113749 tasks      | elapsed: 316.2min\n",
      "[Parallel(n_jobs=-1)]: Done 118082 tasks      | elapsed: 328.4min\n",
      "[Parallel(n_jobs=-1)]: Done 122497 tasks      | elapsed: 340.2min\n",
      "[Parallel(n_jobs=-1)]: Done 126992 tasks      | elapsed: 353.1min\n",
      "[Parallel(n_jobs=-1)]: Done 131569 tasks      | elapsed: 365.6min\n",
      "[Parallel(n_jobs=-1)]: Done 136226 tasks      | elapsed: 378.5min\n",
      "[Parallel(n_jobs=-1)]: Done 140965 tasks      | elapsed: 391.9min\n",
      "[Parallel(n_jobs=-1)]: Done 145784 tasks      | elapsed: 405.5min\n",
      "[Parallel(n_jobs=-1)]: Done 150685 tasks      | elapsed: 419.2min\n",
      "[Parallel(n_jobs=-1)]: Done 155666 tasks      | elapsed: 432.9min\n",
      "[Parallel(n_jobs=-1)]: Done 160729 tasks      | elapsed: 447.4min\n",
      "[Parallel(n_jobs=-1)]: Done 165872 tasks      | elapsed: 461.8min\n",
      "[Parallel(n_jobs=-1)]: Done 171097 tasks      | elapsed: 475.7min\n",
      "[Parallel(n_jobs=-1)]: Done 176402 tasks      | elapsed: 490.1min\n",
      "[Parallel(n_jobs=-1)]: Done 181789 tasks      | elapsed: 504.8min\n",
      "[Parallel(n_jobs=-1)]: Done 187256 tasks      | elapsed: 519.7min\n",
      "[Parallel(n_jobs=-1)]: Done 192805 tasks      | elapsed: 535.1min\n",
      "[Parallel(n_jobs=-1)]: Done 198434 tasks      | elapsed: 551.0min\n",
      "[Parallel(n_jobs=-1)]: Done 200000 out of 200000 | elapsed: 555.3min finished\n"
     ]
    },
    {
     "data": {
      "text/plain": [
       "RandomizedSearchCV(cv=5, error_score=nan,\n",
       "                   estimator=LGBMClassifier(boosting_type='gbdt',\n",
       "                                            class_weight=None,\n",
       "                                            colsample_bytree=1.0,\n",
       "                                            importance_type='split',\n",
       "                                            learning_rate=0.1, max_depth=-1,\n",
       "                                            min_child_samples=20,\n",
       "                                            min_child_weight=0.001,\n",
       "                                            min_split_gain=0.0,\n",
       "                                            n_estimators=100, n_jobs=-1,\n",
       "                                            num_leaves=31, objective=None,\n",
       "                                            random_state=42, reg_alpha=0.0,\n",
       "                                            reg_lambda=0.0, silent...\n",
       "                                                       0.2222222222222222,\n",
       "                                                       0.3333333333333333,\n",
       "                                                       0.4444444444444444,\n",
       "                                                       0.5555555555555556,\n",
       "                                                       0.6666666666666666,\n",
       "                                                       0.7777777777777777,\n",
       "                                                       0.8888888888888888,\n",
       "                                                       1.0],\n",
       "                                        'subsample_for_bin': [20000, 40000,\n",
       "                                                              60000, 80000,\n",
       "                                                              100000, 120000,\n",
       "                                                              140000, 160000,\n",
       "                                                              180000, 200000,\n",
       "                                                              220000, 240000,\n",
       "                                                              260000, 280000]},\n",
       "                   pre_dispatch='2*n_jobs', random_state=42, refit=True,\n",
       "                   return_train_score=False, scoring=None, verbose=2)"
      ]
     },
     "execution_count": 90,
     "metadata": {},
     "output_type": "execute_result"
    }
   ],
   "source": [
    "ligth_gbm_random.fit(X_train, y_train)"
   ]
  },
  {
   "cell_type": "code",
   "execution_count": 94,
   "metadata": {},
   "outputs": [
    {
     "data": {
      "text/plain": [
       "{'subsample_for_bin': 40000,\n",
       " 'reg_lambda': 0.3333333333333333,\n",
       " 'reg_alpha': 1.0,\n",
       " 'num_leaves': 60,\n",
       " 'n_estimators': 136,\n",
       " 'min_split_gain': 0.8,\n",
       " 'min_child_samples': 40,\n",
       " 'max_depth': 50,\n",
       " 'learning_rate': 0.11555555555555556}"
      ]
     },
     "execution_count": 94,
     "metadata": {},
     "output_type": "execute_result"
    }
   ],
   "source": [
    "ligth_gbm_random.best_params_"
   ]
  },
  {
   "cell_type": "code",
   "execution_count": 91,
   "metadata": {},
   "outputs": [
    {
     "data": {
      "text/plain": [
       "0.7512280582562495"
      ]
     },
     "execution_count": 91,
     "metadata": {},
     "output_type": "execute_result"
    }
   ],
   "source": [
    "ligth_gbm_random.best_score_"
   ]
  },
  {
   "cell_type": "code",
   "execution_count": 92,
   "metadata": {},
   "outputs": [],
   "source": [
    "best_light_gbm = ligth_gbm_random.best_estimator_"
   ]
  },
  {
   "cell_type": "code",
   "execution_count": 93,
   "metadata": {},
   "outputs": [
    {
     "name": "stdout",
     "output_type": "stream",
     "text": [
      "Precisión sobre el juego de pruebas: 0.75\n",
      "Precisión sobre el juego de train: 0.81\n"
     ]
    }
   ],
   "source": [
    "print(\"Precisión sobre el juego de pruebas: {:.2f}\"\n",
    "      .format(best_light_gbm.score(X_test, y_test)))\n",
    "print(\"Precisión sobre el juego de train: {:.2f}\"\n",
    "      .format(best_light_gbm.score(X_train, y_train)))"
   ]
  },
  {
   "cell_type": "code",
   "execution_count": 95,
   "metadata": {},
   "outputs": [
    {
     "data": {
      "text/plain": [
       "['finalized_light_gbm_model.pkl']"
      ]
     },
     "execution_count": 95,
     "metadata": {},
     "output_type": "execute_result"
    }
   ],
   "source": [
    "filename = 'finalized_light_gbm_model.pkl'\n",
    "joblib.dump(best_light_gbm, filename)"
   ]
  },
  {
   "cell_type": "code",
   "execution_count": 96,
   "metadata": {},
   "outputs": [],
   "source": [
    "best_light_gbm = joblib.load('finalized_light_gbm_model.pkl') "
   ]
  },
  {
   "cell_type": "code",
   "execution_count": 101,
   "metadata": {},
   "outputs": [
    {
     "data": {
      "image/png": "[encoded data removed]",
      "text/plain": [
       "<Figure size 576x432 with 1 Axes>"
      ]
     },
     "metadata": {
      "needs_background": "light"
     },
     "output_type": "display_data"
    }
   ],
   "source": [
    "plt.barh(df_songs.loc[:,\"danceability\":\"duration_ms\"].columns, best_light_gbm.feature_importances_);"
   ]
  },
  {
   "cell_type": "code",
   "execution_count": 123,
   "metadata": {},
   "outputs": [
    {
     "name": "stdout",
     "output_type": "stream",
     "text": [
      "Artista: "
     ]
    },
    {
     "name": "stdin",
     "output_type": "stream",
     "text": [
      " drake\n"
     ]
    },
    {
     "name": "stdout",
     "output_type": "stream",
     "text": [
      "Titulo: "
     ]
    },
    {
     "name": "stdin",
     "output_type": "stream",
     "text": [
      " \n"
     ]
    },
    {
     "name": "stdout",
     "output_type": "stream",
     "text": [
      "Canción elegida: POPSTAR (feat. Drake) de DJ Khaled\n"
     ]
    },
    {
     "data": {
      "text/plain": [
       "array([[0.2944884, 0.7055116]])"
      ]
     },
     "execution_count": 123,
     "metadata": {},
     "output_type": "execute_result"
    }
   ],
   "source": [
    "best_light_gbm.predict_proba(find_song())"
   ]
  },
  {
   "cell_type": "markdown",
   "metadata": {},
   "source": [
    "### Implementación de xgboost"
   ]
  },
  {
   "cell_type": "code",
   "execution_count": 1,
   "metadata": {},
   "outputs": [],
   "source": [
    "import xgboost as xgb"
   ]
  },
  {
   "cell_type": "code",
   "execution_count": 4,
   "metadata": {},
   "outputs": [],
   "source": [
    "xgb_clf = xgb.XGBClassifier()"
   ]
  },
  {
   "cell_type": "code",
   "execution_count": 107,
   "metadata": {},
   "outputs": [
    {
     "name": "stdout",
     "output_type": "stream",
     "text": [
      "Wall time: 19.4 s\n"
     ]
    },
    {
     "data": {
      "text/plain": [
       "0.7438599295696648"
      ]
     },
     "execution_count": 107,
     "metadata": {},
     "output_type": "execute_result"
    }
   ],
   "source": [
    "%%time\n",
    "cross_val_score(xgb_clf, X_train,y_train, cv=10).mean()"
   ]
  },
  {
   "cell_type": "code",
   "execution_count": 38,
   "metadata": {},
   "outputs": [
    {
     "data": {
      "text/plain": [
       "XGBClassifier(base_score=0.5, booster='gbtree', colsample_bylevel=1,\n",
       "              colsample_bynode=1, colsample_bytree=1, gamma=0, gpu_id=-1,\n",
       "              importance_type='gain', interaction_constraints='',\n",
       "              learning_rate=0.300000012, max_delta_step=0, max_depth=6,\n",
       "              min_child_weight=1, missing=nan, monotone_constraints='()',\n",
       "              n_estimators=100, n_jobs=0, num_parallel_tree=1,\n",
       "              objective='binary:logistic', random_state=0, reg_alpha=0,\n",
       "              reg_lambda=1, scale_pos_weight=1, subsample=1,\n",
       "              tree_method='exact', validate_parameters=1, verbosity=None)"
      ]
     },
     "execution_count": 38,
     "metadata": {},
     "output_type": "execute_result"
    }
   ],
   "source": [
    "xgb_clf.fit(X_train,y_train)"
   ]
  },
  {
   "cell_type": "code",
   "execution_count": 39,
   "metadata": {},
   "outputs": [
    {
     "name": "stdout",
     "output_type": "stream",
     "text": [
      "Precisión sobre el juego de pruebas: 0.7407\n",
      "Precisión sobre el juego de train: 0.8305\n"
     ]
    }
   ],
   "source": [
    "print(\"Precisión sobre el juego de pruebas: {:.4f}\"\n",
    "      .format(xgb_clf.score(X_test, y_test)))\n",
    "print(\"Precisión sobre el juego de train: {:.4f}\"\n",
    "      .format(xgb_clf.score(X_train, y_train)))"
   ]
  },
  {
   "cell_type": "code",
   "execution_count": 40,
   "metadata": {},
   "outputs": [],
   "source": [
    "param_range = [60,90,100,150,200,250,300]\n",
    "train_score, test_score= validation_curve(\n",
    "                                xgb_clf,\n",
    "                                X = X_train, y = y_train, \n",
    "                                param_name = 'n_estimators', \n",
    "                               param_range=param_range,\n",
    "                                scoring=\"accuracy\")"
   ]
  },
  {
   "cell_type": "code",
   "execution_count": 41,
   "metadata": {},
   "outputs": [
    {
     "name": "stdout",
     "output_type": "stream",
     "text": [
      "Numero de estimadores para un Cross_val 5 (test) y para todo dataset de entrenamiento (train)\n",
      "n_estimators 60 en test: 0.7453438732311422 en train : 0.8121290184713172\n",
      "n_estimators 90 en test: 0.7432204862227548 en train: 0.8382047783748611\n",
      "n_estimators 100 en test: 0.7426064202777705 en train: 0.8461036187391698\n",
      "n_estimators 150 en test: 0.7407388335365134 en train: 0.8793491398532345\n",
      "n_estimators 200 en test: 0.7363129986782256 en train: 0.9057702938495813\n",
      "n_estimators 250 en test: 0.7359036671981057 en train: 0.9281109267134047\n",
      "n_estimators 300 en test: 0.7341639085929994 en train: 0.9455523472620386\n"
     ]
    }
   ],
   "source": [
    "print(\"Numero de estimadores para un Cross_val 5 (test) y para todo dataset de entrenamiento (train)\")\n",
    "print ('n_estimators 60 en test:',test_score[0].mean(),'en train :',train_score[0].mean())\n",
    "print ('n_estimators 90 en test:',test_score[1].mean(),'en train:',train_score[1].mean())\n",
    "print ('n_estimators 100 en test:',test_score[2].mean(),'en train:',train_score[2].mean())\n",
    "print ('n_estimators 150 en test:',test_score[3].mean(),'en train:',train_score[3].mean())\n",
    "print ('n_estimators 200 en test:',test_score[4].mean(),'en train:',train_score[4].mean())\n",
    "print ('n_estimators 250 en test:',test_score[5].mean(),'en train:',train_score[5].mean())\n",
    "print ('n_estimators 300 en test:',test_score[6].mean(),'en train:',train_score[6].mean())"
   ]
  },
  {
   "cell_type": "code",
   "execution_count": 11,
   "metadata": {},
   "outputs": [],
   "source": [
    "xgb_clf = xgb.XGBClassifier(learning_rate= 0.1,\n",
    "                             max_depth=5,\n",
    "                             min_child_weight=1,\n",
    "                             gamma=0,\n",
    "                             subsample=0.8,\n",
    "                             colsample_bytree=0.8,\n",
    "                             objective= 'binary:logistic',\n",
    "                             nthread=4,\n",
    "                             scale_pos_weight=1,\n",
    "                             seed=27)"
   ]
  },
  {
   "cell_type": "code",
   "execution_count": 12,
   "metadata": {},
   "outputs": [
    {
     "data": {
      "text/plain": [
       "XGBClassifier(base_score=0.5, booster='gbtree', colsample_bylevel=1,\n",
       "              colsample_bynode=1, colsample_bytree=0.8, gamma=0, gpu_id=-1,\n",
       "              importance_type='gain', interaction_constraints='',\n",
       "              learning_rate=0.1, max_delta_step=0, max_depth=5,\n",
       "              min_child_weight=1, missing=nan, monotone_constraints='()',\n",
       "              n_estimators=100, n_jobs=4, nthread=4, num_parallel_tree=1,\n",
       "              objective='binary:logistic', random_state=27, reg_alpha=0,\n",
       "              reg_lambda=1, scale_pos_weight=1, seed=27, subsample=0.8,\n",
       "              tree_method='exact', validate_parameters=1, verbosity=None)"
      ]
     },
     "execution_count": 12,
     "metadata": {},
     "output_type": "execute_result"
    }
   ],
   "source": [
    "xgb_clf.fit(X_train,y_train)"
   ]
  },
  {
   "cell_type": "code",
   "execution_count": 13,
   "metadata": {},
   "outputs": [
    {
     "name": "stdout",
     "output_type": "stream",
     "text": [
      "Precisión sobre el juego de pruebas: 0.7442\n",
      "Precisión sobre el juego de train: 0.7693\n"
     ]
    }
   ],
   "source": [
    "print(\"Precisión sobre el juego de pruebas: {:.4f}\"\n",
    "      .format(xgb_clf.score(X_test, y_test)))\n",
    "print(\"Precisión sobre el juego de train: {:.4f}\"\n",
    "      .format(xgb_clf.score(X_train, y_train)))"
   ]
  },
  {
   "cell_type": "code",
   "execution_count": 15,
   "metadata": {},
   "outputs": [
    {
     "data": {
      "text/plain": [
       "[0.7, 0.8, 0.9, 1.0]"
      ]
     },
     "execution_count": 15,
     "metadata": {},
     "output_type": "execute_result"
    }
   ],
   "source": []
  },
  {
   "cell_type": "code",
   "execution_count": 14,
   "metadata": {},
   "outputs": [
    {
     "ename": "NameError",
     "evalue": "name 'gamma' is not defined",
     "output_type": "error",
     "traceback": [
      "\u001b[1;31m---------------------------------------------------------------------------\u001b[0m",
      "\u001b[1;31mNameError\u001b[0m                                 Traceback (most recent call last)",
      "\u001b[1;32m<ipython-input-14-1227b0b294a0>\u001b[0m in \u001b[0;36m<module>\u001b[1;34m\u001b[0m\n\u001b[0;32m      8\u001b[0m \u001b[0mn_estimators\u001b[0m \u001b[1;33m=\u001b[0m \u001b[1;33m[\u001b[0m\u001b[0mint\u001b[0m\u001b[1;33m(\u001b[0m\u001b[0mx\u001b[0m\u001b[1;33m)\u001b[0m \u001b[1;32mfor\u001b[0m \u001b[0mx\u001b[0m \u001b[1;32min\u001b[0m \u001b[0mnp\u001b[0m\u001b[1;33m.\u001b[0m\u001b[0mlinspace\u001b[0m\u001b[1;33m(\u001b[0m\u001b[0mstart\u001b[0m \u001b[1;33m=\u001b[0m \u001b[1;36m30\u001b[0m\u001b[1;33m,\u001b[0m \u001b[0mstop\u001b[0m \u001b[1;33m=\u001b[0m \u001b[1;36m150\u001b[0m\u001b[1;33m,\u001b[0m \u001b[0mnum\u001b[0m \u001b[1;33m=\u001b[0m \u001b[1;36m10\u001b[0m\u001b[1;33m)\u001b[0m\u001b[1;33m]\u001b[0m\u001b[1;33m\u001b[0m\u001b[1;33m\u001b[0m\u001b[0m\n\u001b[0;32m      9\u001b[0m \u001b[1;31m# Minimum loss reduction required to make a further partition on a leaf node of the tree.\u001b[0m\u001b[1;33m\u001b[0m\u001b[1;33m\u001b[0m\u001b[1;33m\u001b[0m\u001b[0m\n\u001b[1;32m---> 10\u001b[1;33m \u001b[0mgamma\u001b[0m\u001b[1;33m\u001b[0m\u001b[1;33m\u001b[0m\u001b[0m\n\u001b[0m\u001b[0;32m     11\u001b[0m \u001b[1;31m# Minimum sum of instance weight(hessian) needed in a child.\u001b[0m\u001b[1;33m\u001b[0m\u001b[1;33m\u001b[0m\u001b[1;33m\u001b[0m\u001b[0m\n\u001b[0;32m     12\u001b[0m \u001b[0mmin_child_weight\u001b[0m \u001b[1;33m=\u001b[0m \u001b[0mrange\u001b[0m\u001b[1;33m(\u001b[0m\u001b[1;36m5\u001b[0m\u001b[1;33m,\u001b[0m\u001b[1;36m8\u001b[0m\u001b[1;33m)\u001b[0m\u001b[1;33m\u001b[0m\u001b[1;33m\u001b[0m\u001b[0m\n",
      "\u001b[1;31mNameError\u001b[0m: name 'gamma' is not defined"
     ]
    }
   ],
   "source": [
    "booster = ['gbtree', 'gblinear', 'dart']\n",
    "# Profundidad de arbol\n",
    "max_depth = [int(x) for x in np.linspace(9, 12, num = 4)]\n",
    "max_depth.append(None)\n",
    "#Learning rate\n",
    "learning_rate = [float(x) for x in np.linspace(0.005, 1., num = 10)]\n",
    "# Numero de arboles del bosque\n",
    "n_estimators = [int(x) for x in np.linspace(start = 30, stop = 150, num = 10)]\n",
    "# Minimum loss reduction required to make a further partition on a leaf node of the tree.\n",
    "gamma \n",
    "# Minimum sum of instance weight(hessian) needed in a child.\n",
    "min_child_weight = range(5,8)\n",
    "# Subsample ratio of the training instance.\n",
    "subsample = [i/10. for i in range(7,11)]\n",
    "# Subsample ratio of columns when constructing each tree.\n",
    "colsample_bytree = [i/10. for i in range(7,11)]\n",
    "# Subsample ratio of columns for each level.\n",
    "colsample_bylevel \n",
    "# Subsample ratio of columns for each split.\n",
    "colsample_bynode \n",
    "# L1 regularization term on weights\n",
    "reg_alpha \n",
    "# L2 regularization term on weights\n",
    "reg_lambda \n",
    "# Balancing of positive and negative weights.\n",
    "scale_pos_weight \n",
    "#The initial prediction score of all instances, global bias.\n",
    "base_score\n",
    "# Creacion de cuadrícula aleatoria\n",
    "param_grid = {'booster': booster,\n",
    "             'max_depth': max_depth,\n",
    "             'learning_rate':learning_rate,\n",
    "             'n_estimators':n_estimators,\n",
    "             'gamma':gamma,\n",
    "             'min_child_weight':min_child_weight,\n",
    "             'subsample':subsample,\n",
    "             'colsample_bytree':colsample_bytree,\n",
    "             'colsample_bylevel':colsample_bylevel,\n",
    "             'colsample_bynode':colsample_bynode,\n",
    "             'reg_alpha':reg_alpha,\n",
    "             'reg_lambda':reg_lambda,\n",
    "             'scale_pos_weight':scale_pos_weight,\n",
    "             'base_score':base_score}\n",
    "print(param_grid)"
   ]
  },
  {
   "cell_type": "code",
   "execution_count": 18,
   "metadata": {},
   "outputs": [
    {
     "name": "stdout",
     "output_type": "stream",
     "text": [
      "{'booster': ['gbtree', 'gblinear', 'dart'], 'max_depth': [9, 10, 11, 12, None], 'learning_rate': [0.005, 0.11555555555555556, 0.22611111111111112, 0.33666666666666667, 0.44722222222222224, 0.5577777777777778, 0.6683333333333333, 0.778888888888889, 0.8894444444444445, 1.0], 'n_estimators': [30, 43, 56, 70, 83, 96, 110, 123, 136, 150], 'min_child_weight': range(5, 8), 'subsample': [0.7, 0.8, 0.9, 1.0], 'colsample_bytree': [0.7, 0.8, 0.9, 1.0]}\n"
     ]
    }
   ],
   "source": [
    "booster = ['gbtree', 'gblinear', 'dart']\n",
    "# Profundidad de arbol\n",
    "max_depth = [int(x) for x in np.linspace(9, 12, num = 4)]\n",
    "max_depth.append(None)\n",
    "#Learning rate\n",
    "learning_rate = [float(x) for x in np.linspace(0.005, 1., num = 10)]\n",
    "# Numero de arboles del bosque\n",
    "n_estimators = [int(x) for x in np.linspace(start = 30, stop = 150, num = 10)]\n",
    "# Minimum sum of instance weight(hessian) needed in a child.\n",
    "min_child_weight = range(5,8)\n",
    "# Subsample ratio of the training instance.\n",
    "subsample = [i/10. for i in range(7,11)]\n",
    "# Subsample ratio of columns when constructing each tree.\n",
    "colsample_bytree = [i/10. for i in range(7,11)]\n",
    "# Creacion de cuadrícula aleatoria\n",
    "param_grid = {'booster': booster,\n",
    "             'max_depth': max_depth,\n",
    "             'learning_rate':learning_rate,\n",
    "             'n_estimators':n_estimators,\n",
    "             'min_child_weight':min_child_weight,\n",
    "             'subsample':subsample,\n",
    "             'colsample_bytree':colsample_bytree}\n",
    "print(param_grid)"
   ]
  },
  {
   "cell_type": "code",
   "execution_count": 19,
   "metadata": {},
   "outputs": [],
   "source": [
    "xgb_clf = xgb.XGBClassifier(random_state=42)"
   ]
  },
  {
   "cell_type": "code",
   "execution_count": 20,
   "metadata": {},
   "outputs": [],
   "source": [
    "xgb_clf_grid = GridSearchCV(estimator = xgb_clf, param_grid = param_grid, cv = 5, verbose=2, n_jobs = -1)"
   ]
  },
  {
   "cell_type": "code",
   "execution_count": 21,
   "metadata": {
    "collapsed": true,
    "jupyter": {
     "outputs_hidden": true
    }
   },
   "outputs": [
    {
     "name": "stdout",
     "output_type": "stream",
     "text": [
      "Fitting 5 folds for each of 72000 candidates, totalling 360000 fits\n"
     ]
    },
    {
     "name": "stderr",
     "output_type": "stream",
     "text": [
      "[Parallel(n_jobs=-1)]: Using backend LokyBackend with 8 concurrent workers.\n",
      "[Parallel(n_jobs=-1)]: Done  25 tasks      | elapsed:   19.4s\n"
     ]
    },
    {
     "ename": "KeyboardInterrupt",
     "evalue": "",
     "output_type": "error",
     "traceback": [
      "\u001b[1;31m---------------------------------------------------------------------------\u001b[0m",
      "\u001b[1;31mKeyboardInterrupt\u001b[0m                         Traceback (most recent call last)",
      "\u001b[1;32m<ipython-input-21-629480e6d46d>\u001b[0m in \u001b[0;36m<module>\u001b[1;34m\u001b[0m\n\u001b[1;32m----> 1\u001b[1;33m \u001b[0mxgb_clf_grid\u001b[0m\u001b[1;33m.\u001b[0m\u001b[0mfit\u001b[0m\u001b[1;33m(\u001b[0m\u001b[0mX_train\u001b[0m\u001b[1;33m,\u001b[0m \u001b[0my_train\u001b[0m\u001b[1;33m)\u001b[0m\u001b[1;33m\u001b[0m\u001b[1;33m\u001b[0m\u001b[0m\n\u001b[0m",
      "\u001b[1;32m~\\Miniconda3\\envs\\tfm\\lib\\site-packages\\sklearn\\model_selection\\_search.py\u001b[0m in \u001b[0;36mfit\u001b[1;34m(self, X, y, groups, **fit_params)\u001b[0m\n\u001b[0;32m    708\u001b[0m                 \u001b[1;32mreturn\u001b[0m \u001b[0mresults\u001b[0m\u001b[1;33m\u001b[0m\u001b[1;33m\u001b[0m\u001b[0m\n\u001b[0;32m    709\u001b[0m \u001b[1;33m\u001b[0m\u001b[0m\n\u001b[1;32m--> 710\u001b[1;33m             \u001b[0mself\u001b[0m\u001b[1;33m.\u001b[0m\u001b[0m_run_search\u001b[0m\u001b[1;33m(\u001b[0m\u001b[0mevaluate_candidates\u001b[0m\u001b[1;33m)\u001b[0m\u001b[1;33m\u001b[0m\u001b[1;33m\u001b[0m\u001b[0m\n\u001b[0m\u001b[0;32m    711\u001b[0m \u001b[1;33m\u001b[0m\u001b[0m\n\u001b[0;32m    712\u001b[0m         \u001b[1;31m# For multi-metric evaluation, store the best_index_, best_params_ and\u001b[0m\u001b[1;33m\u001b[0m\u001b[1;33m\u001b[0m\u001b[1;33m\u001b[0m\u001b[0m\n",
      "\u001b[1;32m~\\Miniconda3\\envs\\tfm\\lib\\site-packages\\sklearn\\model_selection\\_search.py\u001b[0m in \u001b[0;36m_run_search\u001b[1;34m(self, evaluate_candidates)\u001b[0m\n\u001b[0;32m   1149\u001b[0m     \u001b[1;32mdef\u001b[0m \u001b[0m_run_search\u001b[0m\u001b[1;33m(\u001b[0m\u001b[0mself\u001b[0m\u001b[1;33m,\u001b[0m \u001b[0mevaluate_candidates\u001b[0m\u001b[1;33m)\u001b[0m\u001b[1;33m:\u001b[0m\u001b[1;33m\u001b[0m\u001b[1;33m\u001b[0m\u001b[0m\n\u001b[0;32m   1150\u001b[0m         \u001b[1;34m\"\"\"Search all candidates in param_grid\"\"\"\u001b[0m\u001b[1;33m\u001b[0m\u001b[1;33m\u001b[0m\u001b[0m\n\u001b[1;32m-> 1151\u001b[1;33m         \u001b[0mevaluate_candidates\u001b[0m\u001b[1;33m(\u001b[0m\u001b[0mParameterGrid\u001b[0m\u001b[1;33m(\u001b[0m\u001b[0mself\u001b[0m\u001b[1;33m.\u001b[0m\u001b[0mparam_grid\u001b[0m\u001b[1;33m)\u001b[0m\u001b[1;33m)\u001b[0m\u001b[1;33m\u001b[0m\u001b[1;33m\u001b[0m\u001b[0m\n\u001b[0m\u001b[0;32m   1152\u001b[0m \u001b[1;33m\u001b[0m\u001b[0m\n\u001b[0;32m   1153\u001b[0m \u001b[1;33m\u001b[0m\u001b[0m\n",
      "\u001b[1;32m~\\Miniconda3\\envs\\tfm\\lib\\site-packages\\sklearn\\model_selection\\_search.py\u001b[0m in \u001b[0;36mevaluate_candidates\u001b[1;34m(candidate_params)\u001b[0m\n\u001b[0;32m    687\u001b[0m                                \u001b[1;32mfor\u001b[0m \u001b[0mparameters\u001b[0m\u001b[1;33m,\u001b[0m \u001b[1;33m(\u001b[0m\u001b[0mtrain\u001b[0m\u001b[1;33m,\u001b[0m \u001b[0mtest\u001b[0m\u001b[1;33m)\u001b[0m\u001b[1;33m\u001b[0m\u001b[1;33m\u001b[0m\u001b[0m\n\u001b[0;32m    688\u001b[0m                                in product(candidate_params,\n\u001b[1;32m--> 689\u001b[1;33m                                           cv.split(X, y, groups)))\n\u001b[0m\u001b[0;32m    690\u001b[0m \u001b[1;33m\u001b[0m\u001b[0m\n\u001b[0;32m    691\u001b[0m                 \u001b[1;32mif\u001b[0m \u001b[0mlen\u001b[0m\u001b[1;33m(\u001b[0m\u001b[0mout\u001b[0m\u001b[1;33m)\u001b[0m \u001b[1;33m<\u001b[0m \u001b[1;36m1\u001b[0m\u001b[1;33m:\u001b[0m\u001b[1;33m\u001b[0m\u001b[1;33m\u001b[0m\u001b[0m\n",
      "\u001b[1;32m~\\Miniconda3\\envs\\tfm\\lib\\site-packages\\joblib\\parallel.py\u001b[0m in \u001b[0;36m__call__\u001b[1;34m(self, iterable)\u001b[0m\n\u001b[0;32m   1040\u001b[0m \u001b[1;33m\u001b[0m\u001b[0m\n\u001b[0;32m   1041\u001b[0m             \u001b[1;32mwith\u001b[0m \u001b[0mself\u001b[0m\u001b[1;33m.\u001b[0m\u001b[0m_backend\u001b[0m\u001b[1;33m.\u001b[0m\u001b[0mretrieval_context\u001b[0m\u001b[1;33m(\u001b[0m\u001b[1;33m)\u001b[0m\u001b[1;33m:\u001b[0m\u001b[1;33m\u001b[0m\u001b[1;33m\u001b[0m\u001b[0m\n\u001b[1;32m-> 1042\u001b[1;33m                 \u001b[0mself\u001b[0m\u001b[1;33m.\u001b[0m\u001b[0mretrieve\u001b[0m\u001b[1;33m(\u001b[0m\u001b[1;33m)\u001b[0m\u001b[1;33m\u001b[0m\u001b[1;33m\u001b[0m\u001b[0m\n\u001b[0m\u001b[0;32m   1043\u001b[0m             \u001b[1;31m# Make sure that we get a last message telling us we are done\u001b[0m\u001b[1;33m\u001b[0m\u001b[1;33m\u001b[0m\u001b[1;33m\u001b[0m\u001b[0m\n\u001b[0;32m   1044\u001b[0m             \u001b[0melapsed_time\u001b[0m \u001b[1;33m=\u001b[0m \u001b[0mtime\u001b[0m\u001b[1;33m.\u001b[0m\u001b[0mtime\u001b[0m\u001b[1;33m(\u001b[0m\u001b[1;33m)\u001b[0m \u001b[1;33m-\u001b[0m \u001b[0mself\u001b[0m\u001b[1;33m.\u001b[0m\u001b[0m_start_time\u001b[0m\u001b[1;33m\u001b[0m\u001b[1;33m\u001b[0m\u001b[0m\n",
      "\u001b[1;32m~\\Miniconda3\\envs\\tfm\\lib\\site-packages\\joblib\\parallel.py\u001b[0m in \u001b[0;36mretrieve\u001b[1;34m(self)\u001b[0m\n\u001b[0;32m    919\u001b[0m             \u001b[1;32mtry\u001b[0m\u001b[1;33m:\u001b[0m\u001b[1;33m\u001b[0m\u001b[1;33m\u001b[0m\u001b[0m\n\u001b[0;32m    920\u001b[0m                 \u001b[1;32mif\u001b[0m \u001b[0mgetattr\u001b[0m\u001b[1;33m(\u001b[0m\u001b[0mself\u001b[0m\u001b[1;33m.\u001b[0m\u001b[0m_backend\u001b[0m\u001b[1;33m,\u001b[0m \u001b[1;34m'supports_timeout'\u001b[0m\u001b[1;33m,\u001b[0m \u001b[1;32mFalse\u001b[0m\u001b[1;33m)\u001b[0m\u001b[1;33m:\u001b[0m\u001b[1;33m\u001b[0m\u001b[1;33m\u001b[0m\u001b[0m\n\u001b[1;32m--> 921\u001b[1;33m                     \u001b[0mself\u001b[0m\u001b[1;33m.\u001b[0m\u001b[0m_output\u001b[0m\u001b[1;33m.\u001b[0m\u001b[0mextend\u001b[0m\u001b[1;33m(\u001b[0m\u001b[0mjob\u001b[0m\u001b[1;33m.\u001b[0m\u001b[0mget\u001b[0m\u001b[1;33m(\u001b[0m\u001b[0mtimeout\u001b[0m\u001b[1;33m=\u001b[0m\u001b[0mself\u001b[0m\u001b[1;33m.\u001b[0m\u001b[0mtimeout\u001b[0m\u001b[1;33m)\u001b[0m\u001b[1;33m)\u001b[0m\u001b[1;33m\u001b[0m\u001b[1;33m\u001b[0m\u001b[0m\n\u001b[0m\u001b[0;32m    922\u001b[0m                 \u001b[1;32melse\u001b[0m\u001b[1;33m:\u001b[0m\u001b[1;33m\u001b[0m\u001b[1;33m\u001b[0m\u001b[0m\n\u001b[0;32m    923\u001b[0m                     \u001b[0mself\u001b[0m\u001b[1;33m.\u001b[0m\u001b[0m_output\u001b[0m\u001b[1;33m.\u001b[0m\u001b[0mextend\u001b[0m\u001b[1;33m(\u001b[0m\u001b[0mjob\u001b[0m\u001b[1;33m.\u001b[0m\u001b[0mget\u001b[0m\u001b[1;33m(\u001b[0m\u001b[1;33m)\u001b[0m\u001b[1;33m)\u001b[0m\u001b[1;33m\u001b[0m\u001b[1;33m\u001b[0m\u001b[0m\n",
      "\u001b[1;32m~\\Miniconda3\\envs\\tfm\\lib\\site-packages\\joblib\\_parallel_backends.py\u001b[0m in \u001b[0;36mwrap_future_result\u001b[1;34m(future, timeout)\u001b[0m\n\u001b[0;32m    538\u001b[0m         AsyncResults.get from multiprocessing.\"\"\"\n\u001b[0;32m    539\u001b[0m         \u001b[1;32mtry\u001b[0m\u001b[1;33m:\u001b[0m\u001b[1;33m\u001b[0m\u001b[1;33m\u001b[0m\u001b[0m\n\u001b[1;32m--> 540\u001b[1;33m             \u001b[1;32mreturn\u001b[0m \u001b[0mfuture\u001b[0m\u001b[1;33m.\u001b[0m\u001b[0mresult\u001b[0m\u001b[1;33m(\u001b[0m\u001b[0mtimeout\u001b[0m\u001b[1;33m=\u001b[0m\u001b[0mtimeout\u001b[0m\u001b[1;33m)\u001b[0m\u001b[1;33m\u001b[0m\u001b[1;33m\u001b[0m\u001b[0m\n\u001b[0m\u001b[0;32m    541\u001b[0m         \u001b[1;32mexcept\u001b[0m \u001b[0mCfTimeoutError\u001b[0m\u001b[1;33m:\u001b[0m\u001b[1;33m\u001b[0m\u001b[1;33m\u001b[0m\u001b[0m\n\u001b[0;32m    542\u001b[0m             \u001b[1;32mraise\u001b[0m \u001b[0mTimeoutError\u001b[0m\u001b[1;33m(\u001b[0m\u001b[1;33m)\u001b[0m\u001b[1;33m\u001b[0m\u001b[1;33m\u001b[0m\u001b[0m\n",
      "\u001b[1;32m~\\Miniconda3\\envs\\tfm\\lib\\concurrent\\futures\\_base.py\u001b[0m in \u001b[0;36mresult\u001b[1;34m(self, timeout)\u001b[0m\n\u001b[0;32m    428\u001b[0m                 \u001b[1;32mreturn\u001b[0m \u001b[0mself\u001b[0m\u001b[1;33m.\u001b[0m\u001b[0m__get_result\u001b[0m\u001b[1;33m(\u001b[0m\u001b[1;33m)\u001b[0m\u001b[1;33m\u001b[0m\u001b[1;33m\u001b[0m\u001b[0m\n\u001b[0;32m    429\u001b[0m \u001b[1;33m\u001b[0m\u001b[0m\n\u001b[1;32m--> 430\u001b[1;33m             \u001b[0mself\u001b[0m\u001b[1;33m.\u001b[0m\u001b[0m_condition\u001b[0m\u001b[1;33m.\u001b[0m\u001b[0mwait\u001b[0m\u001b[1;33m(\u001b[0m\u001b[0mtimeout\u001b[0m\u001b[1;33m)\u001b[0m\u001b[1;33m\u001b[0m\u001b[1;33m\u001b[0m\u001b[0m\n\u001b[0m\u001b[0;32m    431\u001b[0m \u001b[1;33m\u001b[0m\u001b[0m\n\u001b[0;32m    432\u001b[0m             \u001b[1;32mif\u001b[0m \u001b[0mself\u001b[0m\u001b[1;33m.\u001b[0m\u001b[0m_state\u001b[0m \u001b[1;32min\u001b[0m \u001b[1;33m[\u001b[0m\u001b[0mCANCELLED\u001b[0m\u001b[1;33m,\u001b[0m \u001b[0mCANCELLED_AND_NOTIFIED\u001b[0m\u001b[1;33m]\u001b[0m\u001b[1;33m:\u001b[0m\u001b[1;33m\u001b[0m\u001b[1;33m\u001b[0m\u001b[0m\n",
      "\u001b[1;32m~\\Miniconda3\\envs\\tfm\\lib\\threading.py\u001b[0m in \u001b[0;36mwait\u001b[1;34m(self, timeout)\u001b[0m\n\u001b[0;32m    294\u001b[0m         \u001b[1;32mtry\u001b[0m\u001b[1;33m:\u001b[0m    \u001b[1;31m# restore state no matter what (e.g., KeyboardInterrupt)\u001b[0m\u001b[1;33m\u001b[0m\u001b[1;33m\u001b[0m\u001b[0m\n\u001b[0;32m    295\u001b[0m             \u001b[1;32mif\u001b[0m \u001b[0mtimeout\u001b[0m \u001b[1;32mis\u001b[0m \u001b[1;32mNone\u001b[0m\u001b[1;33m:\u001b[0m\u001b[1;33m\u001b[0m\u001b[1;33m\u001b[0m\u001b[0m\n\u001b[1;32m--> 296\u001b[1;33m                 \u001b[0mwaiter\u001b[0m\u001b[1;33m.\u001b[0m\u001b[0macquire\u001b[0m\u001b[1;33m(\u001b[0m\u001b[1;33m)\u001b[0m\u001b[1;33m\u001b[0m\u001b[1;33m\u001b[0m\u001b[0m\n\u001b[0m\u001b[0;32m    297\u001b[0m                 \u001b[0mgotit\u001b[0m \u001b[1;33m=\u001b[0m \u001b[1;32mTrue\u001b[0m\u001b[1;33m\u001b[0m\u001b[1;33m\u001b[0m\u001b[0m\n\u001b[0;32m    298\u001b[0m             \u001b[1;32melse\u001b[0m\u001b[1;33m:\u001b[0m\u001b[1;33m\u001b[0m\u001b[1;33m\u001b[0m\u001b[0m\n",
      "\u001b[1;31mKeyboardInterrupt\u001b[0m: "
     ]
    }
   ],
   "source": [
    "xgb_clf_grid.fit(X_train, y_train)"
   ]
  },
  {
   "cell_type": "code",
   "execution_count": 24,
   "metadata": {},
   "outputs": [],
   "source": [
    "# Random search of parameters, using 3 fold cross validation, \n",
    "# search across 100 different combinations, and use all available cores\n",
    "xgb_random = RandomizedSearchCV(estimator = xgb_clf, param_distributions = param_grid, n_iter = 2400, cv = 5, verbose=2, random_state=42, n_jobs = -1)"
   ]
  },
  {
   "cell_type": "code",
   "execution_count": null,
   "metadata": {},
   "outputs": [
    {
     "name": "stdout",
     "output_type": "stream",
     "text": [
      "Fitting 5 folds for each of 2400 candidates, totalling 12000 fits\n"
     ]
    },
    {
     "name": "stderr",
     "output_type": "stream",
     "text": [
      "[Parallel(n_jobs=-1)]: Using backend LokyBackend with 8 concurrent workers.\n",
      "[Parallel(n_jobs=-1)]: Done  25 tasks      | elapsed:  1.1min\n",
      "[Parallel(n_jobs=-1)]: Done 146 tasks      | elapsed:  5.3min\n",
      "[Parallel(n_jobs=-1)]: Done 349 tasks      | elapsed: 14.6min\n",
      "[Parallel(n_jobs=-1)]: Done 632 tasks      | elapsed: 25.6min\n",
      "[Parallel(n_jobs=-1)]: Done 997 tasks      | elapsed: 40.0min\n",
      "[Parallel(n_jobs=-1)]: Done 1442 tasks      | elapsed: 54.3min\n",
      "[Parallel(n_jobs=-1)]: Done 1969 tasks      | elapsed: 75.4min\n",
      "[Parallel(n_jobs=-1)]: Done 2576 tasks      | elapsed: 101.7min\n",
      "[Parallel(n_jobs=-1)]: Done 3265 tasks      | elapsed: 126.5min\n"
     ]
    }
   ],
   "source": [
    "xgb_random.fit(X_train, y_train)"
   ]
  },
  {
   "cell_type": "markdown",
   "metadata": {},
   "source": [
    "## Support Vector classifier"
   ]
  },
  {
   "cell_type": "code",
   "execution_count": 31,
   "metadata": {},
   "outputs": [],
   "source": [
    "from sklearn.svm import SVC\n",
    "from sklearn.preprocessing import normalize"
   ]
  },
  {
   "cell_type": "code",
   "execution_count": 32,
   "metadata": {},
   "outputs": [],
   "source": [
    "X_Normalized = normalize(df_songs.loc[:,\"danceability\":\"duration_ms\"])\n",
    "y = df_songs.iloc[:,-1]\n",
    "X_train_N, X_test_N, y_train_N, y_test_N = train_test_split(X_Normalized, y, random_state=0)"
   ]
  },
  {
   "cell_type": "code",
   "execution_count": 33,
   "metadata": {},
   "outputs": [],
   "source": [
    "linerar_svc = SVC()"
   ]
  },
  {
   "cell_type": "code",
   "execution_count": 34,
   "metadata": {},
   "outputs": [
    {
     "ename": "KeyboardInterrupt",
     "evalue": "",
     "output_type": "error",
     "traceback": [
      "\u001b[1;31m---------------------------------------------------------------------------\u001b[0m",
      "\u001b[1;31mKeyboardInterrupt\u001b[0m                         Traceback (most recent call last)",
      "\u001b[1;32m<timed eval>\u001b[0m in \u001b[0;36m<module>\u001b[1;34m\u001b[0m\n",
      "\u001b[1;32m~\\Miniconda3\\envs\\tfm\\lib\\site-packages\\sklearn\\model_selection\\_validation.py\u001b[0m in \u001b[0;36mcross_val_score\u001b[1;34m(estimator, X, y, groups, scoring, cv, n_jobs, verbose, fit_params, pre_dispatch, error_score)\u001b[0m\n\u001b[0;32m    388\u001b[0m                                 \u001b[0mfit_params\u001b[0m\u001b[1;33m=\u001b[0m\u001b[0mfit_params\u001b[0m\u001b[1;33m,\u001b[0m\u001b[1;33m\u001b[0m\u001b[1;33m\u001b[0m\u001b[0m\n\u001b[0;32m    389\u001b[0m                                 \u001b[0mpre_dispatch\u001b[0m\u001b[1;33m=\u001b[0m\u001b[0mpre_dispatch\u001b[0m\u001b[1;33m,\u001b[0m\u001b[1;33m\u001b[0m\u001b[1;33m\u001b[0m\u001b[0m\n\u001b[1;32m--> 390\u001b[1;33m                                 error_score=error_score)\n\u001b[0m\u001b[0;32m    391\u001b[0m     \u001b[1;32mreturn\u001b[0m \u001b[0mcv_results\u001b[0m\u001b[1;33m[\u001b[0m\u001b[1;34m'test_score'\u001b[0m\u001b[1;33m]\u001b[0m\u001b[1;33m\u001b[0m\u001b[1;33m\u001b[0m\u001b[0m\n\u001b[0;32m    392\u001b[0m \u001b[1;33m\u001b[0m\u001b[0m\n",
      "\u001b[1;32m~\\Miniconda3\\envs\\tfm\\lib\\site-packages\\sklearn\\model_selection\\_validation.py\u001b[0m in \u001b[0;36mcross_validate\u001b[1;34m(estimator, X, y, groups, scoring, cv, n_jobs, verbose, fit_params, pre_dispatch, return_train_score, return_estimator, error_score)\u001b[0m\n\u001b[0;32m    234\u001b[0m             \u001b[0mreturn_times\u001b[0m\u001b[1;33m=\u001b[0m\u001b[1;32mTrue\u001b[0m\u001b[1;33m,\u001b[0m \u001b[0mreturn_estimator\u001b[0m\u001b[1;33m=\u001b[0m\u001b[0mreturn_estimator\u001b[0m\u001b[1;33m,\u001b[0m\u001b[1;33m\u001b[0m\u001b[1;33m\u001b[0m\u001b[0m\n\u001b[0;32m    235\u001b[0m             error_score=error_score)\n\u001b[1;32m--> 236\u001b[1;33m         for train, test in cv.split(X, y, groups))\n\u001b[0m\u001b[0;32m    237\u001b[0m \u001b[1;33m\u001b[0m\u001b[0m\n\u001b[0;32m    238\u001b[0m     \u001b[0mzipped_scores\u001b[0m \u001b[1;33m=\u001b[0m \u001b[0mlist\u001b[0m\u001b[1;33m(\u001b[0m\u001b[0mzip\u001b[0m\u001b[1;33m(\u001b[0m\u001b[1;33m*\u001b[0m\u001b[0mscores\u001b[0m\u001b[1;33m)\u001b[0m\u001b[1;33m)\u001b[0m\u001b[1;33m\u001b[0m\u001b[1;33m\u001b[0m\u001b[0m\n",
      "\u001b[1;32m~\\Miniconda3\\envs\\tfm\\lib\\site-packages\\joblib\\parallel.py\u001b[0m in \u001b[0;36m__call__\u001b[1;34m(self, iterable)\u001b[0m\n\u001b[0;32m   1030\u001b[0m                 \u001b[0mself\u001b[0m\u001b[1;33m.\u001b[0m\u001b[0m_iterating\u001b[0m \u001b[1;33m=\u001b[0m \u001b[0mself\u001b[0m\u001b[1;33m.\u001b[0m\u001b[0m_original_iterator\u001b[0m \u001b[1;32mis\u001b[0m \u001b[1;32mnot\u001b[0m \u001b[1;32mNone\u001b[0m\u001b[1;33m\u001b[0m\u001b[1;33m\u001b[0m\u001b[0m\n\u001b[0;32m   1031\u001b[0m \u001b[1;33m\u001b[0m\u001b[0m\n\u001b[1;32m-> 1032\u001b[1;33m             \u001b[1;32mwhile\u001b[0m \u001b[0mself\u001b[0m\u001b[1;33m.\u001b[0m\u001b[0mdispatch_one_batch\u001b[0m\u001b[1;33m(\u001b[0m\u001b[0miterator\u001b[0m\u001b[1;33m)\u001b[0m\u001b[1;33m:\u001b[0m\u001b[1;33m\u001b[0m\u001b[1;33m\u001b[0m\u001b[0m\n\u001b[0m\u001b[0;32m   1033\u001b[0m                 \u001b[1;32mpass\u001b[0m\u001b[1;33m\u001b[0m\u001b[1;33m\u001b[0m\u001b[0m\n\u001b[0;32m   1034\u001b[0m \u001b[1;33m\u001b[0m\u001b[0m\n",
      "\u001b[1;32m~\\Miniconda3\\envs\\tfm\\lib\\site-packages\\joblib\\parallel.py\u001b[0m in \u001b[0;36mdispatch_one_batch\u001b[1;34m(self, iterator)\u001b[0m\n\u001b[0;32m    845\u001b[0m                 \u001b[1;32mreturn\u001b[0m \u001b[1;32mFalse\u001b[0m\u001b[1;33m\u001b[0m\u001b[1;33m\u001b[0m\u001b[0m\n\u001b[0;32m    846\u001b[0m             \u001b[1;32melse\u001b[0m\u001b[1;33m:\u001b[0m\u001b[1;33m\u001b[0m\u001b[1;33m\u001b[0m\u001b[0m\n\u001b[1;32m--> 847\u001b[1;33m                 \u001b[0mself\u001b[0m\u001b[1;33m.\u001b[0m\u001b[0m_dispatch\u001b[0m\u001b[1;33m(\u001b[0m\u001b[0mtasks\u001b[0m\u001b[1;33m)\u001b[0m\u001b[1;33m\u001b[0m\u001b[1;33m\u001b[0m\u001b[0m\n\u001b[0m\u001b[0;32m    848\u001b[0m                 \u001b[1;32mreturn\u001b[0m \u001b[1;32mTrue\u001b[0m\u001b[1;33m\u001b[0m\u001b[1;33m\u001b[0m\u001b[0m\n\u001b[0;32m    849\u001b[0m \u001b[1;33m\u001b[0m\u001b[0m\n",
      "\u001b[1;32m~\\Miniconda3\\envs\\tfm\\lib\\site-packages\\joblib\\parallel.py\u001b[0m in \u001b[0;36m_dispatch\u001b[1;34m(self, batch)\u001b[0m\n\u001b[0;32m    763\u001b[0m         \u001b[1;32mwith\u001b[0m \u001b[0mself\u001b[0m\u001b[1;33m.\u001b[0m\u001b[0m_lock\u001b[0m\u001b[1;33m:\u001b[0m\u001b[1;33m\u001b[0m\u001b[1;33m\u001b[0m\u001b[0m\n\u001b[0;32m    764\u001b[0m             \u001b[0mjob_idx\u001b[0m \u001b[1;33m=\u001b[0m \u001b[0mlen\u001b[0m\u001b[1;33m(\u001b[0m\u001b[0mself\u001b[0m\u001b[1;33m.\u001b[0m\u001b[0m_jobs\u001b[0m\u001b[1;33m)\u001b[0m\u001b[1;33m\u001b[0m\u001b[1;33m\u001b[0m\u001b[0m\n\u001b[1;32m--> 765\u001b[1;33m             \u001b[0mjob\u001b[0m \u001b[1;33m=\u001b[0m \u001b[0mself\u001b[0m\u001b[1;33m.\u001b[0m\u001b[0m_backend\u001b[0m\u001b[1;33m.\u001b[0m\u001b[0mapply_async\u001b[0m\u001b[1;33m(\u001b[0m\u001b[0mbatch\u001b[0m\u001b[1;33m,\u001b[0m \u001b[0mcallback\u001b[0m\u001b[1;33m=\u001b[0m\u001b[0mcb\u001b[0m\u001b[1;33m)\u001b[0m\u001b[1;33m\u001b[0m\u001b[1;33m\u001b[0m\u001b[0m\n\u001b[0m\u001b[0;32m    766\u001b[0m             \u001b[1;31m# A job can complete so quickly than its callback is\u001b[0m\u001b[1;33m\u001b[0m\u001b[1;33m\u001b[0m\u001b[1;33m\u001b[0m\u001b[0m\n\u001b[0;32m    767\u001b[0m             \u001b[1;31m# called before we get here, causing self._jobs to\u001b[0m\u001b[1;33m\u001b[0m\u001b[1;33m\u001b[0m\u001b[1;33m\u001b[0m\u001b[0m\n",
      "\u001b[1;32m~\\Miniconda3\\envs\\tfm\\lib\\site-packages\\joblib\\_parallel_backends.py\u001b[0m in \u001b[0;36mapply_async\u001b[1;34m(self, func, callback)\u001b[0m\n\u001b[0;32m    204\u001b[0m     \u001b[1;32mdef\u001b[0m \u001b[0mapply_async\u001b[0m\u001b[1;33m(\u001b[0m\u001b[0mself\u001b[0m\u001b[1;33m,\u001b[0m \u001b[0mfunc\u001b[0m\u001b[1;33m,\u001b[0m \u001b[0mcallback\u001b[0m\u001b[1;33m=\u001b[0m\u001b[1;32mNone\u001b[0m\u001b[1;33m)\u001b[0m\u001b[1;33m:\u001b[0m\u001b[1;33m\u001b[0m\u001b[1;33m\u001b[0m\u001b[0m\n\u001b[0;32m    205\u001b[0m         \u001b[1;34m\"\"\"Schedule a func to be run\"\"\"\u001b[0m\u001b[1;33m\u001b[0m\u001b[1;33m\u001b[0m\u001b[0m\n\u001b[1;32m--> 206\u001b[1;33m         \u001b[0mresult\u001b[0m \u001b[1;33m=\u001b[0m \u001b[0mImmediateResult\u001b[0m\u001b[1;33m(\u001b[0m\u001b[0mfunc\u001b[0m\u001b[1;33m)\u001b[0m\u001b[1;33m\u001b[0m\u001b[1;33m\u001b[0m\u001b[0m\n\u001b[0m\u001b[0;32m    207\u001b[0m         \u001b[1;32mif\u001b[0m \u001b[0mcallback\u001b[0m\u001b[1;33m:\u001b[0m\u001b[1;33m\u001b[0m\u001b[1;33m\u001b[0m\u001b[0m\n\u001b[0;32m    208\u001b[0m             \u001b[0mcallback\u001b[0m\u001b[1;33m(\u001b[0m\u001b[0mresult\u001b[0m\u001b[1;33m)\u001b[0m\u001b[1;33m\u001b[0m\u001b[1;33m\u001b[0m\u001b[0m\n",
      "\u001b[1;32m~\\Miniconda3\\envs\\tfm\\lib\\site-packages\\joblib\\_parallel_backends.py\u001b[0m in \u001b[0;36m__init__\u001b[1;34m(self, batch)\u001b[0m\n\u001b[0;32m    568\u001b[0m         \u001b[1;31m# Don't delay the application, to avoid keeping the input\u001b[0m\u001b[1;33m\u001b[0m\u001b[1;33m\u001b[0m\u001b[1;33m\u001b[0m\u001b[0m\n\u001b[0;32m    569\u001b[0m         \u001b[1;31m# arguments in memory\u001b[0m\u001b[1;33m\u001b[0m\u001b[1;33m\u001b[0m\u001b[1;33m\u001b[0m\u001b[0m\n\u001b[1;32m--> 570\u001b[1;33m         \u001b[0mself\u001b[0m\u001b[1;33m.\u001b[0m\u001b[0mresults\u001b[0m \u001b[1;33m=\u001b[0m \u001b[0mbatch\u001b[0m\u001b[1;33m(\u001b[0m\u001b[1;33m)\u001b[0m\u001b[1;33m\u001b[0m\u001b[1;33m\u001b[0m\u001b[0m\n\u001b[0m\u001b[0;32m    571\u001b[0m \u001b[1;33m\u001b[0m\u001b[0m\n\u001b[0;32m    572\u001b[0m     \u001b[1;32mdef\u001b[0m \u001b[0mget\u001b[0m\u001b[1;33m(\u001b[0m\u001b[0mself\u001b[0m\u001b[1;33m)\u001b[0m\u001b[1;33m:\u001b[0m\u001b[1;33m\u001b[0m\u001b[1;33m\u001b[0m\u001b[0m\n",
      "\u001b[1;32m~\\Miniconda3\\envs\\tfm\\lib\\site-packages\\joblib\\parallel.py\u001b[0m in \u001b[0;36m__call__\u001b[1;34m(self)\u001b[0m\n\u001b[0;32m    251\u001b[0m         \u001b[1;32mwith\u001b[0m \u001b[0mparallel_backend\u001b[0m\u001b[1;33m(\u001b[0m\u001b[0mself\u001b[0m\u001b[1;33m.\u001b[0m\u001b[0m_backend\u001b[0m\u001b[1;33m,\u001b[0m \u001b[0mn_jobs\u001b[0m\u001b[1;33m=\u001b[0m\u001b[0mself\u001b[0m\u001b[1;33m.\u001b[0m\u001b[0m_n_jobs\u001b[0m\u001b[1;33m)\u001b[0m\u001b[1;33m:\u001b[0m\u001b[1;33m\u001b[0m\u001b[1;33m\u001b[0m\u001b[0m\n\u001b[0;32m    252\u001b[0m             return [func(*args, **kwargs)\n\u001b[1;32m--> 253\u001b[1;33m                     for func, args, kwargs in self.items]\n\u001b[0m\u001b[0;32m    254\u001b[0m \u001b[1;33m\u001b[0m\u001b[0m\n\u001b[0;32m    255\u001b[0m     \u001b[1;32mdef\u001b[0m \u001b[0m__reduce__\u001b[0m\u001b[1;33m(\u001b[0m\u001b[0mself\u001b[0m\u001b[1;33m)\u001b[0m\u001b[1;33m:\u001b[0m\u001b[1;33m\u001b[0m\u001b[1;33m\u001b[0m\u001b[0m\n",
      "\u001b[1;32m~\\Miniconda3\\envs\\tfm\\lib\\site-packages\\joblib\\parallel.py\u001b[0m in \u001b[0;36m<listcomp>\u001b[1;34m(.0)\u001b[0m\n\u001b[0;32m    251\u001b[0m         \u001b[1;32mwith\u001b[0m \u001b[0mparallel_backend\u001b[0m\u001b[1;33m(\u001b[0m\u001b[0mself\u001b[0m\u001b[1;33m.\u001b[0m\u001b[0m_backend\u001b[0m\u001b[1;33m,\u001b[0m \u001b[0mn_jobs\u001b[0m\u001b[1;33m=\u001b[0m\u001b[0mself\u001b[0m\u001b[1;33m.\u001b[0m\u001b[0m_n_jobs\u001b[0m\u001b[1;33m)\u001b[0m\u001b[1;33m:\u001b[0m\u001b[1;33m\u001b[0m\u001b[1;33m\u001b[0m\u001b[0m\n\u001b[0;32m    252\u001b[0m             return [func(*args, **kwargs)\n\u001b[1;32m--> 253\u001b[1;33m                     for func, args, kwargs in self.items]\n\u001b[0m\u001b[0;32m    254\u001b[0m \u001b[1;33m\u001b[0m\u001b[0m\n\u001b[0;32m    255\u001b[0m     \u001b[1;32mdef\u001b[0m \u001b[0m__reduce__\u001b[0m\u001b[1;33m(\u001b[0m\u001b[0mself\u001b[0m\u001b[1;33m)\u001b[0m\u001b[1;33m:\u001b[0m\u001b[1;33m\u001b[0m\u001b[1;33m\u001b[0m\u001b[0m\n",
      "\u001b[1;32m~\\Miniconda3\\envs\\tfm\\lib\\site-packages\\sklearn\\model_selection\\_validation.py\u001b[0m in \u001b[0;36m_fit_and_score\u001b[1;34m(estimator, X, y, scorer, train, test, verbose, parameters, fit_params, return_train_score, return_parameters, return_n_test_samples, return_times, return_estimator, error_score)\u001b[0m\n\u001b[0;32m    513\u001b[0m             \u001b[0mestimator\u001b[0m\u001b[1;33m.\u001b[0m\u001b[0mfit\u001b[0m\u001b[1;33m(\u001b[0m\u001b[0mX_train\u001b[0m\u001b[1;33m,\u001b[0m \u001b[1;33m**\u001b[0m\u001b[0mfit_params\u001b[0m\u001b[1;33m)\u001b[0m\u001b[1;33m\u001b[0m\u001b[1;33m\u001b[0m\u001b[0m\n\u001b[0;32m    514\u001b[0m         \u001b[1;32melse\u001b[0m\u001b[1;33m:\u001b[0m\u001b[1;33m\u001b[0m\u001b[1;33m\u001b[0m\u001b[0m\n\u001b[1;32m--> 515\u001b[1;33m             \u001b[0mestimator\u001b[0m\u001b[1;33m.\u001b[0m\u001b[0mfit\u001b[0m\u001b[1;33m(\u001b[0m\u001b[0mX_train\u001b[0m\u001b[1;33m,\u001b[0m \u001b[0my_train\u001b[0m\u001b[1;33m,\u001b[0m \u001b[1;33m**\u001b[0m\u001b[0mfit_params\u001b[0m\u001b[1;33m)\u001b[0m\u001b[1;33m\u001b[0m\u001b[1;33m\u001b[0m\u001b[0m\n\u001b[0m\u001b[0;32m    516\u001b[0m \u001b[1;33m\u001b[0m\u001b[0m\n\u001b[0;32m    517\u001b[0m     \u001b[1;32mexcept\u001b[0m \u001b[0mException\u001b[0m \u001b[1;32mas\u001b[0m \u001b[0me\u001b[0m\u001b[1;33m:\u001b[0m\u001b[1;33m\u001b[0m\u001b[1;33m\u001b[0m\u001b[0m\n",
      "\u001b[1;32m~\\Miniconda3\\envs\\tfm\\lib\\site-packages\\sklearn\\svm\\_base.py\u001b[0m in \u001b[0;36mfit\u001b[1;34m(self, X, y, sample_weight)\u001b[0m\n\u001b[0;32m    197\u001b[0m \u001b[1;33m\u001b[0m\u001b[0m\n\u001b[0;32m    198\u001b[0m         \u001b[0mseed\u001b[0m \u001b[1;33m=\u001b[0m \u001b[0mrnd\u001b[0m\u001b[1;33m.\u001b[0m\u001b[0mrandint\u001b[0m\u001b[1;33m(\u001b[0m\u001b[0mnp\u001b[0m\u001b[1;33m.\u001b[0m\u001b[0miinfo\u001b[0m\u001b[1;33m(\u001b[0m\u001b[1;34m'i'\u001b[0m\u001b[1;33m)\u001b[0m\u001b[1;33m.\u001b[0m\u001b[0mmax\u001b[0m\u001b[1;33m)\u001b[0m\u001b[1;33m\u001b[0m\u001b[1;33m\u001b[0m\u001b[0m\n\u001b[1;32m--> 199\u001b[1;33m         \u001b[0mfit\u001b[0m\u001b[1;33m(\u001b[0m\u001b[0mX\u001b[0m\u001b[1;33m,\u001b[0m \u001b[0my\u001b[0m\u001b[1;33m,\u001b[0m \u001b[0msample_weight\u001b[0m\u001b[1;33m,\u001b[0m \u001b[0msolver_type\u001b[0m\u001b[1;33m,\u001b[0m \u001b[0mkernel\u001b[0m\u001b[1;33m,\u001b[0m \u001b[0mrandom_seed\u001b[0m\u001b[1;33m=\u001b[0m\u001b[0mseed\u001b[0m\u001b[1;33m)\u001b[0m\u001b[1;33m\u001b[0m\u001b[1;33m\u001b[0m\u001b[0m\n\u001b[0m\u001b[0;32m    200\u001b[0m         \u001b[1;31m# see comment on the other call to np.iinfo in this file\u001b[0m\u001b[1;33m\u001b[0m\u001b[1;33m\u001b[0m\u001b[1;33m\u001b[0m\u001b[0m\n\u001b[0;32m    201\u001b[0m \u001b[1;33m\u001b[0m\u001b[0m\n",
      "\u001b[1;32m~\\Miniconda3\\envs\\tfm\\lib\\site-packages\\sklearn\\svm\\_base.py\u001b[0m in \u001b[0;36m_dense_fit\u001b[1;34m(self, X, y, sample_weight, solver_type, kernel, random_seed)\u001b[0m\n\u001b[0;32m    256\u001b[0m                 \u001b[0mcache_size\u001b[0m\u001b[1;33m=\u001b[0m\u001b[0mself\u001b[0m\u001b[1;33m.\u001b[0m\u001b[0mcache_size\u001b[0m\u001b[1;33m,\u001b[0m \u001b[0mcoef0\u001b[0m\u001b[1;33m=\u001b[0m\u001b[0mself\u001b[0m\u001b[1;33m.\u001b[0m\u001b[0mcoef0\u001b[0m\u001b[1;33m,\u001b[0m\u001b[1;33m\u001b[0m\u001b[1;33m\u001b[0m\u001b[0m\n\u001b[0;32m    257\u001b[0m                 \u001b[0mgamma\u001b[0m\u001b[1;33m=\u001b[0m\u001b[0mself\u001b[0m\u001b[1;33m.\u001b[0m\u001b[0m_gamma\u001b[0m\u001b[1;33m,\u001b[0m \u001b[0mepsilon\u001b[0m\u001b[1;33m=\u001b[0m\u001b[0mself\u001b[0m\u001b[1;33m.\u001b[0m\u001b[0mepsilon\u001b[0m\u001b[1;33m,\u001b[0m\u001b[1;33m\u001b[0m\u001b[1;33m\u001b[0m\u001b[0m\n\u001b[1;32m--> 258\u001b[1;33m                 max_iter=self.max_iter, random_seed=random_seed)\n\u001b[0m\u001b[0;32m    259\u001b[0m \u001b[1;33m\u001b[0m\u001b[0m\n\u001b[0;32m    260\u001b[0m         \u001b[0mself\u001b[0m\u001b[1;33m.\u001b[0m\u001b[0m_warn_from_fit_status\u001b[0m\u001b[1;33m(\u001b[0m\u001b[1;33m)\u001b[0m\u001b[1;33m\u001b[0m\u001b[1;33m\u001b[0m\u001b[0m\n",
      "\u001b[1;31mKeyboardInterrupt\u001b[0m: "
     ]
    }
   ],
   "source": [
    "%%time\n",
    "cross_val_score(linerar_svc, X_train_N,y_train_N, cv=10).mean()"
   ]
  },
  {
   "cell_type": "code",
   "execution_count": 41,
   "metadata": {},
   "outputs": [
    {
     "data": {
      "text/plain": [
       "SVC(C=1.0, break_ties=False, cache_size=200, class_weight=None, coef0=0.0,\n",
       "    decision_function_shape='ovr', degree=3, gamma='scale', kernel='linear',\n",
       "    max_iter=-1, probability=False, random_state=None, shrinking=True,\n",
       "    tol=0.001, verbose=False)"
      ]
     },
     "execution_count": 41,
     "metadata": {},
     "output_type": "execute_result"
    }
   ],
   "source": [
    "linerar_svc.fit(X_train_N,y_train_N)"
   ]
  },
  {
   "cell_type": "code",
   "execution_count": 43,
   "metadata": {},
   "outputs": [
    {
     "name": "stdout",
     "output_type": "stream",
     "text": [
      "Precisión sobre datos de pruebas: 0.50\n",
      "Precisión sobre datos de train: 0.50\n"
     ]
    }
   ],
   "source": [
    "print(\"Precisión sobre datos de pruebas: {:.2f}\"\n",
    "      .format(linerar_svc.score(X_test, y_test)))\n",
    "print(\"Precisión sobre datos de train: {:.2f}\"\n",
    "      .format(linerar_svc.score(X_train, y_train)))"
   ]
  },
  {
   "cell_type": "code",
   "execution_count": 118,
   "metadata": {},
   "outputs": [
    {
     "name": "stdout",
     "output_type": "stream",
     "text": [
      "Artista: "
     ]
    },
    {
     "name": "stdin",
     "output_type": "stream",
     "text": [
      " taylor swift\n"
     ]
    },
    {
     "name": "stdout",
     "output_type": "stream",
     "text": [
      "Titulo: "
     ]
    },
    {
     "name": "stdin",
     "output_type": "stream",
     "text": [
      " the 1\n"
     ]
    },
    {
     "data": {
      "text/plain": [
       "array([0], dtype=int64)"
      ]
     },
     "execution_count": 118,
     "metadata": {},
     "output_type": "execute_result"
    }
   ],
   "source": [
    "linerar_svc.predict(find_song())"
   ]
  },
  {
   "cell_type": "code",
   "execution_count": null,
   "metadata": {},
   "outputs": [],
   "source": []
  }
 ],
 "metadata": {
  "kernelspec": {
   "display_name": "tfm",
   "language": "python",
   "name": "tfm"
  },
  "language_info": {
   "codemirror_mode": {
    "name": "ipython",
    "version": 3
   },
   "file_extension": ".py",
   "mimetype": "text/x-python",
   "name": "python",
   "nbconvert_exporter": "python",
   "pygments_lexer": "ipython3",
   "version": "3.7.7"
  }
 },
 "nbformat": 4,
 "nbformat_minor": 4
}
