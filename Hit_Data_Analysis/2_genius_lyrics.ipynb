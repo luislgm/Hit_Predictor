{
 "cells": [
  {
   "cell_type": "code",
   "execution_count": 1,
   "metadata": {},
   "outputs": [
    {
     "name": "stdout",
     "output_type": "stream",
     "text": [
      "2020-07-31 16:45:23,294 loading file C:\\Users\\LuisLGM\\.flair\\models\\sentiment-en-mix-distillbert.pt\n"
     ]
    }
   ],
   "source": [
    "import lyricsgenius\n",
    "from nltk.sentiment.vader import SentimentIntensityAnalyzer\n",
    "import re\n",
    "from flair.models import TextClassifier\n",
    "from flair.data import Sentence\n",
    "from google.cloud import language\n",
    "from google.cloud.language import enums, types\n",
    "classifier = TextClassifier.load(\"sentiment\")"
   ]
  },
  {
   "cell_type": "code",
   "execution_count": 2,
   "metadata": {},
   "outputs": [],
   "source": [
    "## Necesario Client Token de Genius obtener en https://docs.genius.com/\n",
    "genius = lyricsgenius.Genius(\"\")"
   ]
  },
  {
   "cell_type": "markdown",
   "metadata": {},
   "source": [
    "# Analisis sentimiento cada estrofa"
   ]
  },
  {
   "cell_type": "markdown",
   "metadata": {},
   "source": [
    "## 1. Usando Flair"
   ]
  },
  {
   "cell_type": "code",
   "execution_count": 22,
   "metadata": {},
   "outputs": [],
   "source": [
    "def analisis_estrofa_flair (f):\n",
    "    f = re.sub(r'[\\(\\[].*?]', '', f)\n",
    "    f = re.sub(r'\\n\\n\\n', '', f)\n",
    "    percents_positives = 0\n",
    "    percents_positives1 = 0\n",
    "    num_sentence = 0\n",
    "\n",
    "    for sentence in f.split('\\n\\n'):\n",
    "        sent_predict = Sentence (sentence)\n",
    "        classifier.predict(sent_predict)\n",
    "        if sent_predict.labels[0].value == \"POSITIVE\":\n",
    "            percents_positives += sent_predict.labels[0].score\n",
    "        else :\n",
    "            percents_positives1 += (1 - sent_predict.labels[0].score)\n",
    "        num_sentence += 1\n",
    "\n",
    "    percents_positives += percents_positives1\n",
    "    percent_positive = (percents_positives/float(num_sentence))*100\n",
    "    percent_negative = 100 - percent_positive\n",
    "\n",
    "    print (\"percent positive: \", percent_positive)\n",
    "    print (\"percent negative: \", percent_negative)\n"
   ]
  },
  {
   "cell_type": "markdown",
   "metadata": {},
   "source": [
    "### Canción de Rap"
   ]
  },
  {
   "cell_type": "code",
   "execution_count": 25,
   "metadata": {
    "collapsed": true,
    "jupyter": {
     "outputs_hidden": true
    }
   },
   "outputs": [
    {
     "name": "stdout",
     "output_type": "stream",
     "text": [
      "Searching for \"Nonstop\" by Drake...\n",
      "Done.\n",
      "[Intro: Lil Juice]\n",
      "Tay Keith, fuck these niggas up!\n",
      "\n",
      "[Verse 1: Drake]\n",
      "Look, I just flipped a switch (Flipped, flipped)\n",
      "I don't know nobody else that's doin' this\n",
      "Bodies start to drop, ayy (Hit the floor)\n",
      "Now they wanna know me since I hit the top, ayy\n",
      "This a Rollie, not a stopwatch, shit don't ever stop\n",
      "This the flow that got the block hot, shit got super hot, ayy\n",
      "Give me my respect (Give me my respect)\n",
      "I just took it left like I'm ambidex'\n",
      "Bitch, I move through London with the Eurostep (Two)\n",
      "Got a sneaker deal and I ain't break a sweat\n",
      "Catch me 'cause I'm gone (Outta there, I’m gone)\n",
      "How I go from 6 to 23 like I'm LeBron?\n",
      "Servin' up a pack (Servin' up a pack)\n",
      "Niggas pullin' gimmicks 'cause they scared to rap, ayy\n",
      "Funny how they shook, ayy, got these niggas shook\n",
      "Pullin' back the curtain by myself, take a look, ayy\n",
      "I'm a bar spitta, I’m a hard hitta\n",
      "Yeah I’m light-skinned, but I'm still a dark nigga\n",
      "I'm a wig splitta, I'm a tall figure\n",
      "I'm a unforgivin' wild-ass dog nigga\n",
      "Somethin' wrong with 'em, got 'em all bitter\n",
      "I'm a bill printer, I'm a gravedigger\n",
      "Yeah, I am what I am\n",
      "I don't have no time for no misunderstandings again\n",
      "[Chorus: Mack Daddy Ju &amp; Drake]\n",
      "My head is spinnin', from smokin' the chicken, the bass is kickin'\n",
      "My head is spinnin', from smokin' the chicken, the bass is kickin'\n",
      "My head is spinnin', from smokin' the chicken, the bass is kickin'\n",
      "My head is spinnin'\n",
      "This a Rollie, not a stopwatch, shit don't ever stop\n",
      "From smokin' the chicken, the bass is kickin'\n",
      "My head is spinnin', from smokin' the chicken, the bass is kickin'\n",
      "My head is spinnin', from smokin' the chicken, the bass is kickin'\n",
      "My head is spinnin', from smokin' the chicken, the bass is kickin'\n",
      "My head is–\n",
      "\n",
      "[Verse 2: Drake]\n",
      "Future took the business and ran it for me\n",
      "I let Ollie take the owl, told him brand it for me\n",
      "I get 2 million a pop and that’s standard for me\n",
      "Like I went blind, dog, you gotta hand it to me\n",
      "(Gotta gimme that shit, dog)\n",
      "Prayed, then I prayed again (Amen, Lord)\n",
      "Had a moment but it came and went\n",
      "(They don't love you no more)\n",
      "You don’t wanna play with him (Nah, nah, nah)\n",
      "They’ll be mournin' you like 8AM (R.I.P.)\n",
      "Pinky ring 'til I get a wedding ring (Whoa, yeah)\n",
      "Love my brothers, cut 'em in on anything (Big slice)\n",
      "And you know it's King Slime Drizzy, damn (Woo yeah)\n",
      "She just said I'm bae, I hit the thizzle dance (Mac Dre shit)\n",
      "Either hand is the upper hand (Oh yeah, shit)\n",
      "Got a bubba on my other hand (Whoa, yeah, shit, yeah)\n",
      "This shit ain't no hundred bands (Nah, nah, nah, nah)\n",
      "Palace look like Buckingham\n",
      "Bills so big, I call 'em Williams, for real\n",
      "Reasons to go crazy, got a trillion, for real\n",
      "They been tryin' me but I'm resilient, for real\n",
      "I can’t go in public like civilian, for real\n",
      "And I hardly take offense\n",
      "Money for revenge, man, that’s hardly an expense\n",
      "Al Haymon checks off of all of my events\n",
      "I like all the profit, man, I hardly do percents (I don't do that shit)\n",
      "A big part of me resents\n",
      "Niggas that I knew from when I started in this shit\n",
      "They see what I got and, man, it's hard to be content\n",
      "Fuck what they got goin' on, I gotta represent (Ayy!)\n",
      "[Chorus: Mack Daddy Ju &amp; Drake]\n",
      "My head is spinnin', from smokin' the chicken, the bass is kickin'\n",
      "My head is spinnin', from smokin' the chicken, the bass is kickin'\n",
      "My head is spinnin', from smokin' the chicken, the bass is kickin'\n",
      "My head is spinnin'\n",
      "This a Rollie, not a stopwatch, shit don't ever stop\n",
      "From smokin' the chicken, the bass is kickin'\n",
      "My head is spinnin', from smokin' the chicken, the bass is kickin'\n",
      "My head is spinnin', from smokin' the chicken, the bass is kickin'\n",
      "My head is spinnin'\n",
      "This the flow that got the block hot, shit got super hot\n"
     ]
    }
   ],
   "source": [
    "song = genius.search_song(\"Nonstop\",artist=\"Drake\")\n",
    "f = song.lyrics\n",
    "print(f)"
   ]
  },
  {
   "cell_type": "code",
   "execution_count": 26,
   "metadata": {},
   "outputs": [
    {
     "name": "stdout",
     "output_type": "stream",
     "text": [
      "percent positive:  4.24018899599711\n",
      "percent negative:  95.75981100400288\n"
     ]
    }
   ],
   "source": [
    "analisis_estrofa_flair(f)"
   ]
  },
  {
   "cell_type": "markdown",
   "metadata": {},
   "source": [
    "### Canción de Pop"
   ]
  },
  {
   "cell_type": "code",
   "execution_count": 29,
   "metadata": {
    "collapsed": true,
    "jupyter": {
     "outputs_hidden": true
    }
   },
   "outputs": [
    {
     "name": "stdout",
     "output_type": "stream",
     "text": [
      "Searching for \"Out Of the Woods\" by Taylor Swift...\n",
      "Done.\n",
      "[Verse 1]\n",
      "Looking at it now\n",
      "It all seems so simple\n",
      "We were lying on your couch\n",
      "I remember\n",
      "You took a Polaroid of us\n",
      "Then discovered (Then discovered)\n",
      "The rest of the world was black and white\n",
      "But we were in screaming color\n",
      "And I remember thinking\n",
      "\n",
      "[Chorus]\n",
      "Are we out of the woods yet? Are we out of the woods yet?\n",
      "Are we out of the woods yet? Are we out of the woods?\n",
      "Are we in the clear yet? Are we in the clear yet?\n",
      "Are we in the clear yet? In the clear yet? Good\n",
      "Are we out of the woods yet? Are we out of the woods yet?\n",
      "Are we out of the woods yet? Are we out of the woods?\n",
      "Are we in the clear yet? Are we in the clear yet?\n",
      "Are we in the clear yet? In the clear yet? Good\n",
      "(Are we out of the woods?)\n",
      "\n",
      "[Verse 2]\n",
      "Looking at it now\n",
      "Last December (Last December)\n",
      "We were built to fall apart\n",
      "Then fall back together (Back together)\n",
      "Your necklace hanging from my neck\n",
      "The night we couldn't quite forget\n",
      "When we decided, we decided\n",
      "To move the furniture so we could dance\n",
      "Baby, like we stood a chance\n",
      "Two paper airplanes flying, flying, flying\n",
      "And I remember thinking\n",
      "[Chorus]\n",
      "Are we out of the woods yet? Are we out of the woods yet?\n",
      "Are we out of the woods yet? Are we out of the woods?\n",
      "(Out of the woods)\n",
      "Are we in the clear yet? Are we in the clear yet?\n",
      "Are we in the clear yet? In the clear yet? Good\n",
      "Are we out of the woods yet? Are we out of the woods yet?\n",
      "Are we out of the woods yet? (Oh) Are we out of the woods?\n",
      "Are we in the clear yet? Are we in the clear yet?\n",
      "Are we in the clear yet? In the clear yet? Good\n",
      "(Are we out of the woods?)\n",
      "\n",
      "[Bridge]\n",
      "Remember when you hit the brakes too soon?\n",
      "Twenty stitches in a hospital room\n",
      "When you started crying, baby, I did too\n",
      "But when the sun came up, I was looking at you\n",
      "Remember when we couldn't take the heat?\n",
      "I walked out and said, \"I'm setting you free\"\n",
      "But the monsters turned out to be just trees\n",
      "When the sun came up, you were looking at me\n",
      "You were looking at me, ooh\n",
      "You were looking at me\n",
      "(Are we out of the woods yet? Are we out of the woods yet?)\n",
      "(Are we out of the woods yet? Are we out of the woods?)\n",
      "I remember\n",
      "(Are we in the clear yet? Are we in the clear yet?)\n",
      "(Are we in the clear yet? In the clear yet? Good)\n",
      "Oh, I remember\n",
      "[Chorus]\n",
      "Are we out of the woods yet? Are we out of the woods yet?\n",
      "(Yeah)\n",
      "Are we out of the woods yet? Are we out of the woods?\n",
      "Are we in the clear yet? Are we in the clear yet? (Are we?)\n",
      "Are we in the clear yet? In the clear yet? Good\n",
      "Are we out of the woods yet? Are we out of the woods yet?\n",
      "Are we out of the woods yet? Are we out of the woods?\n",
      "Are we in the clear yet? (Yeah)\n",
      "Are we in the clear yet? (Yeah)\n",
      "Are we in the clear yet? In the clear yet? Good\n",
      "Are we out of the woods yet? Are we out of the woods yet?\n",
      "Are we out of the woods yet? Are we out of the woods?\n",
      "Are we in the clear yet? Are we in the clear yet?\n",
      "Are we in the clear yet? In the clear yet? Good\n",
      "Are we out of the woods yet? Are we out of the woods yet?\n",
      "Are we out of the woods yet? Are we out of the woods?\n",
      "Are we in the clear yet? Are we in the clear yet?\n",
      "Are we in the clear yet? In the clear yet? Good\n"
     ]
    }
   ],
   "source": [
    "song = genius.search_song(\"Out Of the Woods\",artist=\"Taylor Swift\")\n",
    "f = song.lyrics\n",
    "print(f)"
   ]
  },
  {
   "cell_type": "code",
   "execution_count": 30,
   "metadata": {},
   "outputs": [
    {
     "name": "stdout",
     "output_type": "stream",
     "text": [
      "percent positive:  68.15170049667358\n",
      "percent negative:  31.848299503326416\n"
     ]
    }
   ],
   "source": [
    "analisis_estrofa_flair(f)"
   ]
  },
  {
   "cell_type": "markdown",
   "metadata": {},
   "source": [
    "### Canción de Country"
   ]
  },
  {
   "cell_type": "code",
   "execution_count": 31,
   "metadata": {
    "collapsed": true,
    "jupyter": {
     "outputs_hidden": true
    }
   },
   "outputs": [
    {
     "name": "stdout",
     "output_type": "stream",
     "text": [
      "Searching for \"heaven\" by kane brown...\n",
      "Done.\n",
      "[Verse 1]\n",
      "This is perfect\n",
      "Come kiss me one more time\n",
      "I couldn't dream this up\n",
      "Even if I tried\n",
      "You and me in this moment\n",
      "Feels like magic, don't it?\n",
      "I'm right where I wanna be\n",
      "\n",
      "[Chorus]\n",
      "Everybody's talkin' about heaven like they just can't wait to go\n",
      "Sayin' how it's gonna be so good, so beautiful\n",
      "Lyin' next to you, in this bed with you, I ain't convinced\n",
      "'Cause, I don't know how, I don't know how heaven, heaven\n",
      "Could be better than this\n",
      "\n",
      "[Verse 2]\n",
      "I swear you're an angel\n",
      "Sent to this world\n",
      "What did I do right to deserve you, girl?\n",
      "I could stay here forever\n",
      "I'd be fine if we never\n",
      "Had to even leave this room\n",
      "\n",
      "[Chorus]\n",
      "Everybody's talkin' 'bout heaven like they just can't wait to go\n",
      "Sayin' how it's gonna be so good, so beautiful\n",
      "Lyin' next to you, in this bed with you, I ain't convinced\n",
      "'Cause, I don't know how, I don't know how heaven, heaven\n",
      "Could be better than this\n",
      "Could be better than this\n",
      "[Chorus]\n",
      "Everybody's talkin' 'bout heaven like they just can't wait to go\n",
      "Sayin' how it's gonna be so good, so beautiful\n",
      "Lyin' next to you, in this bed with you, I ain't convinced\n",
      "'Cause, I don't know how, I don't know how heaven, heaven\n",
      "Could be better than this (heaven)\n",
      "Could be better than this (heaven, heaven)\n",
      "\n",
      "[Outro]\n",
      "I swear this is perfect\n",
      "Come kiss me one more time\n"
     ]
    }
   ],
   "source": [
    "song = genius.search_song(\"heaven\",artist=\"kane brown\")\n",
    "f = song.lyrics\n",
    "print(f)"
   ]
  },
  {
   "cell_type": "code",
   "execution_count": 32,
   "metadata": {},
   "outputs": [
    {
     "name": "stdout",
     "output_type": "stream",
     "text": [
      "percent positive:  99.93821680545807\n",
      "percent negative:  0.06178319454193115\n"
     ]
    }
   ],
   "source": [
    "analisis_estrofa_flair(f)"
   ]
  },
  {
   "cell_type": "markdown",
   "metadata": {},
   "source": [
    "### Canción Alternativo"
   ]
  },
  {
   "cell_type": "code",
   "execution_count": 33,
   "metadata": {
    "collapsed": true,
    "jupyter": {
     "outputs_hidden": true
    }
   },
   "outputs": [
    {
     "name": "stdout",
     "output_type": "stream",
     "text": [
      "Searching for \"Rylan\" by The national...\n",
      "Done.\n",
      "[Verse 1]\n",
      "Rylan, you should try to get some sun\n",
      "You remind me of everyone\n",
      "Rylan, did you break your mother's heart?\n",
      "Every time you tried to play your part\n",
      "\n",
      "[Chorus]\n",
      "Is it easy to keep so quiet?\n",
      "Everybody loves a quiet child\n",
      "Underwater, you're almost free\n",
      "If you wanna be alone, come with me\n",
      "\n",
      "[Verse 2]\n",
      "Rylan, we can take the quick way out\n",
      "We can turn blank white in a blank white house\n",
      "Say that you're a pervert, you're a vulture\n",
      "Don't you wanna be popular culture?\n",
      "\n",
      "[Chorus]\n",
      "Is it easy to keep so quiet?\n",
      "Everybody loves a quiet child\n",
      "Underwater, you're almost free\n",
      "If you wanna be alone, come with me\n",
      "Is it easy to live inside yourself?\n",
      "All the little kids are high and hazy\n",
      "Everybody's got nowhere to go\n",
      "Everybody wants to be amazing\n",
      "\n",
      "[Bridge]\n",
      "Rylan, California's rotten\n",
      "Dress light blue to be forgotten\n",
      "Eat your pearls on Sunday morning\n",
      "Keep your conversations boring\n",
      "Stay with me among the strangers\n",
      "Change your mind and nothing changes\n",
      "Don't let show any emotion\n",
      "When you climb into the ocean\n",
      "\n",
      "[Outro]\n",
      "Rylan, you should try to get some sun\n",
      "There's a little bit of hell in everyone\n",
      "Rylan, you should try to get some sun\n",
      "You remind me of everyone\n",
      "Rylan, you should try to get some sun\n",
      "There's a little bit of hell in everyone\n",
      "Rylan, you should try to get some sun\n"
     ]
    }
   ],
   "source": [
    "song = genius.search_song(\"Rylan\",artist=\"The national\")\n",
    "f = song.lyrics\n",
    "print(f)"
   ]
  },
  {
   "cell_type": "code",
   "execution_count": 34,
   "metadata": {},
   "outputs": [
    {
     "name": "stdout",
     "output_type": "stream",
     "text": [
      "percent positive:  0.08368492126464844\n",
      "percent negative:  99.91631507873535\n"
     ]
    }
   ],
   "source": [
    "analisis_estrofa_flair(f)"
   ]
  },
  {
   "cell_type": "markdown",
   "metadata": {},
   "source": [
    "## 2. Usando Vader"
   ]
  },
  {
   "cell_type": "code",
   "execution_count": 49,
   "metadata": {},
   "outputs": [],
   "source": [
    "def analisis_estrofa_vader (f):\n",
    "    sid = SentimentIntensityAnalyzer()\n",
    "    f = re.sub(r'[\\(\\[].*?]', '', f)\n",
    "    # f = re.sub(r'\\n\\n', '', f)\n",
    "\n",
    "    num_positive = 0\n",
    "    num_negative = 0\n",
    "    num_neutral = 0\n",
    "    num_total = 0\n",
    "    percent_negative = 0\n",
    "    percent_neutral = 0\n",
    "    percent_positive = 0\n",
    "\n",
    "    for sentence in f.split('\\n\\n'):\n",
    "        comp = sid.polarity_scores(sentence)\n",
    "        comp = comp['compound']\n",
    "        if comp >= 0.5:\n",
    "            num_positive += 1\n",
    "        elif comp > -0.5 and comp < 0.5:\n",
    "            num_neutral += 1\n",
    "        else:\n",
    "            num_negative += 1\n",
    "\n",
    "    num_total = num_negative + num_neutral + num_positive\n",
    "    percent_negative = (num_negative/float(num_total))*100\n",
    "    percent_neutral = (num_neutral/float(num_total))*100\n",
    "    percent_positive = (num_positive/float(num_total))*100\n",
    "\n",
    "    print (\"Negative: \", percent_negative)\n",
    "    print (\"Neutral: \", percent_neutral)\n",
    "    print (\"Positive: \", percent_positive)"
   ]
  },
  {
   "cell_type": "markdown",
   "metadata": {},
   "source": [
    "### Canción de Rap"
   ]
  },
  {
   "cell_type": "code",
   "execution_count": 103,
   "metadata": {},
   "outputs": [
    {
     "name": "stdout",
     "output_type": "stream",
     "text": [
      "Searching for \"Nonstop\" by Drake...\n",
      "Done.\n"
     ]
    }
   ],
   "source": [
    "song = genius.search_song(\"Nonstop\",artist=\"Drake\")\n",
    "f = song.lyrics"
   ]
  },
  {
   "cell_type": "code",
   "execution_count": 104,
   "metadata": {},
   "outputs": [
    {
     "name": "stdout",
     "output_type": "stream",
     "text": [
      "Negative:  20.0\n",
      "Neutral:  40.0\n",
      "Positive:  40.0\n"
     ]
    }
   ],
   "source": [
    "analisis_estrofa_vader(f)"
   ]
  },
  {
   "cell_type": "markdown",
   "metadata": {},
   "source": [
    "### Canción de Pop"
   ]
  },
  {
   "cell_type": "code",
   "execution_count": 105,
   "metadata": {},
   "outputs": [
    {
     "name": "stdout",
     "output_type": "stream",
     "text": [
      "Searching for \"Out Of the Woods\" by Taylor Swift...\n",
      "Done.\n"
     ]
    }
   ],
   "source": [
    "song = genius.search_song(\"Out Of the Woods\",artist=\"Taylor Swift\")\n",
    "f = song.lyrics"
   ]
  },
  {
   "cell_type": "code",
   "execution_count": 106,
   "metadata": {},
   "outputs": [
    {
     "name": "stdout",
     "output_type": "stream",
     "text": [
      "Negative:  16.666666666666664\n",
      "Neutral:  0.0\n",
      "Positive:  83.33333333333334\n"
     ]
    }
   ],
   "source": [
    "analisis_estrofa_vader(f)"
   ]
  },
  {
   "cell_type": "markdown",
   "metadata": {},
   "source": [
    "### Canción de Country"
   ]
  },
  {
   "cell_type": "code",
   "execution_count": 107,
   "metadata": {},
   "outputs": [
    {
     "name": "stdout",
     "output_type": "stream",
     "text": [
      "Searching for \"heaven\" by kane brown...\n",
      "Done.\n"
     ]
    }
   ],
   "source": [
    "song = genius.search_song(\"heaven\",artist=\"kane brown\")\n",
    "f = song.lyrics"
   ]
  },
  {
   "cell_type": "code",
   "execution_count": 108,
   "metadata": {},
   "outputs": [
    {
     "name": "stdout",
     "output_type": "stream",
     "text": [
      "Negative:  0.0\n",
      "Neutral:  16.666666666666664\n",
      "Positive:  83.33333333333334\n"
     ]
    }
   ],
   "source": [
    "analisis_estrofa_vader(f)"
   ]
  },
  {
   "cell_type": "markdown",
   "metadata": {},
   "source": [
    "### Canción Alternativo"
   ]
  },
  {
   "cell_type": "code",
   "execution_count": 109,
   "metadata": {},
   "outputs": [
    {
     "name": "stdout",
     "output_type": "stream",
     "text": [
      "Searching for \"Rylan\" by The national...\n",
      "Done.\n"
     ]
    }
   ],
   "source": [
    "song = genius.search_song(\"Rylan\",artist=\"The national\")\n",
    "f = song.lyrics"
   ]
  },
  {
   "cell_type": "code",
   "execution_count": 110,
   "metadata": {},
   "outputs": [
    {
     "name": "stdout",
     "output_type": "stream",
     "text": [
      "Negative:  50.0\n",
      "Neutral:  16.666666666666664\n",
      "Positive:  33.33333333333333\n"
     ]
    }
   ],
   "source": [
    "analisis_estrofa_vader(f)"
   ]
  },
  {
   "cell_type": "markdown",
   "metadata": {},
   "source": [
    "## 3. Usando GCloud"
   ]
  },
  {
   "cell_type": "code",
   "execution_count": 111,
   "metadata": {},
   "outputs": [],
   "source": [
    "def analyze_text_sentiment(text):\n",
    "    client = language.LanguageServiceClient()\n",
    "    document = types.Document(\n",
    "        content=text,\n",
    "        type=enums.Document.Type.PLAIN_TEXT)\n",
    "\n",
    "    response = client.analyze_sentiment(document=document)\n",
    "\n",
    "    sentiment = response.document_sentiment\n",
    "    results = [\n",
    "        #('text', text),\n",
    "        sentiment.score,\n",
    "        sentiment.magnitude\n",
    "    ]\n",
    "    return results"
   ]
  },
  {
   "cell_type": "code",
   "execution_count": 59,
   "metadata": {},
   "outputs": [],
   "source": [
    "def analisis_estrofa_g_cloud(f):\n",
    "    results = 0\n",
    "    cont = 0\n",
    "    for sentence in f.split('\\n\\n'):\n",
    "        result = analyze_text_sentiment (f)\n",
    "        results += result[0]\n",
    "        cont +=1\n",
    "    analysis = results/cont\n",
    "    print (analysis)"
   ]
  },
  {
   "cell_type": "markdown",
   "metadata": {},
   "source": [
    "### Canción de rap"
   ]
  },
  {
   "cell_type": "code",
   "execution_count": 112,
   "metadata": {},
   "outputs": [
    {
     "name": "stdout",
     "output_type": "stream",
     "text": [
      "Searching for \"Nonstop\" by Drake...\n",
      "Done.\n"
     ]
    }
   ],
   "source": [
    "song = genius.search_song(\"Nonstop\",artist=\"Drake\")\n",
    "f = song.lyrics"
   ]
  },
  {
   "cell_type": "code",
   "execution_count": 61,
   "metadata": {},
   "outputs": [
    {
     "name": "stdout",
     "output_type": "stream",
     "text": [
      "-0.4000000059604645\n"
     ]
    }
   ],
   "source": [
    "analisis_estrofa_g_cloud(f)"
   ]
  },
  {
   "cell_type": "markdown",
   "metadata": {},
   "source": [
    "### Canción de pop"
   ]
  },
  {
   "cell_type": "code",
   "execution_count": 113,
   "metadata": {},
   "outputs": [
    {
     "name": "stdout",
     "output_type": "stream",
     "text": [
      "Searching for \"Out Of the Woods\" by Taylor Swift...\n",
      "Done.\n"
     ]
    }
   ],
   "source": [
    "song = genius.search_song(\"Out Of the Woods\",artist=\"Taylor Swift\")\n",
    "f = song.lyrics"
   ]
  },
  {
   "cell_type": "code",
   "execution_count": 63,
   "metadata": {},
   "outputs": [
    {
     "name": "stdout",
     "output_type": "stream",
     "text": [
      "0.0\n"
     ]
    }
   ],
   "source": [
    "analisis_estrofa_g_cloud(f)"
   ]
  },
  {
   "cell_type": "markdown",
   "metadata": {},
   "source": [
    "### Canción de Country"
   ]
  },
  {
   "cell_type": "code",
   "execution_count": 114,
   "metadata": {},
   "outputs": [
    {
     "name": "stdout",
     "output_type": "stream",
     "text": [
      "Searching for \"heaven\" by kane brown...\n",
      "Done.\n"
     ]
    }
   ],
   "source": [
    "song = genius.search_song(\"heaven\",artist=\"kane brown\")\n",
    "f = song.lyrics"
   ]
  },
  {
   "cell_type": "code",
   "execution_count": 65,
   "metadata": {},
   "outputs": [
    {
     "name": "stdout",
     "output_type": "stream",
     "text": [
      "0.5\n"
     ]
    }
   ],
   "source": [
    "analisis_estrofa_g_cloud(f)"
   ]
  },
  {
   "cell_type": "markdown",
   "metadata": {},
   "source": [
    "### Canción Alternativo"
   ]
  },
  {
   "cell_type": "code",
   "execution_count": 115,
   "metadata": {},
   "outputs": [
    {
     "name": "stdout",
     "output_type": "stream",
     "text": [
      "Searching for \"Rylan\" by The national...\n",
      "Done.\n"
     ]
    }
   ],
   "source": [
    "song = genius.search_song(\"Rylan\",artist=\"The national\")\n",
    "f = song.lyrics"
   ]
  },
  {
   "cell_type": "code",
   "execution_count": 67,
   "metadata": {},
   "outputs": [
    {
     "name": "stdout",
     "output_type": "stream",
     "text": [
      "-0.10000000149011612\n"
     ]
    }
   ],
   "source": [
    "analisis_estrofa_g_cloud(f)"
   ]
  },
  {
   "cell_type": "markdown",
   "metadata": {},
   "source": [
    "# Analisis Sentimiento cada verso"
   ]
  },
  {
   "cell_type": "markdown",
   "metadata": {},
   "source": [
    "## 1. Usando Flair"
   ]
  },
  {
   "cell_type": "code",
   "execution_count": 68,
   "metadata": {},
   "outputs": [],
   "source": [
    "def analisis_verso_flair (f):\n",
    "    f = re.sub(r'[\\(\\[].*?]', '', f)\n",
    "    f = re.sub(r'\\n\\n', '', f)\n",
    "    f = f[1:]\n",
    "    percents_positives = 0\n",
    "    percents_positives1 = 0\n",
    "    num_sentence = 0\n",
    "\n",
    "    for sentence in f.split('\\n'):\n",
    "        sent_predict = Sentence (sentence)\n",
    "        classifier.predict(sent_predict)\n",
    "        if sent_predict.labels[0].value == \"POSITIVE\":\n",
    "            percents_positives += sent_predict.labels[0].score\n",
    "        else :\n",
    "            percents_positives1 += (1 - sent_predict.labels[0].score)\n",
    "        num_sentence += 1\n",
    "\n",
    "    percents_positives += percents_positives1\n",
    "    percent_positive = (percents_positives/float(num_sentence))*100\n",
    "    percent_negative = 100 - percent_positive\n",
    "\n",
    "    print (\"percent positive: \", percent_positive)\n",
    "    print (\"percent negative: \", percent_negative)"
   ]
  },
  {
   "cell_type": "markdown",
   "metadata": {},
   "source": [
    "#### Canción de rap"
   ]
  },
  {
   "cell_type": "code",
   "execution_count": 69,
   "metadata": {},
   "outputs": [
    {
     "name": "stdout",
     "output_type": "stream",
     "text": [
      "Searching for \"Nonstop\" by Drake...\n",
      "Done.\n"
     ]
    }
   ],
   "source": [
    "song = genius.search_song(\"Nonstop\",artist=\"Drake\")\n",
    "f =song.lyrics"
   ]
  },
  {
   "cell_type": "code",
   "execution_count": 70,
   "metadata": {},
   "outputs": [
    {
     "name": "stdout",
     "output_type": "stream",
     "text": [
      "percent positive:  66.66695261001587\n",
      "percent negative:  33.33304738998413\n"
     ]
    }
   ],
   "source": [
    "analisis_verso_flair (f)"
   ]
  },
  {
   "cell_type": "markdown",
   "metadata": {},
   "source": [
    "### Canción de pop"
   ]
  },
  {
   "cell_type": "code",
   "execution_count": 72,
   "metadata": {},
   "outputs": [
    {
     "name": "stdout",
     "output_type": "stream",
     "text": [
      "Searching for \"Out Of the Woods\" by Taylor Swift...\n",
      "Done.\n"
     ]
    }
   ],
   "source": [
    "song = genius.search_song(\"Out Of the Woods\",artist=\"Taylor Swift\")\n",
    "f = song.lyrics"
   ]
  },
  {
   "cell_type": "code",
   "execution_count": 73,
   "metadata": {},
   "outputs": [
    {
     "name": "stdout",
     "output_type": "stream",
     "text": [
      "percent positive:  71.63045618632069\n",
      "percent negative:  28.369543813679314\n"
     ]
    }
   ],
   "source": [
    "analisis_verso_flair (f)"
   ]
  },
  {
   "cell_type": "markdown",
   "metadata": {},
   "source": [
    "### Canción de Country"
   ]
  },
  {
   "cell_type": "code",
   "execution_count": 74,
   "metadata": {},
   "outputs": [
    {
     "name": "stdout",
     "output_type": "stream",
     "text": [
      "Searching for \"heaven\" by kane brown...\n",
      "Done.\n"
     ]
    }
   ],
   "source": [
    "song = genius.search_song(\"heaven\",artist=\"kane brown\")\n",
    "f = song.lyrics"
   ]
  },
  {
   "cell_type": "code",
   "execution_count": 75,
   "metadata": {},
   "outputs": [
    {
     "name": "stdout",
     "output_type": "stream",
     "text": [
      "percent positive:  70.78294734801015\n",
      "percent negative:  29.217052651989846\n"
     ]
    }
   ],
   "source": [
    "analisis_verso_flair (f)"
   ]
  },
  {
   "cell_type": "markdown",
   "metadata": {},
   "source": [
    "### Canción Alternativo"
   ]
  },
  {
   "cell_type": "code",
   "execution_count": 76,
   "metadata": {},
   "outputs": [
    {
     "name": "stdout",
     "output_type": "stream",
     "text": [
      "Searching for \"Rylan\" by The national...\n",
      "Done.\n"
     ]
    }
   ],
   "source": [
    "song = genius.search_song(\"Rylan\",artist=\"The national\")\n",
    "f = song.lyrics"
   ]
  },
  {
   "cell_type": "code",
   "execution_count": 77,
   "metadata": {},
   "outputs": [
    {
     "name": "stdout",
     "output_type": "stream",
     "text": [
      "percent positive:  60.652191323392536\n",
      "percent negative:  39.347808676607464\n"
     ]
    }
   ],
   "source": [
    "analisis_verso_flair (f)"
   ]
  },
  {
   "cell_type": "markdown",
   "metadata": {},
   "source": [
    "## 2. Usando Vader"
   ]
  },
  {
   "cell_type": "code",
   "execution_count": 81,
   "metadata": {},
   "outputs": [],
   "source": [
    "def analisis_verso_vader (f):\n",
    "    sid = SentimentIntensityAnalyzer()\n",
    "    f = re.sub(r'[\\(\\[].*?]', '', f)\n",
    "    f = re.sub(r'\\n\\n', '', f)\n",
    "\n",
    "    num_positive = 0\n",
    "    num_negative = 0\n",
    "    num_neutral = 0\n",
    "\n",
    "    for sentence in f.split('\\n'):\n",
    "        comp = sid.polarity_scores(sentence)\n",
    "        comp = comp['compound']\n",
    "        if comp >= 0.5:\n",
    "            num_positive += 1\n",
    "        elif comp > -0.5 and comp < 0.5:\n",
    "            num_neutral += 1\n",
    "        else:\n",
    "            num_negative += 1\n",
    "\n",
    "    num_total = num_negative + num_neutral + num_positive\n",
    "    percent_negative = (num_negative/float(num_total))*100\n",
    "    percent_neutral = (num_neutral/float(num_total))*100\n",
    "    percent_positive = (num_positive/float(num_total))*100\n",
    "\n",
    "    print (\"Negative: \", percent_negative)\n",
    "    print (\"Neutral: \", percent_neutral)\n",
    "    print (\"Positive: \", percent_positive)"
   ]
  },
  {
   "cell_type": "markdown",
   "metadata": {},
   "source": [
    "### Canción de rap"
   ]
  },
  {
   "cell_type": "code",
   "execution_count": 82,
   "metadata": {},
   "outputs": [
    {
     "name": "stdout",
     "output_type": "stream",
     "text": [
      "Searching for \"Nonstop\" by Drake...\n",
      "Done.\n"
     ]
    }
   ],
   "source": [
    "song = genius.search_song(\"Nonstop\",artist=\"Drake\")\n",
    "f =song.lyrics"
   ]
  },
  {
   "cell_type": "code",
   "execution_count": 83,
   "metadata": {},
   "outputs": [
    {
     "name": "stdout",
     "output_type": "stream",
     "text": [
      "Negative:  12.162162162162163\n",
      "Neutral:  81.08108108108108\n",
      "Positive:  6.756756756756757\n"
     ]
    }
   ],
   "source": [
    "analisis_verso_vader(f)"
   ]
  },
  {
   "cell_type": "markdown",
   "metadata": {},
   "source": [
    "### Canción de pop"
   ]
  },
  {
   "cell_type": "code",
   "execution_count": 84,
   "metadata": {},
   "outputs": [
    {
     "name": "stdout",
     "output_type": "stream",
     "text": [
      "Searching for \"Out Of the Woods\" by Taylor Swift...\n",
      "Done.\n"
     ]
    }
   ],
   "source": [
    "song = genius.search_song(\"Out Of the Woods\",artist=\"Taylor Swift\")\n",
    "f = song.lyrics"
   ]
  },
  {
   "cell_type": "code",
   "execution_count": 85,
   "metadata": {},
   "outputs": [
    {
     "name": "stdout",
     "output_type": "stream",
     "text": [
      "Negative:  1.3888888888888888\n",
      "Neutral:  72.22222222222221\n",
      "Positive:  26.38888888888889\n"
     ]
    }
   ],
   "source": [
    "analisis_verso_vader(f)"
   ]
  },
  {
   "cell_type": "markdown",
   "metadata": {},
   "source": [
    "### Canción de Country"
   ]
  },
  {
   "cell_type": "code",
   "execution_count": 86,
   "metadata": {},
   "outputs": [
    {
     "name": "stdout",
     "output_type": "stream",
     "text": [
      "Searching for \"heaven\" by kane brown...\n",
      "Done.\n"
     ]
    }
   ],
   "source": [
    "song = genius.search_song(\"heaven\",artist=\"kane brown\")\n",
    "f = song.lyrics"
   ]
  },
  {
   "cell_type": "code",
   "execution_count": 87,
   "metadata": {},
   "outputs": [
    {
     "name": "stdout",
     "output_type": "stream",
     "text": [
      "Negative:  9.375\n",
      "Neutral:  65.625\n",
      "Positive:  25.0\n"
     ]
    }
   ],
   "source": [
    "analisis_verso_vader (f)"
   ]
  },
  {
   "cell_type": "markdown",
   "metadata": {},
   "source": [
    "### Canción Alternativo"
   ]
  },
  {
   "cell_type": "code",
   "execution_count": 88,
   "metadata": {},
   "outputs": [
    {
     "name": "stdout",
     "output_type": "stream",
     "text": [
      "Searching for \"Rylan\" by The national...\n",
      "Done.\n"
     ]
    }
   ],
   "source": [
    "song = genius.search_song(\"Rylan\",artist=\"The national\")\n",
    "f = song.lyrics"
   ]
  },
  {
   "cell_type": "code",
   "execution_count": 89,
   "metadata": {},
   "outputs": [
    {
     "name": "stdout",
     "output_type": "stream",
     "text": [
      "Negative:  11.428571428571429\n",
      "Neutral:  82.85714285714286\n",
      "Positive:  5.714285714285714\n"
     ]
    }
   ],
   "source": [
    "analisis_verso_vader (f)"
   ]
  },
  {
   "cell_type": "markdown",
   "metadata": {},
   "source": [
    "## 3. Usando GCloud"
   ]
  },
  {
   "cell_type": "code",
   "execution_count": 90,
   "metadata": {},
   "outputs": [],
   "source": [
    "def analyze_text_sentiment(text):\n",
    "    client = language.LanguageServiceClient()\n",
    "    document = types.Document(\n",
    "        content=text,\n",
    "        type=enums.Document.Type.PLAIN_TEXT)\n",
    "\n",
    "    response = client.analyze_sentiment(document=document)\n",
    "\n",
    "    sentiment = response.document_sentiment\n",
    "    results = [\n",
    "        #('text', text),\n",
    "         sentiment.score,\n",
    "        sentiment.magnitude\n",
    "        ]\n",
    "    return results"
   ]
  },
  {
   "cell_type": "code",
   "execution_count": 92,
   "metadata": {},
   "outputs": [],
   "source": [
    "def analisis_verso_g_cloud(f):\n",
    "    results = 0\n",
    "    cont = 0\n",
    "    for sentence in f.split('\\n'):\n",
    "        result = analyze_text_sentiment (f)\n",
    "        results += result[0]\n",
    "        cont +=1\n",
    "    analysis = results/cont\n",
    "    print (analysis)"
   ]
  },
  {
   "cell_type": "markdown",
   "metadata": {},
   "source": [
    "### Canción de rap"
   ]
  },
  {
   "cell_type": "code",
   "execution_count": 93,
   "metadata": {},
   "outputs": [
    {
     "name": "stdout",
     "output_type": "stream",
     "text": [
      "Searching for \"Nonstop\" by Drake...\n",
      "Done.\n"
     ]
    }
   ],
   "source": [
    "song = genius.search_song(\"Nonstop\",artist=\"Drake\")\n",
    "f =song.lyrics"
   ]
  },
  {
   "cell_type": "code",
   "execution_count": 94,
   "metadata": {},
   "outputs": [
    {
     "name": "stdout",
     "output_type": "stream",
     "text": [
      "-0.4000000059604645\n"
     ]
    }
   ],
   "source": [
    "analisis_verso_g_cloud(f)"
   ]
  },
  {
   "cell_type": "markdown",
   "metadata": {},
   "source": [
    "### Canción de pop"
   ]
  },
  {
   "cell_type": "code",
   "execution_count": 96,
   "metadata": {},
   "outputs": [
    {
     "name": "stdout",
     "output_type": "stream",
     "text": [
      "Searching for \"Out Of the Woods\" by Taylor Swift...\n",
      "Done.\n"
     ]
    }
   ],
   "source": [
    "song = genius.search_song(\"Out Of the Woods\",artist=\"Taylor Swift\")\n",
    "f = song.lyrics"
   ]
  },
  {
   "cell_type": "code",
   "execution_count": 97,
   "metadata": {},
   "outputs": [
    {
     "name": "stdout",
     "output_type": "stream",
     "text": [
      "0.0\n"
     ]
    }
   ],
   "source": [
    "analisis_verso_g_cloud(f)"
   ]
  },
  {
   "cell_type": "markdown",
   "metadata": {},
   "source": [
    "### Canción de Country"
   ]
  },
  {
   "cell_type": "code",
   "execution_count": 99,
   "metadata": {},
   "outputs": [
    {
     "name": "stdout",
     "output_type": "stream",
     "text": [
      "Searching for \"heaven\" by kane brown...\n",
      "Done.\n"
     ]
    }
   ],
   "source": [
    "song = genius.search_song(\"heaven\",artist=\"kane brown\")\n",
    "f = song.lyrics"
   ]
  },
  {
   "cell_type": "code",
   "execution_count": 100,
   "metadata": {},
   "outputs": [
    {
     "name": "stdout",
     "output_type": "stream",
     "text": [
      "0.5\n"
     ]
    }
   ],
   "source": [
    "analisis_verso_g_cloud(f)"
   ]
  },
  {
   "cell_type": "markdown",
   "metadata": {},
   "source": [
    "### Canción Alternativo"
   ]
  },
  {
   "cell_type": "code",
   "execution_count": 101,
   "metadata": {},
   "outputs": [
    {
     "name": "stdout",
     "output_type": "stream",
     "text": [
      "Searching for \"Rylan\" by The national...\n",
      "Done.\n"
     ]
    }
   ],
   "source": [
    "song = genius.search_song(\"Rylan\",artist=\"The national\")\n",
    "f = song.lyrics"
   ]
  },
  {
   "cell_type": "code",
   "execution_count": 102,
   "metadata": {},
   "outputs": [
    {
     "name": "stdout",
     "output_type": "stream",
     "text": [
      "-0.10000000149011612\n"
     ]
    }
   ],
   "source": [
    "analisis_verso_g_cloud(f)"
   ]
  }
 ],
 "metadata": {
  "kernelspec": {
   "display_name": "tfm",
   "language": "python",
   "name": "tfm"
  },
  "language_info": {
   "codemirror_mode": {
    "name": "ipython",
    "version": 3
   },
   "file_extension": ".py",
   "mimetype": "text/x-python",
   "name": "python",
   "nbconvert_exporter": "python",
   "pygments_lexer": "ipython3",
   "version": "3.7.7"
  }
 },
 "nbformat": 4,
 "nbformat_minor": 4
}
