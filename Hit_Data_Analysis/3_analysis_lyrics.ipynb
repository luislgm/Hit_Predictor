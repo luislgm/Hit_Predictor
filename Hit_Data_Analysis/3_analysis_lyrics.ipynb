{
 "cells": [
  {
   "cell_type": "code",
   "execution_count": 1,
   "metadata": {},
   "outputs": [],
   "source": [
    "import pandas as pd\n",
    "import numpy as np\n",
    "from collections import Counter\n",
    "import spacy\n",
    "from langdetect import detect "
   ]
  },
  {
   "cell_type": "markdown",
   "metadata": {},
   "source": [
    "## Urban Music"
   ]
  },
  {
   "cell_type": "code",
   "execution_count": 2,
   "metadata": {},
   "outputs": [],
   "source": [
    "df_urban_lyrics = pd.read_csv('../Data/top_100_Billboard_urban_lyrics.csv')"
   ]
  },
  {
   "cell_type": "code",
   "execution_count": 3,
   "metadata": {},
   "outputs": [],
   "source": [
    "df_urban_clean = df_urban_lyrics[(df_urban_lyrics[\"song_lyrics\"].notna()) &\n",
    "                                (df_urban_lyrics[\"song_lyrics\"].str.contains('Chorus'))]\n",
    "df_urban_clean = df_urban_clean.reset_index(drop=True)"
   ]
  },
  {
   "cell_type": "code",
   "execution_count": 4,
   "metadata": {},
   "outputs": [],
   "source": [
    "df_urban_en = pd.DataFrame.copy(df_urban_clean)\n",
    "for i, item in df_urban_en.iterrows():\n",
    "    if detect(item['song_lyrics']) != 'en':\n",
    "        df_urban_en = df_urban_en.drop(df_urban_en.index[i])"
   ]
  },
  {
   "cell_type": "code",
   "execution_count": 5,
   "metadata": {},
   "outputs": [],
   "source": [
    "chorus_urban = []\n",
    "for i, item in df_urban_en.iterrows():\n",
    "    try:\n",
    "        chorus_urban += [item[\"song_lyrics\"].split('Chorus')[1].split(\"\\n\\n\")[0].split(']')[1]]\n",
    "    except IndexError:\n",
    "        pass"
   ]
  },
  {
   "cell_type": "code",
   "execution_count": 41,
   "metadata": {},
   "outputs": [],
   "source": [
    "chorus_str_urban = ''\n",
    "number_urban_songs = 0\n",
    "for i, item in df_urban_en.iterrows():\n",
    "    try:\n",
    "        chorus_str_urban += item[\"song_lyrics\"].split('Chorus')[1].split(\"\\n\\n\")[0].split(']')[1]\n",
    "        number_urban_songs += 1\n",
    "    except IndexError:\n",
    "        pass"
   ]
  },
  {
   "cell_type": "code",
   "execution_count": 42,
   "metadata": {},
   "outputs": [
    {
     "name": "stdout",
     "output_type": "stream",
     "text": [
      "3524\n"
     ]
    }
   ],
   "source": [
    "print(number_urban_songs)"
   ]
  },
  {
   "cell_type": "code",
   "execution_count": 7,
   "metadata": {},
   "outputs": [],
   "source": [
    "nlp = spacy.load('en_core_web_md')"
   ]
  },
  {
   "cell_type": "code",
   "execution_count": 8,
   "metadata": {},
   "outputs": [],
   "source": [
    "chorus_all_urban = nlp (chorus_str_urban)"
   ]
  },
  {
   "cell_type": "code",
   "execution_count": 9,
   "metadata": {},
   "outputs": [],
   "source": [
    "nouns_urban = [token.lemma_ for token in chorus_all_urban if token.is_stop != True and token.is_punct !=True and token.pos_ == 'NOUN']"
   ]
  },
  {
   "cell_type": "code",
   "execution_count": 17,
   "metadata": {},
   "outputs": [
    {
     "name": "stdout",
     "output_type": "stream",
     "text": [
      "[('baby', 954), ('love', 914), ('girl', 719), ('time', 545), ('way', 455), ('bitch', 447), ('nigga', 424), ('life', 382), ('money', 380), ('night', 352)]\n"
     ]
    }
   ],
   "source": [
    "common_nouns_urban = Counter(nouns_urban)\n",
    "print(common_nouns_urban.most_common(10))"
   ]
  },
  {
   "cell_type": "code",
   "execution_count": 15,
   "metadata": {},
   "outputs": [],
   "source": [
    "verbs_urban = [ token.lemma_ for token in chorus_all_urban if token.is_punct !=True and token.pos_ == 'VERB']"
   ]
  },
  {
   "cell_type": "code",
   "execution_count": 18,
   "metadata": {},
   "outputs": [
    {
     "name": "stdout",
     "output_type": "stream",
     "text": [
      "[('get', 1777), ('know', 1607), ('go', 1578), ('can', 1327), ('be', 1101), ('will', 884), ('make', 786), ('let', 760), ('want', 739), ('say', 729)]\n"
     ]
    }
   ],
   "source": [
    "common_verbs_urban = Counter(verbs_urban)\n",
    "print(common_verbs_urban.most_common(10))"
   ]
  },
  {
   "cell_type": "code",
   "execution_count": 19,
   "metadata": {},
   "outputs": [],
   "source": [
    "verbs_with_stopword_urban = [ token.lemma_ for token in chorus_all_urban if token.is_stop != True and token.is_punct !=True and token.pos_ == 'VERB']"
   ]
  },
  {
   "cell_type": "code",
   "execution_count": 22,
   "metadata": {},
   "outputs": [
    {
     "name": "stdout",
     "output_type": "stream",
     "text": [
      "[('know', 1607), ('get', 1476), ('be', 774), ('let', 760), ('want', 739), ('go', 719), ('come', 665), ('love', 660), ('wanna', 594), ('tell', 543)]\n"
     ]
    }
   ],
   "source": [
    "common_verbs_with_stopword_urban = Counter(verbs_with_stopword_urban)\n",
    "print(common_verbs_with_stopword_urban.most_common(10))"
   ]
  },
  {
   "cell_type": "code",
   "execution_count": 23,
   "metadata": {},
   "outputs": [],
   "source": [
    "adjs_urban = [ token.lemma_ for token in chorus_all_urban if token.is_stop != True and token.is_punct !=True and token.pos_ == 'ADJ']"
   ]
  },
  {
   "cell_type": "code",
   "execution_count": 24,
   "metadata": {},
   "outputs": [
    {
     "name": "stdout",
     "output_type": "stream",
     "text": [
      "[('good', 348), ('bad', 237), ('real', 208), ('big', 186), ('right', 153), ('new', 141), ('high', 139), ('crazy', 130), ('hot', 127), ('little', 123)]\n"
     ]
    }
   ],
   "source": [
    "counts_adjs_urban = Counter(adjs_urban)\n",
    "print(counts_adjs_urban.most_common(10))"
   ]
  },
  {
   "cell_type": "markdown",
   "metadata": {},
   "source": [
    "## Pop Music"
   ]
  },
  {
   "cell_type": "code",
   "execution_count": 25,
   "metadata": {},
   "outputs": [],
   "source": [
    "df_pop_lyrics = pd.read_csv('../Data/top_100_Billboard_pop_lyrics.csv')"
   ]
  },
  {
   "cell_type": "code",
   "execution_count": 26,
   "metadata": {},
   "outputs": [],
   "source": [
    "df_pop_clean = df_pop_lyrics[(df_pop_lyrics[\"song_lyrics\"].notna()) &\n",
    "                            (df_pop_lyrics[\"song_lyrics\"].str.contains(\"Chorus\"))]\n",
    "df_pop_clean = df_pop_clean.reset_index(drop=True)"
   ]
  },
  {
   "cell_type": "code",
   "execution_count": 27,
   "metadata": {},
   "outputs": [],
   "source": [
    "df_pop_en = pd.DataFrame.copy(df_pop_clean)\n",
    "for i, item in df_urban_en.iterrows():\n",
    "    if detect(item['song_lyrics']) != 'en':\n",
    "        df_pop_en = df_pop_en.drop(df_pop_en.index[i])"
   ]
  },
  {
   "cell_type": "code",
   "execution_count": 28,
   "metadata": {},
   "outputs": [],
   "source": [
    "chorus_pop = []\n",
    "for i, item in df_pop_en.iterrows():\n",
    "    try:\n",
    "        chorus_pop += [item[\"song_lyrics\"].split('Chorus')[1].split(\"\\n\\n\")[0].split(']')[1]]\n",
    "    except IndexError:\n",
    "        pass"
   ]
  },
  {
   "cell_type": "code",
   "execution_count": 43,
   "metadata": {},
   "outputs": [],
   "source": [
    "chorus_str_pop = ''\n",
    "number_pop_songs = 0\n",
    "for i, item in df_pop_en.iterrows():\n",
    "    try:\n",
    "        chorus_str_pop += item[\"song_lyrics\"].split('Chorus')[1].split(\"\\n\\n\")[0].split(']')[1]\n",
    "        number_pop_songs += 1\n",
    "    except IndexError:\n",
    "        pass"
   ]
  },
  {
   "cell_type": "code",
   "execution_count": 44,
   "metadata": {},
   "outputs": [
    {
     "name": "stdout",
     "output_type": "stream",
     "text": [
      "5639\n"
     ]
    }
   ],
   "source": [
    "print(number_pop_songs)"
   ]
  },
  {
   "cell_type": "code",
   "execution_count": 30,
   "metadata": {},
   "outputs": [],
   "source": [
    "chorus_1,chorus_2 = chorus_str_pop[:int(len(chorus_str_pop)/2)], chorus_str_pop[int(len(chorus_str_pop)/2):]"
   ]
  },
  {
   "cell_type": "code",
   "execution_count": 31,
   "metadata": {},
   "outputs": [],
   "source": [
    "chorus_all_pop_1 = nlp (chorus_1)\n",
    "chorus_all_pop_2 = nlp (chorus_2)"
   ]
  },
  {
   "cell_type": "code",
   "execution_count": 34,
   "metadata": {},
   "outputs": [],
   "source": [
    "nouns_pop_1 = [ token.lemma_ for token in chorus_all_pop_1 if token.is_stop != True and token.is_punct !=True and token.pos_ == 'NOUN']\n",
    "nouns_pop_2 = [ token.lemma_ for token in chorus_all_pop_2 if token.is_stop != True and token.is_punct !=True and token.pos_ == 'NOUN']"
   ]
  },
  {
   "cell_type": "code",
   "execution_count": 35,
   "metadata": {},
   "outputs": [
    {
     "name": "stdout",
     "output_type": "stream",
     "text": [
      "[('love', 1308), ('baby', 1285), ('girl', 826), ('time', 811), ('way', 640), ('night', 562), ('life', 471), ('heart', 439), ('day', 438), ('thing', 431)]\n"
     ]
    }
   ],
   "source": [
    "counts_noums_pop_1 = Counter(nouns_pop_1)\n",
    "counts_noums_pop_2 = Counter(nouns_pop_2)\n",
    "counts_noums_pop = counts_noums_pop_1 + counts_noums_pop_2\n",
    "print (counts_noums_pop.most_common(10))"
   ]
  },
  {
   "cell_type": "code",
   "execution_count": 36,
   "metadata": {},
   "outputs": [],
   "source": [
    "verbs_pop_1 = [ token.lemma_ for token in chorus_all_pop_1 if token.is_punct !=True and token.pos_ == 'VERB']\n",
    "verbs_pop_2 = [ token.lemma_ for token in chorus_all_pop_2 if token.is_punct !=True and token.pos_ == 'VERB']"
   ]
  },
  {
   "cell_type": "code",
   "execution_count": 37,
   "metadata": {},
   "outputs": [
    {
     "name": "stdout",
     "output_type": "stream",
     "text": [
      "[('go', 2228), ('know', 2185), ('get', 1892), ('can', 1874), ('will', 1687), ('say', 1123), ('want', 1067), ('be', 1052), ('make', 1042), ('love', 1041)]\n"
     ]
    }
   ],
   "source": [
    "counts_verbs_pop_1 = Counter(verbs_pop_1)\n",
    "counts_verbs_pop_2 = Counter(verbs_pop_2)\n",
    "counts_verbs_pop = counts_verbs_pop_1 + counts_verbs_pop_2\n",
    "print(counts_verbs_pop.most_common(10))"
   ]
  }
 ],
 "metadata": {
  "kernelspec": {
   "display_name": "tfm",
   "language": "python",
   "name": "tfm"
  },
  "language_info": {
   "codemirror_mode": {
    "name": "ipython",
    "version": 3
   },
   "file_extension": ".py",
   "mimetype": "text/x-python",
   "name": "python",
   "nbconvert_exporter": "python",
   "pygments_lexer": "ipython3",
   "version": "3.7.7"
  }
 },
 "nbformat": 4,
 "nbformat_minor": 4
}
